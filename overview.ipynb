{
 "cells": [
  {
   "cell_type": "code",
   "execution_count": 1,
   "id": "9fed2a13-5f62-48bf-a1f0-ca6761e89d5f",
   "metadata": {},
   "outputs": [
    {
     "name": "stdout",
     "output_type": "stream",
     "text": [
      "No clean-up of work-folder\n"
     ]
    }
   ],
   "source": [
    "%run stdPackages.ipynb\n",
    "from IPython.display import IFrame\n",
    "import dreamtools"
   ]
  },
  {
   "cell_type": "markdown",
   "id": "9a31cd39-e69a-44da-afa8-fbda1a9228bb",
   "metadata": {},
   "source": [
    "# 1. Overview of classes"
   ]
  },
  {
   "cell_type": "markdown",
   "id": "e2777f8d-effb-4f3f-8e83-01bd74d97c58",
   "metadata": {},
   "source": [
    "The project builds on a number of modules/classes. The following provides a quick schematic overview:"
   ]
  },
  {
   "cell_type": "code",
   "execution_count": 2,
   "id": "2f64e53e-ab55-4a48-90b9-1f785945d0be",
   "metadata": {},
   "outputs": [
    {
     "data": {
      "text/html": [
       "\n",
       "        <iframe\n",
       "            width=\"800\"\n",
       "            height=\"600\"\n",
       "            src=\"Figs/OverviewClasses.pdf\"\n",
       "            frameborder=\"0\"\n",
       "            allowfullscreen\n",
       "            \n",
       "        ></iframe>\n",
       "        "
      ],
      "text/plain": [
       "<IPython.lib.display.IFrame at 0x2a075cb6f70>"
      ]
     },
     "execution_count": 2,
     "metadata": {},
     "output_type": "execute_result"
    }
   ],
   "source": [
    "IFrame(\"Figs/OverviewClasses.pdf\", width=800, height=600)"
   ]
  },
  {
   "cell_type": "markdown",
   "id": "e6422529-34f0-4dda-a907-2bc1be43a4b5",
   "metadata": {},
   "source": [
    "All other modules/classes rely on the package ```pyDatabases``` in some way or the other: This contains the base methods for storing data using the ```pandas``` package and allows interaction with GAMS databases. Beyond this, it includes a number of auxiliary methods/classes that can help us manipulate data in various ways."
   ]
  },
  {
   "cell_type": "markdown",
   "id": "8df73e82-8dcb-431c-819d-3ba332ba7626",
   "metadata": {},
   "source": [
    "The following provides a rough outline of how the various modules/classes depends on each other:"
   ]
  },
  {
   "cell_type": "code",
   "execution_count": 3,
   "id": "19987e05-0554-4dc9-b5ca-d34f2f9d0061",
   "metadata": {},
   "outputs": [
    {
     "data": {
      "text/html": [
       "\n",
       "        <iframe\n",
       "            width=\"800\"\n",
       "            height=\"600\"\n",
       "            src=\"Figs/DependencyGraph.pdf\"\n",
       "            frameborder=\"0\"\n",
       "            allowfullscreen\n",
       "            \n",
       "        ></iframe>\n",
       "        "
      ],
      "text/plain": [
       "<IPython.lib.display.IFrame at 0x2a075cb6df0>"
      ]
     },
     "execution_count": 3,
     "metadata": {},
     "output_type": "execute_result"
    }
   ],
   "source": [
    "IFrame(\"Figs/DependencyGraph.pdf\", width=800, height=600)"
   ]
  },
  {
   "cell_type": "markdown",
   "id": "89c5f355-cec6-46e7-84f7-9570325fcc2b",
   "metadata": {},
   "source": [
    "This setup allows us to interact with ```GAMS``` models in three different ways:\n",
    "* **Basic:** Write your entire model in GAMS. Execute the model from Python using the ```GmsModel``` class. This allows us to use the ```pyDatabases``` features, and the ```GamsPython``` API that GAMS provides. Note that you can still use ```_GmsWrite``` features without problems to help write some standard chunks of GAMS text - the ```_GmsWrite``` methods only depend on ```pyDatabases```.\n",
    "* **Intermediate:** Use the ```GmsPy``` classes to specify endogenous/exogenous groups of variables, model blocks, states, and to declare variables. The classes automate various parts of writing GAMS models. One way to use this is to specify (1) Exogenougs variables, (2) endogenous variables, and (3) equation blocks. Having done so, the ```GmsSettings``` class can be used to write the entire GAMS script needed to set up and solve the model.\n",
    "* **Extended:** Use ```GmsPython``` to automate how ```GmsSettings``` are set up, and how to automatically merge different models.\n",
    "\n",
    "In the following we give a few examples of how to use the classes in the **basic** and **intermediate** ways. The **extended** way is explored further in the ```CGE_Generator``` project."
   ]
  },
  {
   "cell_type": "markdown",
   "id": "8eab693c-62dd-4af9-87f5-93796ee3fcba",
   "metadata": {},
   "source": [
    "# 2. The basic approach"
   ]
  },
  {
   "cell_type": "markdown",
   "id": "a0caf8e1-393d-4f09-8388-8bf77f8f0e57",
   "metadata": {},
   "source": [
    "In the basic approach, we will write the core model in GAMS, and then interact with the model using ```GmsModel``` and ```pyDatabases```.\n",
    "\n",
    "The file ```TestModel_A.gms``` includes a full GAMS model (a multi-sector, nested production function model), from declaration of symbols, loading, model, and solve statements."
   ]
  },
  {
   "cell_type": "markdown",
   "id": "a6d787e2-6434-4d4b-9271-dc0567636be4",
   "metadata": {},
   "source": [
    "We initialize a ```GmsModel``` to access the API features. We need to specify a gams workspace to do this (keyword ```ws```). Here, we initialize this using a string, to indicate where to execute the model and store temporary files. Also, we add a few options to the solver here, e.g. that it should use the solver ```CONOPT4``` when solving constrained nonlinear systems:"
   ]
  },
  {
   "cell_type": "code",
   "execution_count": 4,
   "id": "fdcdec40-4cfe-4de7-9399-02ac628dff8c",
   "metadata": {},
   "outputs": [],
   "source": [
    "mBasic = GmsPy.GmsModel(ws = d['work'], options = {'cns': 'CONOPT4'})\n",
    "mBasic.addlocal(\"gdxInput\", os.path.join(d['data'], 'ModelTest_A.gdx')) # replace gdxInput with the file location"
   ]
  },
  {
   "cell_type": "markdown",
   "id": "ee06a5e0-5cf3-461f-bd78-6ebf75c86062",
   "metadata": {},
   "source": [
    "We can now execute the model using ```self.run``` (there are various ways of running, storing checkpoints etc. that you may explore from the ```GamsPython``` API):"
   ]
  },
  {
   "cell_type": "code",
   "execution_count": 5,
   "id": "faecbe79-8484-4442-a3bc-84b5119131c1",
   "metadata": {},
   "outputs": [],
   "source": [
    "mBasic.run(runfile = os.path.join(d['gams'], 'ModelTest_A.gms'))"
   ]
  },
  {
   "cell_type": "markdown",
   "id": "6de549ec-d365-46ba-90e9-e09b9ca7ef4c",
   "metadata": {},
   "source": [
    "The solution is automatically loaded as a ```GpyDB```, allowing us to inspect/adjust/plot the result directly here:"
   ]
  },
  {
   "cell_type": "code",
   "execution_count": 6,
   "id": "aa9cd1cc-0b9d-48bd-858b-3351cd254d54",
   "metadata": {},
   "outputs": [
    {
     "data": {
      "image/png": "[encoded data removed]",
      "text/plain": [
       "<Figure size 576x396 with 1 Axes>"
      ]
     },
     "metadata": {},
     "output_type": "display_data"
    }
   ],
   "source": [
    "mBasic.out_db.get('qD').xs(1).unstack('s').plot.bar(); # qD measures demand for various components. Index 's' is sectoral, 'n' is indicates which good."
   ]
  },
  {
   "cell_type": "markdown",
   "id": "7ec206ad-4da6-4e59-9542-e71f95e2cf37",
   "metadata": {},
   "source": [
    "# 3. The intermediate approach"
   ]
  },
  {
   "cell_type": "markdown",
   "id": "ba41e58f-6a1b-4536-a3c3-596fff2ec710",
   "metadata": {},
   "source": [
    "Let's consider the case where we have not yet written the GAMS code for the model. We can use ```GmsWrite, GmsPy``` to automatically write most of the code, given some settings specified. The model we are building is the same as the one from the basic approach above. The workflow for setting up a model in this way can look something like this:\n",
    "1. Create/load all relevant data using Python and store it in a GpyDB database. Naturally, you can also use other means to arrange your input data - but data management in Python is just really smart compared to e.g. writing the data in the .gms code.\n",
    "2. Create ```GmsSettings``` class instance. Specify the three core settings for the model:\n",
    "    1. Define groupings of exogenous and endogenous variables.\n",
    "    2. Load in gms (or gamY) text that specifies the equations of the model.\n",
    "    3. Specify what blocks are included in the final model.\n",
    "3. Compile and run (use automated routines to write final model text)."
   ]
  },
  {
   "cell_type": "markdown",
   "id": "008447cf-e08e-4b54-a764-da142e1cb12a",
   "metadata": {},
   "source": [
    "The following will go into a bit more detail for each step. For now, just note that all it takes to generate the gams text that we eventually used above is the following steps:"
   ]
  },
  {
   "cell_type": "code",
   "execution_count": 19,
   "id": "f7854c9d-a20f-4e3d-9e5f-420666a9c58d",
   "metadata": {},
   "outputs": [],
   "source": [
    "db = pyDatabases.GpyDB(db = os.path.join(d['data'], 'ModelTest_A.gdx')) # Add input data\n",
    "g = GmsPy.GmsSettings(**{'name': 'ModelTest', 'db': db}) # create GmsSettings with the data\n",
    "with open(os.path.join(d['data'], 'ModelTest_B_Groups'), \"rb\") as file: # load group specifications\n",
    "    g.Compile = pickle.load(file)\n",
    "g['g_exo'] = ['G_ModelTest_A_exo_always', 'G_ModelTest_A_endo_in_calib'] # groups of variables that are exogenous\n",
    "g['g_endo'] = ['G_ModelTest_A_endo_always', 'G_ModelTest_A_exo_in_calib'] # groups of variables that are endogenous\n",
    "with open(os.path.join(d['gams'], 'ModelTest_B.gms'), \"r\") as file: # Equations of the model written in gamY/gams syntax\n",
    "    blocks = file.read()\n",
    "g['blocks'] = ['B_ModelTest_B_Tree1', 'B_ModelTest_B_Tree2'] # which blocks should we use in the final model\n",
    "g['args'].update(g.stdArgs(blocks=blocks)) # write dictionary with components for the final model\n",
    "g.write(); # write the final model text"
   ]
  },
  {
   "cell_type": "markdown",
   "id": "f1b5d7c9-308f-42c3-8ecb-c2830353fae3",
   "metadata": {},
   "source": [
    "### 4. Run"
   ]
  },
  {
   "cell_type": "markdown",
   "id": "635d5386-7a5f-4522-851b-d2a52b3b8ed9",
   "metadata": {},
   "source": [
    "Finally, we run the model as we did in the basic case:"
   ]
  },
  {
   "cell_type": "code",
   "execution_count": 15,
   "id": "4cd5e07a-f1c3-4318-9041-f269de86b084",
   "metadata": {},
   "outputs": [],
   "source": [
    "mIntermediate = GmsPy.GmsModel(ws = d['work'], options = {'cns': 'CONOPT4'}) # set up model instance\n",
    "mIntermediate.addDB(g.db) # add the database to the model - i.e. tell where to load input data from.\n",
    "mIntermediate.run(''.join(g['text'].values())) # run using the gams text from GmsSettings instance"
   ]
  },
  {
   "cell_type": "markdown",
   "id": "8e1730ec-f68b-44f6-b715-711c1774a37d",
   "metadata": {},
   "source": [
    "### 1. Load/create data:*"
   ]
  },
  {
   "cell_type": "code",
   "execution_count": 16,
   "id": "615ccf55-d7e6-45d9-bd7a-e3f78f0b448e",
   "metadata": {},
   "outputs": [],
   "source": [
    "db = pyDatabases.GpyDB(db = os.path.join(d['data'], 'ModelTest_A.gdx')) # load data from existing file"
   ]
  },
  {
   "cell_type": "markdown",
   "id": "da615cfb-06f1-4720-a1cd-b0d8415458de",
   "metadata": {},
   "source": [
    "### 2. Create settings file (with data):"
   ]
  },
  {
   "cell_type": "code",
   "execution_count": 8,
   "id": "571a8f49-a521-4a24-8bbc-1dec6c936b02",
   "metadata": {},
   "outputs": [],
   "source": [
    "g = GmsPy.GmsSettings(**{'name': 'ModelTest', 'db': db})"
   ]
  },
  {
   "cell_type": "markdown",
   "id": "a06953a3-5056-4946-b51b-ed6406dea1b9",
   "metadata": {},
   "source": [
    "#### 2A. Load or specify exogenous and endogenous groups of variables:"
   ]
  },
  {
   "cell_type": "markdown",
   "id": "1ddeea7e-8cc0-4c2e-b511-52fddbc25daf",
   "metadata": {},
   "source": [
    "We use the classes ```GmsPy.Compile, GmsPy.Group``` to specify the grouping of variables. The notebook [_Compile.ipynb](projects/classes/_Compile.ipynb) goes into more detail on how the groupings can be defined:"
   ]
  },
  {
   "cell_type": "code",
   "execution_count": 9,
   "id": "c6c556ff-71e8-4512-829a-e59250313afe",
   "metadata": {},
   "outputs": [],
   "source": [
    "with open(os.path.join(d['data'], 'ModelTest_B_Groups'), \"rb\") as file:\n",
    "    g.Compile = pickle.load(file)"
   ]
  },
  {
   "cell_type": "markdown",
   "id": "4cdb118d-a8d6-4278-a1d4-916d7ad75e28",
   "metadata": {},
   "source": [
    "In this case, all the variables in the model are split into four groups: \n",
    "* ```exo_always```: A group of variables that are exogenous in all states of the model.\n",
    "* ```endo_always```: A group of variables that are endogenous in all states of the model.\n",
    "* ```exo_in_calib```: A group of variables that are endogenous in the baseline scenario, but exogenous in the calibration state.\n",
    "* ```endo_in_calib```:  A group of variables that are exogenous in the baseline scenario, but endogenous in the calibration state."
   ]
  },
  {
   "cell_type": "markdown",
   "id": "fa71f3ad-c6c1-4c19-83ef-3e1b4fc13997",
   "metadata": {},
   "source": [
    "We add these to the ```GmsSettings``` instance by specifying:"
   ]
  },
  {
   "cell_type": "code",
   "execution_count": 10,
   "id": "4c1f8113-b2fb-425c-8e64-a252a38cf6b5",
   "metadata": {},
   "outputs": [],
   "source": [
    "g['g_exo'] = ['G_ModelTest_A_exo_always', 'G_ModelTest_A_endo_in_calib']\n",
    "g['g_endo'] = ['G_ModelTest_A_endo_always', 'G_ModelTest_A_exo_in_calib']"
   ]
  },
  {
   "cell_type": "markdown",
   "id": "d2000a58-66a7-4b80-82c1-8b0cd8aa136f",
   "metadata": {},
   "source": [
    "The ```Compile``` class is useful, as it has methods included that writes GAMS code. For instance, the GAMS code needed to fix/unfix all exogenous/endogenous variables:"
   ]
  },
  {
   "cell_type": "code",
   "execution_count": 11,
   "id": "84ac914c-8597-4be0-8655-50ae4242635a",
   "metadata": {},
   "outputs": [
    {
     "name": "stdout",
     "output_type": "stream",
     "text": [
      "qS.fx[t,s,n]$(((output_ModelTest_A[s,n] and ( not ((endo_qS_ModelTest_A[s,n] and t0[t])))) or (endo_qS_ModelTest_A[s,n] and t0[t]))) = qS.l[t,s,n];\n",
      "pD.fx[t,s,n]$(input_ModelTest_A[s,n]) = pD.l[t,s,n];\n",
      "sigma.fx[s,n]$(kninp_ModelTest_A[s,n]) = sigma.l[s,n];\n",
      "eta.fx[s,n]$(knout_ModelTest_A[s,n]) = eta.l[s,n];\n",
      "mu.fx[s,n,nn]$((exomu_ModelTest_A[s,n,nn] or ( not (exomu_ModelTest_A[s,n,nn])))) = mu.l[s,n,nn];\n",
      "pD.lo[t,s,n]$(int_ModelTest_A[s,n]) = -inf;\n",
      "pD.up[t,s,n]$(int_ModelTest_A[s,n]) = inf;\n",
      "pS.lo[t,s,n]$((((output_ModelTest_A[s,n] and tx0[t]) or (endo_pS_ModelTest_A[s,n] and t0[t])) or ((output_ModelTest_A[s,n] and t0[t]) and ( not ((endo_pS_ModelTest_A[s,n] and t0[t])))))) = -inf;\n",
      "pS.up[t,s,n]$((((output_ModelTest_A[s,n] and tx0[t]) or (endo_pS_ModelTest_A[s,n] and t0[t])) or ((output_ModelTest_A[s,n] and t0[t]) and ( not ((endo_pS_ModelTest_A[s,n] and t0[t])))))) = inf;\n",
      "qD.lo[t,s,n]$(((((int_ModelTest_A[s,n] or input_ModelTest_A[s,n]) and tx0[t]) or (endo_qD_ModelTest_A[s,n] and t0[t])) or (((int_ModelTest_A[s,n] or input_ModelTest_A[s,n]) and t0[t]) and ( not ((endo_qD_ModelTest_A[s,n] and t0[t])))))) = -inf;\n",
      "qD.up[t,s,n]$(((((int_ModelTest_A[s,n] or input_ModelTest_A[s,n]) and tx0[t]) or (endo_qD_ModelTest_A[s,n] and t0[t])) or (((int_ModelTest_A[s,n] or input_ModelTest_A[s,n]) and t0[t]) and ( not ((endo_qD_ModelTest_A[s,n] and t0[t])))))) = inf;\n",
      "qiv_inp.lo[t,s,n]$(spinp_ModelTest_A[s,n]) = -inf;\n",
      "qiv_inp.up[t,s,n]$(spinp_ModelTest_A[s,n]) = inf;\n",
      "qiv_out.lo[t,s,n]$(spout_ModelTest_A[s,n]) = -inf;\n",
      "qiv_out.up[t,s,n]$(spout_ModelTest_A[s,n]) = inf;\n"
     ]
    }
   ],
   "source": [
    "print(g.Compile.fixGroupsText(db, g['g_exo'].v))\n",
    "print(g.Compile.unfixGroupsText(db, g['g_endo'].v))"
   ]
  },
  {
   "cell_type": "markdown",
   "id": "84e304f1-993d-4dba-80ee-9c868b41e59e",
   "metadata": {},
   "source": [
    "#### 2B. Load in blocks"
   ]
  },
  {
   "cell_type": "markdown",
   "id": "7e70e6ed-9124-4b3e-963c-a149f8f7da96",
   "metadata": {},
   "source": [
    "Here we load in the equations of the model that has been written manually:"
   ]
  },
  {
   "cell_type": "code",
   "execution_count": 12,
   "id": "fe8ce1eb-241f-4f1e-a62c-8319e906a497",
   "metadata": {},
   "outputs": [
    {
     "name": "stdout",
     "output_type": "stream",
     "text": [
      "$BLOCK B_ModelTest_B_Tree1\n",
      "\tE_zp_out_Tree1[t,s,n]$(knot_o_Tree1[s,n] and txE[t])..\tpS[t,s,n]*qS[t,s,n] =E= sum(nn$(map_Tree1[s,n,nn]), qD[t,s,nn]*pD[t,s,nn]);\n",
      "\tE_zp_nout_Tree1[t,s,n]$(knot_no_Tree1[s,n] and txE[t])..\tpD[t,s,n]*qD[t,s,n] =E= sum(nn$(map_Tree1[s,n,nn]), qD[t,s,nn]*pD[t,s,nn]);\n",
      "\tE_q_out_Tree1[t,s,n]$(branch2o_Tree1[s,n] and txE[t])..\tqD[t,s,n] =E= sum(nn$(map_Tree1[s,nn,n]), mu[s,nn,n] * (pS[t,s,nn]/pD[t,s,n])**(sigma[s,nn]) * qS[t,s,nn]);\n",
      "\tE_q_nout_Tree1[t,s,n]$(branch2no_Tree1[s,n] and txE[t])..\tqD[t,s,n] =E= sum(nn$(map_Tree1[s,nn,n]), mu[s,nn,n] * (pD[t,s,nn]/pD[t,s,n])**(sigma[s,nn]) * qD[t,s,nn]);\n",
      "$ENDBLOCK\n",
      "\n",
      "\n",
      "$BLOCK B_ModelTest_B_Tree2\n",
      "\tE_zp_Tree2[t,s,n]$(knot_Tree2[s,n] and txE[t])..\tpD[t,s,n]*qD[t,s,n] =E= sum(nn$(map_Tree2[s,nn,n] and branch_o_Tree2[s,nn]), qS[t,s,nn]*pS[t,s,nn])+sum(nn$(map_Tree2[s,nn,n] and branch_no_Tree2[s,nn]), qD[t,s,nn]*pD[t,s,nn]);\n",
      "\tE_q_out_Tree2[t,s,n]$(branch_o_Tree2[s,n] and txE[t])..\tqS[t,s,n] =E= sum(nn$(map_Tree2[s,n,nn]), qD[t,s,nn]*mu[s,n,nn] * exp((pS[t,s,n]-pD[t,s,nn])*eta[s,nn]) / (sum(nnn$(map_Tree2[s,nnn,nn] and branch_o_Tree2[s,nnn]), mu[s,nnn,nn] * exp((pD[t,s,nn]-pS[t,s,nnn])*eta[s,nn]))+sum(nnn$(map_Tree2[s,nnn,nn] and branch_no_Tree2[s,nnn]), mu[s,nnn,nn] * exp((pD[t,s,nn]-pD[t,s,nnn])*eta[s,nn]))));\n",
      "\tE_q_nout_Tree2[t,s,n]$(branch_no_Tree2[s,n] and txE[t])..\t\tqD[t,s,n] =E= sum(nn$(map_Tree2[s,n,nn]), qD[t,s,nn]*mu[s,n,nn] * exp((pD[t,s,n]-pD[t,s,nn])*eta[s,nn]) / (sum(nnn$(map_Tree2[s,nnn,nn] and branch_o_Tree2[s,nnn]), mu[s,nnn,nn] * exp((pD[t,s,nn]-pS[t,s,nnn])*eta[s,nn]))+sum(nnn$(map_Tree2[s,nnn,nn] and branch_no_Tree2[s,nnn]), mu[s,nnn,nn] * exp((pD[t,s,nn]-pD[t,s,nnn])*eta[s,nn]))));\n",
      "$ENDBLOCK\n",
      "\n"
     ]
    }
   ],
   "source": [
    "with open(os.path.join(d['gams'], 'ModelTest_B.gms'), \"r\") as file:\n",
    "    blocks = file.read()\n",
    "print(blocks)"
   ]
  },
  {
   "cell_type": "markdown",
   "id": "8fb47eec-ff9b-4c9d-8e5a-6ea5574a073e",
   "metadata": {},
   "source": [
    "#### 2C. Specify model blocks"
   ]
  },
  {
   "cell_type": "markdown",
   "id": "d7585bf1-40ed-46c9-994c-8c496edeb2f0",
   "metadata": {},
   "source": [
    "In our case, the two model blocks are called:"
   ]
  },
  {
   "cell_type": "code",
   "execution_count": 13,
   "id": "f8456eb5-d0b8-42c5-9d59-ae708c4f96b6",
   "metadata": {},
   "outputs": [],
   "source": [
    "g['blocks'] = ['B_ModelTest_B_Tree1', 'B_ModelTest_B_Tree2']"
   ]
  },
  {
   "cell_type": "markdown",
   "id": "33b6be1e-6b81-43f5-a7b5-4ceadf3416e9",
   "metadata": {},
   "source": [
    "### 3. Compile"
   ]
  },
  {
   "cell_type": "markdown",
   "id": "c14aeb8f-65a1-454d-877b-1c15d7187ccc",
   "metadata": {},
   "source": [
    "Given the inputs: (1) Database, (2) group of variables, (3) block of equations - the ```GmsSettings``` class can write the gams model by simply calling ```self.stdArgs()```. This creates a dictionary with standard chunks of GAMS code: ```'Root', 'Functions', 'Declare', 'Fix','Unfix','Model','Solve'.``` This is done as follows:"
   ]
  },
  {
   "cell_type": "markdown",
   "id": "7822ed27-ca1f-48cf-81b5-263894495103",
   "metadata": {},
   "source": [
    "Given the inputs: (1) Database, (2) group of variables, (3) block of equations - the ```GmsSettings``` class can write the gams model by simply calling ```self.stdArgs()```. This creates a dictionary with standard chunks of GAMS code: ```'Root', 'Functions', 'Declare', 'Fix','Unfix','Model','Solve'.``` If we need to use the ```gamY.Precompiler``` to interpret the text from gamY to gams syntax, we also apply the ```self.write``` method:"
   ]
  },
  {
   "cell_type": "code",
   "execution_count": 14,
   "id": "536c52b3-52a3-47fe-9626-fe01c3051383",
   "metadata": {},
   "outputs": [],
   "source": [
    "g['args'].update(g.stdArgs(blocks=blocks)) # Create arguments\n",
    "g.write(); # write model text"
   ]
  },
  {
   "cell_type": "markdown",
   "id": "d5b82532-2a16-406d-8734-9afe32f4d682",
   "metadata": {},
   "source": [
    "### 4. Run"
   ]
  },
  {
   "cell_type": "markdown",
   "id": "84184808-ca39-41d7-ba9d-a19310d61b31",
   "metadata": {},
   "source": [
    "Finally, we run the model as we did in the basic case:"
   ]
  },
  {
   "cell_type": "code",
   "execution_count": 15,
   "id": "55ffb0cd-03a3-4cf4-8a6a-2faf10d22c88",
   "metadata": {},
   "outputs": [],
   "source": [
    "mIntermediate = GmsPy.GmsModel(ws = d['work'], options = {'cns': 'CONOPT4'}) # set up model instance\n",
    "mIntermediate.addDB(g.db) # add the database to the model - i.e. tell where to load input data from.\n",
    "mIntermediate.run(''.join(g['text'].values())) # run using the gams text from GmsSettings instance"
   ]
  }
 ],
 "metadata": {
  "kernelspec": {
   "display_name": "Python 3 (ipykernel)",
   "language": "python",
   "name": "python3"
  },
  "language_info": {
   "codemirror_mode": {
    "name": "ipython",
    "version": 3
   },
   "file_extension": ".py",
   "mimetype": "text/x-python",
   "name": "python",
   "nbconvert_exporter": "python",
   "pygments_lexer": "ipython3",
   "version": "3.9.7"
  }
 },
 "nbformat": 4,
 "nbformat_minor": 5
}
