{
 "cells": [
  {
   "cell_type": "code",
   "execution_count": 1,
   "id": "5bb0f470-cdcc-4bbe-960c-a689455c1f0b",
   "metadata": {},
   "outputs": [
    {
     "name": "stdout",
     "output_type": "stream",
     "text": [
      "The file _gams_py_gdb1.gdx is still active and was not deleted.\n",
      "The file _gams_py_gdb3.gdx is still active and was not deleted.\n",
      "The file _gams_py_gdb7.gdx is still active and was not deleted.\n",
      "The file _gams_py_gdb9.gdx is still active and was not deleted.\n"
     ]
    }
   ],
   "source": [
    "clean_up = True\n",
    "%run stdPackages.ipynb"
   ]
  },
  {
   "cell_type": "code",
   "execution_count": 2,
   "id": "cb871bee-86b5-43cd-ad2f-f092e24d6fdf",
   "metadata": {},
   "outputs": [],
   "source": [
    "import math, dash\n",
    "import plotly.express as px\n",
    "from plotly.subplots import make_subplots"
   ]
  },
  {
   "cell_type": "markdown",
   "id": "39c05f3b-d9d5-4b7d-b21b-c84be247d974",
   "metadata": {},
   "source": [
    "# Simulations in partial equilibrium"
   ]
  },
  {
   "cell_type": "code",
   "execution_count": 3,
   "id": "b7a50a23-7656-4afa-bb83-a4d8c28fdacc",
   "metadata": {},
   "outputs": [],
   "source": [
    "ws = gams.GamsWorkspace(working_directory=d['work']) # specify where you want to run the GAMS models from (here the repository referred to in d['work'])\n",
    "with open(f\"{d['data']}\\\\AHH\",\"rb\") as file:\n",
    "    H = pickle.load(file)\n",
    "H.write();"
   ]
  },
  {
   "cell_type": "markdown",
   "id": "37683e42-dc8a-48aa-9bac-86e2c57ff937",
   "metadata": {},
   "source": [
    "Define a standardized report for a shock in this module as follows:\n",
    "* Add a database with target values for an exogenous variable. Extract data on ```qD, pD, p``` in a solution loop.\n",
    "* Plot time series for durables/non-durables on (sector, goods levels).\n",
    "* Plot time series for durables/non-durables on goods levels.\n",
    "* Plot time series for equilibrium and effective input prices. "
   ]
  },
  {
   "cell_type": "code",
   "execution_count": 4,
   "id": "62496b71-61ae-49d7-992c-fbe195a46793",
   "metadata": {},
   "outputs": [],
   "source": [
    "def stdPlot(df, c, title):\n",
    "    nplots,nrows = len(c), math.ceil(len(c)/2)\n",
    "    fig, axes = plt.subplots(nrows, min(nplots,2), figsize=(14,(4*nrows)));\n",
    "    for i in range(nplots):\n",
    "        ax = plt.subplot(nrows,min(nplots,2),i+1)\n",
    "        df.xs(c[i], level = c.names).plot(ax=ax, legend=False);\n",
    "        ax.set_title(c[i])\n",
    "    fig.legend(df.columns,ncol=3,loc=8,frameon=True)\n",
    "    # fig.suptitle(title,fontsize=15)\n",
    "    fig.tight_layout()\n",
    "    fig.subplots_adjust(bottom=0.30/nrows);\n",
    "    return fig"
   ]
  },
  {
   "cell_type": "code",
   "execution_count": 5,
   "id": "5b6712d3-6d63-425a-9989-a02dd3f8a5a2",
   "metadata": {},
   "outputs": [],
   "source": [
    "def stdPlots(m,P):\n",
    "    mult_graphs()\n",
    "    sn = adj.rc_pd(P.get('input'), ('not', P.get('inv')))\n",
    "    figs = {'qD_Durables': stdPlot(adj.rc_pd(m.out_db.get('sol_qD_shock'), P.get('dur')).unstack('l1'), P.get('dur'), \"$q$, durables\"),\n",
    "            'pD_Durables': stdPlot(adj.rc_pd(m.out_db.get('sol_pD_shock'), ('and', [P.get('dur'), P.get('txE')])).unstack('l1'), P.get('dur'), \"$p$, durable\"),\n",
    "            'qD_nonDurable': stdPlot(adj.rc_pd(m.out_db.get('sol_qD_shock'), ('and', [sn, P.get('txE')])).unstack('l1'), sn, \"$q$, non-durables\"),\n",
    "            'p_equilibrium': stdPlot(adj.rc_pd(m.out_db.get('sol_p_shock'), ('and', [P.get('output_n'), P.get('txE')])).unstack('l1'), P.get('output_n'), \"$p$, equilibrium\"),\n",
    "            'pD_nonDurable': stdPlot(adj.rc_pd(m.out_db.get('sol_pD_shock'), ('and', [P.get('output'), P.get('txE')])).unstack('l1'), P.get('output'), \"$p$, non-durables\")}\n",
    "    return figs"
   ]
  },
  {
   "cell_type": "markdown",
   "id": "02c014cd-4bcb-49aa-8a58-1212bff2b1ba",
   "metadata": {},
   "source": [
    "#### 1. Increase an input tax"
   ]
  },
  {
   "cell_type": "markdown",
   "id": "7ffbf5e5-0bed-47af-aa7b-570a9a97225c",
   "metadata": {},
   "source": [
    "Increase tax on wooferman:"
   ]
  },
  {
   "cell_type": "code",
   "execution_count": 8,
   "id": "4be9c300-7677-4fa8-89c4-7f3a2f6ffe8a",
   "metadata": {},
   "outputs": [
    {
     "data": {
      "text/plain": [
       "s\n",
       "HH    0.970874\n",
       "Name: level, dtype: object"
      ]
     },
     "execution_count": 8,
     "metadata": {},
     "output_type": "execute_result"
    }
   ],
   "source": [
    "H.get('disc')"
   ]
  },
  {
   "cell_type": "markdown",
   "id": "c65ffde9-c68e-4032-88a9-0bb8afdee3ad",
   "metadata": {},
   "source": [
    "*i. Set up target database:*"
   ]
  },
  {
   "cell_type": "code",
   "execution_count": 6,
   "id": "38021e31-fbac-4217-a468-0fa391b9722e",
   "metadata": {},
   "outputs": [],
   "source": [
    "dbT = GpyDB(**{'name': 'TaxShock'})\n",
    "dbT['tauD'] = pd.Series(1, index = pd.MultiIndex.from_product([P.get('t'), P.get('s'), pd.Index(['a'], name = 'n')]), name = 'tauD')\n",
    "extractSol = {k:None for k in ('qD','pD','p')}"
   ]
  },
  {
   "cell_type": "markdown",
   "id": "433f5dbe-ff95-4e7e-8540-98a95c1b350e",
   "metadata": {},
   "source": [
    "*ii. Solve:*"
   ]
  },
  {
   "cell_type": "code",
   "execution_count": 7,
   "id": "cb33feaa-0f28-49aa-885d-168d9fa76106",
   "metadata": {},
   "outputs": [],
   "source": [
    "m_a, cp_a = P.sneakySolve(dbT, ws = ws, loop_kwargs = {'extractSol': extractSol, 'n': 3}, **{'cns': 'CONOPT4'})"
   ]
  }
 ],
 "metadata": {
  "kernelspec": {
   "display_name": "Python 3 (ipykernel)",
   "language": "python",
   "name": "python3"
  },
  "language_info": {
   "codemirror_mode": {
    "name": "ipython",
    "version": 3
   },
   "file_extension": ".py",
   "mimetype": "text/x-python",
   "name": "python",
   "nbconvert_exporter": "python",
   "pygments_lexer": "ipython3",
   "version": "3.9.7"
  }
 },
 "nbformat": 4,
 "nbformat_minor": 5
}
