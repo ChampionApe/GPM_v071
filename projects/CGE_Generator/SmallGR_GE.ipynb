{
 "cells": [
  {
   "cell_type": "code",
   "execution_count": 1,
   "id": "cb1b1f37-c5d5-4b53-8821-c3aa4d05fca7",
   "metadata": {},
   "outputs": [],
   "source": [
    "clean_up = True\n",
    "%run stdPackages.ipynb\n",
    "d['data'] = os.path.join(d['data'], 'IO2018')"
   ]
  },
  {
   "cell_type": "markdown",
   "id": "158dc05a-0678-4f08-819c-6b6bb75de587",
   "metadata": {},
   "source": [
    "## Settings/data"
   ]
  },
  {
   "cell_type": "code",
   "execution_count": 2,
   "id": "3c77ee25-2270-4c2e-a407-57f383db713b",
   "metadata": {},
   "outputs": [],
   "source": [
    "name = 'smallGR'\n",
    "db_IO = pyDatabases.GpyDB(f\"{d['data']}\\\\IO_{name}\") # load IO database named IO_name\n",
    "ws = gams.GamsWorkspace(working_directory=d['work']) # specify where you want to run the GAMS models from (here the repository referred to in d['work'])\n",
    "with open(f\"{d['data']}\\\\glob_{name}\",\"rb\") as file: # load global settings anmed glob_name\n",
    "    glob=pickle.load(file)"
   ]
  },
  {
   "cell_type": "code",
   "execution_count": 3,
   "id": "bead10fd-cb3c-440b-b87e-d0a9d4075817",
   "metadata": {},
   "outputs": [],
   "source": [
    "def loadFromPickle(x):\n",
    "    with open(os.path.join(d['data'],x), \"rb\") as file:\n",
    "        return pickle.load(file)"
   ]
  },
  {
   "cell_type": "markdown",
   "id": "e64acb2c-050a-4452-a23d-463f6c74eb07",
   "metadata": {},
   "source": [
    "Add time index to the IO data:"
   ]
  },
  {
   "cell_type": "code",
   "execution_count": 4,
   "id": "403008fc-5840-41d0-bd72-ab8ab20c2795",
   "metadata": {},
   "outputs": [],
   "source": [
    "def addT(symbol, t):\n",
    "    return adjMultiIndex.bc(symbol, t).reorder_levels(['t']+symbol.index.names if 't' not in symbol.index.names else symbol.index.names)\n",
    "[db_IO.__setitem__(k, addT(db_IO.get(k), glob.db['t0'].vals)) for k in db_IO.getTypes(['variable','scalar_variable'])];"
   ]
  },
  {
   "cell_type": "markdown",
   "id": "6a4936f8-ba2d-4844-81b5-2d5fbd0ae94c",
   "metadata": {},
   "source": [
    "Load modules:"
   ]
  },
  {
   "cell_type": "code",
   "execution_count": 5,
   "id": "21da00a2-a90e-4dfd-8ee6-5b82bfb63e6e",
   "metadata": {},
   "outputs": [],
   "source": [
    "modules = [f\"{name}_{k}\" for k in ('G','HH','itory','I','P','Tr')]\n",
    "GE = CGE_GmsPython.GmsPython(name = name+'_GE', glob=glob, m = [loadFromPickle(n) for n in modules], s_kwargs = {'ws': ws})\n",
    "robust.robust_merge_dbs(GE.s.db, db_IO, priority = 'first')"
   ]
  },
  {
   "cell_type": "markdown",
   "id": "24c98135-127d-4cd8-81c9-a29f59c0a07b",
   "metadata": {},
   "source": [
    "### Calibrate model"
   ]
  },
  {
   "cell_type": "markdown",
   "id": "306dc004-a7a7-45aa-83e2-f96712021fd5",
   "metadata": {},
   "source": [
    "Add equilibrium module:"
   ]
  },
  {
   "cell_type": "code",
   "execution_count": 6,
   "id": "b1bf2a27-351e-42be-80e0-da7714faf88b",
   "metadata": {},
   "outputs": [],
   "source": [
    "mEqui = CGE_Equilibrium.Equi(name = name, db_IO = db_IO, glob = glob)\n",
    "GE.addModule(mEqui, merge_s = True)"
   ]
  },
  {
   "cell_type": "markdown",
   "id": "863c30e6-cf4a-4f6a-971a-701d33ef7062",
   "metadata": {},
   "source": [
    "Set up model, write gams code, and calibrate model to IO data:"
   ]
  },
  {
   "cell_type": "code",
   "execution_count": 7,
   "id": "59baff9d-8297-4279-8a9f-ebadd2285dca",
   "metadata": {},
   "outputs": [],
   "source": [
    "GE.compile()\n",
    "GE.write()\n",
    "mCalib, cp = GE.sneakyCalib(db_IO, ws = ws, loop_kwargs = {'n': 10}, **{'cns': 'CONOPT4'})"
   ]
  },
  {
   "cell_type": "markdown",
   "id": "5ed7877f-1937-4db8-b27c-6f53fbb98bba",
   "metadata": {},
   "source": [
    "Export solution:"
   ]
  },
  {
   "cell_type": "code",
   "execution_count": 8,
   "id": "135ea82e-1c91-48e6-837c-63dbb9f2984a",
   "metadata": {},
   "outputs": [],
   "source": [
    "robust.robust_merge_dbs(GE.s.db, mCalib.out_db.getTypes(['variable','scalar_variable']), priority = 'second')\n",
    "GE.s.setstate('B')"
   ]
  },
  {
   "cell_type": "code",
   "execution_count": 9,
   "id": "90a7271f-5616-4588-97d3-4107a3fcbe80",
   "metadata": {},
   "outputs": [],
   "source": [
    "with open(os.path.join(d['data'], GE.name), \"wb\") as file:\n",
    "    pickle.dump(GE,file)"
   ]
  }
 ],
 "metadata": {
  "kernelspec": {
   "display_name": "Python 3 (ipykernel)",
   "language": "python",
   "name": "python3"
  },
  "language_info": {
   "codemirror_mode": {
    "name": "ipython",
    "version": 3
   },
   "file_extension": ".py",
   "mimetype": "text/x-python",
   "name": "python",
   "nbconvert_exporter": "python",
   "pygments_lexer": "ipython3",
   "version": "3.9.7"
  }
 },
 "nbformat": 4,
 "nbformat_minor": 5
}
