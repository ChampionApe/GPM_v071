{
 "cells": [
  {
   "cell_type": "code",
   "execution_count": 1,
   "id": "423873f1-e447-4161-adaa-c5b4a9732a19",
   "metadata": {},
   "outputs": [
    {
     "name": "stdout",
     "output_type": "stream",
     "text": [
      "The file _gams_py_gdb0.gdx is still active and was not deleted.\n",
      "The file _gams_py_gdb1.gdx is still active and was not deleted.\n"
     ]
    }
   ],
   "source": [
    "clean_up = True\n",
    "%run stdPackages.ipynb"
   ]
  },
  {
   "cell_type": "markdown",
   "id": "30deb65a-dc48-45ff-a1ed-0e11f79c0f1c",
   "metadata": {
    "tags": []
   },
   "source": [
    "# Data arrangement, model A"
   ]
  },
  {
   "cell_type": "markdown",
   "id": "81488673-1b7b-436d-9316-96a0439b260c",
   "metadata": {},
   "source": [
    "Model A is a small open economy with two domestic production sectors, Ramsey-like consumers with CRRA utility and endogenous labor supply, and Armington-like trade."
   ]
  },
  {
   "cell_type": "code",
   "execution_count": 2,
   "id": "93dbe5e3-8ab4-49dc-a0ef-73a4de89ce0d",
   "metadata": {},
   "outputs": [],
   "source": [
    "name = 'A' # name of model\n",
    "error = 1e-10 # tolerance when testing IO balance\n",
    "IOv = f\"{d['data']}\\\\A_IOv.xlsx\" # file with value balance\n",
    "IOp = f\"{d['data']}\\\\A_IOp.xlsx\" # file with prices\n",
    "dur = f\"{d['data']}\\\\A_dur.xlsx\" # file with durable specifciation \n",
    "glob = CGE_globals.SmallOpen(kwargs_vals = {'t': range(2016,2051)}) # global settings used throughout; interest rates, long run growth rates, time index etc."
   ]
  },
  {
   "cell_type": "markdown",
   "id": "d32a5e7f-d005-4bf5-81c6-8bc7fe428e89",
   "metadata": {},
   "source": [
    "### 1: Load IO data on values"
   ]
  },
  {
   "cell_type": "markdown",
   "id": "38ba6575-3d65-4d01-94f2-9d7a535438fe",
   "metadata": {},
   "source": [
    "*Given the settings above, the following goes through some standard steps in setting up balanced IO data. Go to step 4 to add new exogenous data to the standard data*"
   ]
  },
  {
   "cell_type": "code",
   "execution_count": 3,
   "id": "f4eb27c6-3092-41d2-a51b-52b4702f2a8d",
   "metadata": {},
   "outputs": [],
   "source": [
    "ms = ['p','f','i','h','g']\n",
    "db = GpyDB(**{'name': f\"IO_{name}\", 'alias': pd.MultiIndex.from_tuples([('n','nn'),('n','nnn'), ('s','ss')])})"
   ]
  },
  {
   "cell_type": "markdown",
   "id": "b90a3a29-94ca-499f-b824-5a31532d64b5",
   "metadata": {},
   "source": [
    "*Load data and create some useful subsets:*\n",
    "* ```f_x``` identifies sectors in module ```x```,\n",
    "* ```nOut_x``` identifies outputs from module ```x```,\n",
    "* ```nEqui``` identifies the goods for which we require en equilibrium to be established (see equilibrium module).\n",
    "* ```d_qS``` identifies the sector, goods combinations that supplies ```nEqui[n]``` goods,\n",
    "* ```d_qD``` identifies the sector, goods combinations that demands ```nEqui[n]``` goods.\n",
    "* ```d_qSEqui``` identifies the sector, goods combinations that are exogenous in partial equilibrium, endogenous in general equilibrium.\n",
    "* ```d_pEqui``` identifies the goods that are exogenous in partial equilibrium, endogenous in general equilibrium."
   ]
  },
  {
   "cell_type": "code",
   "execution_count": 4,
   "id": "da9bb693-7c4a-41c1-8b63-2d00ed3384db",
   "metadata": {},
   "outputs": [],
   "source": [
    "wv = read.simpleLoad(IOv)\n",
    "dbs_v = {m: read.SeriesDB_from_wb(wv, {'variables': m}) for m in ms}\n",
    "for m in ms:\n",
    "    if 'vS' in dbs_v[m].database:\n",
    "        dbs_v[m][f\"s_{m}\"] = dbs_v[m]['vS'].index.levels[0]\n",
    "        dbs_v[m][f\"nOut_{m}\"] = dbs_v[m]['vS'].index.levels[-1]\n",
    "dbs_v['f']['nOut_f'] = dbs_v['f'].get('vD').index.levels[-1].difference(dbs_v['p'].get('nOut_p'))\n",
    "dbs_v['f']['s_f'] = dbs_v['f'].get('vD').index.levels[0].difference(dbs_v['p'].get('s_p'))"
   ]
  },
  {
   "cell_type": "markdown",
   "id": "59cf1366-fcb7-4713-b712-d1d081703814",
   "metadata": {},
   "source": [
    "*Merge:*"
   ]
  },
  {
   "cell_type": "code",
   "execution_count": 5,
   "id": "56524fce-0d74-4073-9b41-bb51b9acc992",
   "metadata": {},
   "outputs": [],
   "source": [
    "[robust.robust_merge_dbs(db, db_i, priority='second') for db_i in dbs_v.values()];\n",
    "robust.robust_merge_dbs(db, read.SeriesDB_from_wb(wv, {'maps': ['maps']})) # add mappings\n",
    "db['nEqui'] = db['vS'].index.levels[-1]\n",
    "db['d_qS']  = db['vS'].index\n",
    "db['d_qD'] = adj.rc_pd(db['vD'], db['nEqui']).index\n",
    "db['d_qSEqui'] = adj.rc_pd(db['d_qS'].vals, ('not', db['nOut_h']))\n",
    "db['d_pEqui']  = db['nOut_h']"
   ]
  },
  {
   "cell_type": "markdown",
   "id": "b2344ad5-c119-41dd-a062-c0c6d183e581",
   "metadata": {},
   "source": [
    "*Check value balances for domestic production sectors + investment sectors:*"
   ]
  },
  {
   "cell_type": "code",
   "execution_count": 6,
   "id": "2ab3ee5a-daca-45eb-bf63-141b842737cf",
   "metadata": {},
   "outputs": [],
   "source": [
    "vS = adj.rc_pd(db.get('vS'), ('or', [db.get('s_p'), db.get('s_i')])).groupby('s').sum()\n",
    "vD_p = adj.rc_pd(db.get('vD'), ('and', [db.get('s_p'), ('not', db.get('nOut_i'))])).groupby('s').sum()\n",
    "vD_i = adj.rc_pd(db.get('vD'), db.get('s_i')).groupby('s').sum()\n",
    "vDiff = vS-vD_p.combine_first(vD_i)-adj.rc_pd(db.get('TotalTax'), ('or', [db.get('s_p'), db.get('s_i')]))\n",
    "assert abs(vDiff).max()<error, f\"The IO value data is not balanced check. The difference (vS-vD-TotalTax): {vDiff[abs(vDiff)>error]}\""
   ]
  },
  {
   "cell_type": "markdown",
   "id": "31cfb67a-ed90-41a3-8b83-52c4029263c8",
   "metadata": {},
   "source": [
    "### 2: IO data on prices"
   ]
  },
  {
   "cell_type": "markdown",
   "id": "8e481718-82b1-4bcd-bb28-19f3207e269a",
   "metadata": {},
   "source": [
    "If no price data is added, add default price of 1 on all goods:"
   ]
  },
  {
   "cell_type": "code",
   "execution_count": 7,
   "id": "2ef602a2-4dcb-47d1-8204-e82bfb0a407a",
   "metadata": {},
   "outputs": [],
   "source": [
    "if IOp is None:\n",
    "    db['p'] = pd.Series(1, index = db.get('vS').index.levels[-1].union(db.get('nOut_f')))\n",
    "else:\n",
    "    db['p'] = read.SeriesDB_from_wb(IOp, {'variables': ['pEqui']})['p']"
   ]
  },
  {
   "cell_type": "markdown",
   "id": "21d69fa6-cdd7-441f-9b2d-535a5346640e",
   "metadata": {},
   "source": [
    "Note: We do not automatically load any other prices than the equilibrium ones (i.e. regulation is not automatically loaded here)."
   ]
  },
  {
   "cell_type": "markdown",
   "id": "ceb1fb15-55d4-4d0b-870d-e5caa77277ec",
   "metadata": {},
   "source": [
    "### 3: Load data on durables"
   ]
  },
  {
   "cell_type": "markdown",
   "id": "af0a11e6-9820-4c1b-88df-fe1a34bce214",
   "metadata": {},
   "source": [
    "Load durables data: If a sheet name ends with 'V' the sheet loads variables, if 'M' it loads mappings."
   ]
  },
  {
   "cell_type": "code",
   "execution_count": 8,
   "id": "5a8562dc-6d7d-4c61-8b96-8455ac6b106d",
   "metadata": {},
   "outputs": [],
   "source": [
    "wdur = read.simpleLoad(dur)\n",
    "db_dur = read.SeriesDB_from_wb(wdur, {'variables': [sheet.title for sheet in wdur._sheets if sheet.title.endswith('V')],\n",
    "                                      'maps': [sheet.title for sheet in wdur._sheets if sheet.title.endswith('M')]})"
   ]
  },
  {
   "cell_type": "markdown",
   "id": "be8ff2c9-bf20-4180-abed-5c96b9d4e87b",
   "metadata": {},
   "source": [
    "Read the subset of durables and investment goods from the mapping ```dur2inv```: "
   ]
  },
  {
   "cell_type": "code",
   "execution_count": 9,
   "id": "11c17546-453f-4920-bf8a-5d84f455636d",
   "metadata": {},
   "outputs": [],
   "source": [
    "db['dur_p'] = db_dur.get('dur2inv').droplevel('nn').unique() # what variables are durables (K)\n",
    "db['inv_p'] = db_dur.get('dur2inv').droplevel('n').unique().rename({'nn':'n'}) # what variables are investment goods (I)\n",
    "robust.robust_merge_dbs(db, db_dur, priority='second') # add to main database"
   ]
  },
  {
   "cell_type": "markdown",
   "id": "638c8f80-9400-4257-9109-f64f4b4363b2",
   "metadata": {},
   "source": [
    "Back out quantities:"
   ]
  },
  {
   "cell_type": "code",
   "execution_count": 10,
   "id": "6d473c46-d3ff-44dd-abd5-90aa144912ac",
   "metadata": {},
   "outputs": [],
   "source": [
    "db['qD'] = db.get('qD').combine_first( (adj.rc_pd(db.get('vD'), ('not', ('or', [db.get('svngs'), db.get('dur_p')]))) / db.get('p')) )\n",
    "db['qS'] = db['vS'].vals / db.get('p')"
   ]
  },
  {
   "cell_type": "markdown",
   "id": "d46a4035-6fcf-45db-9880-588405925d99",
   "metadata": {},
   "source": [
    "Broadcast all variables using the time index (repeat variables for all $t$):"
   ]
  },
  {
   "cell_type": "code",
   "execution_count": 11,
   "id": "3cb92d14-4199-475c-8382-1b884b5b9717",
   "metadata": {},
   "outputs": [],
   "source": [
    "def addT(symbol, t):\n",
    "    return adjMultiIndex.bc(symbol, t).reorder_levels(['t']+symbol.index.names if 't' not in symbol.index.names else symbol.index.names)\n",
    "[db.__setitem__(k, addT(db.get(k), glob.db['t'].vals)) for k in db.getTypes(['variable','scalar_variable'])];"
   ]
  },
  {
   "cell_type": "markdown",
   "id": "3c522811-c6bd-4f74-8ccc-295b3aad3f6f",
   "metadata": {},
   "source": [
    "Initialize the prices ```pD``` and ```pS``` at the equilibrium prices:"
   ]
  },
  {
   "cell_type": "code",
   "execution_count": 12,
   "id": "311f9bf8-7e06-4e6f-aea4-4103bf2b0406",
   "metadata": {},
   "outputs": [],
   "source": [
    "db['pD'] = adjMultiIndex.bc(db.get('p'), db.get('qD')).reorder_levels(db['qD'].domains).rename('pD') # span the pure prices 'p' to fit entire qD domain\n",
    "db['pS'] = adjMultiIndex.bc(adj.rc_pd(db.get('p'), ('not', db.get('nOut_f'))), db.get('qS')).reorder_levels(db['qS'].domains).rename('qS') # span 'p' to fit domain of qS. Drop prices on foreign goods."
   ]
  },
  {
   "cell_type": "markdown",
   "id": "99567221-9697-48da-918e-092f3174915c",
   "metadata": {},
   "source": [
    "### 4: Add other data"
   ]
  },
  {
   "cell_type": "markdown",
   "id": "0e9c0daf-07bb-4f9d-958b-ed2719cf0e46",
   "metadata": {},
   "source": [
    "Load interest rates:"
   ]
  },
  {
   "cell_type": "code",
   "execution_count": 13,
   "id": "8468eeb7-9703-4a52-afd2-29bea202b2a4",
   "metadata": {},
   "outputs": [],
   "source": [
    "# robust.robust_merge_dbs(db, read.SeriesDB_from_wb(IOp, {'variables': ['interestRates']}), 'second')"
   ]
  },
  {
   "cell_type": "markdown",
   "id": "f371491f-3183-44c6-8296-1f69bc74f0b8",
   "metadata": {},
   "source": [
    "## Export:"
   ]
  },
  {
   "cell_type": "code",
   "execution_count": 14,
   "id": "3900dba2-fe37-4222-b6a1-ef29a57b47dc",
   "metadata": {},
   "outputs": [],
   "source": [
    "aggregateDB.readSets(db) # read sets from the symbols in data"
   ]
  },
  {
   "cell_type": "code",
   "execution_count": 15,
   "id": "e6fce55e-0339-4ee9-a322-00b2a2a18424",
   "metadata": {},
   "outputs": [],
   "source": [
    "db.export(repo = d['data'])\n",
    "with open(f\"{d['data']}\\\\glob_{name}\", \"wb\") as file:\n",
    "    pickle.dump(glob,file)"
   ]
  }
 ],
 "metadata": {
  "kernelspec": {
   "display_name": "Python 3 (ipykernel)",
   "language": "python",
   "name": "python3"
  },
  "language_info": {
   "codemirror_mode": {
    "name": "ipython",
    "version": 3
   },
   "file_extension": ".py",
   "mimetype": "text/x-python",
   "name": "python",
   "nbconvert_exporter": "python",
   "pygments_lexer": "ipython3",
   "version": "3.9.7"
  }
 },
 "nbformat": 4,
 "nbformat_minor": 5
}
