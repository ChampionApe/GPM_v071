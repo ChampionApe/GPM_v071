{
 "cells": [
  {
   "cell_type": "code",
   "execution_count": 1,
   "id": "ec3554d6-3d31-4c0d-be9c-b7690cef658d",
   "metadata": {},
   "outputs": [
    {
     "name": "stdout",
     "output_type": "stream",
     "text": [
      "The file _gams_py_gdb0.gdx is still active and was not deleted.\n",
      "The file _gams_py_gdb1.gdx is still active and was not deleted.\n"
     ]
    }
   ],
   "source": [
    "clean_up = True\n",
    "%run stdPackages.ipynb\n",
    "ws = gams.GamsWorkspace(working_directory=d['work']) # specify where you want to run the GAMS models from (here the repository referred to in d['work'])\n",
    "d['data'] = os.path.join(d['data'], 'IO2018')"
   ]
  },
  {
   "cell_type": "markdown",
   "id": "5f3e6066-a5a6-4215-b94f-83e58f5b7bd3",
   "metadata": {},
   "source": [
    "## Inventory investments"
   ]
  },
  {
   "cell_type": "code",
   "execution_count": 2,
   "id": "f7226375-fc8f-447d-abef-7d31506771d6",
   "metadata": {},
   "outputs": [],
   "source": [
    "name = 'smallGR' # name of model\n",
    "db_IO = GpyDB(f\"{d['data']}\\\\IO_{name}\") # load IO database named IO_name\n",
    "with open(f\"{d['data']}\\\\glob_{name}\",\"rb\") as file: # load global settings anmed glob_name\n",
    "    glob=pickle.load(file)"
   ]
  },
  {
   "cell_type": "markdown",
   "id": "a5196a02-5e7c-4a91-a759-1af40e3e45f3",
   "metadata": {},
   "source": [
    "Add time index to the IO data:"
   ]
  },
  {
   "cell_type": "code",
   "execution_count": 3,
   "id": "41a9969d-e7dd-44ca-bdd3-3d7d5b3404a6",
   "metadata": {},
   "outputs": [],
   "source": [
    "def addT(symbol, t):\n",
    "    return adjMultiIndex.bc(symbol, t).reorder_levels(['t']+symbol.index.names if 't' not in symbol.index.names else symbol.index.names)\n",
    "[db_IO.__setitem__(k, addT(db_IO.get(k), glob.db['t'].vals)) for k in db_IO.getTypes(['variable','scalar_variable'])];"
   ]
  },
  {
   "cell_type": "markdown",
   "id": "5645a310-c0e1-4835-95b9-165da6c173ec",
   "metadata": {},
   "source": [
    "Inventory modelling only requires specifying: (1) What sectors are inventory sectors, (2) the speed of adjustment for the inventory (modelled as AR1 proces without stochasticity)."
   ]
  },
  {
   "cell_type": "code",
   "execution_count": 4,
   "id": "f42c1844-d347-450f-97eb-8b8cc33549a2",
   "metadata": {},
   "outputs": [],
   "source": [
    "itory = pd.Index(['itory'], name = 's')\n",
    "aggregateDB.subset_db(db_IO, itory) # goes through all symbols in db_IO and only keep the elements that are in the inventory set\n",
    "I = CGE_Production.Inventory(name = name, db_IO = db_IO, itory=itory, glob = glob) # initialize module from nesting tree and global settings\n",
    "I.compile(); \n",
    "I.write();\n",
    "m = I.run(exportTo=d['work'], ws =ws)"
   ]
  },
  {
   "cell_type": "markdown",
   "id": "087196e8-4b4b-4c05-9fce-448dd82f5ab8",
   "metadata": {},
   "source": [
    "Export:"
   ]
  },
  {
   "cell_type": "code",
   "execution_count": 5,
   "id": "e6612758-9f8d-4a4f-90e4-c3d2258b0f26",
   "metadata": {},
   "outputs": [],
   "source": [
    "I.s.db = m.out_db"
   ]
  },
  {
   "cell_type": "markdown",
   "id": "8d8d672f-3404-4051-8a58-70262c072a41",
   "metadata": {},
   "source": [
    "Export:"
   ]
  },
  {
   "cell_type": "code",
   "execution_count": 6,
   "id": "bb2f80d5-8dd3-4c91-bd13-3df9f51a23aa",
   "metadata": {},
   "outputs": [],
   "source": [
    "with open(os.path.join(d['data'], I.name), \"wb\") as file:\n",
    "    pickle.dump(I,file)"
   ]
  }
 ],
 "metadata": {
  "kernelspec": {
   "display_name": "Python 3 (ipykernel)",
   "language": "python",
   "name": "python3"
  },
  "language_info": {
   "codemirror_mode": {
    "name": "ipython",
    "version": 3
   },
   "file_extension": ".py",
   "mimetype": "text/x-python",
   "name": "python",
   "nbconvert_exporter": "python",
   "pygments_lexer": "ipython3",
   "version": "3.9.7"
  }
 },
 "nbformat": 4,
 "nbformat_minor": 5
}
