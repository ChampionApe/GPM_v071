{
 "cells": [
  {
   "cell_type": "code",
   "execution_count": 1,
   "id": "03fd278a-d005-4b06-a566-4cc4b837e7b9",
   "metadata": {},
   "outputs": [],
   "source": [
    "clean_up = True\n",
    "%run stdPackages.ipynb\n",
    "ws = gams.GamsWorkspace(working_directory=d['work']) # specify where you want to run the GAMS models from (here the repository referred to in d['work'])\n",
    "d['data'] = os.path.join(d['data'], 'IO2018')"
   ]
  },
  {
   "cell_type": "markdown",
   "id": "63ec4e85-7c39-44ea-8d73-b902f5738233",
   "metadata": {},
   "source": [
    "### 1. Settings"
   ]
  },
  {
   "cell_type": "markdown",
   "id": "6b2e72ae-09e3-4c46-8755-be49ff36bc2a",
   "metadata": {},
   "source": [
    "Define main settings:"
   ]
  },
  {
   "cell_type": "code",
   "execution_count": 2,
   "id": "9372c8bd-0974-4228-96a5-9c9abe039a76",
   "metadata": {},
   "outputs": [],
   "source": [
    "name = 'GR18' # name of model\n",
    "module = name+'_Production' # name of module\n",
    "db_IO = GpyDB(pickle_path = os.path.join(d['data'], f'IO_{name}')) # load IO database named IO_name\n",
    "with open(f\"{d['data']}\\\\glob_{name}\",\"rb\") as file: # load global settings anmed glob_name\n",
    "    glob=pickle.load(file)"
   ]
  },
  {
   "cell_type": "markdown",
   "id": "367b4e85-b2f8-47b1-ac96-025358e0312f",
   "metadata": {},
   "source": [
    "#### 1.1 Nesting"
   ]
  },
  {
   "cell_type": "markdown",
   "id": "da145186-565b-4c95-a002-4279ecf91161",
   "metadata": {},
   "source": [
    "**Non-materials nest:**"
   ]
  },
  {
   "cell_type": "markdown",
   "id": "fd87010a-d47d-4db8-bd9d-81edc2a4b8f4",
   "metadata": {},
   "source": [
    "*Full index:*"
   ]
  },
  {
   "cell_type": "code",
   "execution_count": 3,
   "id": "9e81ad69-a99f-4c86-9fbb-f4d9269d24c5",
   "metadata": {},
   "outputs": [],
   "source": [
    "mFull = pd.MultiIndex.from_tuples([('KELBM', 'RxE'), \n",
    "                                   ('KELBM', 'KELB'), \n",
    "                                   ('KELB', 'iB'), ('KELB','KEL'), \n",
    "                                   ('KEL','L'), ('KEL','KE'), \n",
    "                                   ('KE','iM'), ('KE','E'), \n",
    "                                   ('E','35011_input'), ('E','35011_F')], names = ['n','nn'])\n",
    "E = pd.Index(['35011','35011_F'], name = 'n')"
   ]
  },
  {
   "cell_type": "markdown",
   "id": "f37291f4-fac4-419f-9516-663c7813a012",
   "metadata": {},
   "source": [
    "Some of the sectors may not use the energy inputs, or only use either the foreign/domestic types:"
   ]
  },
  {
   "cell_type": "code",
   "execution_count": 4,
   "id": "f08bdffb-77cb-4fdb-84e3-233365ecffbd",
   "metadata": {},
   "outputs": [],
   "source": [
    "m_onlyEdom = pd.MultiIndex.from_tuples([('KELBM', 'RxE'), \n",
    "                                   ('KELBM', 'KELB'), \n",
    "                                   ('KELB', 'iB'), ('KELB','KEL'), \n",
    "                                   ('KEL','L'), ('KEL','KE'), \n",
    "                                   ('KE','iM'), ('KE','35011_input')], names = ['n','nn'])\n",
    "m_onlyEfor = pd.MultiIndex.from_tuples([('KELBM', 'RxE'), \n",
    "                                   ('KELBM', 'KELB'), \n",
    "                                   ('KELB', 'iB'), ('KELB','KEL'), \n",
    "                                   ('KEL','L'), ('KEL','KE'), \n",
    "                                   ('KE','iM'), ('KE','35011_F')], names = ['n','nn'])\n",
    "m_noE = pd.MultiIndex.from_tuples([('KELBM', 'RxE'), \n",
    "                                   ('KELBM', 'KELB'), \n",
    "                                   ('KELB', 'iB'), ('KELB','KEL'), \n",
    "                                   ('KEL','L'), ('KEL','iM')], names = ['n','nn'])"
   ]
  },
  {
   "cell_type": "markdown",
   "id": "2fa690b9-bfac-4bbf-a5f7-77a10e4de674",
   "metadata": {},
   "source": [
    "Look at energy demand with domestic and foreign types in rows:"
   ]
  },
  {
   "cell_type": "code",
   "execution_count": 5,
   "id": "00872824-ef09-4406-b75d-265bc56aabd2",
   "metadata": {},
   "outputs": [],
   "source": [
    "Edf = adj.rc_pd(db_IO.get('vD'), E).unstack('n')"
   ]
  },
  {
   "cell_type": "markdown",
   "id": "ad6f2dfa-1ba0-4ddb-b733-d8d7aa5654ec",
   "metadata": {},
   "source": [
    "If the sector is not in ```Edf```, the sector does not demand any energy inputs. If the foreign electricity good is NaN, the sector only uses domestic energy. If the domestic sector is NaN, they only use foreign:"
   ]
  },
  {
   "cell_type": "code",
   "execution_count": 6,
   "id": "b039de61-d5b0-4472-b522-c0477af77b10",
   "metadata": {},
   "outputs": [],
   "source": [
    "s_noE = adj.rc_pd(db_IO.get('s_p'), ('not',Edf))\n",
    "s_onlyFor = adj.rc_pd(db_IO.get('s_p'), Edf[Edf['35011'].isna()])\n",
    "s_onlyDom = adj.rc_pd(db_IO.get('s_p'), Edf[Edf['35011_F'].isna()])\n",
    "s_fullE = adj.rc_pd(db_IO.get('s_p'), ('not', ('or', [s_noE, s_onlyFor, s_onlyDom])))"
   ]
  },
  {
   "cell_type": "markdown",
   "id": "8118ba27-45d3-49b8-b60e-e671f90760b1",
   "metadata": {},
   "source": [
    "Establish mappings:"
   ]
  },
  {
   "cell_type": "code",
   "execution_count": 7,
   "id": "4574193c-5b23-4047-8075-27658683553e",
   "metadata": {},
   "outputs": [],
   "source": [
    "m = pd.MultiIndex.from_tuples(np.hstack([pyDatabases.cartesianProductIndex([s_noE, m_noE]).values,\n",
    "                                         pyDatabases.cartesianProductIndex([s_onlyFor, m_onlyEfor]).values,\n",
    "                                         pyDatabases.cartesianProductIndex([s_onlyDom, m_onlyEdom]).values,\n",
    "                                         pyDatabases.cartesianProductIndex([s_fullE, mFull]).values]),\n",
    "                              names = ['s','n','nn'])"
   ]
  },
  {
   "cell_type": "markdown",
   "id": "0ca7f1b0-be94-4dec-b514-ae26457b83ba",
   "metadata": {},
   "source": [
    "Replace upper-most level with name of sector:"
   ]
  },
  {
   "cell_type": "code",
   "execution_count": 8,
   "id": "dd0cc848-7f16-4e87-a7b1-d0ca70d6381a",
   "metadata": {},
   "outputs": [],
   "source": [
    "df = m.to_frame(index=False) \n",
    "df.loc[df.n == 'KELBM','n'] = df.loc[df.n == 'KELBM', 's']\n",
    "m = pd.MultiIndex.from_frame(df)"
   ]
  },
  {
   "cell_type": "markdown",
   "id": "2a3bdb41-fcbe-411c-8cf4-d4166541a14a",
   "metadata": {},
   "source": [
    "**Materials nest:**"
   ]
  },
  {
   "cell_type": "markdown",
   "id": "96150834-98e6-4e25-b34a-4274530f1f00",
   "metadata": {},
   "source": [
    "There are quite a lot of sparsity in the materials nest - so we deal explicitly with it."
   ]
  },
  {
   "cell_type": "code",
   "execution_count": 9,
   "id": "a35e2014-31f6-45b6-9c54-ab7c1cc9c812",
   "metadata": {},
   "outputs": [],
   "source": [
    "E = pd.Index(['35011','35011_F'], name = 'n')"
   ]
  },
  {
   "cell_type": "markdown",
   "id": "c86a6f4c-7ad0-443d-9b3b-803b52990772",
   "metadata": {},
   "source": [
    "For [s,n] in ```dImport[s,n,nn]```, we define a mapping from ```RxE```to an intermediate good ```RxEym_x``` that is again an aggregate of the domestic/foreign goods ```x,x_F```. We do this for any sectors except the energy goods:"
   ]
  },
  {
   "cell_type": "code",
   "execution_count": 10,
   "id": "c062181f-6edf-4065-91e4-77bfb5129905",
   "metadata": {},
   "outputs": [],
   "source": [
    "E = pd.Index(['35011','35011_F'], name = 'n') # treat these types of good in a different way (not in materials nest)\n",
    "df = adj.rc_pd(db_IO.get('dImport'), ('and', [db_IO.get('s_p'), ('not',E)]) # imports for all domestic production sectors, not E\n",
    "              ).to_frame(index=False).assign(RxEym= lambda x: 'RxEym_'+x['n'], RxE = 'RxE', n = lambda x: x['n']+'_input') # add intermediate goods\n",
    "m = m.union(pd.MultiIndex.from_frame(df[['s','RxE','RxEym']]).rename(['s','n','nn']))\n",
    "m = m.union(pd.MultiIndex.from_frame(df[['s','RxEym','n']]).rename(['s','n','nn']))\n",
    "m = m.union(pd.MultiIndex.from_frame(df[['s','RxEym','nn']]).rename(['s','n','nn']))"
   ]
  },
  {
   "cell_type": "markdown",
   "id": "4e197f3f-b71c-4771-8f79-f792d47e24d3",
   "metadata": {},
   "source": [
    "For [s,n] in ```dImport_dom[s,n]```, we define a mapping from ```RxE```to the domestic goods:"
   ]
  },
  {
   "cell_type": "code",
   "execution_count": 11,
   "id": "a1d51cbb-3035-403f-b8dc-e7bebef340ac",
   "metadata": {},
   "outputs": [],
   "source": [
    "df = adj.rc_pd(db_IO.get('dImport_dom'), ('and', [db_IO.get('s_p'), ('not',E)])\n",
    "              ).to_frame(index=False).assign(RxE = 'RxE', n = lambda x: x['n']+'_input')\n",
    "m = m.union(pd.MultiIndex.from_frame(df[['s','RxE','n']]).rename(['s','n','nn']))"
   ]
  },
  {
   "cell_type": "markdown",
   "id": "ae32dc24-b5bf-48b5-9037-74fc81883ff2",
   "metadata": {},
   "source": [
    "For [s,n] in ```dImport_for[s,n]```, we define a mapping from ```RxE```to the forein goods:"
   ]
  },
  {
   "cell_type": "code",
   "execution_count": 12,
   "id": "455f65cc-0d65-4816-8d4a-149944ddd2e1",
   "metadata": {},
   "outputs": [],
   "source": [
    "df = adj.rc_pd(db_IO.get('dImport_for'), ('and', [db_IO.get('s_p'), ('not',E)])\n",
    "              ).to_frame(index=False).assign(RxE = 'RxE')\n",
    "m = m.union(pd.MultiIndex.from_frame(df[['s','RxE','n']]).rename(['s','n','nn']))"
   ]
  },
  {
   "cell_type": "markdown",
   "id": "ca90df24-9d58-493c-8c2c-f26e5d90518a",
   "metadata": {},
   "source": [
    "Initialize nesting tree with the specific structure:"
   ]
  },
  {
   "cell_type": "code",
   "execution_count": 14,
   "id": "1d77f62d-e8f2-4f39-96c5-b76b541c4c40",
   "metadata": {},
   "outputs": [],
   "source": [
    "tree = nestingTree.tree(name = 'CESnest', tree = m.to_list()) # individual tree\n",
    "Tree = nestingTree.aggTree(name = 'stdProduction', trees = {tree.name: tree})(namespace = {n+'_input': n for n in db_IO.get('n')})"
   ]
  },
  {
   "cell_type": "markdown",
   "id": "8ac8d48a-1de2-49da-9779-c7e6a857300c",
   "metadata": {},
   "source": [
    "Add time index to the IO data:"
   ]
  },
  {
   "cell_type": "code",
   "execution_count": 15,
   "id": "90811964-0110-4c5a-831f-29fab4356a48",
   "metadata": {},
   "outputs": [],
   "source": [
    "def addT(symbol, t):\n",
    "    return adjMultiIndex.bc(symbol, t).reorder_levels(['t']+symbol.index.names if 't' not in symbol.index.names else symbol.index.names)\n",
    "[db_IO.__setitem__(k, addT(db_IO.get(k), glob.db['t'].vals)) for k in db_IO.getTypes(['variable','scalar_variable'])];"
   ]
  },
  {
   "cell_type": "markdown",
   "id": "e801abec-b85e-4c8f-80b3-71831e465c17",
   "metadata": {},
   "source": [
    "Make a copy for later:"
   ]
  },
  {
   "cell_type": "code",
   "execution_count": 16,
   "id": "a295877f-7230-4d72-9643-fba1feedc244",
   "metadata": {},
   "outputs": [],
   "source": [
    "db_IO0 = db_IO.copy() # we are going to adjust data along the way; this keeps a copy of the original data"
   ]
  },
  {
   "cell_type": "markdown",
   "id": "67505f2f-e5d4-4445-b80a-bd982e47d5ba",
   "metadata": {},
   "source": [
    "Add durable prices (for now, to solve static calibration):"
   ]
  },
  {
   "cell_type": "code",
   "execution_count": 17,
   "id": "3525c8c5-6121-424a-b398-e808a615d1df",
   "metadata": {},
   "outputs": [],
   "source": [
    "db_IO['pD'] = db_IO.get('pD_dur').combine_first(db_IO.get('pD'))\n",
    "db_IO['p'] = db_IO.get('pD_dur').groupby(['t','n']).mean().combine_first(db_IO.get('p'))"
   ]
  },
  {
   "cell_type": "markdown",
   "id": "2fe6ea88-0faa-4eb6-85cb-443f1034e5ee",
   "metadata": {},
   "source": [
    "### 2. Initialize module"
   ]
  },
  {
   "cell_type": "markdown",
   "id": "947a67c6-0274-4816-a3e5-a4ee48c4049f",
   "metadata": {},
   "source": [
    "Initialize production module, without any durables at first:"
   ]
  },
  {
   "cell_type": "code",
   "execution_count": 18,
   "id": "9cee0bf1-8f1f-49ca-8cfd-e50e56172064",
   "metadata": {},
   "outputs": [],
   "source": [
    "P = CGE_Production.Production(tree=Tree, glob = glob) # initialize module from nesting tree and global settings\n",
    "aggregateDB.subset_db(db_IO, Tree.db.get('s')) # goes through all symbols in db_IO and only keep the elements that are in the set 's' from Tree.db\n",
    "aggregateDB.subset_db(db_IO, Tree.get('n')) # goes through all symbols in db_IO and only keep the elements that are in the set 'n' from Tree.db\n",
    "robust.robust_merge_dbs(P.s.db, db_IO, priority = 'second') # Merge IO data into the database of the module; if a symbol is in both, prioritize records from the second database"
   ]
  },
  {
   "cell_type": "markdown",
   "id": "54ff6721-89a8-41b7-937d-097a6fca5ff4",
   "metadata": {},
   "source": [
    "Add value shares:"
   ]
  },
  {
   "cell_type": "code",
   "execution_count": 19,
   "id": "8f3b8e0a-03d5-48e3-9cca-63b33a6595e7",
   "metadata": {},
   "outputs": [],
   "source": [
    "v = valueShares.valueShares(Tree, db_IO.copy())\n",
    "v.compile() # set up model structure, and make sure to initialize symbols if they are not yet defined in the database \n",
    "v.write(); # write GAMS code used for the model\n",
    "m = v.run(exportTo = d['work'],ws=ws) # solve the \"model\"."
   ]
  },
  {
   "cell_type": "markdown",
   "id": "dbc821d2-6146-4f2e-9f42-fcbe97c440c9",
   "metadata": {},
   "source": [
    "Use value shares to initialize variables:\n",
    "* Outputs and inputs are provided by IO data.\n",
    "* For intermediate goods, assume a price of 1 (default option in the class, so we don't have to do anything) and set value share = quantity.\n",
    "* Set share parameters to the ones identified by value share system."
   ]
  },
  {
   "cell_type": "code",
   "execution_count": 20,
   "id": "6692e9c3-0934-4fba-9f56-2dbdbfa288e9",
   "metadata": {},
   "outputs": [],
   "source": [
    "gpyDB.GpyDBs_AOM_Second(P.s.db, gpy(adj.rc_pd(m.out_db.get('vD'), P.get('int')).rename('qD'))) # set intermediate goods levels\n",
    "gpyDB.GpyDBs_AOM_Second(P.s.db, gpy(m.out_db.get('mu').xs(P.get('t0')[0]).rename('mu'))) # set intermediate goods levels"
   ]
  },
  {
   "cell_type": "markdown",
   "id": "023541f8-c28a-4faa-8e6c-da715c8c4dd4",
   "metadata": {},
   "source": [
    "Set tax rate to fit revenue collected in baseline year:"
   ]
  },
  {
   "cell_type": "code",
   "execution_count": 21,
   "id": "948b9161-4f60-4450-a1ab-5c364bd6bcf7",
   "metadata": {},
   "outputs": [],
   "source": [
    "# P.s.db['tauLump'] = db_IO.get('TotalTax').rename('tauLump')\n",
    "P.s.db['tauS'] = adjMultiIndex.applyMult(db_IO.get('TotalTax'), P.get('output')) / P.get('qS')"
   ]
  },
  {
   "cell_type": "markdown",
   "id": "a26f954a-45bd-4e60-adc8-af8f4d420185",
   "metadata": {},
   "source": [
    "### 3. Static calibration"
   ]
  },
  {
   "cell_type": "code",
   "execution_count": 22,
   "id": "f1c9dd25-592f-4039-a4c2-e8a9e154e85f",
   "metadata": {},
   "outputs": [],
   "source": [
    "P.compile(initDB=True) # set up model structure, and make sure to initialize symbols if they are not yet defined in the database (initDB = True)\n",
    "P.s.setstate('C') # set to calibration state\n",
    "P.write(); # write GAMS code\n",
    "mStatic = P.run(exportTo = d['work'],ws=ws,**{'cns': 'CONOPT4'}) # solve the model using CONOPT4."
   ]
  },
  {
   "cell_type": "code",
   "execution_count": 26,
   "id": "8b347170-eeeb-425a-bcbe-b2bef0069e6d",
   "metadata": {},
   "outputs": [
    {
     "data": {
      "text/plain": [
       "s      n            nn     \n",
       "0600a  0600a        KELB       1.709659\n",
       "                    RxE        0.144326\n",
       "       E            35011      0.864481\n",
       "                    35011_F    0.135519\n",
       "       KE           E          0.001613\n",
       "                                 ...   \n",
       "       RxEym_55560  55560_F    0.089579\n",
       "       RxEym_64000  64000      0.966897\n",
       "                    64000_F    0.033103\n",
       "       RxEym_71000  71000      0.842675\n",
       "                    71000_F    0.157325\n",
       "Name: level, Length: 86, dtype: object"
      ]
     },
     "execution_count": 26,
     "metadata": {},
     "output_type": "execute_result"
    }
   ],
   "source": [
    "mStatic.out_db.get('mu')"
   ]
  }
 ],
 "metadata": {
  "kernelspec": {
   "display_name": "Python 3 (ipykernel)",
   "language": "python",
   "name": "python3"
  },
  "language_info": {
   "codemirror_mode": {
    "name": "ipython",
    "version": 3
   },
   "file_extension": ".py",
   "mimetype": "text/x-python",
   "name": "python",
   "nbconvert_exporter": "python",
   "pygments_lexer": "ipython3",
   "version": "3.9.7"
  }
 },
 "nbformat": 4,
 "nbformat_minor": 5
}
