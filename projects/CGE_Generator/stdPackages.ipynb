{
 "cells": [
  {
   "cell_type": "code",
   "execution_count": 1,
   "id": "237851db-c58c-420b-b8ed-a45ce7b92efb",
   "metadata": {},
   "outputs": [
    {
     "name": "stdout",
     "output_type": "stream",
     "text": [
      "No clean-up of work-folder\n"
     ]
    }
   ],
   "source": [
    "import os\n",
    "repo = 'GPM_v071'\n",
    "currProject = 'CGE_Generator'\n",
    "main = f\"{os.getcwd().split(repo)[0]}{repo}\"\n",
    "os.chdir(main)\n",
    "%run StdPackages.ipynb"
   ]
  },
  {
   "cell_type": "code",
   "execution_count": 3,
   "id": "238cae63-7702-4cfa-8ec8-8d3ba124e7c1",
   "metadata": {},
   "outputs": [],
   "source": [
    "d['figs'] = os.path.join(d['curr'], 'figs')"
   ]
  }
 ],
 "metadata": {
  "kernelspec": {
   "display_name": "Python 3 (ipykernel)",
   "language": "python",
   "name": "python3"
  },
  "language_info": {
   "codemirror_mode": {
    "name": "ipython",
    "version": 3
   },
   "file_extension": ".py",
   "mimetype": "text/x-python",
   "name": "python",
   "nbconvert_exporter": "python",
   "pygments_lexer": "ipython3",
   "version": "3.9.7"
  }
 },
 "nbformat": 4,
 "nbformat_minor": 5
}
