{
 "cells": [
  {
   "cell_type": "code",
   "execution_count": 1,
   "id": "91683b08-d0e0-486b-a5d7-f04e636a5ced",
   "metadata": {},
   "outputs": [
    {
     "name": "stdout",
     "output_type": "stream",
     "text": [
      "No clean-up of work-folder\n"
     ]
    }
   ],
   "source": [
    "%run StdPackages.ipynb\n",
    "d['data'] = os.path.join(d['data'], 'IO2018')"
   ]
  },
  {
   "cell_type": "markdown",
   "id": "a5bef71d-33a3-4f83-9cc1-6358e0298713",
   "metadata": {},
   "source": [
    "### 1. Load data:"
   ]
  },
  {
   "cell_type": "markdown",
   "id": "8ebb1f8d-7e99-4a4a-b3e1-3f86b942eaef",
   "metadata": {},
   "source": [
    "*Specify raw data:*"
   ]
  },
  {
   "cell_type": "code",
   "execution_count": 2,
   "id": "bd379e80-e1d4-4cf0-881a-f86ab102ec7d",
   "metadata": {},
   "outputs": [],
   "source": [
    "name = 'IO2018'\n",
    "file_v = os.path.join(d['data'], 'IO2018_v.xlsx')\n",
    "file_i = os.path.join(d['data'], 'IO2018_I.xlsx')\n",
    "file_k = os.path.join(d['data'], 'IO2018_K.xlsx')\n",
    "file_p = None # no specific price data\n",
    "file_mappings = os.path.join(d['data'], 'GR2018_mappings.xlsx')"
   ]
  },
  {
   "cell_type": "markdown",
   "id": "e5cd354a-86cb-4362-bb66-ea7c0898f3db",
   "metadata": {},
   "source": [
    "*Initialize class and process data:*"
   ]
  },
  {
   "cell_type": "code",
   "execution_count": 3,
   "id": "4638f266-3565-442d-9b79-78709ede54bd",
   "metadata": {},
   "outputs": [
    {
     "data": {
      "text/plain": [
       "<pyDatabases.gpyDB.gpyDB.GpyDB at 0x204a2f2a1c0>"
      ]
     },
     "execution_count": 3,
     "metadata": {},
     "output_type": "execute_result"
    }
   ],
   "source": [
    "I = IOfunctions.readIO(name = name, file_v = file_v, file_i = file_i, file_k = file_k) # because of default options in the class, this is an equivalent statement\n",
    "I()"
   ]
  },
  {
   "cell_type": "markdown",
   "id": "9132ba4c-6814-4aa4-9d91-0d2b7cc61510",
   "metadata": {},
   "source": [
    "### 2. Square value, investment, and durables data"
   ]
  },
  {
   "cell_type": "markdown",
   "id": "69f302cd-8237-4d15-b57f-5a9faafbc47a",
   "metadata": {},
   "source": [
    "#### 2.1. Align scales for the different datasets"
   ]
  },
  {
   "cell_type": "markdown",
   "id": "b276f9fb-69c8-476b-850f-31c4dc491a6c",
   "metadata": {},
   "source": [
    "The value and investment data is measured in 1000 DKK - the durable data is on mio. DKK. So, we need to align data (here to mio DKK):"
   ]
  },
  {
   "cell_type": "code",
   "execution_count": 4,
   "id": "51e07d75-c6dd-4b5b-9253-1765a0e57e13",
   "metadata": {},
   "outputs": [],
   "source": [
    "[I.db.__setitem__(k, I.db.get(k)/1000) for k in ('vTax','TotalTax','vD','vC','vC_tax','vD_inv')];"
   ]
  },
  {
   "cell_type": "markdown",
   "id": "d1c27491-77f5-4bda-8a76-8b34bd3ecc9d",
   "metadata": {},
   "source": [
    "#### 2.2. From 69 to 146 sectors "
   ]
  },
  {
   "cell_type": "markdown",
   "id": "3296dd89-c0b7-4e55-b640-8f9255c9b7a2",
   "metadata": {},
   "source": [
    "Investments and durables data are on 69 sector specification; the value data uses 146 sector. We employ the mapping from ```GR2018_mappings``` to split data to 146 sectors."
   ]
  },
  {
   "cell_type": "code",
   "execution_count": 5,
   "id": "4d05d8d3-90fc-4de5-bff1-ced9aeccef76",
   "metadata": {},
   "outputs": [],
   "source": [
    "wb_mappings = read.simpleLoad(file_mappings)\n",
    "auxMaps = read.maps(wb_mappings['AuxMaps'])\n",
    "m = auxMaps['s69tos146'].vals"
   ]
  },
  {
   "cell_type": "markdown",
   "id": "2a9ce8ac-f04f-4935-aebc-40da02c57ec1",
   "metadata": {},
   "source": [
    "*Force it to use strings in the mapping:*"
   ]
  },
  {
   "cell_type": "code",
   "execution_count": 6,
   "id": "83566835-7a33-4a93-a57f-b5d3edad7f38",
   "metadata": {},
   "outputs": [],
   "source": [
    "m = m.set_levels([level.astype(str) for level in m.levels])"
   ]
  },
  {
   "cell_type": "markdown",
   "id": "2ef6dbfb-00ea-4244-9f07-269e3b2ea1fb",
   "metadata": {},
   "source": [
    "*Create weights using the size the sectors:*"
   ]
  },
  {
   "cell_type": "code",
   "execution_count": 7,
   "id": "5fb3ee2c-bb6e-47db-bd41-fb9ab67a380e",
   "metadata": {},
   "outputs": [],
   "source": [
    "sectorValue = adjMultiIndex.applyMult( adj.rc_pd(I.db.get('vD').groupby('s').sum()+I.db.get('TotalTax'), I.db.get('s_p')),\n",
    "                                      m.rename(['sAgg','s']))\n",
    "weights = sectorValue / (sectorValue.groupby('sAgg').sum())"
   ]
  },
  {
   "cell_type": "markdown",
   "id": "2ae1434a-6c5a-480c-88f8-2d3182fcc667",
   "metadata": {},
   "source": [
    "*Apply to ```vD_inv```, ```vD_dur``` and ```vD_depr``` - the only three variables defined over the smaller 69 index: (NB: Only run this cell once!)*"
   ]
  },
  {
   "cell_type": "code",
   "execution_count": 8,
   "id": "15649177-b7d4-49b0-b055-d0d5e5fc0b6d",
   "metadata": {},
   "outputs": [],
   "source": [
    "dataCheck = {'vD_inv': sum(I.db.get('vD_inv')),\n",
    "             'vD_dur': sum(I.db.get('vD_dur')),\n",
    "             'vD_depr': sum(I.db.get('vD_depr'))}\n",
    "I.db['vD_inv'] = (I.db.get('vD_inv').rename_axis(index = {'s':'sAgg'}) * weights).droplevel('sAgg')\n",
    "I.db['vD_dur'] = (I.db.get('vD_dur').rename_axis(index = {'s':'sAgg'}) * weights).droplevel('sAgg')\n",
    "I.db['vD_depr']= (I.db.get('vD_depr').rename_axis(index = {'s':'sAgg'}) * weights).droplevel('sAgg')\n",
    "for k in dataCheck:\n",
    "    assert abs(dataCheck[k]-sum(I.db.get(k)))<1e-6, f\"Disaggregation from 69 to 146 sector changed the sum of {k}\""
   ]
  },
  {
   "cell_type": "markdown",
   "id": "0cc70df1-b2fd-4c98-b16a-95453076ed22",
   "metadata": {},
   "source": [
    "#### 2.3. From 12 to 7 durables"
   ]
  },
  {
   "cell_type": "markdown",
   "id": "975f9b38-07a1-4790-a62a-1bede4ab8510",
   "metadata": {},
   "source": [
    "*Use a specific syntax to detect mapping from 12 to 7-level aggregation:*"
   ]
  },
  {
   "cell_type": "code",
   "execution_count": 9,
   "id": "a284cdab-a87e-4400-b421-d60b0f2108f2",
   "metadata": {},
   "outputs": [],
   "source": [
    "nfull = I.db.get('s_i') # original set, lots of indices\n",
    "ni = I.db.get('vD_inv').index.levels[0] # new index - fewer, aggregated indices\n",
    "syntax = ni[ni.str.endswith('x')].str.rstrip('x') \n",
    "subset = nfull[nfull.str.startswith(tuple(syntax))]\n",
    "nfull2ni = {k: k  if not k.startswith(tuple(syntax)) else k[:-1]+'x' for k in nfull} # mapping from full set to more aggregated one"
   ]
  },
  {
   "cell_type": "markdown",
   "id": "412a67a4-d678-4fce-a4af-811af7af113c",
   "metadata": {},
   "source": [
    "*Apply mapping to all symbols in the database:*"
   ]
  },
  {
   "cell_type": "code",
   "execution_count": 10,
   "id": "702637de-f2df-4cab-91cf-f30d94ed856b",
   "metadata": {},
   "outputs": [
    {
     "data": {
      "text/plain": [
       "<pyDatabases.gpyDB.gpyDB.GpyDB at 0x16e16da4ac0>"
      ]
     },
     "execution_count": 10,
     "metadata": {},
     "output_type": "execute_result"
    }
   ],
   "source": [
    "aggregateDB.readSets(I.db) # the aggDB method works through manipulations of sets s,n - this defines them by reading from other symbols in the database.\n",
    "m = pd.MultiIndex.from_tuples(nfull2ni.items(), names = ['s','sAgg']) # define mapping as multiindex\n",
    "m = m.union(adj.rc_pd(pd.MultiIndex.from_arrays([I.db.get('s'), I.db.get('s').rename('sAgg')]), ('not', m.droplevel('sAgg'))), sort = False) # all elements that are not in the mapping, fill in as a mapping on the form (x,x).\n",
    "aggregateDB.aggDB(I.db, m)"
   ]
  },
  {
   "cell_type": "markdown",
   "id": "62a4d974-8e09-41e0-8a83-5f840aab0ff3",
   "metadata": {},
   "source": [
    "#### 2.4. Clean up \"other foreign transactions\""
   ]
  },
  {
   "cell_type": "markdown",
   "id": "c2e8507c-e0d0-4ee4-ac14-0d45594e8d95",
   "metadata": {},
   "source": [
    "*Map \"other foreign transactions\" to the standard import categories:*"
   ]
  },
  {
   "cell_type": "code",
   "execution_count": 11,
   "id": "0c5df973-bc30-4b48-83a2-cd772bf3e9a7",
   "metadata": {},
   "outputs": [],
   "source": [
    "I.cleanOtherForeignTransactions()"
   ]
  },
  {
   "cell_type": "markdown",
   "id": "6790d12e-5f7a-4311-a831-bce6b2cbf7ab",
   "metadata": {},
   "source": [
    "*Here, we remove the ```n_Fother``` entirely from the database as well (not in automated clean up):*"
   ]
  },
  {
   "cell_type": "code",
   "execution_count": 12,
   "id": "b5443d86-86dd-42c7-976d-e3432601d288",
   "metadata": {},
   "outputs": [],
   "source": [
    "I.db['n'] = adj.rc_pd(I.db.get('n'), ('not', I.db.get('n_Fother')))\n",
    "del(I.db.series['n_Fother'])"
   ]
  },
  {
   "cell_type": "markdown",
   "id": "5cbd6666-7c31-445d-a215-3b5f43bd5df7",
   "metadata": {},
   "source": [
    "### 3. Reorder sets"
   ]
  },
  {
   "cell_type": "code",
   "execution_count": 13,
   "id": "4d7f6e01-cdb1-4894-9bae-230496be1385",
   "metadata": {},
   "outputs": [],
   "source": [
    "[I.db.__setitem__(k,IOfunctions.stdSort(v.vals)) for k,v in I.db.getTypes(['variable','parameter']).items()];"
   ]
  },
  {
   "cell_type": "markdown",
   "id": "f028d7ce-abf5-4ba7-9ae8-d34286d4243e",
   "metadata": {},
   "source": [
    "### 4. Add additional data/regulation"
   ]
  },
  {
   "cell_type": "markdown",
   "id": "6170a3e3-20e5-43b7-96c0-b4cc5676b75e",
   "metadata": {},
   "source": [
    "Add ```vAssets``` defined over sectors ```s``` and types of investment goods ```a``` - here just the totals for the households and the government sectors:"
   ]
  },
  {
   "cell_type": "code",
   "execution_count": 14,
   "id": "1f81d768-e1b0-4f38-9477-289c257adc89",
   "metadata": {},
   "outputs": [],
   "source": [
    "totalNetWealth = pd.Series([3520405.512, 25287], index = pd.MultiIndex.from_tuples([('HH','total'), ('G','total')], names = ['s','a']))\n",
    "gpyDB.add_or_merge_vals(I.db, totalNetWealth, 'vAssets')"
   ]
  },
  {
   "cell_type": "markdown",
   "id": "235ea3e7-e450-47e9-b084-41bfa344a88e",
   "metadata": {},
   "source": [
    "### 5. Export full database"
   ]
  },
  {
   "cell_type": "code",
   "execution_count": 15,
   "id": "66c25ffe-5ffa-4170-8968-758bdb683331",
   "metadata": {},
   "outputs": [],
   "source": [
    "I.db.export(repo = d['data'])"
   ]
  }
 ],
 "metadata": {
  "kernelspec": {
   "display_name": "Python 3 (ipykernel)",
   "language": "python",
   "name": "python3"
  },
  "language_info": {
   "codemirror_mode": {
    "name": "ipython",
    "version": 3
   },
   "file_extension": ".py",
   "mimetype": "text/x-python",
   "name": "python",
   "nbconvert_exporter": "python",
   "pygments_lexer": "ipython3",
   "version": "3.9.7"
  }
 },
 "nbformat": 4,
 "nbformat_minor": 5
}
