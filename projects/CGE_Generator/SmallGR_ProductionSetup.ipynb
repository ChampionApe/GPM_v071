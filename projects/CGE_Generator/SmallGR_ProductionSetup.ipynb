{
 "cells": [
  {
   "cell_type": "code",
   "execution_count": 1,
   "id": "5c7d039d-8ab8-4934-b7ac-7599491a91b4",
   "metadata": {},
   "outputs": [
    {
     "name": "stdout",
     "output_type": "stream",
     "text": [
      "The file _gams_py_gdb0.gdx is still active and was not deleted.\n",
      "The file _gams_py_gdb1.gdx is still active and was not deleted.\n",
      "The file _gams_py_gdb2.gdx is still active and was not deleted.\n"
     ]
    }
   ],
   "source": [
    "clean_up = True\n",
    "%run stdPackages.ipynb\n",
    "d['data'] = os.path.join(d['data'], 'IO2018')"
   ]
  },
  {
   "cell_type": "markdown",
   "id": "96257af8-ee08-4e9a-bdc2-a3a62ea0c40a",
   "metadata": {},
   "source": [
    "# Setup for production module, SmallGR"
   ]
  },
  {
   "cell_type": "markdown",
   "id": "558e7bd3-f9c5-46ec-9aaf-cc6398febf80",
   "metadata": {},
   "source": [
    "The notebook defines the nesting structure for the production module. Additional tweaks to the production data can be loaded here as well. At this stage, we only define the main nesting structure as a mapping ```nestProduction```."
   ]
  },
  {
   "cell_type": "markdown",
   "id": "809b8091-60bb-4286-b996-e6e21eb23959",
   "metadata": {},
   "source": [
    "### Settings: "
   ]
  },
  {
   "cell_type": "markdown",
   "id": "16ab4dec-d925-417c-af27-f330c55e6604",
   "metadata": {},
   "source": [
    "Load IO data from the general model and store a new one with data specific to the production module:"
   ]
  },
  {
   "cell_type": "code",
   "execution_count": 2,
   "id": "69868dc6-e25f-4055-86d5-c8d8da3b7bf3",
   "metadata": {},
   "outputs": [],
   "source": [
    "name = 'smallGR' # name of model\n",
    "module = name+'_P' # name of module\n",
    "db_IO = GpyDB(pickle_path = os.path.join(d['data'], f'IO_{name}')) # load IO database named IO_name\n",
    "with open(f\"{d['data']}\\\\glob_{name}\",\"rb\") as file: # load global settings anmed glob_name\n",
    "    glob=pickle.load(file)\n",
    "db = GpyDB(**{'name': 'db_'+module})"
   ]
  },
  {
   "cell_type": "markdown",
   "id": "0480f8b1-3583-444f-848f-4215446f3d7f",
   "metadata": {},
   "source": [
    "### Nesting"
   ]
  },
  {
   "cell_type": "markdown",
   "id": "b16b545a-756a-4678-ac76-98612fe8d3dc",
   "metadata": {},
   "source": [
    "**Non-materials nest:**"
   ]
  },
  {
   "cell_type": "code",
   "execution_count": 3,
   "id": "c97d3623-d6c3-4ab6-a314-2f969fc89324",
   "metadata": {},
   "outputs": [],
   "source": [
    "mFull = pd.MultiIndex.from_tuples([('KELBM', 'RxE'),\n",
    "                                   ('KELBM', 'KELB'),\n",
    "                                   ('KELB','L'), ('KELB','KE'),\n",
    "                                   ('KE','iK'), ('KE','E'),\n",
    "                                   ('E','energy_input'), ('E','energy_F')], names = ['n','nn'])\n",
    "E = pd.Index(['energy','energy_F'], name = 'n')\n",
    "m = pyDatabases.cartesianProductIndex([db_IO.get('s_p'), mFull])"
   ]
  },
  {
   "cell_type": "markdown",
   "id": "2d6f23ca-8113-45dd-afc2-4c0ce4da9161",
   "metadata": {},
   "source": [
    "Replace upper-most level with name of sector:"
   ]
  },
  {
   "cell_type": "code",
   "execution_count": 4,
   "id": "bb3845c5-d984-4fe8-8d73-364596c3e891",
   "metadata": {},
   "outputs": [],
   "source": [
    "df = m.to_frame(index=False) \n",
    "df.loc[df.n == 'KELBM','n'] = df.loc[df.n == 'KELBM', 's']\n",
    "m = pd.MultiIndex.from_frame(df)"
   ]
  },
  {
   "cell_type": "markdown",
   "id": "a17c682e-9517-4117-b0e8-acafa463b8e9",
   "metadata": {},
   "source": [
    "**Materials nest:**"
   ]
  },
  {
   "cell_type": "markdown",
   "id": "27278760-44ca-478c-8e91-ddcbccdcf50d",
   "metadata": {},
   "source": [
    "For [s,n] in ```dImport[s,n,nn]```, we define a mapping from ```RxE```to an intermediate good ```RxEym_x``` that is again an aggregate of the domestic/foreign goods ```x,x_F```. We do this for any sectors except the energy goods:"
   ]
  },
  {
   "cell_type": "code",
   "execution_count": 5,
   "id": "d3c0e18f-3857-4f75-ab25-f74e1cc00064",
   "metadata": {},
   "outputs": [],
   "source": [
    "df = adj.rc_pd(db_IO.get('dImport'), ('and', [db_IO.get('s_p'), ('not',E)]) # imports for all domestic production sectors, not E\n",
    "              ).to_frame(index=False).assign(RxEym= lambda x: 'RxEym_'+x['n'], RxE = 'RxE', n = lambda x: x['n']+'_input') # add intermediate goods\n",
    "m = m.union(pd.MultiIndex.from_frame(df[['s','RxE','RxEym']]).rename(['s','n','nn']))\n",
    "m = m.union(pd.MultiIndex.from_frame(df[['s','RxEym','n']]).rename(['s','n','nn']))\n",
    "m = m.union(pd.MultiIndex.from_frame(df[['s','RxEym','nn']]).rename(['s','n','nn']))"
   ]
  },
  {
   "cell_type": "markdown",
   "id": "77354b5f-bfea-4087-ab03-e1ea23e2af19",
   "metadata": {},
   "source": [
    "For [s,n] in ```dImport_dom[s,n]```, we define a mapping from ```RxE```to the domestic goods:"
   ]
  },
  {
   "cell_type": "code",
   "execution_count": 6,
   "id": "097b3346-e8a1-41b1-b626-4e614f9908ba",
   "metadata": {},
   "outputs": [],
   "source": [
    "df = adj.rc_pd(db_IO.get('dImport_dom'), ('and', [db_IO.get('s_p'), ('not',E)])\n",
    "              ).to_frame(index=False).assign(RxE = 'RxE', n = lambda x: x['n']+'_input')\n",
    "m = m.union(pd.MultiIndex.from_frame(df[['s','RxE','n']]).rename(['s','n','nn']))"
   ]
  },
  {
   "cell_type": "markdown",
   "id": "45301d30-2d14-456b-9a1f-e410738428d0",
   "metadata": {},
   "source": [
    "For [s,n] in ```dImport_for[s,n]```, we define a mapping from ```RxE```to the forein goods:"
   ]
  },
  {
   "cell_type": "code",
   "execution_count": 7,
   "id": "ca0d27e3-1751-45e1-85a2-34a2e256d74e",
   "metadata": {},
   "outputs": [],
   "source": [
    "df = adj.rc_pd(db_IO.get('dImport_for'), ('and', [db_IO.get('s_p'), ('not',E)])\n",
    "              ).to_frame(index=False).assign(RxE = 'RxE')\n",
    "m = m.union(pd.MultiIndex.from_frame(df[['s','RxE','n']]).rename(['s','n','nn']))"
   ]
  },
  {
   "cell_type": "markdown",
   "id": "f6b89d0c-354e-4ec8-aba1-1f7f37d0672d",
   "metadata": {},
   "source": [
    "Add to database:"
   ]
  },
  {
   "cell_type": "code",
   "execution_count": 8,
   "id": "5883d645-d809-4c0c-bb0c-f5a152517035",
   "metadata": {},
   "outputs": [],
   "source": [
    "db['nestProduction'] = m "
   ]
  },
  {
   "cell_type": "markdown",
   "id": "069ba190-c1ae-4819-8d13-b15d5a789dac",
   "metadata": {},
   "source": [
    "### Export data:"
   ]
  },
  {
   "cell_type": "code",
   "execution_count": 9,
   "id": "62eff603-1065-423e-b12b-02c584ed792c",
   "metadata": {},
   "outputs": [],
   "source": [
    "db.export(repo = d['data'])"
   ]
  }
 ],
 "metadata": {
  "kernelspec": {
   "display_name": "Python 3 (ipykernel)",
   "language": "python",
   "name": "python3"
  },
  "language_info": {
   "codemirror_mode": {
    "name": "ipython",
    "version": 3
   },
   "file_extension": ".py",
   "mimetype": "text/x-python",
   "name": "python",
   "nbconvert_exporter": "python",
   "pygments_lexer": "ipython3",
   "version": "3.9.7"
  }
 },
 "nbformat": 4,
 "nbformat_minor": 5
}
