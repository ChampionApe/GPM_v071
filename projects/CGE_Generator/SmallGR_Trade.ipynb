{
 "cells": [
  {
   "cell_type": "code",
   "execution_count": 1,
   "id": "f9e0c3d9-d192-43e1-af5b-dbb4018899e1",
   "metadata": {},
   "outputs": [],
   "source": [
    "clean_up = True\n",
    "%run stdPackages.ipynb\n",
    "ws = gams.GamsWorkspace(working_directory=d['work']) # specify where you want to run the GAMS models from (here the repository referred to in d['work'])\n",
    "d['data'] = os.path.join(d['data'], 'IO2018')"
   ]
  },
  {
   "cell_type": "markdown",
   "id": "719b7c6d-edff-4d76-aa69-4dddaf2c7ccb",
   "metadata": {},
   "source": [
    "## SmallGR, exports"
   ]
  },
  {
   "cell_type": "markdown",
   "id": "ff8c9f34-fde2-4eda-80f2-fed081692a54",
   "metadata": {},
   "source": [
    "### Data/settings"
   ]
  },
  {
   "cell_type": "markdown",
   "id": "f35c36a3-3a9a-4713-a9a0-339ed0e898cd",
   "metadata": {},
   "source": [
    "Load data, settings:"
   ]
  },
  {
   "cell_type": "code",
   "execution_count": 2,
   "id": "49e0e36f-bc81-43a6-b6b6-d54e86b789f7",
   "metadata": {},
   "outputs": [],
   "source": [
    "name = 'smallGR' # name of model\n",
    "module = name+'_Tr' # name of module\n",
    "db_IO = GpyDB(pickle_path = os.path.join(d['data'], f'IO_{name}')) # load IO database named IO_name\n",
    "with open(f\"{d['data']}\\\\glob_{name}\",\"rb\") as file: # load global settings anmed glob_name\n",
    "    glob=pickle.load(file)"
   ]
  },
  {
   "cell_type": "markdown",
   "id": "23217f62-7150-4a18-9e01-70a043c2e076",
   "metadata": {},
   "source": [
    "Keep relevant data:"
   ]
  },
  {
   "cell_type": "code",
   "execution_count": 3,
   "id": "e9058f87-6a82-4f92-80ac-72531be277d6",
   "metadata": {},
   "outputs": [],
   "source": [
    "aggregateDB.subset_db(db_IO, db_IO.get('s_f')) # Keep data on relevant sectors"
   ]
  },
  {
   "cell_type": "markdown",
   "id": "4dfcfa6f-a62e-4220-a7be-344db804c6a8",
   "metadata": {},
   "source": [
    "Add time index to the IO data:"
   ]
  },
  {
   "cell_type": "code",
   "execution_count": 4,
   "id": "669999c0-518d-4740-a502-953589326491",
   "metadata": {},
   "outputs": [],
   "source": [
    "def addT(symbol, t):\n",
    "    return adjMultiIndex.bc(symbol, t).reorder_levels(['t']+symbol.index.names if 't' not in symbol.index.names else symbol.index.names)\n",
    "[db_IO.__setitem__(k, addT(db_IO.get(k), glob.db['t'].vals)) for k in db_IO.getTypes(['variable','scalar_variable'])];"
   ]
  },
  {
   "cell_type": "markdown",
   "id": "52f51253-ac4b-4d28-91a1-396abe27f265",
   "metadata": {},
   "source": [
    "### Initialize module"
   ]
  },
  {
   "cell_type": "markdown",
   "id": "28404aa5-35bf-4b48-be99-4d88fadd8be5",
   "metadata": {},
   "source": [
    "Set up module, use IO database as input."
   ]
  },
  {
   "cell_type": "code",
   "execution_count": 5,
   "id": "db79f3c9-e340-42d6-9775-c538aaa18b74",
   "metadata": {},
   "outputs": [],
   "source": [
    "T = CGE_Trade.SimpleArmington(name = module, glob = glob, s_kwargs = {'db': db_IO},  kwargs = {'sfor_ndom': db_IO.get('dExport')})"
   ]
  },
  {
   "cell_type": "markdown",
   "id": "8cb54907-188b-4a59-b16c-3f52a557323e",
   "metadata": {},
   "source": [
    "Initialize, write, and solve:"
   ]
  },
  {
   "cell_type": "code",
   "execution_count": 6,
   "id": "843bd6fe-8e94-48f9-9cb9-6c9a9c10fb9d",
   "metadata": {},
   "outputs": [],
   "source": [
    "T.compile(initDB=True);\n",
    "T.s.setstate('C')\n",
    "T.write();\n",
    "m = T.run(exportTo = d['work'],ws=ws) # solve the \"model\"."
   ]
  },
  {
   "cell_type": "markdown",
   "id": "c269b66c-5fc6-4228-872f-ec6831c2e071",
   "metadata": {},
   "source": [
    "Export:"
   ]
  },
  {
   "cell_type": "code",
   "execution_count": 7,
   "id": "6e3cab04-41d6-4f6b-a77f-6cc332209860",
   "metadata": {},
   "outputs": [
    {
     "data": {
      "image/png": "[encoded data removed]",
      "text/plain": [
       "<Figure size 576x396 with 4 Axes>"
      ]
     },
     "metadata": {},
     "output_type": "display_data"
    }
   ],
   "source": [
    "T.s.db = m.out_db\n",
    "T.s.setstate('B')\n",
    "T.get('qD').xs('F',level='s').unstack('n').plot(subplots=True, backend = \"matplotlib\");"
   ]
  },
  {
   "cell_type": "code",
   "execution_count": 8,
   "id": "7cff98dc-d9e4-4ffa-8419-fa9d2bf8bc8d",
   "metadata": {},
   "outputs": [],
   "source": [
    "with open(os.path.join(d['data'], T.name), \"wb\") as file:\n",
    "    pickle.dump(T,file)"
   ]
  }
 ],
 "metadata": {
  "kernelspec": {
   "display_name": "Python 3 (ipykernel)",
   "language": "python",
   "name": "python3"
  },
  "language_info": {
   "codemirror_mode": {
    "name": "ipython",
    "version": 3
   },
   "file_extension": ".py",
   "mimetype": "text/x-python",
   "name": "python",
   "nbconvert_exporter": "python",
   "pygments_lexer": "ipython3",
   "version": "3.9.7"
  }
 },
 "nbformat": 4,
 "nbformat_minor": 5
}
