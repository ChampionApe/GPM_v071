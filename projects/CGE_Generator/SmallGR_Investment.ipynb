{
 "cells": [
  {
   "cell_type": "code",
   "execution_count": 1,
   "id": "e99acc7b-e2f6-46f5-9755-a2820b1a0579",
   "metadata": {},
   "outputs": [
    {
     "name": "stdout",
     "output_type": "stream",
     "text": [
      "The file _gams_py_gdb0.gdx is still active and was not deleted.\n"
     ]
    }
   ],
   "source": [
    "clean_up = True\n",
    "%run stdPackages.ipynb\n",
    "ws = gams.GamsWorkspace(working_directory=d['work']) # specify where you want to run the GAMS models from (here the repository referred to in d['work'])\n",
    "d['data'] = os.path.join(d['data'], 'IO2018')"
   ]
  },
  {
   "cell_type": "markdown",
   "id": "6a45be64-8c8d-49a2-9ab1-9f2e94d14042",
   "metadata": {},
   "source": [
    "## SmallGR, Investments\n"
   ]
  },
  {
   "cell_type": "markdown",
   "id": "07be96d1-158d-41f7-b999-e412db3b19c8",
   "metadata": {},
   "source": [
    "### Data/settings"
   ]
  },
  {
   "cell_type": "markdown",
   "id": "48fcdc3f-8169-416c-8d22-04d548904e36",
   "metadata": {},
   "source": [
    "Load data, settings:"
   ]
  },
  {
   "cell_type": "code",
   "execution_count": 2,
   "id": "b0380eed-7dcd-4832-bc44-1c9f78d5af00",
   "metadata": {},
   "outputs": [],
   "source": [
    "name = 'smallGR' # name of model\n",
    "module = name+'_I' # name of module\n",
    "db_IO = GpyDB(pickle_path = os.path.join(d['data'], f'IO_{name}')) # load IO database named IO_name\n",
    "with open(f\"{d['data']}\\\\glob_{name}\",\"rb\") as file: # load global settings anmed glob_name\n",
    "    glob=pickle.load(file)"
   ]
  },
  {
   "cell_type": "markdown",
   "id": "e8b1015f-2640-4362-92be-51f6414b070a",
   "metadata": {},
   "source": [
    "### Nesting"
   ]
  },
  {
   "cell_type": "markdown",
   "id": "7bb5d497-0fd1-4ccf-bdf0-2845641221f6",
   "metadata": {},
   "source": [
    "Load nesting:"
   ]
  },
  {
   "cell_type": "code",
   "execution_count": 3,
   "id": "bc36debd-39ec-44a3-90ef-fa88d11ff738",
   "metadata": {},
   "outputs": [],
   "source": [
    "Tree = nestingTree.aggTree_from_data(f\"{d['data']}\\\\investmentNests.xlsx\", read_trees = {'tree': {'name': f'{module}_ces', 'f':'CES'}}, name = module)() # load nesting structure "
   ]
  },
  {
   "cell_type": "markdown",
   "id": "398dc765-4f70-4321-97b6-3ee8870f7b89",
   "metadata": {},
   "source": [
    "Add time index to the IO data:"
   ]
  },
  {
   "cell_type": "code",
   "execution_count": 4,
   "id": "c2b71636-2251-4947-9070-fa0d643f68e3",
   "metadata": {},
   "outputs": [],
   "source": [
    "def addT(symbol, t):\n",
    "    return adjMultiIndex.bc(symbol, t).reorder_levels(['t']+symbol.index.names if 't' not in symbol.index.names else symbol.index.names)\n",
    "[db_IO.__setitem__(k, addT(db_IO.get(k), glob.db['t'].vals)) for k in db_IO.getTypes(['variable','scalar_variable'])];"
   ]
  },
  {
   "cell_type": "markdown",
   "id": "ee85fa62-53e3-4fe8-96fa-ca0b35f6214d",
   "metadata": {},
   "source": [
    "### Initial values"
   ]
  },
  {
   "cell_type": "markdown",
   "id": "5fa08968-8200-4d0c-bf3b-ad8b153bb8d0",
   "metadata": {},
   "source": [
    "Initialize as a production module (they are essentially the same, but this one works without durables):"
   ]
  },
  {
   "cell_type": "code",
   "execution_count": 5,
   "id": "f1901e93-5a02-490f-8af3-0cda8df339c4",
   "metadata": {},
   "outputs": [],
   "source": [
    "P = CGE_Production.Production(tree=Tree, glob = glob) # initialize module from nesting tree and global settings\n",
    "aggregateDB.subset_db(db_IO, Tree.db.get('s')) # goes through all symbols in db_IO and only keep the elements that are in the set 's' from Tree.db\n",
    "aggregateDB.subset_db(db_IO, Tree.get('n')) # goes through all symbols in db_IO and only keep the elements that are in the set 'n' from Tree.db\n",
    "robust.robust_merge_dbs(P.s.db, db_IO, priority = 'second') # Merge IO data into the database of the module; if a symbol is in both, prioritize records from the second database"
   ]
  },
  {
   "cell_type": "markdown",
   "id": "78a14cdc-5945-48c1-8118-98028d304df2",
   "metadata": {},
   "source": [
    "Add value shares:"
   ]
  },
  {
   "cell_type": "code",
   "execution_count": 6,
   "id": "441f2d1d-1f9c-4ecf-8e9c-84b5a5837335",
   "metadata": {},
   "outputs": [],
   "source": [
    "v = valueShares.valueShares(Tree, db_IO.copy())\n",
    "v.compile() # set up model structure, and make sure to initialize symbols if they are not yet defined in the database \n",
    "v.write(); # write GAMS code used for the model\n",
    "m = v.run(exportTo = d['work'],ws=ws) # solve the \"model\"."
   ]
  },
  {
   "cell_type": "markdown",
   "id": "63fe20d1-20cc-4483-929b-645371dae400",
   "metadata": {},
   "source": [
    "Use value shares to initialize variables:\n",
    "* Outputs and inputs are provided by IO data.\n",
    "* For intermediate goods, assume a price of 1 (default option in the class, so we don't have to do anything) and set value share = quantity.\n",
    "* Set share parameters to the ones identified by value share system."
   ]
  },
  {
   "cell_type": "code",
   "execution_count": 7,
   "id": "746a9c3b-c22e-4514-820d-33844a215e1d",
   "metadata": {},
   "outputs": [],
   "source": [
    "gpyDB.GpyDBs_AOM_Second(P.s.db, gpy(adj.rc_pd(m.out_db.get('vD'), P.get('int')).rename('qD'))) # set intermediate goods levels\n",
    "gpyDB.GpyDBs_AOM_Second(P.s.db, gpy(m.out_db.get('mu').xs(P.get('t0')[0]).rename('mu'))) # set intermediate goods levels"
   ]
  },
  {
   "cell_type": "markdown",
   "id": "62bd69a2-8b7c-46aa-85da-47048ff40476",
   "metadata": {},
   "source": [
    "Set tax rate to fit revenue collected in baseline year:"
   ]
  },
  {
   "cell_type": "code",
   "execution_count": 8,
   "id": "08785f06-285a-4948-8aa6-23ab1dd8d659",
   "metadata": {},
   "outputs": [],
   "source": [
    "# P.s.db['tauLump'] = db_IO.get('TotalTax').rename('tauLump')\n",
    "P.s.db['tauS'] = adjMultiIndex.applyMult(db_IO.get('TotalTax'), P.get('output')) / P.get('qS')"
   ]
  },
  {
   "cell_type": "markdown",
   "id": "c386fb6c-4710-4731-a4ed-bc3032b7cd59",
   "metadata": {},
   "source": [
    "### 3. Static calibration"
   ]
  },
  {
   "cell_type": "code",
   "execution_count": 9,
   "id": "4749d4ee-ce2a-431d-b6fa-a785a8e52c55",
   "metadata": {},
   "outputs": [],
   "source": [
    "P.compile(initDB=True) # set up model structure, and make sure to initialize symbols if they are not yet defined in the database (initDB = True)\n",
    "P.s.setstate('C') # set to calibration state\n",
    "P.write(); # write GAMS code\n",
    "mStatic = P.run(exportTo = d['work'],ws=ws,**{'cns': 'CONOPT4'}) # solve the model using CONOPT4."
   ]
  },
  {
   "cell_type": "markdown",
   "id": "6c8eafe2-fae0-4ae3-9621-31e5a2bde78c",
   "metadata": {},
   "source": [
    "### 4. Export "
   ]
  },
  {
   "cell_type": "code",
   "execution_count": 10,
   "id": "a87f8898-bd0c-4ea2-9f53-00530f6bc477",
   "metadata": {},
   "outputs": [],
   "source": [
    "[gpyDB.GpyDBs_AOM_Second(P.s.db, mStatic.out_db[k]) for k in P.s.db.symbols];\n",
    "P.s.setstate('B')"
   ]
  },
  {
   "cell_type": "markdown",
   "id": "fb865b76-c6f8-40f6-82d6-6a7bbab72ae8",
   "metadata": {},
   "source": [
    "Export:"
   ]
  },
  {
   "cell_type": "code",
   "execution_count": 11,
   "id": "1471b431-ea87-440f-bfee-b7dd1f2e3048",
   "metadata": {},
   "outputs": [],
   "source": [
    "with open(os.path.join(d['data'], P.name), \"wb\") as file:\n",
    "    pickle.dump(P,file)"
   ]
  }
 ],
 "metadata": {
  "kernelspec": {
   "display_name": "Python 3 (ipykernel)",
   "language": "python",
   "name": "python3"
  },
  "language_info": {
   "codemirror_mode": {
    "name": "ipython",
    "version": 3
   },
   "file_extension": ".py",
   "mimetype": "text/x-python",
   "name": "python",
   "nbconvert_exporter": "python",
   "pygments_lexer": "ipython3",
   "version": "3.9.7"
  }
 },
 "nbformat": 4,
 "nbformat_minor": 5
}
