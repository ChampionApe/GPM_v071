{
 "cells": [
  {
   "cell_type": "code",
   "execution_count": 1,
   "id": "1effaf00-19d4-4e0f-b03a-f5052e2840aa",
   "metadata": {},
   "outputs": [],
   "source": [
    "clean_up = True\n",
    "%run StdPackages.ipynb\n",
    "d['data'] = os.path.join(d['data'], 'IO2018')"
   ]
  },
  {
   "cell_type": "markdown",
   "id": "2dd62ba6-0ada-4727-86b2-f4b5df398933",
   "metadata": {
    "tags": []
   },
   "source": [
    "# GR18: Data"
   ]
  },
  {
   "cell_type": "markdown",
   "id": "d17ab40d-d486-4c2e-b76e-9e63ecf81910",
   "metadata": {},
   "source": [
    "### 1. Load data"
   ]
  },
  {
   "cell_type": "code",
   "execution_count": 2,
   "id": "b95e67b9-226f-4292-b5a5-7e773102881e",
   "metadata": {},
   "outputs": [],
   "source": [
    "name = 'GR18'\n",
    "error = 1e-7 # tolerance when testing IO balance\n",
    "db = GpyDB(pickle_path = os.path.join(d['data'], f'IO_{name}'))\n",
    "db.name = name+'_ModelData'\n",
    "glob = CGE_globals.SmallOpen(kwargs_vals = {'t': range(2016,2051)}) # global settings used throughout; interest rates, long run growth rates, time index etc."
   ]
  },
  {
   "cell_type": "markdown",
   "id": "0d72d3c3-2af8-4a4a-8281-8bfa381c07fd",
   "metadata": {},
   "source": [
    "### 2. Production module"
   ]
  },
  {
   "cell_type": "markdown",
   "id": "b6d6f19d-8014-4286-b538-05e0ffbcea5f",
   "metadata": {},
   "source": [
    "Specify a general mapping that we'll apply to (most) production sectors:"
   ]
  },
  {
   "cell_type": "code",
   "execution_count": 3,
   "id": "e9795517-b0f7-48d8-a258-589997925fee",
   "metadata": {},
   "outputs": [],
   "source": [
    "mFull = pd.MultiIndex.from_tuples([('KELBM', 'RxE'), ('KELBM', 'KELB'), ('KELB', 'iB'), ('KELB','KEL'), ('KEL','L'), ('KEL','KE'), ('KE','iM'), ('KE','35011_input')], names = ['n','nn'])"
   ]
  },
  {
   "cell_type": "markdown",
   "id": "8746a1d5-1040-4675-931c-256770b1877b",
   "metadata": {},
   "source": [
    "For the sectors that do not demand energy good (```35011```), remove the KE nest: "
   ]
  },
  {
   "cell_type": "code",
   "execution_count": 4,
   "id": "7b0045eb-88aa-4cd3-b35c-c41e2a1b530d",
   "metadata": {},
   "outputs": [],
   "source": [
    "m_noE = pd.MultiIndex.from_tuples([('KELBM', 'RxE'), ('KELBM', 'KELB'), ('KELB', 'iB'), ('KELB','KEL'), ('KEL','L'), ('KEL','iM')], names = ['n','nn'])\n",
    "s_noE = adj.rc_pd(db.get('s_p'), ('not', db.get('vD').xs('35011')))\n",
    "m = pyDatabases.cartesianProductIndex([s_noE, m_noE])"
   ]
  },
  {
   "cell_type": "markdown",
   "id": "779ae8c8-da3e-4581-97fe-47c5ff0c6fb8",
   "metadata": {},
   "source": [
    "All sectors use both ```iB``` and ```iM``` - so, we finally check for whether all sectors deamnd labor:"
   ]
  },
  {
   "cell_type": "code",
   "execution_count": 5,
   "id": "f40b2a69-95d4-48ee-a094-e9c1ddf1b9bb",
   "metadata": {},
   "outputs": [],
   "source": [
    "m_noL = pd.MultiIndex.from_tuples([('KELBM', 'RxE'), ('KELBM', 'KELB'), ('KELB', 'iB'), ('KELB','KE'), ('KE','iM'), ('KE','35011_input')], names = ['n','nn'])\n",
    "s_noL = adj.rc_pd(db.get('s_p'), ('not', db.get('vD').xs('L')))\n",
    "m = m.union(pyDatabases.cartesianProductIndex([s_noL, m_noL]))"
   ]
  },
  {
   "cell_type": "markdown",
   "id": "e33abe2a-9a1b-4708-8e8b-e56a7ae5ea21",
   "metadata": {},
   "source": [
    "For all other sectors, use the full nesting structure:"
   ]
  },
  {
   "cell_type": "code",
   "execution_count": 6,
   "id": "387867d2-2880-43a7-964d-6a533e961960",
   "metadata": {},
   "outputs": [],
   "source": [
    "mFull = pd.MultiIndex.from_tuples([('KELBM', 'RxE'), ('KELBM', 'KELB'), ('KELB', 'iB'), ('KELB','KEL'), ('KEL','L'), ('KEL','KE'), ('KE','iM'), ('KE','35011_input')], names = ['n','nn'])\n",
    "sFull = adj.rc_pd(db.get('s_p'), ('not', ('or', [s_noE, s_noL])))\n",
    "m = m.union(pyDatabases.cartesianProductIndex([sFull, mFull]))"
   ]
  },
  {
   "cell_type": "markdown",
   "id": "2d25d10a-c46f-4d1b-ad37-a9267d787f3a",
   "metadata": {},
   "source": [
    "Replace the upper-most level (KELBM) with the name of the sector:"
   ]
  },
  {
   "cell_type": "code",
   "execution_count": 7,
   "id": "d0fb1c94-bc7f-4c5b-8b82-e60bc539eb9f",
   "metadata": {},
   "outputs": [],
   "source": [
    "df = m.to_frame(index=False)\n",
    "df.loc[df.n == 'KELBM','n'] = df.loc[df.n == 'KELBM', 's']\n",
    "m = pd.MultiIndex.from_frame(df)"
   ]
  },
  {
   "cell_type": "markdown",
   "id": "d3072aa8-6b02-48eb-b965-23eacf96609f",
   "metadata": {},
   "source": [
    "For [s,n] in ```dImport[s,n,nn]```, we define a mapping from ```RxE```to an intermediate good ```RxEym_x``` that is again an aggregate of the domestic/foreign goods ```x,x_F```."
   ]
  },
  {
   "cell_type": "code",
   "execution_count": 8,
   "id": "45df55ca-962c-4e81-9f73-bff0ceaa58c0",
   "metadata": {},
   "outputs": [],
   "source": [
    "df = adj.rc_pd(db.get('dImport'), db.get('s_p')).to_frame(index=False).assign(m= lambda x: 'RxEym_'+x['n'], u = 'RxE', n = lambda x: x['n']+'_input')\n",
    "m = m.union(pd.MultiIndex.from_frame(df[['s','u','m']]).rename(['s','n','nn']))\n",
    "m = m.union(pd.MultiIndex.from_frame(df[['s','m','n']]).rename(['s','n','nn']))\n",
    "m = m.union(pd.MultiIndex.from_frame(df[['s','m','nn']]).rename(['s','n','nn']))"
   ]
  },
  {
   "cell_type": "markdown",
   "id": "2adb58bd-c021-4213-b654-2b0b2a228c65",
   "metadata": {},
   "source": [
    "For [s,n] in ```dImport_dom[s,n]```, we define a mapping from ```RxE```to the domestic goods:"
   ]
  },
  {
   "cell_type": "code",
   "execution_count": 9,
   "id": "ca552beb-7ee5-401c-9b13-b4b9c536f964",
   "metadata": {},
   "outputs": [],
   "source": [
    "df = adj.rc_pd(db.get('dImport_dom'), db.get('s_p')).to_frame(index=False).assign(u = 'RxE', n = lambda x: x['n']+'_input')\n",
    "m = m.union(pd.MultiIndex.from_frame(df[['s','u','n']]).rename(['s','n','nn']))"
   ]
  },
  {
   "cell_type": "markdown",
   "id": "bbbb24f1-fd94-48cc-8efc-985f72557021",
   "metadata": {},
   "source": [
    "For [s,n] in ```dImport_for[s,n]```, we define a mapping from ```RxE```to the forein goods:"
   ]
  },
  {
   "cell_type": "code",
   "execution_count": 10,
   "id": "3dc9f05a-7410-4085-908e-3c37bf7b8f28",
   "metadata": {},
   "outputs": [],
   "source": [
    "df = adj.rc_pd(db.get('dImport_for'), db.get('s_p')).to_frame(index=False).assign(u = 'RxE')\n",
    "m = m.union(pd.MultiIndex.from_frame(df[['s','u','n']]).rename(['s','n','nn']))"
   ]
  },
  {
   "cell_type": "code",
   "execution_count": 11,
   "id": "1c6bd870-953f-4439-84f2-7f544153a947",
   "metadata": {},
   "outputs": [],
   "source": [
    "db['nestProduction'] = m"
   ]
  },
  {
   "cell_type": "markdown",
   "id": "0e464f46-12df-4db3-98fb-31fff682429c",
   "metadata": {},
   "source": [
    "### 3. Investment module"
   ]
  },
  {
   "cell_type": "markdown",
   "id": "dbe53888-943e-4934-b26a-3c1bcadbdcca",
   "metadata": {},
   "source": [
    "For the investment module, the nesting structure is similar to the materials nest in the production module:"
   ]
  },
  {
   "cell_type": "markdown",
   "id": "b4c59117-4622-486d-ab58-690c34e9b81d",
   "metadata": {},
   "source": [
    "### 8. Quantities"
   ]
  },
  {
   "cell_type": "markdown",
   "id": "a8bbf02e-39ee-4818-bbf3-3c4cc9721d0c",
   "metadata": {},
   "source": [
    "Broadcast all variables using the time index (repeat variables for all $t$):"
   ]
  },
  {
   "cell_type": "code",
   "execution_count": 17,
   "id": "9ebb8104-0494-435e-b43a-cd6dc39ca077",
   "metadata": {},
   "outputs": [],
   "source": [
    "def addT(symbol, t):\n",
    "    return adjMultiIndex.bc(symbol, t).reorder_levels(['t']+symbol.index.names if 't' not in symbol.index.names else symbol.index.names)\n",
    "[db.__setitem__(k, addT(db.get(k), glob.db['t'].vals)) for k in db.getTypes(['variable','scalar_variable'])];"
   ]
  },
  {
   "cell_type": "markdown",
   "id": "38ec6a26-217c-4262-8977-8fba13fb0fc3",
   "metadata": {},
   "source": [
    "## Export:"
   ]
  },
  {
   "cell_type": "code",
   "execution_count": 19,
   "id": "49b75596-df57-4823-bfe9-9c0ff08bb5ef",
   "metadata": {},
   "outputs": [],
   "source": [
    "aggregateDB.readSets(db) # read sets from the symbols in data"
   ]
  },
  {
   "cell_type": "code",
   "execution_count": 20,
   "id": "cc37f1b9-79ee-45a0-8e4f-5fa8d1299c51",
   "metadata": {},
   "outputs": [],
   "source": [
    "db.export(repo = d['data'])\n",
    "with open(f\"{d['data']}\\\\glob_{name}\", \"wb\") as file:\n",
    "    pickle.dump(glob,file)"
   ]
  }
 ],
 "metadata": {
  "kernelspec": {
   "display_name": "Python 3 (ipykernel)",
   "language": "python",
   "name": "python3"
  },
  "language_info": {
   "codemirror_mode": {
    "name": "ipython",
    "version": 3
   },
   "file_extension": ".py",
   "mimetype": "text/x-python",
   "name": "python",
   "nbconvert_exporter": "python",
   "pygments_lexer": "ipython3",
   "version": "3.9.7"
  }
 },
 "nbformat": 4,
 "nbformat_minor": 5
}
