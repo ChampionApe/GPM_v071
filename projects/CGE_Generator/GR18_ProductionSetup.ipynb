{
 "cells": [
  {
   "cell_type": "code",
   "execution_count": 1,
   "id": "31aa86d2-bde5-422d-88ab-e521013c0524",
   "metadata": {},
   "outputs": [
    {
     "name": "stdout",
     "output_type": "stream",
     "text": [
      "The file _gams_py_gdb0.gdx is still active and was not deleted.\n",
      "The file _gams_py_gdb1.gdx is still active and was not deleted.\n"
     ]
    }
   ],
   "source": [
    "clean_up = True\n",
    "%run stdPackages.ipynb\n",
    "d['data'] = os.path.join(d['data'], 'IO2018')"
   ]
  },
  {
   "cell_type": "markdown",
   "id": "728c3e10-23cd-41a9-a31c-854845eb7196",
   "metadata": {},
   "source": [
    "# Setup for production module, GR18"
   ]
  },
  {
   "cell_type": "markdown",
   "id": "be87d707-c221-41e6-b2a8-19d1c943bca4",
   "metadata": {},
   "source": [
    "The notebook defines the nesting structure for the production module. Additional tweaks to the production data can be loaded here as well. At this stage, we only define the main nesting structure as a mapping ```nestProduction```."
   ]
  },
  {
   "cell_type": "markdown",
   "id": "127abdec-7968-4b28-b734-55ac5ed497cf",
   "metadata": {},
   "source": [
    "### Settings: "
   ]
  },
  {
   "cell_type": "markdown",
   "id": "972327ed-8ff3-4a6e-914f-c4168c786b72",
   "metadata": {},
   "source": [
    "Load IO data from the general model and store a new one with data specific to the production module:"
   ]
  },
  {
   "cell_type": "code",
   "execution_count": null,
   "id": "63963e07-f8cf-4459-b5ba-7709084bd22d",
   "metadata": {},
   "outputs": [
    {
     "ename": "NameError",
     "evalue": "name 'GpyDB' is not defined",
     "output_type": "error",
     "traceback": [
      "\u001b[1;31m---------------------------------------------------------------------------\u001b[0m",
      "\u001b[1;31mNameError\u001b[0m                                 Traceback (most recent call last)",
      "\u001b[1;32m~\\AppData\\Local\\Temp/ipykernel_13352/3749028387.py\u001b[0m in \u001b[0;36m<module>\u001b[1;34m\u001b[0m\n\u001b[0;32m      1\u001b[0m \u001b[0mname\u001b[0m \u001b[1;33m=\u001b[0m \u001b[1;34m'smallGR'\u001b[0m \u001b[1;31m# name of model\u001b[0m\u001b[1;33m\u001b[0m\u001b[1;33m\u001b[0m\u001b[0m\n\u001b[0;32m      2\u001b[0m \u001b[0mmodule\u001b[0m \u001b[1;33m=\u001b[0m \u001b[0mname\u001b[0m\u001b[1;33m+\u001b[0m\u001b[1;34m'P'\u001b[0m \u001b[1;31m# name of module\u001b[0m\u001b[1;33m\u001b[0m\u001b[1;33m\u001b[0m\u001b[0m\n\u001b[1;32m----> 3\u001b[1;33m \u001b[0mdb_IO\u001b[0m \u001b[1;33m=\u001b[0m \u001b[0mGpyDB\u001b[0m\u001b[1;33m(\u001b[0m\u001b[0mpickle_path\u001b[0m \u001b[1;33m=\u001b[0m \u001b[0mos\u001b[0m\u001b[1;33m.\u001b[0m\u001b[0mpath\u001b[0m\u001b[1;33m.\u001b[0m\u001b[0mjoin\u001b[0m\u001b[1;33m(\u001b[0m\u001b[0md\u001b[0m\u001b[1;33m[\u001b[0m\u001b[1;34m'data'\u001b[0m\u001b[1;33m]\u001b[0m\u001b[1;33m,\u001b[0m \u001b[1;34mf'IO_{name}'\u001b[0m\u001b[1;33m)\u001b[0m\u001b[1;33m)\u001b[0m \u001b[1;31m# load IO database named IO_name\u001b[0m\u001b[1;33m\u001b[0m\u001b[1;33m\u001b[0m\u001b[0m\n\u001b[0m\u001b[0;32m      4\u001b[0m \u001b[1;32mwith\u001b[0m \u001b[0mopen\u001b[0m\u001b[1;33m(\u001b[0m\u001b[1;34mf\"{d['data']}\\\\glob_{name}\"\u001b[0m\u001b[1;33m,\u001b[0m\u001b[1;34m\"rb\"\u001b[0m\u001b[1;33m)\u001b[0m \u001b[1;32mas\u001b[0m \u001b[0mfile\u001b[0m\u001b[1;33m:\u001b[0m \u001b[1;31m# load global settings anmed glob_name\u001b[0m\u001b[1;33m\u001b[0m\u001b[1;33m\u001b[0m\u001b[0m\n\u001b[0;32m      5\u001b[0m     \u001b[0mglob\u001b[0m\u001b[1;33m=\u001b[0m\u001b[0mpickle\u001b[0m\u001b[1;33m.\u001b[0m\u001b[0mload\u001b[0m\u001b[1;33m(\u001b[0m\u001b[0mfile\u001b[0m\u001b[1;33m)\u001b[0m\u001b[1;33m\u001b[0m\u001b[1;33m\u001b[0m\u001b[0m\n",
      "\u001b[1;31mNameError\u001b[0m: name 'GpyDB' is not defined"
     ]
    }
   ],
   "source": [
    "name = 'GR18' # name of model\n",
    "module = name+'_Production' # name of module\n",
    "db_IO = GpyDB(pickle_path = os.path.join(d['data'], f'IO_{name}')) # load IO database named IO_name\n",
    "with open(f\"{d['data']}\\\\glob_{name}\",\"rb\") as file: # load global settings anmed glob_name\n",
    "    glob=pickle.load(file)\n",
    "db = GpyDB(**{'name': module})"
   ]
  },
  {
   "cell_type": "markdown",
   "id": "3b0b30df-9bd0-4a6a-9e51-0b684ae941c7",
   "metadata": {},
   "source": [
    "### Nesting"
   ]
  },
  {
   "cell_type": "markdown",
   "id": "1ecdb76c-2c8c-4a79-a4b4-bbfe1caa7cad",
   "metadata": {},
   "source": [
    "**Non-materials nest:**"
   ]
  },
  {
   "cell_type": "markdown",
   "id": "6ce37e85-375f-4003-8cd0-fd66ef3c7bf2",
   "metadata": {},
   "source": [
    "*Full index:*"
   ]
  },
  {
   "cell_type": "code",
   "execution_count": 3,
   "id": "5316cb15-8fe4-4da5-a493-cc9014a6afa4",
   "metadata": {},
   "outputs": [],
   "source": [
    "mFull = pd.MultiIndex.from_tuples([('KELBM', 'RxE'), \n",
    "                                   ('KELBM', 'KELB'), \n",
    "                                   ('KELB', 'iB'), ('KELB','KEL'), \n",
    "                                   ('KEL','L'), ('KEL','KE'), \n",
    "                                   ('KE','iM'), ('KE','E'), \n",
    "                                   ('E','35011_input'), ('E','35011_F')], names = ['n','nn'])\n",
    "E = pd.Index(['35011','35011_F'], name = 'n')"
   ]
  },
  {
   "cell_type": "markdown",
   "id": "bd11a037-6693-4e70-9788-adf9827333ea",
   "metadata": {},
   "source": [
    "Some of the sectors may not use the energy inputs, or only use either the foreign/domestic types:"
   ]
  },
  {
   "cell_type": "code",
   "execution_count": 4,
   "id": "6dd1d86f-2917-452b-a3bd-499eb7f1a3fa",
   "metadata": {},
   "outputs": [],
   "source": [
    "m_onlyEdom = pd.MultiIndex.from_tuples([('KELBM', 'RxE'), \n",
    "                                   ('KELBM', 'KELB'), \n",
    "                                   ('KELB', 'iB'), ('KELB','KEL'), \n",
    "                                   ('KEL','L'), ('KEL','KE'), \n",
    "                                   ('KE','iM'), ('KE','35011_input')], names = ['n','nn'])\n",
    "m_onlyEfor = pd.MultiIndex.from_tuples([('KELBM', 'RxE'), \n",
    "                                   ('KELBM', 'KELB'), \n",
    "                                   ('KELB', 'iB'), ('KELB','KEL'), \n",
    "                                   ('KEL','L'), ('KEL','KE'), \n",
    "                                   ('KE','iM'), ('KE','35011_F')], names = ['n','nn'])\n",
    "m_noE = pd.MultiIndex.from_tuples([('KELBM', 'RxE'), \n",
    "                                   ('KELBM', 'KELB'), \n",
    "                                   ('KELB', 'iB'), ('KELB','KEL'), \n",
    "                                   ('KEL','L'), ('KEL','iM')], names = ['n','nn'])"
   ]
  },
  {
   "cell_type": "markdown",
   "id": "b63a8440-5092-4eca-b497-67db4a81f8ae",
   "metadata": {},
   "source": [
    "Look at energy demand with domestic and foreign types in rows:"
   ]
  },
  {
   "cell_type": "code",
   "execution_count": 5,
   "id": "fb50029b-5e85-4d63-9142-e7e32cc84ee7",
   "metadata": {},
   "outputs": [],
   "source": [
    "Edf = adj.rc_pd(db_IO.get('vD'), E).unstack('n')"
   ]
  },
  {
   "cell_type": "markdown",
   "id": "6e5c1552-3764-4476-ab78-83951721f913",
   "metadata": {},
   "source": [
    "If the sector is not in ```Edf```, the sector does not demand any energy inputs. If the foreign electricity good is NaN, the sector only uses domestic energy. If the domestic sector is NaN, they only use foreign:"
   ]
  },
  {
   "cell_type": "code",
   "execution_count": 6,
   "id": "84b4ab7c-58d1-4134-b715-467988105375",
   "metadata": {},
   "outputs": [],
   "source": [
    "s_noE = adj.rc_pd(db_IO.get('s_p'), ('not',Edf))\n",
    "s_onlyFor = adj.rc_pd(db_IO.get('s_p'), Edf[Edf['35011'].isna()])\n",
    "s_onlyDom = adj.rc_pd(db_IO.get('s_p'), Edf[Edf['35011_F'].isna()])\n",
    "s_fullE = adj.rc_pd(db_IO.get('s_p'), ('not', ('or', [s_noE, s_onlyFor, s_onlyDom])))"
   ]
  },
  {
   "cell_type": "markdown",
   "id": "1cff0855-1035-41f1-b3a1-7e93f84b96ab",
   "metadata": {},
   "source": [
    "Establish mappings:"
   ]
  },
  {
   "cell_type": "code",
   "execution_count": 7,
   "id": "84c8271b-cac2-424f-bc7d-9ebea6235331",
   "metadata": {},
   "outputs": [],
   "source": [
    "m = pd.MultiIndex.from_tuples(np.hstack([pyDatabases.cartesianProductIndex([s_noE, m_noE]).values,\n",
    "                                         pyDatabases.cartesianProductIndex([s_onlyFor, m_onlyEfor]).values,\n",
    "                                         pyDatabases.cartesianProductIndex([s_onlyDom, m_onlyEdom]).values,\n",
    "                                         pyDatabases.cartesianProductIndex([s_fullE, mFull]).values]),\n",
    "                              names = ['s','n','nn'])"
   ]
  },
  {
   "cell_type": "markdown",
   "id": "38aeda53-6e29-44e5-bf74-6d0a14326e86",
   "metadata": {},
   "source": [
    "Replace upper-most level with name of sector:"
   ]
  },
  {
   "cell_type": "code",
   "execution_count": 8,
   "id": "c0b738f2-bf1a-4d5d-87cb-5a591e65a34f",
   "metadata": {},
   "outputs": [],
   "source": [
    "df = m.to_frame(index=False) \n",
    "df.loc[df.n == 'KELBM','n'] = df.loc[df.n == 'KELBM', 's']\n",
    "m = pd.MultiIndex.from_frame(df)"
   ]
  },
  {
   "cell_type": "markdown",
   "id": "b66fb3f6-3d06-44ed-830f-d7198cacc8e7",
   "metadata": {},
   "source": [
    "**Materials nest:**"
   ]
  },
  {
   "cell_type": "markdown",
   "id": "4ff1e67b-0b4a-487c-b767-56d21567890a",
   "metadata": {},
   "source": [
    "There are quite a lot of sparsity in the materials nest - so we deal explicitly with it."
   ]
  },
  {
   "cell_type": "code",
   "execution_count": 9,
   "id": "9665b0f5-3e82-42c4-872c-bbd87e61ff93",
   "metadata": {},
   "outputs": [],
   "source": [
    "E = pd.Index(['35011','35011_F'], name = 'n')"
   ]
  },
  {
   "cell_type": "markdown",
   "id": "3fe52e96-c9fa-41c3-9b21-c86d23f41457",
   "metadata": {},
   "source": [
    "For [s,n] in ```dImport[s,n,nn]```, we define a mapping from ```RxE```to an intermediate good ```RxEym_x``` that is again an aggregate of the domestic/foreign goods ```x,x_F```. We do this for any sectors except the energy goods:"
   ]
  },
  {
   "cell_type": "code",
   "execution_count": 10,
   "id": "0e56d02a-bd7d-483d-9c05-72e4aa05613c",
   "metadata": {},
   "outputs": [],
   "source": [
    "E = pd.Index(['35011','35011_F'], name = 'n') # treat these types of good in a different way (not in materials nest)\n",
    "df = adj.rc_pd(db_IO.get('dImport'), ('and', [db_IO.get('s_p'), ('not',E)]) # imports for all domestic production sectors, not E\n",
    "              ).to_frame(index=False).assign(RxEym= lambda x: 'RxEym_'+x['n'], RxE = 'RxE', n = lambda x: x['n']+'_input') # add intermediate goods\n",
    "m = m.union(pd.MultiIndex.from_frame(df[['s','RxE','RxEym']]).rename(['s','n','nn']))\n",
    "m = m.union(pd.MultiIndex.from_frame(df[['s','RxEym','n']]).rename(['s','n','nn']))\n",
    "m = m.union(pd.MultiIndex.from_frame(df[['s','RxEym','nn']]).rename(['s','n','nn']))"
   ]
  },
  {
   "cell_type": "markdown",
   "id": "82e27d7b-969c-4120-a86e-4f2d1aee6b5b",
   "metadata": {},
   "source": [
    "For [s,n] in ```dImport_dom[s,n]```, we define a mapping from ```RxE```to the domestic goods:"
   ]
  },
  {
   "cell_type": "code",
   "execution_count": 11,
   "id": "0ac9d0fe-5b82-4976-ba2f-6dc5e3ceb964",
   "metadata": {},
   "outputs": [],
   "source": [
    "df = adj.rc_pd(db_IO.get('dImport_dom'), ('and', [db_IO.get('s_p'), ('not',E)])\n",
    "              ).to_frame(index=False).assign(RxE = 'RxE', n = lambda x: x['n']+'_input')\n",
    "m = m.union(pd.MultiIndex.from_frame(df[['s','RxE','n']]).rename(['s','n','nn']))"
   ]
  },
  {
   "cell_type": "markdown",
   "id": "9333b734-7850-4a07-bc32-6bc914f0bcf2",
   "metadata": {},
   "source": [
    "For [s,n] in ```dImport_for[s,n]```, we define a mapping from ```RxE```to the forein goods:"
   ]
  },
  {
   "cell_type": "code",
   "execution_count": 12,
   "id": "0eb127eb-58f6-4f4c-b2e5-5595528483a3",
   "metadata": {},
   "outputs": [],
   "source": [
    "df = adj.rc_pd(db_IO.get('dImport_for'), ('and', [db_IO.get('s_p'), ('not',E)])\n",
    "              ).to_frame(index=False).assign(RxE = 'RxE')\n",
    "m = m.union(pd.MultiIndex.from_frame(df[['s','RxE','n']]).rename(['s','n','nn']))"
   ]
  },
  {
   "cell_type": "markdown",
   "id": "954f8a64-97e9-4b62-a310-1ac245baa4d2",
   "metadata": {},
   "source": [
    "Add to database:"
   ]
  },
  {
   "cell_type": "code",
   "execution_count": 13,
   "id": "6958eef6-87c2-4cc2-bfd3-1ac5a8ded01f",
   "metadata": {},
   "outputs": [],
   "source": [
    "db['nestProduction'] = m "
   ]
  },
  {
   "cell_type": "markdown",
   "id": "46824678-788c-4bc7-a87e-d805dbb059ec",
   "metadata": {},
   "source": [
    "### Export data:"
   ]
  },
  {
   "cell_type": "code",
   "execution_count": 14,
   "id": "142409e8-c728-44c1-986c-a033d65e8d8f",
   "metadata": {},
   "outputs": [],
   "source": [
    "db.export(repo = d['data'])"
   ]
  }
 ],
 "metadata": {
  "kernelspec": {
   "display_name": "Python 3 (ipykernel)",
   "language": "python",
   "name": "python3"
  },
  "language_info": {
   "codemirror_mode": {
    "name": "ipython",
    "version": 3
   },
   "file_extension": ".py",
   "mimetype": "text/x-python",
   "name": "python",
   "nbconvert_exporter": "python",
   "pygments_lexer": "ipython3",
   "version": "3.9.7"
  }
 },
 "nbformat": 4,
 "nbformat_minor": 5
}
