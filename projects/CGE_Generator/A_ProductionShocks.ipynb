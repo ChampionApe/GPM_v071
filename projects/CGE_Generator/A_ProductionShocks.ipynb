{
 "cells": [
  {
   "cell_type": "code",
   "execution_count": 1,
   "id": "3f7aab93-971b-4d81-bf44-59fe1bd18c04",
   "metadata": {},
   "outputs": [],
   "source": [
    "clean_up = True\n",
    "%run stdPackages.ipynb"
   ]
  },
  {
   "cell_type": "code",
   "execution_count": 2,
   "id": "e1b6d2c4-9041-4307-86b3-ec0311d586dc",
   "metadata": {},
   "outputs": [],
   "source": [
    "import math, dash\n",
    "import plotly.express as px\n",
    "from plotly.subplots import make_subplots"
   ]
  },
  {
   "cell_type": "markdown",
   "id": "7a569a93-79da-47f8-b6e6-a3748a58128a",
   "metadata": {},
   "source": [
    "# Simulations in partial equilibrium"
   ]
  },
  {
   "cell_type": "code",
   "execution_count": 3,
   "id": "d6400d15-15f7-474f-a042-c8000356705a",
   "metadata": {},
   "outputs": [],
   "source": [
    "ws = gams.GamsWorkspace(working_directory=d['work']) # specify where you want to run the GAMS models from (here the repository referred to in d['work'])\n",
    "with open(f\"{d['data']}\\\\APi\",\"rb\") as file:\n",
    "    P = pickle.load(file)\n",
    "P.write();"
   ]
  },
  {
   "cell_type": "markdown",
   "id": "98621e91-5a08-4b32-a9f8-9f7587479484",
   "metadata": {},
   "source": [
    "Define a standardized report for a shock in this module as follows:\n",
    "* Add a database with target values for an exogenous variable. Extract data on ```qD, pD, p``` in a solution loop.\n",
    "* Plot time series for durables/non-durables on (sector, goods levels).\n",
    "* Plot time series for durables/non-durables on goods levels.\n",
    "* Plot time series for equilibrium and effective input prices. "
   ]
  },
  {
   "cell_type": "code",
   "execution_count": 4,
   "id": "1df9ab53-347a-42f9-800f-a5c10124793f",
   "metadata": {},
   "outputs": [],
   "source": [
    "def stdPlot(df, c, title):\n",
    "    nplots,nrows = len(c), math.ceil(len(c)/2)\n",
    "    fig, axes = plt.subplots(nrows, min(nplots,2), figsize=(14,(4*nrows)));\n",
    "    for i in range(nplots):\n",
    "        ax = plt.subplot(nrows,min(nplots,2),i+1)\n",
    "        df.xs(c[i], level = c.names).plot(ax=ax, legend=False);\n",
    "        ax.set_title(c[i])\n",
    "    fig.legend(df.columns,ncol=3,loc=8,frameon=True)\n",
    "    # fig.suptitle(title,fontsize=15)\n",
    "    fig.tight_layout()\n",
    "    fig.subplots_adjust(bottom=0.30/nrows);\n",
    "    return fig"
   ]
  },
  {
   "cell_type": "code",
   "execution_count": 5,
   "id": "eaff0b56-6b65-400b-a980-0d0e1df2602d",
   "metadata": {},
   "outputs": [],
   "source": [
    "def stdPlots(m,P):\n",
    "    mult_graphs()\n",
    "    sn = adj.rc_pd(P.get('input'), ('not', P.get('inv')))\n",
    "    figs = {'qD_Durables': stdPlot(adj.rc_pd(m.out_db.get('sol_qD_shock'), P.get('dur')).unstack('l1'), P.get('dur'), \"$q$, durables\"),\n",
    "            'pD_Durables': stdPlot(adj.rc_pd(m.out_db.get('sol_pD_shock'), ('and', [P.get('dur'), P.get('txE')])).unstack('l1'), P.get('dur'), \"$p$, durable\"),\n",
    "            'qD_nonDurable': stdPlot(adj.rc_pd(m.out_db.get('sol_qD_shock'), ('and', [sn, P.get('txE')])).unstack('l1'), sn, \"$q$, non-durables\"),\n",
    "            'p_equilibrium': stdPlot(adj.rc_pd(m.out_db.get('sol_p_shock'), ('and', [P.get('output_n'), P.get('txE')])).unstack('l1'), P.get('output_n'), \"$p$, equilibrium\"),\n",
    "            'pD_nonDurable': stdPlot(adj.rc_pd(m.out_db.get('sol_pD_shock'), ('and', [P.get('output'), P.get('txE')])).unstack('l1'), P.get('output'), \"$p$, non-durables\")}\n",
    "    return figs"
   ]
  },
  {
   "cell_type": "markdown",
   "id": "f71beb85-c93e-4ee3-8946-fcb78b8c193f",
   "metadata": {},
   "source": [
    "#### 1. Increase an input tax"
   ]
  },
  {
   "cell_type": "markdown",
   "id": "3de0db8a-52cc-406f-8a47-719d49eb68c7",
   "metadata": {},
   "source": [
    "Expected outcome: In partial equilibrium the supply from the sectors is kept constant. Thus, increasing the tax on a specific input, the production will substitute towards cheaper inputs. Specifically, increasing the tax on a non-durable as ```a```:\n",
    "* Substitution towards durables yields an associated increase in the shadow cost of said durable.\n",
    "* Transition costs makes both ```a``` and ```b``` more expensive in the short run. Over time, the prices decrease towards a higher level than before (due to the permanent higher cost of ```a```).\n",
    "* The demand for other non-durables than the more expensive ```a``` increases permanently. The increase is (for the most part) largest in the short run, because of the gradual transition in the use of durables."
   ]
  },
  {
   "cell_type": "markdown",
   "id": "24685a7d-2da1-4df6-8ff7-fc2df18ca8f6",
   "metadata": {},
   "source": [
    "*i. Set up target database:*"
   ]
  },
  {
   "cell_type": "code",
   "execution_count": 6,
   "id": "a1d88bf7-db3c-46a0-877b-f89e7415aeee",
   "metadata": {},
   "outputs": [],
   "source": [
    "dbT = GpyDB(**{'name': 'TaxShock'})\n",
    "dbT['tauD'] = pd.Series(1, index = pd.MultiIndex.from_product([P.get('t'), P.get('s'), pd.Index(['a'], name = 'n')]), name = 'tauD')\n",
    "extractSol = {k:None for k in ('qD','pD','p')}"
   ]
  },
  {
   "cell_type": "markdown",
   "id": "f97a3c6b-4525-4202-b10c-1b721aaa023c",
   "metadata": {},
   "source": [
    "*ii. Solve:*"
   ]
  },
  {
   "cell_type": "code",
   "execution_count": 7,
   "id": "beb7815b-43c4-4e5d-b7f3-345aa554c91e",
   "metadata": {},
   "outputs": [],
   "source": [
    "m_a, cp_a = P.sneakySolve(dbT, ws = ws, loop_kwargs = {'extractSol': extractSol, 'n': 3}, **{'cns': 'CONOPT4'})"
   ]
  },
  {
   "cell_type": "markdown",
   "id": "f3b90e33-5125-4666-908b-ab25885ca6c7",
   "metadata": {},
   "source": [
    "*iii. Plot:*"
   ]
  },
  {
   "cell_type": "code",
   "execution_count": 8,
   "id": "27538bae-99c5-41df-b46f-479ce04e9dc9",
   "metadata": {},
   "outputs": [],
   "source": [
    "%%capture\n",
    "figs = stdPlots(m_a,P)"
   ]
  },
  {
   "cell_type": "markdown",
   "id": "7789d260-76e0-4550-80eb-0c5fef9e7ae4",
   "metadata": {},
   "source": [
    "*Export:*"
   ]
  },
  {
   "cell_type": "code",
   "execution_count": 9,
   "id": "55ab6b3e-0601-4d1e-b484-e004bb8976ae",
   "metadata": {},
   "outputs": [],
   "source": [
    "[f.savefig(f\"{d['figs']}\\\\CGE_A\\\\Production{dbT.name}_{k}.pdf\", edgecolor='k') for k,f in figs.items()];"
   ]
  },
  {
   "cell_type": "markdown",
   "id": "80ef4346-2113-43fd-a258-d406c74dd14b",
   "metadata": {},
   "source": [
    "#### 2. Increase in output from both sectors:"
   ]
  },
  {
   "cell_type": "markdown",
   "id": "3e764514-54cc-481b-a9f8-0cf1fdb667bb",
   "metadata": {},
   "source": [
    "Expected outcome:\n",
    "* Durables increase gradually over time. During the adjustment, the shadow cost of durables increase.\n",
    "* Transition costs increase the price on ```a, b``` in the short run. In the long run, prices converge towards the same original price level though.\n",
    "* Demand for ```a,b``` might increase/decrease in the short run (scale of production increases, but so is relative price). In the long run, demand increases.\n",
    "* Demand for ```a_F,b_F``` increase sharply initially (scale of production increases + relative price lower compared to domestic market). In the long run, demand is still higher, but less so than in the short run. A similar story for demand for ```L``` (albeit a smaller initial increase)."
   ]
  },
  {
   "cell_type": "markdown",
   "id": "99508247-2290-427f-b4e2-65749993110d",
   "metadata": {},
   "source": [
    "*i. Set up target database:*"
   ]
  },
  {
   "cell_type": "code",
   "execution_count": 10,
   "id": "b6596420-cd9d-4090-b489-0e97306f860c",
   "metadata": {},
   "outputs": [],
   "source": [
    "dbT = GpyDB(**{'name': 'SupplyShockUpper'})\n",
    "dbT['qS'] = P.get('qS')*1.25\n",
    "extractSol = {k:None for k in ('qD','pD','p')}"
   ]
  },
  {
   "cell_type": "markdown",
   "id": "033d3264-55c5-4ffc-9a5f-b6e216f20f72",
   "metadata": {},
   "source": [
    "*ii. Solve:*"
   ]
  },
  {
   "cell_type": "code",
   "execution_count": 11,
   "id": "b315725e-7979-40d4-a75d-972228820502",
   "metadata": {},
   "outputs": [],
   "source": [
    "m_s, cp_s = P.sneakySolve(dbT, ws = ws, loop_kwargs = {'extractSol': extractSol, 'n': 3}, **{'cns': 'CONOPT4'})"
   ]
  },
  {
   "cell_type": "markdown",
   "id": "4e0bc366-9c5d-42da-8d2b-8bd10458bafa",
   "metadata": {},
   "source": [
    "*iii. Plot:*"
   ]
  },
  {
   "cell_type": "code",
   "execution_count": 12,
   "id": "10141e99-84b3-4ecb-ad0c-1c815c1e4486",
   "metadata": {},
   "outputs": [],
   "source": [
    "figs_s = stdPlots(m_s,P)"
   ]
  },
  {
   "cell_type": "markdown",
   "id": "4787818c-a640-43b7-b842-e5b3eca62f10",
   "metadata": {},
   "source": [
    "*Export:*"
   ]
  },
  {
   "cell_type": "code",
   "execution_count": 13,
   "id": "b7b8c513-670d-49fe-be67-ee13d01527bf",
   "metadata": {},
   "outputs": [],
   "source": [
    "[f.savefig(f\"{d['figs']}\\\\CGE_A\\\\Production{dbT.name}_{k}.pdf\", edgecolor='k') for k,f in figs_s.items()];"
   ]
  },
  {
   "cell_type": "markdown",
   "id": "69a14d5e-a163-4722-af9e-e3015f28bf66",
   "metadata": {},
   "source": [
    "#### 3. A drop in initial capital"
   ]
  },
  {
   "cell_type": "markdown",
   "id": "84dcd6f4-0e9c-4b9d-9a54-0f905cce1fb1",
   "metadata": {},
   "source": [
    "Expected outcome: The model converges on the original solution. As the level of supply is fixed, the transition dynamics follows:\n",
    "* Durables gradually increase; associated prices are higher in the transition.\n",
    "* Due to transition costs, the prices on ```a, b``` increase in the short run. Thus, the demand for ```a,b``` decrease in the short run. \n",
    "* To keep the level of supply fixed, the use of non-durables that are not ```a,b``` (L and foreign goods) increases."
   ]
  },
  {
   "cell_type": "markdown",
   "id": "374c3cc1-f872-47ab-b7ee-5a2f272173e6",
   "metadata": {},
   "source": [
    "*i. Set up target database:*"
   ]
  },
  {
   "cell_type": "code",
   "execution_count": 14,
   "id": "a0b34329-9f89-45e8-9a4b-1a4c6dadf40c",
   "metadata": {},
   "outputs": [],
   "source": [
    "dbT = GpyDB(**{'name': 'CapitalShockLower'})\n",
    "dbT['qD'] = adj.rc_pd(P.get('qD'), ('and', [P.get('dur'),P.get('t0')])) * 0.5\n",
    "extractSol = {k:None for k in ('qD','pD','p')}"
   ]
  },
  {
   "cell_type": "markdown",
   "id": "05594af5-169b-43c0-9a1a-ebd45d6a921c",
   "metadata": {},
   "source": [
    "*ii. Solve:*"
   ]
  },
  {
   "cell_type": "code",
   "execution_count": 15,
   "id": "a14cdf52-7c2d-4591-b67a-18f2211d9483",
   "metadata": {},
   "outputs": [],
   "source": [
    "m_c, cp_c = P.sneakySolve(dbT, ws = ws, loop_kwargs = {'extractSol': extractSol, 'n': 3}, **{'cns': 'CONOPT4'})"
   ]
  },
  {
   "cell_type": "markdown",
   "id": "3d5d2af1-1daa-4588-aef6-1af3ef117faf",
   "metadata": {},
   "source": [
    "*iii. Plot:*"
   ]
  },
  {
   "cell_type": "code",
   "execution_count": 16,
   "id": "e36b68b2-edd3-405d-b988-18c8c1f69470",
   "metadata": {},
   "outputs": [],
   "source": [
    "figs_cL = stdPlots(m_c,P)"
   ]
  },
  {
   "cell_type": "markdown",
   "id": "97468a78-f0aa-429f-8e62-0404b74af8df",
   "metadata": {},
   "source": [
    "*Export:*"
   ]
  },
  {
   "cell_type": "code",
   "execution_count": 17,
   "id": "4bf8ffb8-e39a-4da1-93dc-fb63dacc9ceb",
   "metadata": {},
   "outputs": [],
   "source": [
    "[f.savefig(f\"{d['figs']}\\\\CGE_A\\\\Production{dbT.name}_{k}.pdf\", edgecolor='k') for k,f in figs_cL.items()];"
   ]
  },
  {
   "cell_type": "markdown",
   "id": "f1dc95fe-4a1d-4312-87e2-bfa61b9c2b4b",
   "metadata": {},
   "source": [
    "#### 4. An increase in initial capital"
   ]
  },
  {
   "cell_type": "markdown",
   "id": "42c46d42-f935-4d8f-8d13-2e710d3e2e4b",
   "metadata": {},
   "source": [
    "*i. Set up target database:*"
   ]
  },
  {
   "cell_type": "code",
   "execution_count": 18,
   "id": "7d403b15-2bc6-428b-8076-79892d3331b7",
   "metadata": {},
   "outputs": [],
   "source": [
    "dbT = GpyDB(**{'name': 'CapitalShockUpper'})\n",
    "dbT['qD'] = adj.rc_pd(P.get('qD'), ('and', [P.get('dur'),P.get('t0')])) * 1.25\n",
    "extractSol = {k:None for k in ('qD','pD','p')}"
   ]
  },
  {
   "cell_type": "markdown",
   "id": "4c6b2da8-564c-43e3-945f-7c62ea361d0c",
   "metadata": {},
   "source": [
    "*ii. Solve:*"
   ]
  },
  {
   "cell_type": "code",
   "execution_count": 19,
   "id": "490f7ebd-9491-4808-bfbe-e732595a3418",
   "metadata": {},
   "outputs": [],
   "source": [
    "m_c, cp_c = P.sneakySolve(dbT, ws = ws, loop_kwargs = {'extractSol': extractSol, 'n': 3}, **{'cns': 'CONOPT4'})"
   ]
  },
  {
   "cell_type": "markdown",
   "id": "a7188266-6f93-41a4-b769-3101d9fbc09c",
   "metadata": {},
   "source": [
    "*Plot:*"
   ]
  },
  {
   "cell_type": "code",
   "execution_count": 20,
   "id": "23a7ed55-0449-498d-b3ef-445b478b58ab",
   "metadata": {},
   "outputs": [],
   "source": [
    "figs_cU = stdPlots(m_c,P)"
   ]
  },
  {
   "cell_type": "markdown",
   "id": "5ad8f9bd-a175-43eb-bb44-35c271aac434",
   "metadata": {},
   "source": [
    "*Export:*"
   ]
  },
  {
   "cell_type": "code",
   "execution_count": 21,
   "id": "0e680381-a9b2-4861-b21c-dc39e6d9ac7c",
   "metadata": {},
   "outputs": [],
   "source": [
    "[f.savefig(f\"{d['figs']}\\\\CGE_A\\\\Production{dbT.name}_{k}.pdf\", edgecolor='k') for k,f in figs_cU.items()];"
   ]
  },
  {
   "cell_type": "markdown",
   "id": "77c95f61-3f63-4c86-8081-2fbac567eaf4",
   "metadata": {},
   "source": [
    "#### 5. A drop in supply"
   ]
  },
  {
   "cell_type": "markdown",
   "id": "5ce4ea18-bc2d-4293-bded-e6ed28c0a235",
   "metadata": {},
   "source": [
    "*i. Set up target database:*"
   ]
  },
  {
   "cell_type": "code",
   "execution_count": 22,
   "id": "8764253d-69c6-4d7f-a331-7b7bad4866bc",
   "metadata": {},
   "outputs": [],
   "source": [
    "dbT = GpyDB(**{'name': 'SupplyShockLower'})\n",
    "dbT['qS'] = P.get('qS')*0.75\n",
    "extractSol = {k:None for k in ('qD','pD','p')}"
   ]
  },
  {
   "cell_type": "markdown",
   "id": "7f94c000-92f6-47ea-8c35-d82cbde3c663",
   "metadata": {},
   "source": [
    "*ii. Solve:*"
   ]
  },
  {
   "cell_type": "code",
   "execution_count": 23,
   "id": "93991e42-0e3b-4fc6-a83e-c1f2145e3a30",
   "metadata": {},
   "outputs": [],
   "source": [
    "m_sU, cp_s = P.sneakySolve(dbT, ws = ws, loop_kwargs = {'extractSol': extractSol, 'n': 3}, **{'cns': 'CONOPT4'})"
   ]
  },
  {
   "cell_type": "markdown",
   "id": "ed8fdc05-760e-4ada-99a9-f236725c33c1",
   "metadata": {},
   "source": [
    "*Plot:*"
   ]
  },
  {
   "cell_type": "code",
   "execution_count": 24,
   "id": "6f623567-2c6f-49ee-9834-bff952fc4ba5",
   "metadata": {},
   "outputs": [],
   "source": [
    "figs_sU = stdPlots(m_sU,P)"
   ]
  },
  {
   "cell_type": "markdown",
   "id": "dce4fe5f-ed4a-498c-942f-afe32adde3c7",
   "metadata": {},
   "source": [
    "*Export:*"
   ]
  },
  {
   "cell_type": "code",
   "execution_count": 25,
   "id": "d2ee1bf2-b8a1-43a3-a4ec-cf4ecab105c5",
   "metadata": {},
   "outputs": [],
   "source": [
    "[f.savefig(f\"{d['figs']}\\\\CGE_A\\\\Production{dbT.name}_{k}.pdf\", edgecolor='k') for k,f in figs_sU.items()];"
   ]
  }
 ],
 "metadata": {
  "kernelspec": {
   "display_name": "Python 3 (ipykernel)",
   "language": "python",
   "name": "python3"
  },
  "language_info": {
   "codemirror_mode": {
    "name": "ipython",
    "version": 3
   },
   "file_extension": ".py",
   "mimetype": "text/x-python",
   "name": "python",
   "nbconvert_exporter": "python",
   "pygments_lexer": "ipython3",
   "version": "3.9.7"
  }
 },
 "nbformat": 4,
 "nbformat_minor": 5
}
