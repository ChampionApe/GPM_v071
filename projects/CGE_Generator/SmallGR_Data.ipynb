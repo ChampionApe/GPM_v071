{
 "cells": [
  {
   "cell_type": "code",
   "execution_count": 1,
   "id": "ea96e148-118d-43a2-b2bb-775a0c97f0a3",
   "metadata": {},
   "outputs": [
    {
     "name": "stdout",
     "output_type": "stream",
     "text": [
      "The file _gams_py_gdb0.gdx is still active and was not deleted.\n",
      "The file _gams_py_gdb1.gdx is still active and was not deleted.\n",
      "The file _gams_py_gdb2.gdx is still active and was not deleted.\n"
     ]
    }
   ],
   "source": [
    "clean_up = True\n",
    "%run StdPackages.ipynb\n",
    "d['data'] = os.path.join(d['data'], 'IO2018')"
   ]
  },
  {
   "cell_type": "markdown",
   "id": "3d442747-4c3f-4383-84f9-a8a0d8782334",
   "metadata": {
    "tags": []
   },
   "source": [
    "# SmallGR: Data"
   ]
  },
  {
   "cell_type": "markdown",
   "id": "430976d2-2d77-4b7f-a9dd-9ef715766274",
   "metadata": {},
   "source": [
    "The ```SmallGR``` model reduces the number of sectors from the ```GR18``` model to four sectors: Waste, energy, and two \"other\" sectors."
   ]
  },
  {
   "cell_type": "markdown",
   "id": "c01452af-2a56-404e-96dd-bfe5b73f434d",
   "metadata": {},
   "source": [
    "### 1. Load data"
   ]
  },
  {
   "cell_type": "code",
   "execution_count": 2,
   "id": "0fe3afba-f8cd-43c2-80c1-e5b68ee81c7c",
   "metadata": {},
   "outputs": [],
   "source": [
    "name = 'smallGR'\n",
    "error = 1e-7 # tolerance when testing IO balance\n",
    "db = GpyDB(pickle_path = os.path.join(d['data'], f'IO_GR18')) # GR18 IO data\n",
    "db.name = f\"IO_{name}\"\n",
    "glob = CGE_globals.SmallOpen(kwargs_vals = {'t': range(2018,2051)}) # global settings used throughout; interest rates, long run growth rates, time index etc."
   ]
  },
  {
   "cell_type": "markdown",
   "id": "c03a76c2-6750-45bc-b2cc-124f8dfc3acc",
   "metadata": {},
   "source": [
    "### 2. Aggregation"
   ]
  },
  {
   "cell_type": "markdown",
   "id": "476eb02f-a9ce-48d8-a90d-0bd4ad4901fc",
   "metadata": {},
   "source": [
    "### 2.1 Sector aggregation"
   ]
  },
  {
   "cell_type": "markdown",
   "id": "c475727c-8fb8-49a0-833d-93f11cea9f06",
   "metadata": {},
   "source": [
    "Aggregate sectors further: Waste, energy, two \"other\" sectors."
   ]
  },
  {
   "cell_type": "code",
   "execution_count": 7,
   "id": "7c4c0459-690f-485b-aa83-2271321e8739",
   "metadata": {},
   "outputs": [],
   "source": [
    "w = pd.MultiIndex.from_tuples([(k, 'waste') for k in ('38391','38392','38394','38395')], names = ['s','ss'])\n",
    "e = pd.MultiIndex.from_tuples([(k, 'energy') for k in ('19000','35011','350020')], names = ['s','ss'])\n",
    "non_we = adj.rc_pd(db.get('s_p'), ('not',('or',[w.levels[0], e.levels[0]])))\n",
    "o = pd.MultiIndex.from_tuples([(k, 'other1') for k in non_we[0:round(len(non_we)/2)]]+\n",
    "                              [(k, 'other2') for k in non_we[round(len(non_we)/2):]], names = ['s','ss'])\n",
    "m = pd.MultiIndex.from_tuples(np.hstack([x.values for x in (w,e,o)]), names = ['s','ss']) # full mapping"
   ]
  },
  {
   "cell_type": "markdown",
   "id": "1fc9bfa2-e0d1-4fc6-bfb3-05f244c0914f",
   "metadata": {},
   "source": [
    "Aggregate durable sectors into one:"
   ]
  },
  {
   "cell_type": "code",
   "execution_count": 8,
   "id": "051529bd-07e2-4f8b-bf9c-eb8092433d04",
   "metadata": {},
   "outputs": [],
   "source": [
    "mDur = pd.MultiIndex.from_product([db.get('s_i'), ['I_iK']], names = ['s','ss'])"
   ]
  },
  {
   "cell_type": "markdown",
   "id": "97825225-2a24-4a06-9139-db51c8e3eff8",
   "metadata": {},
   "source": [
    "For sectors not included here do nothing: This is done by including (x,x) syntax."
   ]
  },
  {
   "cell_type": "code",
   "execution_count": 9,
   "id": "a05ddd24-8578-476b-95df-a62ea52f67cc",
   "metadata": {},
   "outputs": [
    {
     "data": {
      "text/plain": [
       "<pyDatabases.gpyDB.gpyDB.GpyDB at 0x2a31a4fbd90>"
      ]
     },
     "execution_count": 9,
     "metadata": {},
     "output_type": "execute_result"
    }
   ],
   "source": [
    "m_s = m.union(mDur)\n",
    "m_sector = m_s.union(pd.MultiIndex.from_arrays([adj.rc_pd(db.get('s'), ('not', m_s.levels[0])), adj.rc_pd(db.get('s'), ('not', m_s.levels[0])).rename('ss')]))\n",
    "aggregateDB.aggDB(db, m_sector, aggBy='s',replaceWith='ss')"
   ]
  },
  {
   "cell_type": "markdown",
   "id": "06791901-7f48-4d21-bf6c-4339add2af0d",
   "metadata": {},
   "source": [
    "We do the same to the type of goods:"
   ]
  },
  {
   "cell_type": "code",
   "execution_count": 10,
   "id": "a2b1fcbb-2667-4be0-9008-ab4b5da70d41",
   "metadata": {},
   "outputs": [
    {
     "data": {
      "text/plain": [
       "<pyDatabases.gpyDB.gpyDB.GpyDB at 0x2a31a4fbd90>"
      ]
     },
     "execution_count": 10,
     "metadata": {},
     "output_type": "execute_result"
    }
   ],
   "source": [
    "mDur_n = mDur.set_levels([l.str.strip('I_') for l in mDur.levels]).rename(['n','ntemp'])\n",
    "m_goods = m.rename(['n','ntemp']).union(m.set_levels([level+'_F' for level in m.levels]).rename(['n','ntemp'])).union(mDur_n).union(mDur.rename(['n','ntemp']))\n",
    "m_goods = m_goods.union(pd.MultiIndex.from_arrays([adj.rc_pd(db.get('n'), ('not', m_goods.levels[0])),\n",
    "                                                   adj.rc_pd(db.get('n'), ('not', m_goods.levels[0])).rename('ntemp')]))\n",
    "aggregateDB.aggDB(db, m_goods)"
   ]
  },
  {
   "cell_type": "markdown",
   "id": "70c76867-b33f-42d7-8c9b-6e704781de36",
   "metadata": {},
   "source": [
    "### 3. Redefine sparse dummies"
   ]
  },
  {
   "cell_type": "markdown",
   "id": "b5dd16f0-d505-43ea-955f-577e5823a657",
   "metadata": {},
   "source": [
    "The dummies ```dImport,dImport_dom,dImport_for``` should indicate whether or not a specific sector draws on foreign+domestic goods, only domestic, or only foreign goods (for each goods category). The simple aggregation procedure does not keep these sparsity patterns. So, here we redo them:"
   ]
  },
  {
   "cell_type": "markdown",
   "id": "32eba90c-bc8f-445c-b19a-a533e6364e39",
   "metadata": {},
   "source": [
    "Define the subset ```dImport``` as  the sector, domestic good, foreign good (s,n,nn) combinations in data - i.e. where the sector demands both the domestic and foreign product:"
   ]
  },
  {
   "cell_type": "code",
   "execution_count": 11,
   "id": "9fa04b87-fc5e-4de7-95eb-2e10123351aa",
   "metadata": {},
   "outputs": [],
   "source": [
    "vD_dom = adjMultiIndex.applyMult(adj.rc_pd(db.get('vD'), db.get('n_p')), db.get('dom2for')) # demand for domestic goods mapped to foreign goods types\n",
    "vD_for = adj.rc_pd(db.get('vD'), db.get('n_F')).rename_axis(index={'n':'nn'}) # demand for foreign goods\n",
    "db['dImport'] = adj.rc_pd(vD_dom, vD_for).reorder_levels(['s','n','nn']).index"
   ]
  },
  {
   "cell_type": "markdown",
   "id": "252ea1ee-877f-4529-a4e6-02abc6a842a4",
   "metadata": {},
   "source": [
    "Define the subset ```dImport_dom``` as the sector, domestic good combination (s,n) where the sector only demands the domestic and not the corresponding foreign good:"
   ]
  },
  {
   "cell_type": "code",
   "execution_count": 12,
   "id": "1638591c-46bb-4a0a-bf6d-3bb0e10cbded",
   "metadata": {},
   "outputs": [],
   "source": [
    "db['dImport_dom'] = adj.rc_pd(vD_dom, ('not', vD_for)).droplevel('nn').reorder_levels(['s','n']).index"
   ]
  },
  {
   "cell_type": "markdown",
   "id": "1c8253b9-8c53-4b68-92d8-ff4bfd83ea2f",
   "metadata": {},
   "source": [
    "Define the subset ```dImport_for``` as the sector, foreign good combinations (s,n) where the sector only demand the foreign and not the corresponding domestic good:"
   ]
  },
  {
   "cell_type": "code",
   "execution_count": 13,
   "id": "a0fbaa92-b5fd-41f5-9eb1-653c9b5b0d81",
   "metadata": {},
   "outputs": [],
   "source": [
    "db['dImport_for'] = adj.rc_pd(vD_for, ('not', db['dImport'])).index.rename(['s','n']).reorder_levels(['s','n'])"
   ]
  },
  {
   "cell_type": "markdown",
   "id": "698915f2-a2a4-456b-9b71-8f67233536c2",
   "metadata": {},
   "source": [
    "### 4. Redefining prices and rates:"
   ]
  },
  {
   "cell_type": "markdown",
   "id": "e1b8e6d7-8376-42f9-bc34-00910c529d40",
   "metadata": {},
   "source": [
    "The symbols in the database are per default summed up when aggregating. This makes sense when we are talking about quantitiy/value symbols, but not when we are using rates (incl. prices). Instead of finding suitable aggregation weights for each symbol, here we simply reset them to standard levels. **NB: This means that any non-standard price definitions are overwritten here**."
   ]
  },
  {
   "cell_type": "code",
   "execution_count": 14,
   "id": "3be5da72-79e4-40af-9483-f3d96cf38fd0",
   "metadata": {},
   "outputs": [],
   "source": [
    "db['rDepr'] = db.get('vD_depr') / db.get('vD_dur')\n",
    "db['p'] = pd.Series(1, index = db.get('vS').index.levels[-1].union(db.get('n_F')))\n",
    "db['pD_dur'] = adjMultiIndex.applyMult(db.get('p').rename_axis(index = {'n':'nn'}), db.get('dur2inv')).dropna().droplevel('nn') * (glob.db['R_LR'].vals/(1+glob.db['infl_LR'].vals)+db.get('rDepr')-1)\n",
    "db['pD'] = adjMultiIndex.bc(db.get('p'), adj.rc_pd(db.get('qD'), ('not', db.get('dur_p')))).reorder_levels(db['qD'].domains).rename('pD') # span the pure prices 'p' to fit entire qD domain\n",
    "db['pS'] = adjMultiIndex.bc(adj.rc_pd(db.get('p'), ('not', db.get('n_F'))), db.get('qS')).reorder_levels(db['qS'].domains).rename('qS') # span 'p' to fit domain of qS. Drop prices on foreign goods."
   ]
  },
  {
   "cell_type": "markdown",
   "id": "2a9f0430-7e18-4718-a4bb-d4a7eaef6fc4",
   "metadata": {},
   "source": [
    "### Export"
   ]
  },
  {
   "cell_type": "code",
   "execution_count": 15,
   "id": "2d713f8e-ec24-458d-99ad-d0cc2959f2a8",
   "metadata": {},
   "outputs": [],
   "source": [
    "aggregateDB.readSets(db) # read sets from the symbols in data\n",
    "db.export(repo = d['data'])\n",
    "with open(f\"{d['data']}\\\\glob_{name}\", \"wb\") as file:\n",
    "    pickle.dump(glob,file)"
   ]
  }
 ],
 "metadata": {
  "kernelspec": {
   "display_name": "Python 3 (ipykernel)",
   "language": "python",
   "name": "python3"
  },
  "language_info": {
   "codemirror_mode": {
    "name": "ipython",
    "version": 3
   },
   "file_extension": ".py",
   "mimetype": "text/x-python",
   "name": "python",
   "nbconvert_exporter": "python",
   "pygments_lexer": "ipython3",
   "version": "3.9.7"
  }
 },
 "nbformat": 4,
 "nbformat_minor": 5
}
