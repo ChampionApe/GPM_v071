{
 "cells": [
  {
   "cell_type": "code",
   "execution_count": 1,
   "id": "db994bb5-756f-4f09-8ca3-6197f41edca4",
   "metadata": {},
   "outputs": [
    {
     "name": "stdout",
     "output_type": "stream",
     "text": [
      "The file _gams_py_gdb0.gdx is still active and was not deleted.\n",
      "The file _gams_py_gdb1.gdx is still active and was not deleted.\n",
      "The file _gams_py_gdb3.gdx is still active and was not deleted.\n"
     ]
    }
   ],
   "source": [
    "clean_up = True\n",
    "%run stdPackages.ipynb\n",
    "ws = gams.GamsWorkspace(working_directory=d['work']) # specify where you want to run the GAMS models from (here the repository referred to in d['work'])\n",
    "d['data'] = os.path.join(d['data'], 'IO2018')"
   ]
  },
  {
   "cell_type": "markdown",
   "id": "53b2e828-02bb-4e75-a7c3-c6a0d6f25cec",
   "metadata": {},
   "source": [
    "## SmallGR, Government sector"
   ]
  },
  {
   "cell_type": "markdown",
   "id": "8e3751de-3e6e-4eff-b428-2e949c60bee3",
   "metadata": {},
   "source": [
    "### Data/settings"
   ]
  },
  {
   "cell_type": "markdown",
   "id": "06e147c2-5cb8-4024-a985-57525d837c12",
   "metadata": {},
   "source": [
    "Load data, settings:"
   ]
  },
  {
   "cell_type": "code",
   "execution_count": 2,
   "id": "0b42197a-c317-4f4f-a81c-1767b8a0ce84",
   "metadata": {},
   "outputs": [],
   "source": [
    "name = 'smallGR' # name of model\n",
    "module = name+'_G' # name of module\n",
    "db_IO = GpyDB(pickle_path = os.path.join(d['data'], f'IO_{name}')) # load IO database named IO_name\n",
    "with open(f\"{d['data']}\\\\glob_{name}\",\"rb\") as file: # load global settings anmed glob_name\n",
    "    glob=pickle.load(file)\n",
    "dataFile = os.path.join(d['data'],'smallGR_Government.xlsx')"
   ]
  },
  {
   "cell_type": "markdown",
   "id": "7912b5b4-7d23-4b6b-9eb5-9fdaa4d1f53b",
   "metadata": {},
   "source": [
    "Beyond the standard IO data, we load relevant data for nesting structure on public consumption goods:"
   ]
  },
  {
   "cell_type": "code",
   "execution_count": 3,
   "id": "8965b64f-0e75-4925-9e6f-905b464cfc74",
   "metadata": {},
   "outputs": [],
   "source": [
    "Tree = nestingTree.aggTree_from_data(dataFile, read_trees = {'gConsumption': {'name': 'gc', 'f':'CES'}}, name = module)()"
   ]
  },
  {
   "cell_type": "markdown",
   "id": "b52e7b1f-160a-4ac6-9f81-0ef478e26f89",
   "metadata": {},
   "source": [
    "### Balanced Budget Model"
   ]
  },
  {
   "cell_type": "markdown",
   "id": "679910c0-be44-45a0-b734-f9a663d3e28e",
   "metadata": {},
   "source": [
    "The goverment sector finances public consumption by levying taxes on households, domestic, and foreign firms (even itself). Thus, the government sector behaves in some ways as the simple households, with the exceptions that (1) it does not supply labor and (2) it does not have any intertemporal prefernences. Instead, it balances its budget in each period. "
   ]
  },
  {
   "cell_type": "markdown",
   "id": "30c27a09-e431-410f-8024-2accc00e84e7",
   "metadata": {},
   "source": [
    "In the small model here, we do not account for all taxes and subsidies. For simplicity, we add an adhoc adjustment term to the government budget that balances it in the initial period. This \"j\"-term is included permanently in the model. For all other time periods than this, a single tax instrument is devoted to balance the budget endogenously. The default instrument is the tax on labor income."
   ]
  },
  {
   "cell_type": "code",
   "execution_count": 4,
   "id": "152cae77-f216-409f-8e83-c2fcd8dd1763",
   "metadata": {},
   "outputs": [],
   "source": [
    "db_IO['TotalTax'] = adj.rc_pd(db_IO.get('TotalTax'), ('not', pd.Index(['itory'],name='s')))"
   ]
  },
  {
   "cell_type": "markdown",
   "id": "ff2086dc-3123-4c88-9a25-39d852d2689b",
   "metadata": {},
   "source": [
    "Define the subset of sectors that pay taxes:"
   ]
  },
  {
   "cell_type": "code",
   "execution_count": 5,
   "id": "402bdb09-f3f5-4fde-90d6-94d9ff832fc4",
   "metadata": {},
   "outputs": [],
   "source": [
    "db_IO['d_TotalTax'] = db_IO['TotalTax'].index"
   ]
  },
  {
   "cell_type": "markdown",
   "id": "3bb8c7e5-26ca-4686-adc0-1a09aee48784",
   "metadata": {},
   "source": [
    "Compute the need for readjustment in the initial year:"
   ]
  },
  {
   "cell_type": "code",
   "execution_count": 6,
   "id": "fa93f97c-4bb6-48f5-a810-01b47a49da5c",
   "metadata": {},
   "outputs": [],
   "source": [
    "jG_budget = gpy(sum(db_IO.get('vD').xs('G'))-sum(db_IO.get('TotalTax')), name = 'jG_budget', **{'type':'parameter'})"
   ]
  },
  {
   "cell_type": "markdown",
   "id": "b03c7157-719c-460f-827c-b23be2579ad2",
   "metadata": {},
   "source": [
    "Define $\\tau_D$ to match taxes from IO data:"
   ]
  },
  {
   "cell_type": "code",
   "execution_count": 7,
   "id": "00208cc1-8026-4f8d-99f6-93490a3c758e",
   "metadata": {},
   "outputs": [],
   "source": [
    "tVAT = pd.Series(db_IO.get('TotalTax').xs('G') / db_IO.get('qD').xs('G').sum(), index = adj.rc_pd(db_IO.get('qD'), Tree.get('s')).index, name = 'tauD')\n",
    "gpyDB.add_or_merge_vals(db_IO, tVAT, 'tauD')"
   ]
  },
  {
   "cell_type": "markdown",
   "id": "0433e67e-a3fd-4726-b0d0-0425c50a50cf",
   "metadata": {},
   "source": [
    "Export adjusted IO data again:"
   ]
  },
  {
   "cell_type": "code",
   "execution_count": 8,
   "id": "1a449fac-b953-4c59-8b12-bffb7447cd52",
   "metadata": {},
   "outputs": [],
   "source": [
    "db_IO.export(repo=d['data'])"
   ]
  },
  {
   "cell_type": "markdown",
   "id": "553d9632-c28f-4e12-ae16-c674d5f9306e",
   "metadata": {},
   "source": [
    "Add time index to the IO data:"
   ]
  },
  {
   "cell_type": "code",
   "execution_count": 9,
   "id": "2b969433-0239-4f60-8411-ede5171f3d51",
   "metadata": {},
   "outputs": [],
   "source": [
    "def addT(symbol, t):\n",
    "    return adjMultiIndex.bc(symbol, t).reorder_levels(['t']+symbol.index.names if 't' not in symbol.index.names else symbol.index.names)\n",
    "[db_IO.__setitem__(k, addT(db_IO.get(k), glob.db['t'].vals)) for k in db_IO.getTypes(['variable','scalar_variable'])];"
   ]
  },
  {
   "cell_type": "markdown",
   "id": "b90828cd-e3bb-435e-b11b-fc259c389d2a",
   "metadata": {},
   "source": [
    "### Initialize module"
   ]
  },
  {
   "cell_type": "markdown",
   "id": "5c580da0-5ea9-443a-a1f9-d155f41c62b4",
   "metadata": {},
   "source": [
    "*Initialize module without any savings first (static method):*"
   ]
  },
  {
   "cell_type": "code",
   "execution_count": 10,
   "id": "0a4ac9fd-6f15-425c-afdd-ca7bd7d04767",
   "metadata": {},
   "outputs": [],
   "source": [
    "G = CGE_Government.balancedBudget(tree = Tree, glob = glob) # init module\n",
    "G.s.db['labor'] = pd.MultiIndex.from_tuples([('HH','L')], names = ['s','n'])\n",
    "G.s.db['d_TotalTax'] = db_IO.get('d_TotalTax')\n",
    "G.s.db['jG_budget'] = jG_budget\n",
    "G.s.db.update_alias(db_IO.get('alias_'))\n",
    "G.s.db['tauD0'] = db_IO.get('tauD').rename('tauD0')\n",
    "G.s.db['tauD'] = db_IO.get('tauD').copy()\n",
    "G.s.db['TotalTax'] = db_IO.get('TotalTax').copy()"
   ]
  },
  {
   "cell_type": "markdown",
   "id": "ca3c7011-b915-4ba9-919e-0dc302a3e2e3",
   "metadata": {},
   "source": [
    "*Value shares for nesting part:*"
   ]
  },
  {
   "cell_type": "code",
   "execution_count": 11,
   "id": "bfda7597-ffaa-4b73-946b-23060d4f9be9",
   "metadata": {},
   "outputs": [],
   "source": [
    "v = valueShares.SimpleRamsey(Tree, db_IO.copy())\n",
    "v.compile() # set up model structure, and make sure to initialize symbols if they are not yet defined in the database \n",
    "v.write(); # write GAMS code used for the model\n",
    "m = v.run(exportTo = d['work'],ws=ws) # solve the \"model\"."
   ]
  },
  {
   "cell_type": "markdown",
   "id": "14d0afe4-c72c-4e79-9d2c-7de7261ceeaf",
   "metadata": {},
   "source": [
    "Use value shares to initialize variables:\n",
    "* Outputs and inputs are provided by IO data.\n",
    "* For intermediate goods, assume a price of 1 (default option in the class, so we don't have to do anything) and set value share = quantity.\n",
    "* Set share parameters to the ones identified by value share system."
   ]
  },
  {
   "cell_type": "code",
   "execution_count": 12,
   "id": "c7972338-ed43-4dd0-b120-2215c0349938",
   "metadata": {},
   "outputs": [],
   "source": [
    "gpyDB.GpyDBs_AOM_Second(G.s.db, gpy(adj.rc_pd(m.out_db.get('vD'), G.get('int').union(G.get('output'))).rename('qD'))) # set intermediate and output levels\n",
    "gpyDB.GpyDBs_AOM_Second(G.s.db, gpy(m.out_db.get('mu').xs(G.get('t0')[0]).rename('mu'))) # set share parameters\n",
    "G.s.db['a'] = db_IO.get('a')\n",
    "aggregateDB.readSets(G.s.db)"
   ]
  },
  {
   "cell_type": "markdown",
   "id": "4cc48472-eee1-4e05-afec-26e3e32c1741",
   "metadata": {},
   "source": [
    "Use sneaky calibration method to solve and calibrate:"
   ]
  },
  {
   "cell_type": "code",
   "execution_count": 13,
   "id": "46b3eacb-39c2-48e9-81a5-f376d87b429e",
   "metadata": {},
   "outputs": [],
   "source": [
    "G.compile(initDB=True)\n",
    "G.s.setstate('B_standAlone')\n",
    "G.write();\n",
    "# m_base = G.run(exportTo = d['work'],ws=ws) # solve the \"model\".\n",
    "# G.s['solve'] = f\"\"\"@SolveEmptyNLP({G.s['name']})\"\"\" # test run as NLP model\n",
    "# G.write();\n",
    "mCalib, cp = G.sneakyCalib(db_IO, cState = 'C_standAlone', ws = ws, loop_kwargs = {'n': 25}, **{'cns': 'CONOPT4'})"
   ]
  },
  {
   "cell_type": "markdown",
   "id": "82229d5d-8b6d-4495-b5fc-725b8f1b0ba1",
   "metadata": {},
   "source": [
    "### 5. Export "
   ]
  },
  {
   "cell_type": "code",
   "execution_count": 14,
   "id": "aa7de8d3-ce1c-4911-aa2c-3f8ecb21d129",
   "metadata": {},
   "outputs": [],
   "source": [
    "robust.robust_merge_dbs(G.s.db, mCalib.out_db.getTypes(['variable','scalar_variable']), priority = 'second')\n",
    "# G.s.setstate('B')"
   ]
  },
  {
   "cell_type": "markdown",
   "id": "f08d0983-312a-4056-851e-09fdb0a31333",
   "metadata": {},
   "source": [
    "Export:"
   ]
  },
  {
   "cell_type": "code",
   "execution_count": 15,
   "id": "e08dedb2-66e7-407e-bf89-33c216e21363",
   "metadata": {},
   "outputs": [],
   "source": [
    "with open(os.path.join(d['data'], G.name), \"wb\") as file:\n",
    "    pickle.dump(G,file)"
   ]
  }
 ],
 "metadata": {
  "kernelspec": {
   "display_name": "Python 3 (ipykernel)",
   "language": "python",
   "name": "python3"
  },
  "language_info": {
   "codemirror_mode": {
    "name": "ipython",
    "version": 3
   },
   "file_extension": ".py",
   "mimetype": "text/x-python",
   "name": "python",
   "nbconvert_exporter": "python",
   "pygments_lexer": "ipython3",
   "version": "3.9.7"
  }
 },
 "nbformat": 4,
 "nbformat_minor": 5
}
