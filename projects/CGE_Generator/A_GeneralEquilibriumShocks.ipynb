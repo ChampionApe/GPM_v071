{
 "cells": [
  {
   "cell_type": "code",
   "execution_count": 1,
   "id": "ce7ad764-69fb-42cd-9bdb-045c4549a7eb",
   "metadata": {},
   "outputs": [],
   "source": [
    "clean_up = True\n",
    "%run stdPackages.ipynb"
   ]
  },
  {
   "cell_type": "code",
   "execution_count": 2,
   "id": "ad74587f-3214-4dad-a087-6a5deb415707",
   "metadata": {},
   "outputs": [],
   "source": [
    "import math, dash\n",
    "import plotly.express as px\n",
    "from plotly.subplots import make_subplots"
   ]
  },
  {
   "cell_type": "markdown",
   "id": "be82bf6a-0fc3-4687-b95a-020888540fba",
   "metadata": {},
   "source": [
    "# Simulations in partial equilibrium"
   ]
  },
  {
   "cell_type": "code",
   "execution_count": 3,
   "id": "a4549b6f-a433-4bb5-943b-72ec1455b403",
   "metadata": {},
   "outputs": [],
   "source": [
    "ws = gams.GamsWorkspace(working_directory=d['work']) # specify where you want to run the GAMS models from (here the repository referred to in d['work'])\n",
    "with open(f\"{d['data']}\\\\A_GE\",\"rb\") as file:\n",
    "    GE = pickle.load(file)\n",
    "GE.write();"
   ]
  },
  {
   "cell_type": "markdown",
   "id": "692545de-f867-4536-bef7-6ba5722bb538",
   "metadata": {},
   "source": [
    "Define some standard plots for each shock:\n",
    "1. Quantities/prices on durables (production module).\n",
    "2. Investments (production module).\n",
    "3. Total supply of domestically produced goods.\n",
    "4. Total demand for all types of goods (summed over $s$).\n",
    "5. Equilibrium prices.\n",
    "6. Demand for all types of goods, for all sectors."
   ]
  },
  {
   "cell_type": "code",
   "execution_count": 4,
   "id": "6107572c-a085-4ee3-8e27-345334d1240b",
   "metadata": {},
   "outputs": [],
   "source": [
    "def pdSum(x, y):\n",
    "    return x.groupby([i for i in x.index.names if i not in y]).sum() if pyDatabases.is_iterable(y) else x.groupby([i for i in x.index.names if i != y]).sum()\n",
    "def adjustLabels(x, labels_, keepLoop):\n",
    "    return adj.rc_pd(adjMultiIndex.applyMult(x, labels_).droplevel('l1'), keepLoop).unstack(keepLoop.name)\n",
    "def stdPlots(m,GE,labels_,keepLoop, i = 'AIi', h = 'AHH'):\n",
    "    mult_graphs()\n",
    "    demand_n  = GE.get('nEqui').union(GE.get('nOut_f'))\n",
    "    demand_sn = adj.rc_pd(m.out_db.get('qD'), demand_n).droplevel('t').index.unique()\n",
    "    qd = adjustLabels(adj.rc_pd(m.out_db.get('sol_qD_shock'), ('and', [demand_sn, GE.get('txE')])), labels_, keepLoop)\n",
    "    figs = {'qD_Durables': stdPlot(adjustLabels(adj.rc_pd(m.out_db.get('sol_qD_shock'), GE.get('dur_p')), labels_, keepLoop), GE.get('dur_p'), \"$q$, durables\"),\n",
    "            'pD_Durables': stdPlot(adjustLabels(adj.rc_pd(m.out_db.get('sol_pD_shock'), GE.get('dur_p')), labels_, keepLoop), GE.get('dur_p'), \"$p$, durables\"),\n",
    "            'qD_Investments': stdPlot(adjustLabels(adj.rc_pd(m.out_db.get('sol_qD_shock'), ('and', [GE.get('inv_p'), GE.get('txE')])), labels_, keepLoop), GE.get('inv_p'), \"$q^d$, investments\"),\n",
    "            'qS': stdPlot(adjustLabels(adj.rc_pd(pdSum(m.out_db.get('sol_qS_shock'),'s'), ('and', [GE.get('nEqui'), GE.get('txE')])), labels_, keepLoop), GE.get('nEqui'), \"$q^s$\"),\n",
    "            'qD': stdPlot(adjustLabels(adj.rc_pd(pdSum(m.out_db.get('sol_qD_shock'),'s'), ('and', [demand_n, GE.get('txE')])), labels_, keepLoop), demand_n, \"$q^d\"),\n",
    "            'p': stdPlot(adjustLabels(adj.rc_pd(m.out_db.get('sol_p_shock'), GE.get('txE')), labels_, keepLoop), demand_n, \"p\"),\n",
    "            'HH_savings': stdPlot(adjustLabels(pdSum(m.out_db.get('sol_vD_shock'),'n'), labels_, keepLoop), GE.get('s_h'), \"$v$, households\"),\n",
    "            'HH_consump': stdPlot(adjustLabels(adj.rc_pd(m.out_db.get('sol_qD_shock'), ('and', [GE.get('output',m=h), GE.get('txE')])), labels_, keepLoop), GE.get('output',m=h), \"$C$, households\")}\n",
    "    figs.update({f\"qDs_{i}\": stdPlot(adj.rc_pd(qd, GE.get(f\"s_{i}\")), adj.rc_pd(demand_sn, GE.get(f\"s_{i}\")), \"q^d_s\") for i in ('p','i','h','f','itory')})\n",
    "    return figs\n",
    "def stdPlot(df, c, title):\n",
    "    nplots,nrows = len(c), math.ceil(len(c)/2)\n",
    "    fig, axes = plt.subplots(nrows, min(nplots,2), figsize=(14,(4*nrows)));\n",
    "    for i in range(nplots):\n",
    "        ax = plt.subplot(nrows,min(nplots,2),i+1)\n",
    "        df.xs(c[i], level = c.names if pyDatabases.is_iterable(c[i]) else c.name).plot(ax=ax, legend=False);\n",
    "        ax.set_title(c[i])\n",
    "    fig.legend(df.columns,ncol=3,loc=8, title = df.columns.name, frameon=True)\n",
    "    # fig.suptitle(title,fontsize=15)\n",
    "    fig.tight_layout()\n",
    "    fig.subplots_adjust(bottom=0.35/nrows);\n",
    "    return fig"
   ]
  },
  {
   "cell_type": "markdown",
   "id": "69af3a8e-ea0c-46fe-b43d-88001a4181dd",
   "metadata": {},
   "source": [
    "### 1: An increase on the tax of $a$"
   ]
  },
  {
   "cell_type": "markdown",
   "id": "63641a00-9608-43ef-9f0d-d6f8a15ea172",
   "metadata": {},
   "source": [
    "*i. Set up target database:*"
   ]
  },
  {
   "cell_type": "code",
   "execution_count": 5,
   "id": "7cf534a4-3528-4c9a-927e-55dac1eed3b3",
   "metadata": {},
   "outputs": [],
   "source": [
    "dbT = GpyDB(**{'name': 'TaxShock'})\n",
    "dbT['tauS'] = adj.rc_pd(GE.get('tauS'), pd.Index(['a'],name='n')) + 0.25\n",
    "# dbT['tauD'] = pd.Series(0.25, index = pd.MultiIndex.from_product([GE.get('t'), GE.get('s'), pd.Index(['a'], name = 'n')]), name = 'tauD')\n",
    "extractSol = {k:None for k in ('qS','qD','pD','p')}\n",
    "extractSol['vD'] = GE.g('svngs')\n",
    "labels = pd.Index(np.linspace(0, 0.25, 26), name = \"\"\"$\\Delta \\\\tau^S_a$\"\"\")"
   ]
  },
  {
   "cell_type": "markdown",
   "id": "a2a212bb-db7b-4301-949c-bd869fe4abbe",
   "metadata": {},
   "source": [
    "*ii. Solve:*"
   ]
  },
  {
   "cell_type": "code",
   "execution_count": 6,
   "id": "dcdb1c0a-f907-4ca0-831d-96efd78b341d",
   "metadata": {},
   "outputs": [],
   "source": [
    "m_tax, cp_tax = GE.sneakySolve(dbT, ws = ws, loop_kwargs = {'extractSol': extractSol, 'n': 26}, **{'cns': 'CONOPT4'})"
   ]
  },
  {
   "cell_type": "markdown",
   "id": "4c00e5cf-653e-4678-a148-b5773dbb84f8",
   "metadata": {},
   "source": [
    "*iii. Plot:*"
   ]
  },
  {
   "cell_type": "code",
   "execution_count": 7,
   "id": "ac5e3710-5c53-489b-8ff7-ca3fb05faa7e",
   "metadata": {},
   "outputs": [],
   "source": [
    "%%capture\n",
    "keepLoop = pd.Index([labels[0], labels[13], labels[25]], name = labels.name) # which labels in the loop are we plotting\n",
    "labels_ = pd.MultiIndex.from_arrays([m_tax.out_db.get('l1'), labels]) \n",
    "figs_tax = stdPlots(m_tax, GE, labels_, keepLoop) # store figures"
   ]
  },
  {
   "cell_type": "markdown",
   "id": "813824b6-ce87-4810-b860-23b838b29b1f",
   "metadata": {},
   "source": [
    "*Export:*"
   ]
  },
  {
   "cell_type": "code",
   "execution_count": 8,
   "id": "e11139a6-9304-4c2b-9d79-7b608bc46fd4",
   "metadata": {},
   "outputs": [],
   "source": [
    "[f.savefig(f\"{d['figs']}\\\\CGE_A\\\\GE_{dbT.name}_{k}.pdf\", edgecolor='k') for k,f in figs_tax.items()];"
   ]
  },
  {
   "cell_type": "markdown",
   "id": "c86c1614-0b37-4c3f-b130-6abbfcd5aca1",
   "metadata": {
    "tags": []
   },
   "source": [
    "### 2: A decrease of initial capital of 25%"
   ]
  },
  {
   "cell_type": "markdown",
   "id": "20f0f387-abef-453b-83a8-14f39461d88c",
   "metadata": {},
   "source": [
    "*i. Set up target database:*"
   ]
  },
  {
   "cell_type": "code",
   "execution_count": 9,
   "id": "c2feb812-dbb6-4186-88dd-13ea9a4aed7d",
   "metadata": {},
   "outputs": [],
   "source": [
    "dbT = GpyDB(**{'name': 'CapitalShockLower'})\n",
    "dbT['qD'] = adj.rc_pd(GE.get('qD'), ('and', [GE.get('dur_p'), GE.get('t0')])) * 0.75\n",
    "labels = pd.Index(range(26), name = \"\"\"% drop in $K_0$\"\"\")"
   ]
  },
  {
   "cell_type": "markdown",
   "id": "82d9351c-4c7f-4c73-8924-e51bcd161cbe",
   "metadata": {},
   "source": [
    "*ii. Solve:*"
   ]
  },
  {
   "cell_type": "code",
   "execution_count": 10,
   "id": "df8a9e24-a186-44ff-8cf1-4f1160b778a9",
   "metadata": {},
   "outputs": [],
   "source": [
    "m_kl, cp_kl = GE.sneakySolve(dbT, ws = ws, loop_kwargs = {'extractSol': extractSol, 'n': 26}, **{'cns': 'CONOPT4'})"
   ]
  },
  {
   "cell_type": "markdown",
   "id": "c3263ca3-0616-49d5-82c6-1ca1d93d2fe4",
   "metadata": {},
   "source": [
    "*iii. Plot:*"
   ]
  },
  {
   "cell_type": "code",
   "execution_count": 11,
   "id": "4afd9ba1-b8b6-4247-b6a3-e25809219ded",
   "metadata": {},
   "outputs": [],
   "source": [
    "%%capture\n",
    "keepLoop = pd.Index([labels[0], labels[13], labels[25]], name = labels.name) # which labels in the loop are we plotting\n",
    "labels_ = pd.MultiIndex.from_arrays([m_kl.out_db.get('l1'), labels]) \n",
    "figs_kl = stdPlots(m_kl, GE, labels_, keepLoop) # store figures"
   ]
  },
  {
   "cell_type": "markdown",
   "id": "f7023892-1dd7-4ac2-9b8d-4ee5ec1b5d31",
   "metadata": {},
   "source": [
    "*Export:*"
   ]
  },
  {
   "cell_type": "code",
   "execution_count": 12,
   "id": "d85bb3d5-c012-4521-a663-8dea4854fb0a",
   "metadata": {},
   "outputs": [],
   "source": [
    "[f.savefig(f\"{d['figs']}\\\\CGE_A\\\\GE_{dbT.name}_{k}.pdf\", edgecolor='k') for k,f in figs_kl.items()];"
   ]
  },
  {
   "cell_type": "markdown",
   "id": "19b10d0f-8e76-4d36-81e9-51fe4a45ae1c",
   "metadata": {},
   "source": [
    "### 3: An increase in initial capital of 25%"
   ]
  },
  {
   "cell_type": "markdown",
   "id": "15b7f572-eb76-429a-b3f1-4a5ccbd01f0c",
   "metadata": {},
   "source": [
    "*i. Set up target database:*"
   ]
  },
  {
   "cell_type": "code",
   "execution_count": 13,
   "id": "ff8bb0ae-7c0c-40e2-92d0-18f61ecedf71",
   "metadata": {},
   "outputs": [],
   "source": [
    "dbT = GpyDB(**{'name': 'CapitalShockUpper'})\n",
    "dbT['qD'] = adj.rc_pd(GE.get('qD'), ('and', [GE.get('dur_p'), GE.get('t0')])) * 1.25\n",
    "labels = pd.Index(range(26), name = \"\"\"% increase in $K_0$\"\"\")"
   ]
  },
  {
   "cell_type": "markdown",
   "id": "065ecb3d-7ed6-4243-b320-d66619ce81fd",
   "metadata": {},
   "source": [
    "*ii. Solve:*"
   ]
  },
  {
   "cell_type": "code",
   "execution_count": 14,
   "id": "35eeefc3-09ae-4e26-b550-6d21c5487edf",
   "metadata": {},
   "outputs": [],
   "source": [
    "m_ku, cp_ku = GE.sneakySolve(dbT, ws = ws, loop_kwargs = {'extractSol': extractSol, 'n': 26}, **{'cns': 'CONOPT4'})"
   ]
  },
  {
   "cell_type": "markdown",
   "id": "3d19f64e-448b-4828-ac7a-757c9aea5819",
   "metadata": {},
   "source": [
    "*iii. Plot:*"
   ]
  },
  {
   "cell_type": "code",
   "execution_count": 15,
   "id": "88bab1f8-f986-4e85-a3a2-202937a2fcda",
   "metadata": {},
   "outputs": [],
   "source": [
    "%%capture\n",
    "keepLoop = pd.Index([labels[0], labels[13], labels[25]], name = labels.name) # which labels in the loop are we plotting\n",
    "labels_ = pd.MultiIndex.from_arrays([m_ku.out_db.get('l1'), labels]) \n",
    "figs_ku = stdPlots(m_ku, GE, labels_, keepLoop) # store figures"
   ]
  },
  {
   "cell_type": "markdown",
   "id": "946c84f3-50ed-4a65-8b5a-01cbc4838c7d",
   "metadata": {},
   "source": [
    "*Export:*"
   ]
  },
  {
   "cell_type": "code",
   "execution_count": 16,
   "id": "b51c1d1b-ee32-4ff7-bde5-5f2f8667e658",
   "metadata": {},
   "outputs": [],
   "source": [
    "[f.savefig(f\"{d['figs']}\\\\CGE_A\\\\GE_{dbT.name}_{k}.pdf\", edgecolor='k') for k,f in figs_ku.items()];"
   ]
  },
  {
   "cell_type": "markdown",
   "id": "6e80cd75-4011-4eb5-af2f-f5305642e3cf",
   "metadata": {},
   "source": [
    "### 4: A temporarily higher depreciation rate"
   ]
  },
  {
   "cell_type": "markdown",
   "id": "383f49f7-416f-4b73-8893-f66e0c3975eb",
   "metadata": {},
   "source": [
    "*i. Set up target database:*"
   ]
  },
  {
   "cell_type": "code",
   "execution_count": 17,
   "id": "e6dbe57d-416b-467f-9edb-265f18c1c024",
   "metadata": {},
   "outputs": [],
   "source": [
    "dbT = GpyDB(**{'name': 'TempDepr'})\n",
    "dbT['rDepr'] = GE.get('rDepr').add(pd.Series(np.linspace(0.05, 0, 11), index = GE.get('t')[0:11]), fill_value=0)\n",
    "labels = pd.Index(np.round(np.linspace(0, 0.05, 26),3), name = \"\"\"$\\Delta \\delta_{t_0}$\"\"\")"
   ]
  },
  {
   "cell_type": "markdown",
   "id": "f81ca21f-53cb-42cd-85f4-fec056c3d380",
   "metadata": {},
   "source": [
    "*ii. Solve:*"
   ]
  },
  {
   "cell_type": "code",
   "execution_count": 18,
   "id": "ee9fc63f-394b-46d5-bdc8-a23d6281088b",
   "metadata": {},
   "outputs": [],
   "source": [
    "m_tempDepr, cp_tempDepr = GE.sneakySolve(dbT, ws = ws, loop_kwargs = {'extractSol': extractSol, 'n': 26}, **{'cns': 'CONOPT4'})"
   ]
  },
  {
   "cell_type": "markdown",
   "id": "580a7c47-5564-4e8d-8733-d7f6361a9c32",
   "metadata": {},
   "source": [
    "*iii. Plot:*"
   ]
  },
  {
   "cell_type": "code",
   "execution_count": 19,
   "id": "99497417-dcc7-45e1-82d7-22017435ea7a",
   "metadata": {},
   "outputs": [],
   "source": [
    "%%capture\n",
    "keepLoop = pd.Index([labels[0], labels[13], labels[25]], name = labels.name) # which labels in the loop are we plotting\n",
    "labels_ = pd.MultiIndex.from_arrays([m_tempDepr.out_db.get('l1'), labels]) \n",
    "figs_tempDepr = stdPlots(m_tempDepr, GE, labels_, keepLoop) # store figures"
   ]
  },
  {
   "cell_type": "markdown",
   "id": "8b7bdfbd-481a-4351-804e-5146b93b4987",
   "metadata": {},
   "source": [
    "*Export:*"
   ]
  },
  {
   "cell_type": "code",
   "execution_count": 20,
   "id": "00832cb6-40cc-4452-9e23-4fa799cfa9a1",
   "metadata": {},
   "outputs": [],
   "source": [
    "[f.savefig(f\"{d['figs']}\\\\CGE_A\\\\GE_{dbT.name}_{k}.pdf\", edgecolor='k') for k,f in figs_tempDepr.items()];"
   ]
  }
 ],
 "metadata": {
  "kernelspec": {
   "display_name": "Python 3 (ipykernel)",
   "language": "python",
   "name": "python3"
  },
  "language_info": {
   "codemirror_mode": {
    "name": "ipython",
    "version": 3
   },
   "file_extension": ".py",
   "mimetype": "text/x-python",
   "name": "python",
   "nbconvert_exporter": "python",
   "pygments_lexer": "ipython3",
   "version": "3.9.7"
  }
 },
 "nbformat": 4,
 "nbformat_minor": 5
}
