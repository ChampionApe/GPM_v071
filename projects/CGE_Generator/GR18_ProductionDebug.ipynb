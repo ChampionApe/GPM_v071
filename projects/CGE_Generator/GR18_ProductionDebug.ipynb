{
 "cells": [
  {
   "cell_type": "code",
   "execution_count": 1,
   "id": "968cd2c0-e380-4c89-9427-e62b55d58774",
   "metadata": {},
   "outputs": [],
   "source": [
    "clean_up = True\n",
    "%run stdPackages.ipynb\n",
    "ws = gams.GamsWorkspace(working_directory=d['work']) # specify where you want to run the GAMS models from (here the repository referred to in d['work'])\n",
    "d['data'] = os.path.join(d['data'], 'IO2018')"
   ]
  },
  {
   "cell_type": "markdown",
   "id": "e1b0b385-c42d-4d1a-9ee5-f9260c93f32c",
   "metadata": {},
   "source": [
    "## GR18 Production, debug"
   ]
  },
  {
   "cell_type": "markdown",
   "id": "c191edd6-d1af-4bd9-9527-af2cf1eaf189",
   "metadata": {},
   "source": [
    "Different attempts at diagnosing problems with the production module/data."
   ]
  },
  {
   "cell_type": "markdown",
   "id": "bd2c9ac1-09e8-4d75-8192-dcc6652644e3",
   "metadata": {},
   "source": [
    "### Data/settings"
   ]
  },
  {
   "cell_type": "code",
   "execution_count": 2,
   "id": "89428157-0bb3-4d1b-9050-59ae72583c81",
   "metadata": {},
   "outputs": [],
   "source": [
    "name = 'GR18' # name of model\n",
    "module = name+'_Production' # name of module\n",
    "db_IO = GpyDB(pickle_path = os.path.join(d['data'], f'IO_{name}')) # load IO database named IO_name\n",
    "with open(f\"{d['data']}\\\\glob_{name}\",\"rb\") as file: # load global settings anmed glob_name\n",
    "    glob=pickle.load(file)\n",
    "db_m  = GpyDB(pickle_path = os.path.join(d['data'], module)) # load data with settings for production module"
   ]
  },
  {
   "cell_type": "markdown",
   "id": "7e134e5f-a944-4abb-a568-445507874302",
   "metadata": {},
   "source": [
    "Add time index to the IO data:"
   ]
  },
  {
   "cell_type": "code",
   "execution_count": 3,
   "id": "f34fd911-18ba-4efe-a57d-c93b4cc269b0",
   "metadata": {},
   "outputs": [],
   "source": [
    "def addT(symbol, t):\n",
    "    return adjMultiIndex.bc(symbol, t).reorder_levels(['t']+symbol.index.names if 't' not in symbol.index.names else symbol.index.names)\n",
    "[db_IO.__setitem__(k, addT(db_IO.get(k), glob.db['t'].vals)) for k in db_IO.getTypes(['variable','scalar_variable'])];"
   ]
  },
  {
   "cell_type": "markdown",
   "id": "bc79c7ea-8269-4846-b34c-b9b311d417ae",
   "metadata": {},
   "source": [
    "Add durable prices (for now, to solve static calibration):"
   ]
  },
  {
   "cell_type": "code",
   "execution_count": 4,
   "id": "8e73c4aa-909d-440e-82f1-68ce67661650",
   "metadata": {},
   "outputs": [],
   "source": [
    "db_IO['pD'] = db_IO.get('pD_dur').combine_first(db_IO.get('pD'))\n",
    "db_IO['p'] = db_IO.get('pD_dur').groupby(['t','n']).mean().combine_first(db_IO.get('p'))"
   ]
  },
  {
   "cell_type": "markdown",
   "id": "3c7fd4f6-d86b-4956-87f6-83ea5f586372",
   "metadata": {},
   "source": [
    "### Sector-by-sector solution"
   ]
  },
  {
   "cell_type": "markdown",
   "id": "df1a20cd-c54b-4637-9b77-4f39da5cd1f3",
   "metadata": {},
   "source": [
    "Try to run one sector at a time:"
   ]
  },
  {
   "cell_type": "code",
   "execution_count": 5,
   "id": "eef834d7-ceac-435c-8051-a047b3dc2aa3",
   "metadata": {},
   "outputs": [
    {
     "ename": "IndexError",
     "evalue": "index 0 is out of bounds for axis 0 with size 0",
     "output_type": "error",
     "traceback": [
      "\u001b[1;31m---------------------------------------------------------------------------\u001b[0m",
      "\u001b[1;31mIndexError\u001b[0m                                Traceback (most recent call last)",
      "\u001b[1;32m~\\AppData\\Local\\Temp/ipykernel_11328/2078074754.py\u001b[0m in \u001b[0;36m<module>\u001b[1;34m\u001b[0m\n\u001b[0;32m     14\u001b[0m     \u001b[0mv\u001b[0m\u001b[1;33m.\u001b[0m\u001b[0mwrite\u001b[0m\u001b[1;33m(\u001b[0m\u001b[1;33m)\u001b[0m\u001b[1;33m;\u001b[0m \u001b[1;31m# write GAMS code used for the model\u001b[0m\u001b[1;33m\u001b[0m\u001b[1;33m\u001b[0m\u001b[0m\n\u001b[0;32m     15\u001b[0m     \u001b[0mm\u001b[0m \u001b[1;33m=\u001b[0m \u001b[0mv\u001b[0m\u001b[1;33m.\u001b[0m\u001b[0mrun\u001b[0m\u001b[1;33m(\u001b[0m\u001b[0mexportTo\u001b[0m \u001b[1;33m=\u001b[0m \u001b[0md\u001b[0m\u001b[1;33m[\u001b[0m\u001b[1;34m'work'\u001b[0m\u001b[1;33m]\u001b[0m\u001b[1;33m,\u001b[0m\u001b[0mws\u001b[0m\u001b[1;33m=\u001b[0m\u001b[0mws\u001b[0m\u001b[1;33m)\u001b[0m \u001b[1;31m# solve the \"model\".\u001b[0m\u001b[1;33m\u001b[0m\u001b[1;33m\u001b[0m\u001b[0m\n\u001b[1;32m---> 16\u001b[1;33m     \u001b[0mm\u001b[0m\u001b[1;33m.\u001b[0m\u001b[0mout_db\u001b[0m\u001b[1;33m.\u001b[0m\u001b[0mget\u001b[0m\u001b[1;33m(\u001b[0m\u001b[1;34m'vD'\u001b[0m\u001b[1;33m)\u001b[0m\u001b[1;33m.\u001b[0m\u001b[0mindex\u001b[0m \u001b[1;33m=\u001b[0m \u001b[0mm\u001b[0m\u001b[1;33m.\u001b[0m\u001b[0mout_db\u001b[0m\u001b[1;33m.\u001b[0m\u001b[0mget\u001b[0m\u001b[1;33m(\u001b[0m\u001b[1;34m'vD'\u001b[0m\u001b[1;33m)\u001b[0m\u001b[1;33m.\u001b[0m\u001b[0mindex\u001b[0m\u001b[1;33m.\u001b[0m\u001b[0mset_levels\u001b[0m\u001b[1;33m(\u001b[0m\u001b[0mm\u001b[0m\u001b[1;33m.\u001b[0m\u001b[0mout_db\u001b[0m\u001b[1;33m.\u001b[0m\u001b[0mget\u001b[0m\u001b[1;33m(\u001b[0m\u001b[1;34m'vD'\u001b[0m\u001b[1;33m)\u001b[0m\u001b[1;33m.\u001b[0m\u001b[0mindex\u001b[0m\u001b[1;33m.\u001b[0m\u001b[0mlevels\u001b[0m\u001b[1;33m[\u001b[0m\u001b[1;36m1\u001b[0m\u001b[1;33m]\u001b[0m\u001b[1;33m.\u001b[0m\u001b[0mastype\u001b[0m\u001b[1;33m(\u001b[0m\u001b[0mstr\u001b[0m\u001b[1;33m)\u001b[0m\u001b[1;33m,\u001b[0m \u001b[0mlevel\u001b[0m \u001b[1;33m=\u001b[0m \u001b[1;34m's'\u001b[0m\u001b[1;33m)\u001b[0m\u001b[1;33m\u001b[0m\u001b[1;33m\u001b[0m\u001b[0m\n\u001b[0m\u001b[0;32m     17\u001b[0m     \u001b[0mm\u001b[0m\u001b[1;33m.\u001b[0m\u001b[0mout_db\u001b[0m\u001b[1;33m.\u001b[0m\u001b[0mget\u001b[0m\u001b[1;33m(\u001b[0m\u001b[1;34m'mu'\u001b[0m\u001b[1;33m)\u001b[0m\u001b[1;33m.\u001b[0m\u001b[0mindex\u001b[0m \u001b[1;33m=\u001b[0m \u001b[0mm\u001b[0m\u001b[1;33m.\u001b[0m\u001b[0mout_db\u001b[0m\u001b[1;33m.\u001b[0m\u001b[0mget\u001b[0m\u001b[1;33m(\u001b[0m\u001b[1;34m'mu'\u001b[0m\u001b[1;33m)\u001b[0m\u001b[1;33m.\u001b[0m\u001b[0mindex\u001b[0m\u001b[1;33m.\u001b[0m\u001b[0mset_levels\u001b[0m\u001b[1;33m(\u001b[0m\u001b[0mm\u001b[0m\u001b[1;33m.\u001b[0m\u001b[0mout_db\u001b[0m\u001b[1;33m.\u001b[0m\u001b[0mget\u001b[0m\u001b[1;33m(\u001b[0m\u001b[1;34m'mu'\u001b[0m\u001b[1;33m)\u001b[0m\u001b[1;33m.\u001b[0m\u001b[0mindex\u001b[0m\u001b[1;33m.\u001b[0m\u001b[0mlevels\u001b[0m\u001b[1;33m[\u001b[0m\u001b[1;36m1\u001b[0m\u001b[1;33m]\u001b[0m\u001b[1;33m.\u001b[0m\u001b[0mastype\u001b[0m\u001b[1;33m(\u001b[0m\u001b[0mstr\u001b[0m\u001b[1;33m)\u001b[0m\u001b[1;33m,\u001b[0m \u001b[0mlevel\u001b[0m \u001b[1;33m=\u001b[0m \u001b[1;34m's'\u001b[0m\u001b[1;33m)\u001b[0m\u001b[1;33m\u001b[0m\u001b[1;33m\u001b[0m\u001b[0m\n\u001b[0;32m     18\u001b[0m     \u001b[0mgpyDB\u001b[0m\u001b[1;33m.\u001b[0m\u001b[0mGpyDBs_AOM_Second\u001b[0m\u001b[1;33m(\u001b[0m\u001b[0mP\u001b[0m\u001b[1;33m.\u001b[0m\u001b[0ms\u001b[0m\u001b[1;33m.\u001b[0m\u001b[0mdb\u001b[0m\u001b[1;33m,\u001b[0m \u001b[0mgpy\u001b[0m\u001b[1;33m(\u001b[0m\u001b[0madj\u001b[0m\u001b[1;33m.\u001b[0m\u001b[0mrc_pd\u001b[0m\u001b[1;33m(\u001b[0m\u001b[0mm\u001b[0m\u001b[1;33m.\u001b[0m\u001b[0mout_db\u001b[0m\u001b[1;33m.\u001b[0m\u001b[0mget\u001b[0m\u001b[1;33m(\u001b[0m\u001b[1;34m'vD'\u001b[0m\u001b[1;33m)\u001b[0m\u001b[1;33m,\u001b[0m \u001b[0mP\u001b[0m\u001b[1;33m.\u001b[0m\u001b[0mget\u001b[0m\u001b[1;33m(\u001b[0m\u001b[1;34m'int'\u001b[0m\u001b[1;33m)\u001b[0m\u001b[1;33m)\u001b[0m\u001b[1;33m.\u001b[0m\u001b[0mrename\u001b[0m\u001b[1;33m(\u001b[0m\u001b[1;34m'qD'\u001b[0m\u001b[1;33m)\u001b[0m\u001b[1;33m)\u001b[0m\u001b[1;33m)\u001b[0m \u001b[1;31m# set intermediate goods levels\u001b[0m\u001b[1;33m\u001b[0m\u001b[1;33m\u001b[0m\u001b[0m\n",
      "\u001b[1;32m~\\Anaconda3\\lib\\site-packages\\pandas\\util\\_decorators.py\u001b[0m in \u001b[0;36mwrapper\u001b[1;34m(*args, **kwargs)\u001b[0m\n\u001b[0;32m    309\u001b[0m                     \u001b[0mstacklevel\u001b[0m\u001b[1;33m=\u001b[0m\u001b[0mstacklevel\u001b[0m\u001b[1;33m,\u001b[0m\u001b[1;33m\u001b[0m\u001b[1;33m\u001b[0m\u001b[0m\n\u001b[0;32m    310\u001b[0m                 )\n\u001b[1;32m--> 311\u001b[1;33m             \u001b[1;32mreturn\u001b[0m \u001b[0mfunc\u001b[0m\u001b[1;33m(\u001b[0m\u001b[1;33m*\u001b[0m\u001b[0margs\u001b[0m\u001b[1;33m,\u001b[0m \u001b[1;33m**\u001b[0m\u001b[0mkwargs\u001b[0m\u001b[1;33m)\u001b[0m\u001b[1;33m\u001b[0m\u001b[1;33m\u001b[0m\u001b[0m\n\u001b[0m\u001b[0;32m    312\u001b[0m \u001b[1;33m\u001b[0m\u001b[0m\n\u001b[0;32m    313\u001b[0m         \u001b[1;32mreturn\u001b[0m \u001b[0mwrapper\u001b[0m\u001b[1;33m\u001b[0m\u001b[1;33m\u001b[0m\u001b[0m\n",
      "\u001b[1;32m~\\Anaconda3\\lib\\site-packages\\pandas\\core\\indexes\\multi.py\u001b[0m in \u001b[0;36mset_levels\u001b[1;34m(self, levels, level, inplace, verify_integrity)\u001b[0m\n\u001b[0;32m    900\u001b[0m             \u001b[0mlevels\u001b[0m \u001b[1;33m=\u001b[0m \u001b[0mlist\u001b[0m\u001b[1;33m(\u001b[0m\u001b[0mlevels\u001b[0m\u001b[1;33m)\u001b[0m\u001b[1;33m\u001b[0m\u001b[1;33m\u001b[0m\u001b[0m\n\u001b[0;32m    901\u001b[0m \u001b[1;33m\u001b[0m\u001b[0m\n\u001b[1;32m--> 902\u001b[1;33m         \u001b[0mlevel\u001b[0m\u001b[1;33m,\u001b[0m \u001b[0mlevels\u001b[0m \u001b[1;33m=\u001b[0m \u001b[0m_require_listlike\u001b[0m\u001b[1;33m(\u001b[0m\u001b[0mlevel\u001b[0m\u001b[1;33m,\u001b[0m \u001b[0mlevels\u001b[0m\u001b[1;33m,\u001b[0m \u001b[1;34m\"Levels\"\u001b[0m\u001b[1;33m)\u001b[0m\u001b[1;33m\u001b[0m\u001b[1;33m\u001b[0m\u001b[0m\n\u001b[0m\u001b[0;32m    903\u001b[0m \u001b[1;33m\u001b[0m\u001b[0m\n\u001b[0;32m    904\u001b[0m         \u001b[1;32mif\u001b[0m \u001b[0minplace\u001b[0m\u001b[1;33m:\u001b[0m\u001b[1;33m\u001b[0m\u001b[1;33m\u001b[0m\u001b[0m\n",
      "\u001b[1;32m~\\Anaconda3\\lib\\site-packages\\pandas\\core\\indexes\\multi.py\u001b[0m in \u001b[0;36m_require_listlike\u001b[1;34m(level, arr, arrname)\u001b[0m\n\u001b[0;32m   3872\u001b[0m         \u001b[1;32mif\u001b[0m \u001b[1;32mnot\u001b[0m \u001b[0mis_list_like\u001b[0m\u001b[1;33m(\u001b[0m\u001b[0marr\u001b[0m\u001b[1;33m)\u001b[0m\u001b[1;33m:\u001b[0m\u001b[1;33m\u001b[0m\u001b[1;33m\u001b[0m\u001b[0m\n\u001b[0;32m   3873\u001b[0m             \u001b[1;32mraise\u001b[0m \u001b[0mTypeError\u001b[0m\u001b[1;33m(\u001b[0m\u001b[1;34mf\"{arrname} must be list-like\"\u001b[0m\u001b[1;33m)\u001b[0m\u001b[1;33m\u001b[0m\u001b[1;33m\u001b[0m\u001b[0m\n\u001b[1;32m-> 3874\u001b[1;33m         \u001b[1;32mif\u001b[0m \u001b[0mis_list_like\u001b[0m\u001b[1;33m(\u001b[0m\u001b[0marr\u001b[0m\u001b[1;33m[\u001b[0m\u001b[1;36m0\u001b[0m\u001b[1;33m]\u001b[0m\u001b[1;33m)\u001b[0m\u001b[1;33m:\u001b[0m\u001b[1;33m\u001b[0m\u001b[1;33m\u001b[0m\u001b[0m\n\u001b[0m\u001b[0;32m   3875\u001b[0m             \u001b[1;32mraise\u001b[0m \u001b[0mTypeError\u001b[0m\u001b[1;33m(\u001b[0m\u001b[1;34mf\"{arrname} must be list-like\"\u001b[0m\u001b[1;33m)\u001b[0m\u001b[1;33m\u001b[0m\u001b[1;33m\u001b[0m\u001b[0m\n\u001b[0;32m   3876\u001b[0m         \u001b[0mlevel\u001b[0m \u001b[1;33m=\u001b[0m \u001b[1;33m[\u001b[0m\u001b[0mlevel\u001b[0m\u001b[1;33m]\u001b[0m\u001b[1;33m\u001b[0m\u001b[1;33m\u001b[0m\u001b[0m\n",
      "\u001b[1;32m~\\Anaconda3\\lib\\site-packages\\pandas\\core\\indexes\\base.py\u001b[0m in \u001b[0;36m__getitem__\u001b[1;34m(self, key)\u001b[0m\n\u001b[0;32m   4602\u001b[0m         \u001b[1;32mif\u001b[0m \u001b[0mis_scalar\u001b[0m\u001b[1;33m(\u001b[0m\u001b[0mkey\u001b[0m\u001b[1;33m)\u001b[0m\u001b[1;33m:\u001b[0m\u001b[1;33m\u001b[0m\u001b[1;33m\u001b[0m\u001b[0m\n\u001b[0;32m   4603\u001b[0m             \u001b[0mkey\u001b[0m \u001b[1;33m=\u001b[0m \u001b[0mcom\u001b[0m\u001b[1;33m.\u001b[0m\u001b[0mcast_scalar_indexer\u001b[0m\u001b[1;33m(\u001b[0m\u001b[0mkey\u001b[0m\u001b[1;33m,\u001b[0m \u001b[0mwarn_float\u001b[0m\u001b[1;33m=\u001b[0m\u001b[1;32mTrue\u001b[0m\u001b[1;33m)\u001b[0m\u001b[1;33m\u001b[0m\u001b[1;33m\u001b[0m\u001b[0m\n\u001b[1;32m-> 4604\u001b[1;33m             \u001b[1;32mreturn\u001b[0m \u001b[0mgetitem\u001b[0m\u001b[1;33m(\u001b[0m\u001b[0mkey\u001b[0m\u001b[1;33m)\u001b[0m\u001b[1;33m\u001b[0m\u001b[1;33m\u001b[0m\u001b[0m\n\u001b[0m\u001b[0;32m   4605\u001b[0m \u001b[1;33m\u001b[0m\u001b[0m\n\u001b[0;32m   4606\u001b[0m         \u001b[1;32mif\u001b[0m \u001b[0misinstance\u001b[0m\u001b[1;33m(\u001b[0m\u001b[0mkey\u001b[0m\u001b[1;33m,\u001b[0m \u001b[0mslice\u001b[0m\u001b[1;33m)\u001b[0m\u001b[1;33m:\u001b[0m\u001b[1;33m\u001b[0m\u001b[1;33m\u001b[0m\u001b[0m\n",
      "\u001b[1;31mIndexError\u001b[0m: index 0 is out of bounds for axis 0 with size 0"
     ]
    }
   ],
   "source": [
    "for i in range(len(db_IO.get('s_p'))):\n",
    "    sector = db_IO.get('s')[i:i+1]\n",
    "    # subset data:\n",
    "    nest = adj.rc_pd(db_m['nestProduction'], sector)\n",
    "    db_s = db_IO.copy()\n",
    "    aggregateDB.subset_db(db_s, sector)\n",
    "    tree = nestingTree.tree(name = 'CESnest', tree = nest.to_list()) # individual tree\n",
    "    Tree = nestingTree.aggTree(name = 'stdProduction', trees = {tree.name: tree})(namespace = {n+'_input': n for n in db_s.get('n')})\n",
    "    P = CGE_Production.Production(tree=Tree, glob = glob) # initialize module from nesting tree and global settings\n",
    "    aggregateDB.subset_db(db_s, Tree.get('n')) # goes through all symbols in db_IO and only keep the elements that are in the set 'n' from Tree.db\n",
    "    robust.robust_merge_dbs(P.s.db, db_s, priority = 'second') # Merge IO data into the database of the module; if a symbol is in both, prioritize records from the second database\n",
    "    v = valueShares.valueShares(Tree, db_s)\n",
    "    v.compile() # set up model structure, and make sure to initialize symbols if they are not yet defined in the database \n",
    "    v.write(); # write GAMS code used for the model\n",
    "    m = v.run(exportTo = d['work'],ws=ws) # solve the \"model\".\n",
    "    m.out_db.get('vD').index = m.out_db.get('vD').index.set_levels(m.out_db.get('vD').index.levels[1].astype(str), level = 's')\n",
    "    m.out_db.get('mu').index = m.out_db.get('mu').index.set_levels(m.out_db.get('mu').index.levels[1].astype(str), level = 's')\n",
    "    gpyDB.GpyDBs_AOM_Second(P.s.db, gpy(adj.rc_pd(m.out_db.get('vD'), P.get('int')).rename('qD'))) # set intermediate goods levels\n",
    "    gpyDB.GpyDBs_AOM_Second(P.s.db, gpy(m.out_db.get('mu').xs(P.get('t0')[0]).rename('mu'))) # set intermediate goods levels\n",
    "    P.s.db['tauS'] = adjMultiIndex.applyMult(db_s.get('TotalTax'), P.get('output')) / P.get('qS')\n",
    "    P.compile(initDB=True) # set up model structure, and make sure to initialize symbols if they are not yet defined in the database (initDB = True)\n",
    "    P.s.setstate('C') # set to calibration state\n",
    "    P.write(); # write GAMS code\n",
    "    mStatic = P.run(exportTo = d['work'],ws=ws,**{'cns': 'CONOPT4'}) # solve the model using CONOPT4."
   ]
  },
  {
   "cell_type": "code",
   "execution_count": 14,
   "id": "91ec8a7d-9f2d-4ca5-aa1d-be5d6b3c48c9",
   "metadata": {},
   "outputs": [],
   "source": [
    "i = 2\n",
    "sector = db_IO.get('s')[i:i+1]"
   ]
  },
  {
   "cell_type": "markdown",
   "id": "63b6d144-5d94-4da5-add5-43c52c9f7168",
   "metadata": {},
   "source": [
    "Subset data:"
   ]
  },
  {
   "cell_type": "code",
   "execution_count": 15,
   "id": "2f550685-59a8-4e24-80ae-1e373ba8fc59",
   "metadata": {},
   "outputs": [],
   "source": [
    "# subset data:\n",
    "nest = adj.rc_pd(db_m['nestProduction'], sector)\n",
    "db_s = db_IO.copy()\n",
    "aggregateDB.subset_db(db_s, sector)"
   ]
  },
  {
   "cell_type": "markdown",
   "id": "8134231a-4e03-42a3-a919-b18952349188",
   "metadata": {},
   "source": [
    "Initialize nesting tree with the specific structure:"
   ]
  },
  {
   "cell_type": "code",
   "execution_count": 16,
   "id": "f063e75a-ff1e-4804-9f5c-1f159daaf40a",
   "metadata": {},
   "outputs": [],
   "source": [
    "tree = nestingTree.tree(name = 'CESnest', tree = nest.to_list()) # individual tree\n",
    "Tree = nestingTree.aggTree(name = 'stdProduction', trees = {tree.name: tree})(namespace = {n+'_input': n for n in db_s.get('n')})"
   ]
  },
  {
   "cell_type": "markdown",
   "id": "dab52ec7-1ccb-45e5-ae71-cfd284a8f943",
   "metadata": {},
   "source": [
    "Initialize production module, without any durables at first:"
   ]
  },
  {
   "cell_type": "code",
   "execution_count": 17,
   "id": "e8d8f657-5fe9-4e88-b71f-eba75d04f83c",
   "metadata": {},
   "outputs": [],
   "source": [
    "P = CGE_Production.Production(tree=Tree, glob = glob) # initialize module from nesting tree and global settings\n",
    "aggregateDB.subset_db(db_s, Tree.get('n')) # goes through all symbols in db_IO and only keep the elements that are in the set 'n' from Tree.db\n",
    "robust.robust_merge_dbs(P.s.db, db_s, priority = 'second') # Merge IO data into the database of the module; if a symbol is in both, prioritize records from the second database"
   ]
  },
  {
   "cell_type": "markdown",
   "id": "a21b6385-f944-4e3b-b501-a5f6e4057805",
   "metadata": {},
   "source": [
    "Add value shares:"
   ]
  },
  {
   "cell_type": "code",
   "execution_count": 18,
   "id": "7203e863-5e24-4fcf-a7f5-e4fa7cb5d58d",
   "metadata": {},
   "outputs": [],
   "source": [
    "v = valueShares.valueShares(Tree, db_s)\n",
    "v.compile() # set up model structure, and make sure to initialize symbols if they are not yet defined in the database \n",
    "v.write(); # write GAMS code used for the model\n",
    "m = v.run(exportTo = d['work'],ws=ws) # solve the \"model\"."
   ]
  },
  {
   "cell_type": "markdown",
   "id": "5d4e7931-7d48-41b7-a1b8-cbfeae5f1310",
   "metadata": {},
   "source": [
    "Use value shares to initialize variables:\n",
    "* Outputs and inputs are provided by IO data.\n",
    "* For intermediate goods, assume a price of 1 (default option in the class, so we don't have to do anything) and set value share = quantity.\n",
    "* Set share parameters to the ones identified by value share system."
   ]
  },
  {
   "cell_type": "markdown",
   "id": "5dbef557-3d1e-4a2f-8895-ef8406225d9d",
   "metadata": {},
   "source": [
    "*Start by forcing the index to be a string:*"
   ]
  },
  {
   "cell_type": "code",
   "execution_count": 19,
   "id": "65b95b29-0cf8-43dd-9367-1b148a94a416",
   "metadata": {},
   "outputs": [],
   "source": [
    "m.out_db.get('vD').index = m.out_db.get('vD').index.set_levels(m.out_db.get('vD').index.levels[1].astype(str), level = 's')\n",
    "m.out_db.get('mu').index = m.out_db.get('mu').index.set_levels(m.out_db.get('mu').index.levels[1].astype(str), level = 's')"
   ]
  },
  {
   "cell_type": "code",
   "execution_count": 20,
   "id": "4e800846-b506-40b6-ab83-c15261ae0408",
   "metadata": {},
   "outputs": [],
   "source": [
    "gpyDB.GpyDBs_AOM_Second(P.s.db, gpy(adj.rc_pd(m.out_db.get('vD'), P.get('int')).rename('qD'))) # set intermediate goods levels\n",
    "gpyDB.GpyDBs_AOM_Second(P.s.db, gpy(m.out_db.get('mu').xs(P.get('t0')[0]).rename('mu'))) # set intermediate goods levels"
   ]
  },
  {
   "cell_type": "markdown",
   "id": "152b8dba-3ea1-4ba1-bee8-eb5a8dba5f91",
   "metadata": {},
   "source": [
    "Set tax rate to fit revenue collected in baseline year:"
   ]
  },
  {
   "cell_type": "code",
   "execution_count": 21,
   "id": "2714da07-0a45-4408-bbc8-3247597e4c60",
   "metadata": {},
   "outputs": [],
   "source": [
    "# P.s.db['tauLump'] = db_IO.get('TotalTax').rename('tauLump')\n",
    "P.s.db['tauS'] = adjMultiIndex.applyMult(db_s.get('TotalTax'), P.get('output')) / P.get('qS')"
   ]
  },
  {
   "cell_type": "markdown",
   "id": "4a54cfd5-1634-417d-8928-93900749e77f",
   "metadata": {},
   "source": [
    "Static calibration:"
   ]
  },
  {
   "cell_type": "code",
   "execution_count": 22,
   "id": "6787ab50-7e32-408f-a377-60b033e433c2",
   "metadata": {},
   "outputs": [],
   "source": [
    "P.compile(initDB=True) # set up model structure, and make sure to initialize symbols if they are not yet defined in the database (initDB = True)\n",
    "P.s.setstate('C') # set to calibration state\n",
    "P.write(); # write GAMS code\n",
    "mStatic = P.run(exportTo = d['work'],ws=ws,**{'cns': 'CONOPT4'}) # solve the model using CONOPT4."
   ]
  }
 ],
 "metadata": {
  "kernelspec": {
   "display_name": "Python 3 (ipykernel)",
   "language": "python",
   "name": "python3"
  },
  "language_info": {
   "codemirror_mode": {
    "name": "ipython",
    "version": 3
   },
   "file_extension": ".py",
   "mimetype": "text/x-python",
   "name": "python",
   "nbconvert_exporter": "python",
   "pygments_lexer": "ipython3",
   "version": "3.9.7"
  }
 },
 "nbformat": 4,
 "nbformat_minor": 5
}
