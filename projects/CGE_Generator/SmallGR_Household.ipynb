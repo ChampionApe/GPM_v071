{
 "cells": [
  {
   "cell_type": "code",
   "execution_count": 1,
   "id": "db994bb5-756f-4f09-8ca3-6197f41edca4",
   "metadata": {},
   "outputs": [
    {
     "name": "stdout",
     "output_type": "stream",
     "text": [
      "The file _gams_py_gdb0.gdx is still active and was not deleted.\n",
      "The file _gams_py_gdb1.gdx is still active and was not deleted.\n"
     ]
    }
   ],
   "source": [
    "clean_up = True\n",
    "%run stdPackages.ipynb\n",
    "ws = gams.GamsWorkspace(working_directory=d['work']) # specify where you want to run the GAMS models from (here the repository referred to in d['work'])\n",
    "d['data'] = os.path.join(d['data'], 'IO2018')"
   ]
  },
  {
   "cell_type": "markdown",
   "id": "5e9d4d7b-b99b-427c-a629-24061458ca6b",
   "metadata": {},
   "source": [
    "## SmallGR, households"
   ]
  },
  {
   "cell_type": "markdown",
   "id": "8f785141-73a7-423c-9387-050d81380ade",
   "metadata": {},
   "source": [
    "### Data/settings"
   ]
  },
  {
   "cell_type": "markdown",
   "id": "7d5e65af-cab6-4a70-ba1c-b3e1076c2b9e",
   "metadata": {},
   "source": [
    "Load std. data, settings:"
   ]
  },
  {
   "cell_type": "code",
   "execution_count": 2,
   "id": "0b42197a-c317-4f4f-a81c-1767b8a0ce84",
   "metadata": {},
   "outputs": [],
   "source": [
    "name = 'smallGR' # name of model\n",
    "module = name+'_HH' # name of module\n",
    "db_IO = GpyDB(pickle_path = os.path.join(d['data'], f'IO_{name}')) # load IO database named IO_name\n",
    "with open(f\"{d['data']}\\\\glob_{name}\",\"rb\") as file: # load global settings anmed glob_name\n",
    "    glob=pickle.load(file)\n",
    "dataFile = os.path.join(d['data'],'smallGR_Households.xlsx')"
   ]
  },
  {
   "cell_type": "markdown",
   "id": "d9ec9dea-68cc-423a-88f2-32ac384fda9b",
   "metadata": {},
   "source": [
    "Beyond the standard IO data, we load relevant data on regulation for households:"
   ]
  },
  {
   "cell_type": "code",
   "execution_count": 3,
   "id": "8f2e276e-7093-4188-b589-f6688bd22fae",
   "metadata": {},
   "outputs": [],
   "source": [
    "regulation = read.SeriesDB_from_wb(dataFile, {'variables': ['regulation']})\n",
    "Tree = nestingTree.aggTree_from_data(dataFile, read_trees = {'consumption': {'name': f'{module}_ces', 'f':'CES'}}, name = module)()"
   ]
  },
  {
   "cell_type": "markdown",
   "id": "517d5ffc-8385-40e9-9af7-0f8723b13764",
   "metadata": {},
   "source": [
    "Define labor tax rate:"
   ]
  },
  {
   "cell_type": "code",
   "execution_count": 4,
   "id": "e4226028-7ed0-4db0-bc1e-1009bd5a8113",
   "metadata": {},
   "outputs": [],
   "source": [
    "tLabor = (regulation.get('vTaxAggregate').xs('laborTax',level='taxAggregate') / db_IO.get('qS').xs('L',level='n'))[0]\n",
    "gpyDB.add_or_merge_vals(db_IO, pd.Series(tLabor, index = pd.MultiIndex.from_tuples([('HH','L')], names = ['s','n'])), 'tauS')"
   ]
  },
  {
   "cell_type": "markdown",
   "id": "ce44f485-cb97-4e29-ac3f-9b3847ea6087",
   "metadata": {},
   "source": [
    "Define $\\tau_D$ as the flat ```VAT``` rate from IO data:"
   ]
  },
  {
   "cell_type": "code",
   "execution_count": 5,
   "id": "e8757b49-927a-474f-98e8-b2f48b9d9bf7",
   "metadata": {},
   "outputs": [],
   "source": [
    "tVAT = pd.Series(db_IO.get('vTax').xs(('HH','Moms'))/db_IO.get('qD').xs('HH').sum(), index = adj.rc_pd(db_IO.get('qD'), Tree.get('s')).index, name = 'tauD')\n",
    "gpyDB.add_or_merge_vals(db_IO, tVAT, 'tauD')"
   ]
  },
  {
   "cell_type": "markdown",
   "id": "39da0e49-85e9-4c53-a5bc-51c77d5e4e45",
   "metadata": {},
   "source": [
    "Add level on lump-sum tax directly from regulation data:"
   ]
  },
  {
   "cell_type": "code",
   "execution_count": 6,
   "id": "28d92c49-891e-4894-8939-f654819c24c8",
   "metadata": {},
   "outputs": [],
   "source": [
    "gpyDB.add_or_merge_vals(db_IO, regulation.get('vTaxAggregate').xs('tauLump',level='taxAggregate'),'tauLump')"
   ]
  },
  {
   "cell_type": "markdown",
   "id": "2a94c40e-05cb-4a5d-8efa-4a7be7f9a7bd",
   "metadata": {},
   "source": [
    "Adjust the ```TotalTax``` from the household sector based on this new way:"
   ]
  },
  {
   "cell_type": "code",
   "execution_count": 7,
   "id": "28dd4305-1ec9-418e-839f-a258156631a6",
   "metadata": {},
   "outputs": [],
   "source": [
    "gpyDB.add_or_merge_vals(db_IO, regulation.get('vTaxAggregate').groupby('s').sum()+db_IO.get('vTax').xs(('HH','Moms')), 'TotalTax')"
   ]
  },
  {
   "cell_type": "markdown",
   "id": "c66ec3f4-b34e-47ab-88d5-74ce157d4ff1",
   "metadata": {},
   "source": [
    "Export adjusted IO data again:"
   ]
  },
  {
   "cell_type": "code",
   "execution_count": 8,
   "id": "e25f621b-276f-49b5-953e-f571e9ba9a7b",
   "metadata": {},
   "outputs": [],
   "source": [
    "db_IO.export(repo=d['data'])"
   ]
  },
  {
   "cell_type": "markdown",
   "id": "96146982-0702-4aa7-bf51-3e0027d3b608",
   "metadata": {},
   "source": [
    "### Nesting"
   ]
  },
  {
   "cell_type": "markdown",
   "id": "16940c0d-9309-4c98-8a57-e810deafef4c",
   "metadata": {},
   "source": [
    "For now, assume a simple nested utility function where all goods first compete against their foreign counterpart (```x,x_F```) and second that these aggregates are combined in a simple CES nest as the aggregate ```C```. These are already loaded to the ```Tree``` in the data part."
   ]
  },
  {
   "cell_type": "markdown",
   "id": "1d82d375-4bce-4751-bc7a-077d96b14803",
   "metadata": {},
   "source": [
    "In an upper nest consumption and labor is combined with a constant frisch elasticity of labor. We specify the symbols with a simple mapping ```L2C```:"
   ]
  },
  {
   "cell_type": "code",
   "execution_count": 9,
   "id": "54ab727c-c50f-433f-a476-de4e0c273ff2",
   "metadata": {},
   "outputs": [],
   "source": [
    "L2C = pd.MultiIndex.from_tuples([('HH','L','C')], names = ['s','n','nn'])"
   ]
  },
  {
   "cell_type": "markdown",
   "id": "83842647-8c3c-48fc-a3aa-8a9f42aa82c2",
   "metadata": {},
   "source": [
    "Add time index to the IO data:"
   ]
  },
  {
   "cell_type": "code",
   "execution_count": 10,
   "id": "aacc1341-6162-43b2-aec9-37f1025c1c77",
   "metadata": {},
   "outputs": [],
   "source": [
    "def addT(symbol, t):\n",
    "    return adjMultiIndex.bc(symbol, t).reorder_levels(['t']+symbol.index.names if 't' not in symbol.index.names else symbol.index.names)\n",
    "[db_IO.__setitem__(k, addT(db_IO.get(k), glob.db['t'].vals)) for k in db_IO.getTypes(['variable','scalar_variable'])];"
   ]
  },
  {
   "cell_type": "markdown",
   "id": "a43c6b32-0d38-4c77-aa16-bf90b18c0e70",
   "metadata": {},
   "source": [
    "### Initialize module"
   ]
  },
  {
   "cell_type": "markdown",
   "id": "8d3dc541-ce6f-4890-8e31-5fb3745f5c5e",
   "metadata": {},
   "source": [
    "*Initialize module without any savings first (static method):*"
   ]
  },
  {
   "cell_type": "code",
   "execution_count": 11,
   "id": "977d4d3d-4bf1-4c23-86fa-3786e3d34bc0",
   "metadata": {},
   "outputs": [],
   "source": [
    "H = CGE_Households.SimpleRamsey(tree = Tree, glob = glob, kwargs = {'L2C': L2C}) # init module\n",
    "aggregateDB.subset_db(db_IO, H.get('s')) # Keep data on relevant sectors\n",
    "aggregateDB.subset_db(db_IO, H.get('n')) # Keep data on relevant goods\n",
    "# robust.robust_merge_dbs(H.s.db, db_IO, priority = 'second') # Merge IO data into the database of the module; if a symbol is in both, prioritize records from the second database"
   ]
  },
  {
   "cell_type": "markdown",
   "id": "c5075530-bc2a-4175-afd8-fc63a0b4da3b",
   "metadata": {},
   "source": [
    "*Value shares for nesting part:*"
   ]
  },
  {
   "cell_type": "code",
   "execution_count": 12,
   "id": "02409f5b-810c-48a9-ae10-76e3d0cdd1c9",
   "metadata": {},
   "outputs": [],
   "source": [
    "v = valueShares.SimpleRamsey(Tree, db_IO.copy())\n",
    "v.compile() # set up model structure, and make sure to initialize symbols if they are not yet defined in the database \n",
    "v.write(); # write GAMS code used for the model\n",
    "m = v.run(exportTo = d['work'],ws=ws) # solve the \"model\"."
   ]
  },
  {
   "cell_type": "markdown",
   "id": "6b5b9343-8fbd-4f87-99fa-3d91f9c3a2e3",
   "metadata": {},
   "source": [
    "Use value shares to initialize variables:\n",
    "* Outputs and inputs are provided by IO data.\n",
    "* For intermediate goods, assume a price of 1 (default option in the class, so we don't have to do anything) and set value share = quantity.\n",
    "* Set share parameters to the ones identified by value share system."
   ]
  },
  {
   "cell_type": "code",
   "execution_count": 13,
   "id": "cb7872a6-3be4-45d5-aba1-feea0c6e9a5b",
   "metadata": {},
   "outputs": [],
   "source": [
    "gpyDB.GpyDBs_AOM_Second(H.s.db, gpy(adj.rc_pd(m.out_db.get('vD'), H.get('int')).rename('qD'))) # set intermediate goods levels\n",
    "gpyDB.GpyDBs_AOM_Second(H.s.db, gpy(m.out_db.get('mu').xs(H.get('t0')[0]).rename('mu'))) # set share parameters\n",
    "H.s.db['a'] = db_IO.get('a')"
   ]
  },
  {
   "cell_type": "markdown",
   "id": "960bc70b-5cdb-4d00-a026-002b93aa737f",
   "metadata": {},
   "source": [
    "Add the frisch parameter as a target in the IO database:"
   ]
  },
  {
   "cell_type": "code",
   "execution_count": 14,
   "id": "9b276a5d-62cc-4703-ba0a-fb3866da6f09",
   "metadata": {},
   "outputs": [],
   "source": [
    "db_IO['frisch'] = pd.Series(0.25, index = H.get('labor'), name = 'frisch')"
   ]
  },
  {
   "cell_type": "markdown",
   "id": "249f5199-8d50-403c-8c72-df4222c82008",
   "metadata": {},
   "source": [
    "Use sneaky calibration method to solve and calibrate:"
   ]
  },
  {
   "cell_type": "code",
   "execution_count": 15,
   "id": "84a33c8d-2669-436d-b504-ed6a796a886a",
   "metadata": {},
   "outputs": [],
   "source": [
    "H.compile(initDB=True)\n",
    "H.write();\n",
    "mCalib, cp = H.sneakyCalib(db_IO, ws = ws, loop_kwargs = {'n': 10}, **{'cns': 'CONOPT4'})"
   ]
  },
  {
   "cell_type": "markdown",
   "id": "405c1860-4c14-4820-a813-bb23f236a46e",
   "metadata": {},
   "source": [
    "Inspect how assets evolve over time:"
   ]
  },
  {
   "cell_type": "code",
   "execution_count": 16,
   "id": "6d71ba76-d9a0-409a-afd1-4b2b6eff0735",
   "metadata": {},
   "outputs": [
    {
     "data": {
      "image/png": "[encoded data removed]",
      "text/plain": [
       "<Figure size 576x396 with 1 Axes>"
      ]
     },
     "metadata": {},
     "output_type": "display_data"
    }
   ],
   "source": [
    "mCalib.out_db.get('vAssets').unstack('s').xs('total',level='a').plot(subplots=True, backend=\"matplotlib\");"
   ]
  },
  {
   "cell_type": "markdown",
   "id": "91a2bab0-ca1f-4c53-be3d-4854f12ea7ee",
   "metadata": {},
   "source": [
    "### 5. Export "
   ]
  },
  {
   "cell_type": "markdown",
   "id": "a77d466a-869f-4066-8960-80da3667289c",
   "metadata": {},
   "source": [
    "*Use data from the calibration step in the main database. The ```sneakyCalib``` method defines some new, auxiliary symbols - these are not used.*"
   ]
  },
  {
   "cell_type": "code",
   "execution_count": 18,
   "id": "0da49160-b471-4299-bc0a-0a78926cb30f",
   "metadata": {},
   "outputs": [],
   "source": [
    "[gpyDB.GpyDBs_AOM_Second(H.s.db, mCalib.out_db[k]) for k in H.s.db.symbols];\n",
    "H.s.setstate('B')"
   ]
  },
  {
   "cell_type": "markdown",
   "id": "e7805ce1-b96c-4582-991b-8eb9233950a0",
   "metadata": {},
   "source": [
    "Export:"
   ]
  },
  {
   "cell_type": "code",
   "execution_count": 19,
   "id": "01a56d47-c1b7-46f7-9a56-518d3d8064e4",
   "metadata": {},
   "outputs": [],
   "source": [
    "with open(os.path.join(d['data'], H.name), \"wb\") as file:\n",
    "    pickle.dump(H,file)"
   ]
  }
 ],
 "metadata": {
  "kernelspec": {
   "display_name": "Python 3 (ipykernel)",
   "language": "python",
   "name": "python3"
  },
  "language_info": {
   "codemirror_mode": {
    "name": "ipython",
    "version": 3
   },
   "file_extension": ".py",
   "mimetype": "text/x-python",
   "name": "python",
   "nbconvert_exporter": "python",
   "pygments_lexer": "ipython3",
   "version": "3.9.7"
  }
 },
 "nbformat": 4,
 "nbformat_minor": 5
}
