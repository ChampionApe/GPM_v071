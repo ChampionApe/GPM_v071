{
 "cells": [
  {
   "cell_type": "code",
   "execution_count": 1,
   "id": "85b88036-b7e3-4628-8da0-d504e05a2408",
   "metadata": {},
   "outputs": [
    {
     "name": "stdout",
     "output_type": "stream",
     "text": [
      "The file _gams_py_gdb2.gdx is still active and was not deleted.\n"
     ]
    }
   ],
   "source": [
    "clean_up = True\n",
    "%run StdPackages.ipynb\n",
    "d['data'] = os.path.join(d['data'], 'IO2018')"
   ]
  },
  {
   "cell_type": "markdown",
   "id": "97a82b13-a435-499a-ad9f-90e1eaccc941",
   "metadata": {
    "tags": []
   },
   "source": [
    "# GR18: Data"
   ]
  },
  {
   "cell_type": "markdown",
   "id": "748a871e-11a8-4013-a704-5cb86463d18c",
   "metadata": {},
   "source": [
    "### 1. Load data"
   ]
  },
  {
   "cell_type": "markdown",
   "id": "46552c34-ebb4-42ec-9e78-cf8c31621fc9",
   "metadata": {},
   "source": [
    "*Load full 2018 data and relevant mappings used to aggregate the model:*"
   ]
  },
  {
   "cell_type": "code",
   "execution_count": 2,
   "id": "38cd8cec-011e-4877-9429-83d7b37152b1",
   "metadata": {},
   "outputs": [],
   "source": [
    "name = 'GR18'\n",
    "error = 1e-7 # tolerance when testing IO balance\n",
    "db = GpyDB(pickle_path = os.path.join(d['data'], 'IO2018'))\n",
    "db.name = f\"IO_{name}\"\n",
    "file_mappings = os.path.join(d['data'], 'GR2018_mappings.xlsx')\n",
    "glob = CGE_globals.SmallOpen(kwargs_vals = {'t': range(2018,2051)}) # global settings used throughout; interest rates, long run growth rates, time index etc."
   ]
  },
  {
   "cell_type": "markdown",
   "id": "f1d44a13-ba71-4a68-8ff5-5e7c98921799",
   "metadata": {},
   "source": [
    "Total value:"
   ]
  },
  {
   "cell_type": "markdown",
   "id": "f18b2775-1216-41f5-a5c5-f182ae662c5b",
   "metadata": {},
   "source": [
    "### 2. Aggregation"
   ]
  },
  {
   "cell_type": "code",
   "execution_count": 3,
   "id": "9ebef8a3-6547-48d3-9d11-6cbf8ee56bca",
   "metadata": {},
   "outputs": [],
   "source": [
    "wb_mappings = read.simpleLoad(file_mappings)\n",
    "auxMaps = read.maps(wb_mappings['AuxMaps'])"
   ]
  },
  {
   "cell_type": "markdown",
   "id": "061530a0-e161-4992-88cf-cd7d67c42806",
   "metadata": {},
   "source": [
    "#### 2.1. Aggregate sectors"
   ]
  },
  {
   "cell_type": "markdown",
   "id": "c5328c2b-ab2d-45dd-994d-b944248f1465",
   "metadata": {},
   "source": [
    "Sectors are aggregated based on two mappings:\n",
    "1. ```s146tosGR```: Identifies how 146 domestic sectors are aggregated to roughly 60.\n",
    "2. ```inv7toinvGR```: Maps the 7 types of durables into two - building and machines."
   ]
  },
  {
   "cell_type": "code",
   "execution_count": 4,
   "id": "dfc1b667-e891-49a8-8ffb-265ae1a7dd72",
   "metadata": {},
   "outputs": [],
   "source": [
    "m = auxMaps['s146tosGR'].vals\n",
    "m = m.set_levels([level.astype(str) for level in m.levels]) # force to string format\n",
    "mDur = auxMaps['inv7toinvGR'].vals\n",
    "mDur = mDur.set_levels([level.astype(str) for level in mDur.levels])\n",
    "m_s = m.union(pd.MultiIndex.from_frame(mDur.to_frame(index=False).assign(temp = lambda x: 'I_'+x['nn'])[['n','temp']]).rename(['s','ss']))"
   ]
  },
  {
   "cell_type": "markdown",
   "id": "641b460e-0e8d-4482-8d7e-aaa4b4397ede",
   "metadata": {},
   "source": [
    "For sectors not included in these mappings do nothing (implied by (x,x) tuples). These sectors include aggregate sectors defined by us (foreign sector, government sector, household, inventory):"
   ]
  },
  {
   "cell_type": "code",
   "execution_count": 5,
   "id": "d24e6589-9d0c-4884-bfa9-5fd0817f9cd9",
   "metadata": {},
   "outputs": [
    {
     "data": {
      "text/plain": [
       "<pyDatabases.gpyDB.gpyDB.GpyDB at 0x16c3bd51e50>"
      ]
     },
     "execution_count": 5,
     "metadata": {},
     "output_type": "execute_result"
    }
   ],
   "source": [
    "m_sector = m_s.union(pd.MultiIndex.from_arrays([adj.rc_pd(db.get('s'), ('not', m_s.levels[0])), adj.rc_pd(db.get('s'), ('not', m_s.levels[0])).rename('ss')]))\n",
    "aggregateDB.aggDB(db, m_sector)"
   ]
  },
  {
   "cell_type": "markdown",
   "id": "f869dc76-b58a-4541-84f2-853bb1472860",
   "metadata": {},
   "source": [
    "#### 2.2. Aggregate sector outputs "
   ]
  },
  {
   "cell_type": "markdown",
   "id": "d37614a2-7060-4d37-a8c2-86404e793508",
   "metadata": {},
   "source": [
    "Next, we apply the same (type) of mapping to aggregate goods types. At this stage, the goods index ```n``` includes:\n",
    "* Domestically produced goods ```n_p```,\n",
    "* foreign produced goods ```n_F``` (with syntax ```x_F``` where 'x' is an element from ```n_p```)\n",
    "* investment sector goods (corresponding to ```s_i```)\n",
    "* residual income (```resIncome```) and wages (```L```)"
   ]
  },
  {
   "cell_type": "markdown",
   "id": "85a55191-2d80-43c8-a69d-37cfcc6fef1f",
   "metadata": {},
   "source": [
    "We map ```n_p, n_F``` types as well as durables/investments using the same approach as for sectors: "
   ]
  },
  {
   "cell_type": "code",
   "execution_count": 6,
   "id": "31506d68-c240-4742-81d4-cef32d57ce3d",
   "metadata": {},
   "outputs": [
    {
     "data": {
      "text/plain": [
       "<pyDatabases.gpyDB.gpyDB.GpyDB at 0x16c3bd51e50>"
      ]
     },
     "execution_count": 6,
     "metadata": {},
     "output_type": "execute_result"
    }
   ],
   "source": [
    "m_goods = m.rename(['n','nn']).union(m.set_levels([level+'_F' for level in m.levels]).rename(['n','nn'])).union(mDur)\n",
    "m_goods = m_goods.union(pd.MultiIndex.from_arrays([adj.rc_pd(db.get('n'), ('not', m_goods.levels[0])),\n",
    "                                                   adj.rc_pd(db.get('n'), ('not', m_goods.levels[0])).rename('nn')]))\n",
    "aggregateDB.aggDB(db, m_goods)"
   ]
  },
  {
   "cell_type": "markdown",
   "id": "0c4c96ce-23bb-4037-8dd1-1eefd49c402b",
   "metadata": {},
   "source": [
    "### 3. Clean up taxes, government consumption, etc."
   ]
  },
  {
   "cell_type": "markdown",
   "id": "a1552766-0c3c-4020-b383-a31a73629da5",
   "metadata": {},
   "source": [
    "A final bit of clean-up of the relevant data here:  We only use the total government consumption, and not the consumption split onto the many types ```gc```. This is already recorded in the ```vD``` variable. Thus, we remove the more detailed accounts (```vC```, ```vC_tax```, ```gc```)"
   ]
  },
  {
   "cell_type": "code",
   "execution_count": 7,
   "id": "9f0623c9-cd68-4670-9f9b-8e8c9640fb30",
   "metadata": {},
   "outputs": [],
   "source": [
    "for k in ('gc','vC','vC_tax'):\n",
    "    del(db.series[k])"
   ]
  },
  {
   "cell_type": "markdown",
   "id": "085ea1bf-4e6a-4cc3-ae2f-724a50f4a246",
   "metadata": {},
   "source": [
    "Remove zeros:"
   ]
  },
  {
   "cell_type": "code",
   "execution_count": 8,
   "id": "872da8a2-ae4a-4481-be58-d4039ec3b741",
   "metadata": {},
   "outputs": [],
   "source": [
    "[db.__setitem__(k, db.get(k)[db.get(k)!=0]) for k in ('vD','vD_inv','vD_dur','vD_depr','vAssets','vTax')];"
   ]
  },
  {
   "cell_type": "markdown",
   "id": "457c4d89-3bd6-4a1f-89c7-012de8fbbbc1",
   "metadata": {},
   "source": [
    "### 4. Process data on durables, investments, and depreciation rates"
   ]
  },
  {
   "cell_type": "markdown",
   "id": "6bbee7b0-dd18-47b9-bb2e-d52cf6a40e3f",
   "metadata": {},
   "source": [
    "* Depreciation of durables are translated to rates. \n",
    "* Distinguish between investment goods and durables: Define investment goods with syntax ```I_x``` for durable x.\n",
    "* Define the mapping dur2inv and relevant subsets (```dur_p``` and ```inv_p```)."
   ]
  },
  {
   "cell_type": "markdown",
   "id": "fe18f405-f33b-4aff-9919-d13ee80eb69d",
   "metadata": {},
   "source": [
    "*NB: Only run this cell once.*"
   ]
  },
  {
   "cell_type": "code",
   "execution_count": 9,
   "id": "8e6953f1-59cb-467a-9b73-76c4bb5a157a",
   "metadata": {},
   "outputs": [],
   "source": [
    "db['rDepr'] = db.get('vD_depr') / (db.get('vD_dur').replace(0,1))\n",
    "db['dur2inv'] = pd.MultiIndex.from_frame(db.get('vD_dur').index.to_frame(index = False).assign(nn = lambda x: 'I_'+x['n'])).reorder_levels(['s','n','nn'])\n",
    "db['dur_p'] = db.get('dur2inv').droplevel('nn').unique() # what variables are durables (K)\n",
    "db['inv_p'] = db.get('dur2inv').droplevel('n').unique().rename({'nn':'n'}) # what variables are investment goods (I)\n",
    "db.get('vD_inv').index = db.get('vD_inv').index.set_levels('I_'+db.get('vD_inv').index.levels[1], level=1)\n",
    "db['vD'] = db.get('vD_inv').combine_first(db.get('vD')).combine_first(db.get('vD_dur'))"
   ]
  },
  {
   "cell_type": "markdown",
   "id": "246cb373-669f-4ba1-9866-613d6dd9ca50",
   "metadata": {},
   "source": [
    "*Clean up data:*"
   ]
  },
  {
   "cell_type": "code",
   "execution_count": 10,
   "id": "2a7a8126-0914-48f9-b48b-25b1f4cedfa0",
   "metadata": {},
   "outputs": [],
   "source": [
    "# for k in ('vD_inv','vD_dur','vD_depr'):\n",
    "#     del(db.series[k])"
   ]
  },
  {
   "cell_type": "markdown",
   "id": "ca74f96b-7f2e-4b0e-9041-92d85dccb675",
   "metadata": {},
   "source": [
    "### 5. Eliminate small and negative values"
   ]
  },
  {
   "cell_type": "markdown",
   "id": "61189ed9-8c12-4982-a86c-931f336e9a53",
   "metadata": {},
   "source": [
    "We create RAS-like adjustments *within* a number of blocks. We keep the sub-totals fixed in the following blocks:\n",
    "* Block A and I: Input-output from/to domestic production sectors (```n_p,s_p```) and the domestic investment sectors.\n",
    "* Block B and J: Domestic production and investment sectors' demand for imported goods (```n_F, s_p, s_i```). For this block, we do not require row-sums to be the same before and after. The implication is that imports of a specific type $n^F_i$ may not be the same after the adjustment.\n",
    "\n",
    "We do not make any adjustments to consumption components (in particular because there are not sufficient with consumption categories to balance the blocks). This approach ensures that most totals are the same - e.g. total imports per sector - is the same."
   ]
  },
  {
   "cell_type": "code",
   "execution_count": 11,
   "id": "306488a3-6707-4a2a-92dd-877526f168bd",
   "metadata": {},
   "outputs": [],
   "source": [
    "ws = gams.GamsWorkspace(working_directory=d['work']) # specify where you want to run the GAMS models from (here the repository referred to in d['work'])\n",
    "threshold = 1 # anything below 1 million is removed from the data\n",
    "ras_settings = IOfunctions.standardCleanSettings(db, threshold)\n",
    "# Run RAS adjustment:\n",
    "vs, ms = {}, {}\n",
    "for k,v in ras_settings.items():\n",
    "    vs[k] = RAS.shareRAS(v['v0'], v['vBar'], **v['kwargs']) # Initialize small gams model\n",
    "    vs[k].compile() # set up model\n",
    "    vs[k].write(); # write gams code\n",
    "    ms[k] = vs[k].run(exportTo = d['work'], ws = ws) # solve\n",
    "gpyDB.add_or_merge_vals(db, pd.concat([ms[k].out_db.get('vD') for k in ms]+[ras_settings[k]['vBar'] for k in ras_settings],axis=0), name = 'vD') # add data to database"
   ]
  },
  {
   "cell_type": "markdown",
   "id": "e470e5d7-da29-4163-a9f2-152c9c90c7ec",
   "metadata": {},
   "source": [
    "*Remove zero values and residual income category:*"
   ]
  },
  {
   "cell_type": "code",
   "execution_count": 12,
   "id": "9e260ee6-eda0-4b6a-b2ea-1e817012e9b8",
   "metadata": {},
   "outputs": [],
   "source": [
    "db['vD'] = adj.rc_pd(db.get('vD')[db.get('vD')!=0], ('not', pd.Index(['resIncome'], name = 'n')))"
   ]
  },
  {
   "cell_type": "markdown",
   "id": "a763fb4d-d0de-4e76-aa04-eeacec16ae0e",
   "metadata": {},
   "source": [
    "*Rescale values, divide by 10000 (measure in 10's of billions DKK):*"
   ]
  },
  {
   "cell_type": "code",
   "execution_count": 13,
   "id": "f77a67af-15d4-4e4b-9ed1-6a2655d84566",
   "metadata": {},
   "outputs": [],
   "source": [
    "[db.__setitem__(k, db.get(k)/10000) for k in [i for i in db.getTypes(['variable','parameter']) if i.startswith(('q','v'))]+['TotalTax']];"
   ]
  },
  {
   "cell_type": "markdown",
   "id": "5a893d9d-bbfa-44d8-8b76-908b9d6871ae",
   "metadata": {
    "tags": []
   },
   "source": [
    "### 6. Create variables"
   ]
  },
  {
   "cell_type": "markdown",
   "id": "37265385-b00e-4430-b0e8-9cf5159dfe93",
   "metadata": {},
   "source": [
    "#### 6.1. Value of supply"
   ]
  },
  {
   "cell_type": "markdown",
   "id": "3d63075e-64ae-46c2-97dd-3dbe91152421",
   "metadata": {},
   "source": [
    "At this stage, supply comes from (1) households supplying labor, (2) domestic production and investment sectors."
   ]
  },
  {
   "cell_type": "code",
   "execution_count": 14,
   "id": "1cf952de-954d-4a54-8e25-803b30b718cc",
   "metadata": {},
   "outputs": [],
   "source": [
    "def repeatIndex(s, i1 = 'n', i2 = 's'):\n",
    "    return s.reset_index().assign(**{i2: s.index}).set_index([i2,i1]).iloc[:,0]"
   ]
  },
  {
   "cell_type": "code",
   "execution_count": 15,
   "id": "44fe4e3f-1adb-4ccd-978e-be89676570e4",
   "metadata": {},
   "outputs": [],
   "source": [
    "vS = repeatIndex(adj.rc_pd(db.get('vD'), ('or', [db.get('n_p'), db.get('inv_p')])).groupby('n').sum()) # domestic production/investment supply\n",
    "vS.loc[('HH','L')] = db.get('vD').xs('L',level='n').sum() # add value of household supply of labor\n",
    "gpyDB.add_or_merge_vals(db, vS, name = 'vS') # add to database"
   ]
  },
  {
   "cell_type": "markdown",
   "id": "61e1285b-cc95-49d1-ac36-704dc90341e5",
   "metadata": {},
   "source": [
    "#### 6.2. Prices"
   ]
  },
  {
   "cell_type": "markdown",
   "id": "1ec6d63c-f991-4923-862c-e4ef4572760e",
   "metadata": {},
   "source": [
    "If no prices have been loaded, set them all to 1:"
   ]
  },
  {
   "cell_type": "code",
   "execution_count": 16,
   "id": "efc93217-6479-4f39-81cf-3c824fb1cb91",
   "metadata": {},
   "outputs": [],
   "source": [
    "if 'p' not in db.symbols:\n",
    "    db['p'] = pd.Series(1, index = db.get('vS').index.levels[-1].union(db.get('n_F')))"
   ]
  },
  {
   "cell_type": "markdown",
   "id": "c2105f24-0e3c-4701-b3f1-cfe7bf27c720",
   "metadata": {},
   "source": [
    "#### 6.3 Durables"
   ]
  },
  {
   "cell_type": "markdown",
   "id": "9a6bd823-4148-40ea-94ab-c9f3a3f6b3c9",
   "metadata": {},
   "source": [
    "Set the quantity of durables at the value - and define the price ```pD_dur``` as the static user cost term:"
   ]
  },
  {
   "cell_type": "code",
   "execution_count": 17,
   "id": "001e818b-3b26-4dca-9fba-da1b9edb15dd",
   "metadata": {},
   "outputs": [],
   "source": [
    "db['qD'] = adj.rc_pd(db.get('vD'), db.get('dur_p')).rename('qD')\n",
    "db['pD_dur'] = adjMultiIndex.applyMult(db.get('p').rename_axis(index = {'n':'nn'}), db.get('dur2inv')).dropna().droplevel('nn') * (glob.db['R_LR'].vals/(1+glob.db['infl_LR'].vals)+db.get('rDepr')-1)"
   ]
  },
  {
   "cell_type": "markdown",
   "id": "4ff17d39-ae6b-4056-b52b-b4adac8c4c69",
   "metadata": {
    "tags": []
   },
   "source": [
    "#### 6.4. Quantities"
   ]
  },
  {
   "cell_type": "markdown",
   "id": "af70d915-3dbd-4992-b968-9bc564bbb292",
   "metadata": {},
   "source": [
    "Back out quantities from values and prices: Don't keep residual income."
   ]
  },
  {
   "cell_type": "code",
   "execution_count": 18,
   "id": "2f37458f-533c-450a-adb7-f371cf4fc004",
   "metadata": {},
   "outputs": [],
   "source": [
    "db['qD'] = db.get('qD').combine_first( adj.rc_pd(db.get('vD'), ('not', db.get('dur_p'))) / db.get('p'))\n",
    "db['qS'] = db['vS'].vals / db.get('p')"
   ]
  },
  {
   "cell_type": "markdown",
   "id": "f310229e-c67a-4225-bfb3-94ef86145f78",
   "metadata": {
    "tags": []
   },
   "source": [
    "#### 6.5. Effective prices"
   ]
  },
  {
   "cell_type": "markdown",
   "id": "1d230c7a-3d89-4c2d-a8d2-ba2f5f4de6dd",
   "metadata": {},
   "source": [
    "Initialize the prices ```pD``` and ```pS``` at the equilibrium prices:"
   ]
  },
  {
   "cell_type": "code",
   "execution_count": 19,
   "id": "0c65e2f6-7108-484d-9043-f65857941c13",
   "metadata": {},
   "outputs": [],
   "source": [
    "if 'pD' not in db.symbols:\n",
    "    db['pD'] = adjMultiIndex.bc(db.get('p'), adj.rc_pd(db.get('qD'), ('not', db.get('dur_p')))).reorder_levels(db['qD'].domains).rename('pD') # span the pure prices 'p' to fit entire qD domain\n",
    "if 'pS' not in db.symbols:\n",
    "    db['pS'] = adjMultiIndex.bc(adj.rc_pd(db.get('p'), ('not', db.get('n_F'))), db.get('qS')).reorder_levels(db['qS'].domains).rename('qS') # span 'p' to fit domain of qS. Drop prices on foreign goods."
   ]
  },
  {
   "cell_type": "markdown",
   "id": "4b992206-5524-4dbd-aa78-4e28c54954e9",
   "metadata": {},
   "source": [
    "### 7. Create relevant subsets and mappings"
   ]
  },
  {
   "cell_type": "markdown",
   "id": "259858c7-df02-48cb-8a93-2e0246b6d71a",
   "metadata": {
    "tags": []
   },
   "source": [
    "#### 7.1. Domains for general equilibrium"
   ]
  },
  {
   "cell_type": "code",
   "execution_count": 20,
   "id": "37eeea61-0b99-4eb8-ba76-7909d65df4f4",
   "metadata": {},
   "outputs": [],
   "source": [
    "db['nEqui'] = db['vS'].index.levels[-1] # what levels do the model need to identify an equilibrium for.\n",
    "db['d_qS']  = db['vS'].index # what (s,n) combinations does supply come from\n",
    "db['d_qD'] = adj.rc_pd(db['vD'], db['nEqui']).index # what (s,n) combinations does demand come from\n",
    "db['d_qSEqui'] = adj.rc_pd(db['d_qS'].vals, ('not', db['s_HH'])) # Going from partial to general equilibrium, what 'qS' values should be endogenized\n",
    "db['d_pEqui']  = pd.Index(['L'], name = 'n') # Going from partial to general equilibrium, what 'p' values should be endogenized"
   ]
  },
  {
   "cell_type": "markdown",
   "id": "d9d6dbed-6a74-4742-aa25-59c6ef737b8e",
   "metadata": {},
   "source": [
    "#### 7.2. Trade mappings"
   ]
  },
  {
   "cell_type": "markdown",
   "id": "ad6a12cc-0206-46cb-8890-0ac464f488e4",
   "metadata": {},
   "source": [
    "Define the mapping from domestic to the equivalent foreign goods (with syntax ```x,x_F```):"
   ]
  },
  {
   "cell_type": "code",
   "execution_count": 21,
   "id": "51b1896c-0473-4381-ae49-3404c023a726",
   "metadata": {},
   "outputs": [],
   "source": [
    "db['dom2for'] = pd.MultiIndex.from_arrays([db.get('n_p').sort_values(), db.get('n_F').sort_values().rename('nn')])"
   ]
  },
  {
   "cell_type": "markdown",
   "id": "2d39d2a7-d943-4a96-8bea-4f3f6384cd23",
   "metadata": {},
   "source": [
    "Define the subset ```dExport[s,n]``` as the foreign sectors' demand for domestic goods:"
   ]
  },
  {
   "cell_type": "code",
   "execution_count": 22,
   "id": "6cf83ce8-20a0-4e8f-a849-0cb038ee6557",
   "metadata": {},
   "outputs": [],
   "source": [
    "db['dExport'] = adj.rc_pd(db.get('vD'), db.get('s_f')).index # foreign sectors' demand for domestic goods"
   ]
  },
  {
   "cell_type": "markdown",
   "id": "e788725a-76c7-442c-b7ed-99a98926c53c",
   "metadata": {},
   "source": [
    "Define the subset ```dImport``` as  the sector, domestic good, foreign good (s,n,nn) combinations in data - i.e. where the sector demands both the domestic and foreign product:"
   ]
  },
  {
   "cell_type": "code",
   "execution_count": 23,
   "id": "3398abfb-94b6-4cef-a835-23d6765128ce",
   "metadata": {},
   "outputs": [],
   "source": [
    "vD_dom = adjMultiIndex.applyMult(adj.rc_pd(db.get('vD'), db.get('n_p')), db.get('dom2for')) # demand for domestic goods mapped to foreign goods types\n",
    "vD_for = adj.rc_pd(db.get('vD'), db.get('n_F')).rename_axis(index={'n':'nn'}) # demand for foreign goods\n",
    "db['dImport'] = adj.rc_pd(vD_dom, vD_for).reorder_levels(['s','n','nn']).index"
   ]
  },
  {
   "cell_type": "markdown",
   "id": "23ba537e-8388-476c-972f-b7db7000b6ee",
   "metadata": {},
   "source": [
    "Define the subset ```dImport_dom``` as the sector, domestic good combination (s,n) where the sector only demands the domestic and not the corresponding foreign good:"
   ]
  },
  {
   "cell_type": "code",
   "execution_count": 24,
   "id": "12c9d244-315d-4d95-b89e-6faa076f07c8",
   "metadata": {},
   "outputs": [],
   "source": [
    "db['dImport_dom'] = adj.rc_pd(vD_dom, ('not', vD_for)).droplevel('nn').reorder_levels(['s','n']).index"
   ]
  },
  {
   "cell_type": "markdown",
   "id": "a1916fac-70c7-4cb3-88da-00ea0a746457",
   "metadata": {},
   "source": [
    "Define the subset ```dImport_for``` as the sector, foreign good combinations (s,n) where the sector only demand the foreign and not the corresponding domestic good:"
   ]
  },
  {
   "cell_type": "code",
   "execution_count": 25,
   "id": "abc48498-9186-43e2-9885-44064291d937",
   "metadata": {},
   "outputs": [],
   "source": [
    "db['dImport_for'] = adj.rc_pd(vD_for, ('not', db['dImport'])).index.rename(['s','n']).reorder_levels(['s','n'])"
   ]
  },
  {
   "cell_type": "markdown",
   "id": "b00abf58-ffbc-4cdb-9b87-f66a5dcd40d2",
   "metadata": {
    "tags": []
   },
   "source": [
    "## Export:"
   ]
  },
  {
   "cell_type": "code",
   "execution_count": 26,
   "id": "4f7d95eb-d112-4170-a604-338d5c028b10",
   "metadata": {},
   "outputs": [],
   "source": [
    "aggregateDB.readSets(db) # read sets from the symbols in data\n",
    "db.export(repo = d['data'])\n",
    "with open(f\"{d['data']}\\\\glob_{name}\", \"wb\") as file:\n",
    "    pickle.dump(glob,file)"
   ]
  }
 ],
 "metadata": {
  "kernelspec": {
   "display_name": "Python 3 (ipykernel)",
   "language": "python",
   "name": "python3"
  },
  "language_info": {
   "codemirror_mode": {
    "name": "ipython",
    "version": 3
   },
   "file_extension": ".py",
   "mimetype": "text/x-python",
   "name": "python",
   "nbconvert_exporter": "python",
   "pygments_lexer": "ipython3",
   "version": "3.9.7"
  }
 },
 "nbformat": 4,
 "nbformat_minor": 5
}
