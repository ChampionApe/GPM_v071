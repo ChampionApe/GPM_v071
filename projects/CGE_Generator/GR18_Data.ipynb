{
 "cells": [
  {
   "cell_type": "code",
   "execution_count": 1,
   "id": "85b88036-b7e3-4628-8da0-d504e05a2408",
   "metadata": {},
   "outputs": [],
   "source": [
    "clean_up = True\n",
    "%run StdPackages.ipynb\n",
    "d['data'] = os.path.join(d['data'], 'IO2018')"
   ]
  },
  {
   "cell_type": "markdown",
   "id": "97a82b13-a435-499a-ad9f-90e1eaccc941",
   "metadata": {
    "tags": []
   },
   "source": [
    "# GR18: Data"
   ]
  },
  {
   "cell_type": "markdown",
   "id": "748a871e-11a8-4013-a704-5cb86463d18c",
   "metadata": {},
   "source": [
    "### 1. Load data"
   ]
  },
  {
   "cell_type": "markdown",
   "id": "46552c34-ebb4-42ec-9e78-cf8c31621fc9",
   "metadata": {},
   "source": [
    "*Load full 2018 data and relevant mappings used to aggregate the model:*"
   ]
  },
  {
   "cell_type": "code",
   "execution_count": 2,
   "id": "38cd8cec-011e-4877-9429-83d7b37152b1",
   "metadata": {},
   "outputs": [],
   "source": [
    "name = 'GR18'\n",
    "error = 1e-7 # tolerance when testing IO balance\n",
    "db = GpyDB(pickle_path = os.path.join(d['data'], 'IO2018'))\n",
    "db.name = f\"IO_{name}\"\n",
    "file_mappings = os.path.join(d['data'], 'GR2018_mappings.xlsx')\n",
    "glob = CGE_globals.SmallOpen(kwargs_vals = {'t': range(2018,2051)}) # global settings used throughout; interest rates, long run growth rates, time index etc."
   ]
  },
  {
   "cell_type": "markdown",
   "id": "f18b2775-1216-41f5-a5c5-f182ae662c5b",
   "metadata": {},
   "source": [
    "### 2. Aggregation"
   ]
  },
  {
   "cell_type": "code",
   "execution_count": 3,
   "id": "9ebef8a3-6547-48d3-9d11-6cbf8ee56bca",
   "metadata": {},
   "outputs": [],
   "source": [
    "wb_mappings = read.simpleLoad(file_mappings)\n",
    "auxMaps = read.maps(wb_mappings['AuxMaps'])"
   ]
  },
  {
   "cell_type": "markdown",
   "id": "061530a0-e161-4992-88cf-cd7d67c42806",
   "metadata": {},
   "source": [
    "#### 2.1. Aggregate sectors"
   ]
  },
  {
   "cell_type": "markdown",
   "id": "c5328c2b-ab2d-45dd-994d-b944248f1465",
   "metadata": {},
   "source": [
    "Sectors are aggregated based on two mappings:\n",
    "1. ```s146tosGR```: Identifies how 146 domestic sectors are aggregated to roughly 60.\n",
    "2. ```inv7toinvGR```: Maps the 7 types of durables into two - building and machines."
   ]
  },
  {
   "cell_type": "code",
   "execution_count": 4,
   "id": "dfc1b667-e891-49a8-8ffb-265ae1a7dd72",
   "metadata": {},
   "outputs": [],
   "source": [
    "m = auxMaps['s146tosGR'].vals\n",
    "m = m.set_levels([level.astype(str) for level in m.levels]) # force to string format\n",
    "mDur = auxMaps['inv7toinvGR'].vals\n",
    "mDur = mDur.set_levels([level.astype(str) for level in mDur.levels])\n",
    "m_s = m.union(mDur.rename(['s','ss']))"
   ]
  },
  {
   "cell_type": "markdown",
   "id": "641b460e-0e8d-4482-8d7e-aaa4b4397ede",
   "metadata": {},
   "source": [
    "For sectors not included in these mappings do nothing (implied by (x,x) tuples). These sectors include aggregate sectors defined by us (foreign sector, government sector, household, inventory):"
   ]
  },
  {
   "cell_type": "code",
   "execution_count": 5,
   "id": "d24e6589-9d0c-4884-bfa9-5fd0817f9cd9",
   "metadata": {},
   "outputs": [
    {
     "data": {
      "text/plain": [
       "<pyDatabases.gpyDB.gpyDB.GpyDB at 0x19cc4639040>"
      ]
     },
     "execution_count": 5,
     "metadata": {},
     "output_type": "execute_result"
    }
   ],
   "source": [
    "m_sector = m_s.union(pd.MultiIndex.from_arrays([adj.rc_pd(db.get('s'), ('not', m_s.levels[0])), adj.rc_pd(db.get('s'), ('not', m_s.levels[0])).rename('ss')]))\n",
    "aggregateDB.aggDB(db, m_sector)"
   ]
  },
  {
   "cell_type": "markdown",
   "id": "f869dc76-b58a-4541-84f2-853bb1472860",
   "metadata": {},
   "source": [
    "#### 2.2. Aggregate sector outputs "
   ]
  },
  {
   "cell_type": "markdown",
   "id": "d37614a2-7060-4d37-a8c2-86404e793508",
   "metadata": {},
   "source": [
    "Next, we apply the same (type) of mapping to aggregate goods types. At this stage, the goods index ```n``` includes:\n",
    "* Domestically produced goods ```n_p```,\n",
    "* foreign produced goods ```n_F``` (with syntax ```x_F``` where 'x' is an element from ```n_p```)\n",
    "* investment sector goods (corresponding to ```s_i```)\n",
    "* residual income (```resIncome```) and wages (```L```)"
   ]
  },
  {
   "cell_type": "markdown",
   "id": "85a55191-2d80-43c8-a69d-37cfcc6fef1f",
   "metadata": {},
   "source": [
    "We map ```n_p, n_F``` types as well as durables/investments using the same approach as for sectors: "
   ]
  },
  {
   "cell_type": "code",
   "execution_count": 6,
   "id": "31506d68-c240-4742-81d4-cef32d57ce3d",
   "metadata": {},
   "outputs": [
    {
     "data": {
      "text/plain": [
       "<pyDatabases.gpyDB.gpyDB.GpyDB at 0x19cc4639040>"
      ]
     },
     "execution_count": 6,
     "metadata": {},
     "output_type": "execute_result"
    }
   ],
   "source": [
    "m_goods = m.rename(['n','nn']).union(m.set_levels([level+'_F' for level in m.levels]).rename(['n','nn'])).union(mDur)\n",
    "m_goods = m_goods.union(pd.MultiIndex.from_arrays([adj.rc_pd(db.get('n'), ('not', m_goods.levels[0])),\n",
    "                                                   adj.rc_pd(db.get('n'), ('not', m_goods.levels[0])).rename('nn')]))\n",
    "aggregateDB.aggDB(db, m_goods)"
   ]
  },
  {
   "cell_type": "markdown",
   "id": "0c4c96ce-23bb-4037-8dd1-1eefd49c402b",
   "metadata": {},
   "source": [
    "### 3. Clean up taxes, government consumption, etc."
   ]
  },
  {
   "cell_type": "markdown",
   "id": "a1552766-0c3c-4020-b383-a31a73629da5",
   "metadata": {},
   "source": [
    "A final bit of clean-up of the relevant data here:\n",
    "* We only use the total tax revenue from each sector. This is already recorded in the variable ```TotalTax```. Thus, we simply remove the more detailed account ```vTax``` and the set ```taxTypes```.\n",
    "* We only use the total government consumption, and not the consumption split onto the many types ```gc```. This is already recorded in the ```vD``` variable. Thus, we remove the more detailed accounts (```vC```, ```vC_tax```, ```gc```)\n",
    "* Remove zero values."
   ]
  },
  {
   "cell_type": "code",
   "execution_count": 7,
   "id": "9f0623c9-cd68-4670-9f9b-8e8c9640fb30",
   "metadata": {},
   "outputs": [],
   "source": [
    "for k in ('vTax','taxTypes','gc','vC','vC_tax'):\n",
    "    del(db.series[k])"
   ]
  },
  {
   "cell_type": "markdown",
   "id": "085ea1bf-4e6a-4cc3-ae2f-724a50f4a246",
   "metadata": {},
   "source": [
    "Remove zeros:"
   ]
  },
  {
   "cell_type": "code",
   "execution_count": 8,
   "id": "872da8a2-ae4a-4481-be58-d4039ec3b741",
   "metadata": {},
   "outputs": [],
   "source": [
    "[db.__setitem__(k, db.get(k)[db.get(k)!=0]) for k in ('vD','vD_inv','vD_dur','vD_depr')];"
   ]
  },
  {
   "cell_type": "markdown",
   "id": "457c4d89-3bd6-4a1f-89c7-012de8fbbbc1",
   "metadata": {},
   "source": [
    "### 4. Process data on durables, investments, and depreciation rates"
   ]
  },
  {
   "cell_type": "markdown",
   "id": "6bbee7b0-dd18-47b9-bb2e-d52cf6a40e3f",
   "metadata": {},
   "source": [
    "* Depreciation of durables are translated to rates. \n",
    "* Distinguish between investment goods and durables: Define investment goods with syntax ```I_x``` for durable x.\n",
    "* Define the mapping dur2inv and relevant subsets (```dur_p``` and ```inv_p```)."
   ]
  },
  {
   "cell_type": "markdown",
   "id": "fe18f405-f33b-4aff-9919-d13ee80eb69d",
   "metadata": {},
   "source": [
    "*NB: Only run this cell once.*"
   ]
  },
  {
   "cell_type": "code",
   "execution_count": 9,
   "id": "8e6953f1-59cb-467a-9b73-76c4bb5a157a",
   "metadata": {},
   "outputs": [],
   "source": [
    "db['rDepr'] = db.get('vD_depr') / (db.get('vD_dur').replace(0,1))\n",
    "db['dur2inv'] = pd.MultiIndex.from_frame(db.get('vD_dur').index.to_frame(index = False).assign(nn = lambda x: 'I_'+x['n'])).reorder_levels(['s','n','nn'])\n",
    "db['dur_p'] = db.get('dur2inv').droplevel('nn').unique() # what variables are durables (K)\n",
    "db['inv_p'] = db.get('dur2inv').droplevel('n').unique().rename({'nn':'n'}) # what variables are investment goods (I)\n",
    "db.get('vD_inv').index = db.get('vD_inv').index.set_levels('I_'+db.get('vD_inv').index.levels[0], level = 0)\n",
    "db['vD'] = db.get('vD_inv').combine_first(db.get('vD')).combine_first(db.get('vD_dur'))"
   ]
  },
  {
   "cell_type": "markdown",
   "id": "246cb373-669f-4ba1-9866-613d6dd9ca50",
   "metadata": {},
   "source": [
    "*Clean up data:*"
   ]
  },
  {
   "cell_type": "code",
   "execution_count": 10,
   "id": "2a7a8126-0914-48f9-b48b-25b1f4cedfa0",
   "metadata": {},
   "outputs": [],
   "source": [
    "for k in ('vD_inv','vD_dur','vD_depr'):\n",
    "    del(db.series[k])"
   ]
  },
  {
   "cell_type": "markdown",
   "id": "ca74f96b-7f2e-4b0e-9041-92d85dccb675",
   "metadata": {},
   "source": [
    "### 5. Eliminate small and negative values"
   ]
  },
  {
   "cell_type": "markdown",
   "id": "61189ed9-8c12-4982-a86c-931f336e9a53",
   "metadata": {},
   "source": [
    "We create RAS-like adjustments *within* a number of blocks. We keep the sub-totals fixed in the following blocks:\n",
    "* Block A and I: Input-output from/to domestic production sectors (```n_p,s_p```) and the domestic investment sectors.\n",
    "* Block B and J: Domestic production and investment sectors' demand for imported goods (```n_F, s_p, s_i```). For this block, we do not require row-sums to be the same before and after. The implication is that imports of a specific type $n^F_i$ may not be the same after the adjustment.\n",
    "\n",
    "We do not make any adjustments to consumption components (in particular because there are not sufficient with consumption categories to balance the blocks). This approach ensures that most totals are the same - e.g. total imports per sector - is the same."
   ]
  },
  {
   "cell_type": "code",
   "execution_count": 11,
   "id": "306488a3-6707-4a2a-92dd-877526f168bd",
   "metadata": {},
   "outputs": [],
   "source": [
    "ws = gams.GamsWorkspace(working_directory=d['work']) # specify where you want to run the GAMS models from (here the repository referred to in d['work'])\n",
    "threshold = 1 # anything below 1 million is removed from the data\n",
    "ras_settings = IOfunctions.standardCleanSettings(db, threshold)\n",
    "# Run RAS adjustment:\n",
    "vs, ms = {}, {}\n",
    "for k,v in ras_settings.items():\n",
    "    vs[k] = RAS.shareRAS(v['v0'], v['vBar'], **v['kwargs']) # Initialize small gams model\n",
    "    vs[k].compile() # set up model\n",
    "    vs[k].write(); # write gams code\n",
    "    ms[k] = vs[k].run(exportTo = d['work'], ws = ws) # solve\n",
    "gpyDB.add_or_merge_vals(db, pd.concat([ms[k].out_db.get('vD') for k in ms]+[ras_settings[k]['vBar'] for k in ras_settings],axis=0), name = 'vD') # add data to database"
   ]
  },
  {
   "cell_type": "markdown",
   "id": "e470e5d7-da29-4163-a9f2-152c9c90c7ec",
   "metadata": {},
   "source": [
    "*Remove zero values:*"
   ]
  },
  {
   "cell_type": "code",
   "execution_count": 12,
   "id": "9e260ee6-eda0-4b6a-b2ea-1e817012e9b8",
   "metadata": {},
   "outputs": [],
   "source": [
    "db['vD'] = db.get('vD')[db.get('vD')!=0]"
   ]
  },
  {
   "cell_type": "markdown",
   "id": "5a893d9d-bbfa-44d8-8b76-908b9d6871ae",
   "metadata": {},
   "source": [
    "### 6. Create variables"
   ]
  },
  {
   "cell_type": "markdown",
   "id": "37265385-b00e-4430-b0e8-9cf5159dfe93",
   "metadata": {},
   "source": [
    "#### 6.1. Value of supply"
   ]
  },
  {
   "cell_type": "markdown",
   "id": "3d63075e-64ae-46c2-97dd-3dbe91152421",
   "metadata": {},
   "source": [
    "At this stage, supply comes from (1) households supplying labor, (2) domestic production and investment sectors."
   ]
  },
  {
   "cell_type": "code",
   "execution_count": 13,
   "id": "1cf952de-954d-4a54-8e25-803b30b718cc",
   "metadata": {},
   "outputs": [],
   "source": [
    "def repeatIndex(s, i1 = 'n', i2 = 's'):\n",
    "    return s.reset_index().assign(**{i2: s.index}).set_index([i2,i1]).iloc[:,0]"
   ]
  },
  {
   "cell_type": "code",
   "execution_count": 14,
   "id": "44fe4e3f-1adb-4ccd-978e-be89676570e4",
   "metadata": {},
   "outputs": [],
   "source": [
    "vS = repeatIndex(adj.rc_pd(db.get('vD'), ('or', [db.get('n_p'), db.get('inv_p')])).groupby('n').sum()) # domestic production/investment supply\n",
    "vS.loc[('HH','L')] = db.get('vD').xs('L',level='n').sum() # add value of household supply of labor\n",
    "gpyDB.add_or_merge_vals(db, vS, name = 'vS') # add to database"
   ]
  },
  {
   "cell_type": "markdown",
   "id": "d9d6dbed-6a74-4742-aa25-59c6ef737b8e",
   "metadata": {},
   "source": [
    "#### 6.2. Create general nesting structure"
   ]
  },
  {
   "cell_type": "markdown",
   "id": "4abba8dc-d56e-43f1-9643-7c9a0268f0e2",
   "metadata": {},
   "source": [
    "The ```n_p``` and ```n_F``` sectors are matched by the syntax ```(x, x_F)```:"
   ]
  },
  {
   "cell_type": "code",
   "execution_count": 26,
   "id": "51b1896c-0473-4381-ae49-3404c023a726",
   "metadata": {},
   "outputs": [],
   "source": [
    "db['dom2for'] = pd.MultiIndex.from_arrays([db.get('n_p').sort_values(), db.get('n_F').sort_values().rename('nn')])"
   ]
  },
  {
   "cell_type": "markdown",
   "id": "ae5eecb4-c2e4-442a-9171-2d5a6643cb17",
   "metadata": {},
   "source": [
    "However, there may be instances where only the domestic or the foreign product is available/used:\n",
    "* For trade module: Define the subset ```dExport[s,n]``` as the foreign sectors' (s) demand for domestic goods (n).\n",
    "* For the domestic production/investment modules: \n",
    "    * Define ```dImport[s,n,nn]``` as the mapping from sectors (s) that demands both a domestic good $n$, and its related foreign good $nn$. \n",
    "    * Define ```dImport_dom[s,n]``` as the subset of sectors (s) that only demands a domestic good $n$, but not its related foreign good.\n",
    "    * Define ```dImport_for[s,n]``` as the subset of sectors (s) that only demands a foreign good $n$, but not its related domestic good."
   ]
  },
  {
   "cell_type": "code",
   "execution_count": 73,
   "id": "abc48498-9186-43e2-9885-44064291d937",
   "metadata": {},
   "outputs": [],
   "source": [
    "db['dExport'] = adj.rc_pd(db.get('vD'), db.get('s_f')).index\n",
    "vD_dom = adjMultiIndex.applyMult(adj.rc_pd(db.get('vD'), db.get('n_p')), db.get('dom2for')) # demand for domestic goods mapped to foreign goods types\n",
    "vD_for = adj.rc_pd(db.get('vD'), db.get('n_F')).rename_axis(index={'n':'nn'}) # demand for foreign goods\n",
    "db['dImport'] = adj.rc_pd(vD_dom, vD_for).reorder_levels(['s','n','nn']).index\n",
    "db['dImport_dom'] = adj.rc_pd(vD_dom, ('not', vD_for)).droplevel('nn').reorder_levels(['s','n']).index\n",
    "db['dImport_for'] = adj.rc_pd(vD_for, ('not', db['dImport'])).index.rename(['n','s']).reorder_levels(['s','n'])"
   ]
  }
 ],
 "metadata": {
  "kernelspec": {
   "display_name": "Python 3 (ipykernel)",
   "language": "python",
   "name": "python3"
  },
  "language_info": {
   "codemirror_mode": {
    "name": "ipython",
    "version": 3
   },
   "file_extension": ".py",
   "mimetype": "text/x-python",
   "name": "python",
   "nbconvert_exporter": "python",
   "pygments_lexer": "ipython3",
   "version": "3.9.7"
  }
 },
 "nbformat": 4,
 "nbformat_minor": 5
}
