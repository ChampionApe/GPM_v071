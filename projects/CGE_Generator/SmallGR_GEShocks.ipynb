{
 "cells": [
  {
   "cell_type": "code",
   "execution_count": 1,
   "id": "f9c06f57-4231-4365-8db3-608cbf59a6d8",
   "metadata": {},
   "outputs": [
    {
     "name": "stdout",
     "output_type": "stream",
     "text": [
      "The file _gams_py_gdb2.gdx is still active and was not deleted.\n"
     ]
    }
   ],
   "source": [
    "clean_up = True\n",
    "%run stdPackages.ipynb\n",
    "d['data'] = os.path.join(d['data'], 'IO2018')"
   ]
  },
  {
   "cell_type": "markdown",
   "id": "1882bbd5-5dfc-4df8-ba06-14873c5ee0c6",
   "metadata": {},
   "source": [
    "# Simulations in general equilibrium"
   ]
  },
  {
   "cell_type": "code",
   "execution_count": 2,
   "id": "37806753-fce2-46fd-ba06-9617e50e3786",
   "metadata": {},
   "outputs": [],
   "source": [
    "name = 'smallGR'\n",
    "ws = gams.GamsWorkspace(working_directory=d['work']) # specify where you want to run the GAMS models from (here the repository referred to in d['work'])\n",
    "with open(f\"{d['data']}\\\\{name}_GE\",\"rb\") as file:\n",
    "    GE = pickle.load(file)\n",
    "GE.write();"
   ]
  },
  {
   "cell_type": "code",
   "execution_count": 26,
   "id": "75ad8d0c-3ce0-446a-a129-23f9142cfee5",
   "metadata": {},
   "outputs": [],
   "source": [
    "def adjustLabels(x, labels_, keepLoop):\n",
    "    return adj.rc_pd(adjMultiIndex.applyMult(x, labels_).droplevel('l1'), keepLoop).unstack(keepLoop.name)"
   ]
  },
  {
   "cell_type": "markdown",
   "id": "edf12b29-b147-489b-959e-bc1b9356f5e7",
   "metadata": {},
   "source": [
    "### 1. Increase tax"
   ]
  },
  {
   "cell_type": "markdown",
   "id": "9390a614-5fdf-4746-8823-fc225250428e",
   "metadata": {},
   "source": [
    "Increase tax on energy by 10%:"
   ]
  },
  {
   "cell_type": "markdown",
   "id": "703aa93e-9414-41ee-91f2-82efd4f3f150",
   "metadata": {},
   "source": [
    "*i. Set up target database:*"
   ]
  },
  {
   "cell_type": "code",
   "execution_count": 23,
   "id": "6f00255d-5e4f-4249-96fe-a82fba976146",
   "metadata": {},
   "outputs": [],
   "source": [
    "dbT = GpyDB(**{'name': 'TaxShock'})\n",
    "dbT['tauS'] = adj.rc_pd(GE.get('tauS'), pd.Index(['energy'],name='n')) + 0.1\n",
    "extractSol = {k:None for k in ('qS','qD','pD','p')}\n",
    "labels = pd.Index(np.round(np.linspace(0,0.1,26),3), name = \"\"\"$\\Delta \\\\tau^S_e$\"\"\")"
   ]
  },
  {
   "cell_type": "markdown",
   "id": "8f847aae-232a-4271-b5a2-3318a6884346",
   "metadata": {},
   "source": [
    "*ii. Solve:*"
   ]
  },
  {
   "cell_type": "code",
   "execution_count": 4,
   "id": "9d49a3d9-298c-4496-a0db-225b9105f652",
   "metadata": {},
   "outputs": [],
   "source": [
    "m_tax, cp_tax = GE.sneakySolve(dbT, ws = ws, loop_kwargs = {'extractSol': extractSol, 'n': 26}, **{'cns': 'CONOPT4'})"
   ]
  },
  {
   "cell_type": "markdown",
   "id": "bb99e5f7-4c37-4ee0-bca8-d0f830a49c35",
   "metadata": {},
   "source": [
    "What levels are we keeping:"
   ]
  },
  {
   "cell_type": "code",
   "execution_count": 25,
   "id": "5cf223db-d36f-4e07-ba1e-d7febeaeccc7",
   "metadata": {},
   "outputs": [],
   "source": [
    "keepLoop = pd.Index([labels[0], labels[13], labels[25]], name = labels.name) # which labels in the loop are we plotting\n",
    "labels_ = pd.MultiIndex.from_arrays([m_tax.out_db.get('l1'), labels]) "
   ]
  },
  {
   "cell_type": "markdown",
   "id": "68414624-8e31-4aad-9498-3d312cd2a567",
   "metadata": {},
   "source": [
    "Check some variable out:"
   ]
  },
  {
   "cell_type": "code",
   "execution_count": 31,
   "id": "1e8cfff6-612d-4b2e-a519-8425ea2d2c19",
   "metadata": {},
   "outputs": [],
   "source": [
    "qS_energy = adj.rc_pd(m_tax.out_db.get('sol_qS_shock').xs(('energy','energy'),level=['s','n']), GE.get('txE'))"
   ]
  },
  {
   "cell_type": "markdown",
   "id": "4b100751-76d0-468b-91aa-3371200509c0",
   "metadata": {},
   "source": [
    "Supply of energy:"
   ]
  },
  {
   "cell_type": "code",
   "execution_count": 34,
   "id": "fa229ab9-7a25-409d-bde4-1a04ef9c52a4",
   "metadata": {},
   "outputs": [
    {
     "data": {
      "text/plain": [
       "<AxesSubplot:xlabel='t'>"
      ]
     },
     "execution_count": 34,
     "metadata": {},
     "output_type": "execute_result"
    },
    {
     "data": {
      "image/png": "[encoded data removed]",
      "text/plain": [
       "<Figure size 576x396 with 1 Axes>"
      ]
     },
     "metadata": {},
     "output_type": "display_data"
    }
   ],
   "source": [
    "adjustLabels(qS_energy, labels_, keepLoop).plot()"
   ]
  }
 ],
 "metadata": {
  "kernelspec": {
   "display_name": "Python 3 (ipykernel)",
   "language": "python",
   "name": "python3"
  },
  "language_info": {
   "codemirror_mode": {
    "name": "ipython",
    "version": 3
   },
   "file_extension": ".py",
   "mimetype": "text/x-python",
   "name": "python",
   "nbconvert_exporter": "python",
   "pygments_lexer": "ipython3",
   "version": "3.9.7"
  }
 },
 "nbformat": 4,
 "nbformat_minor": 5
}
