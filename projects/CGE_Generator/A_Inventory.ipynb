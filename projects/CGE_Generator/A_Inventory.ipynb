{
 "cells": [
  {
   "cell_type": "code",
   "execution_count": 1,
   "id": "fbe7a360-12a9-4686-b6fe-1c00650a3f94",
   "metadata": {},
   "outputs": [
    {
     "name": "stdout",
     "output_type": "stream",
     "text": [
      "The file _gams_py_gdb0.gdx is still active and was not deleted.\n",
      "The file _gams_py_gdb3.gdx is still active and was not deleted.\n"
     ]
    }
   ],
   "source": [
    "clean_up = True\n",
    "%run stdPackages.ipynb"
   ]
  },
  {
   "cell_type": "code",
   "execution_count": 2,
   "id": "f0282df7-496c-47b0-8b32-69d9ee11c343",
   "metadata": {},
   "outputs": [],
   "source": [
    "ws = gams.GamsWorkspace(working_directory=d['work']) # specify where you want to run the GAMS models from (here the repository referred to in d['work'])"
   ]
  },
  {
   "cell_type": "markdown",
   "id": "322120b4-18f3-4420-8c97-a7d590c94c6c",
   "metadata": {},
   "source": [
    "## Load standard settings:"
   ]
  },
  {
   "cell_type": "code",
   "execution_count": 3,
   "id": "02c956b9-dd8e-4285-b669-154a439536da",
   "metadata": {},
   "outputs": [],
   "source": [
    "name = 'A' # name of model\n",
    "db_IO = GpyDB(f\"{d['data']}\\\\IO_{name}\") # load IO database named IO_name\n",
    "with open(f\"{d['data']}\\\\glob_{name}\",\"rb\") as file: # load global settings anmed glob_name\n",
    "    glob=pickle.load(file)"
   ]
  },
  {
   "cell_type": "markdown",
   "id": "a3323dee-fc10-4734-a5a1-66e27a7cbdec",
   "metadata": {},
   "source": [
    "Inventory modelling only requires specifying: (1) What sectors are inventory sectors, (2) the speed of adjustment for the inventory (modelled as AR1 proces without stochasticity)."
   ]
  },
  {
   "cell_type": "code",
   "execution_count": 4,
   "id": "3139dfff-27be-43a1-b431-0851d929cfbc",
   "metadata": {},
   "outputs": [],
   "source": [
    "itory = pd.Index(['itory'], name = 's')\n",
    "aggregateDB.subset_db(db_IO, itory) # goes through all symbols in db_IO and only keep the elements that are in the inventory set\n",
    "I = CGE_Production.Inventory(name = name, db_IO = db_IO, itory=itory, glob = glob) # initialize module from nesting tree and global settings\n",
    "I.compile(); \n",
    "I.write();\n",
    "m = I.run(exportTo=d['work'], ws =ws)"
   ]
  },
  {
   "cell_type": "markdown",
   "id": "7b39fbb5-2bf4-4725-a2a0-0cfdea3c15c5",
   "metadata": {},
   "source": [
    "Export:"
   ]
  },
  {
   "cell_type": "code",
   "execution_count": 5,
   "id": "a54e5cca-366f-4f5b-aa04-b92216e180b0",
   "metadata": {},
   "outputs": [],
   "source": [
    "I.s.db = m.out_db"
   ]
  },
  {
   "cell_type": "markdown",
   "id": "f3211ad4-bea7-443c-b49a-7b70ba95658d",
   "metadata": {},
   "source": [
    "Export:"
   ]
  },
  {
   "cell_type": "code",
   "execution_count": 6,
   "id": "786d764c-54e0-4a31-bf66-5eb256f6ea0d",
   "metadata": {},
   "outputs": [],
   "source": [
    "with open(os.path.join(d['data'], I.name), \"wb\") as file:\n",
    "    pickle.dump(I,file)"
   ]
  }
 ],
 "metadata": {
  "kernelspec": {
   "display_name": "Python 3 (ipykernel)",
   "language": "python",
   "name": "python3"
  },
  "language_info": {
   "codemirror_mode": {
    "name": "ipython",
    "version": 3
   },
   "file_extension": ".py",
   "mimetype": "text/x-python",
   "name": "python",
   "nbconvert_exporter": "python",
   "pygments_lexer": "ipython3",
   "version": "3.9.7"
  }
 },
 "nbformat": 4,
 "nbformat_minor": 5
}
