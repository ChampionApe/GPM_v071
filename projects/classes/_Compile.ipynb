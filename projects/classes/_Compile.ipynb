{
 "cells": [
  {
   "cell_type": "code",
   "execution_count": 1,
   "id": "6154e926-18ae-49c3-9e08-d7f1e9a055d8",
   "metadata": {},
   "outputs": [
    {
     "name": "stdout",
     "output_type": "stream",
     "text": [
      "No clean-up of work-folder\n"
     ]
    }
   ],
   "source": [
    "%run StdPackages.ipynb"
   ]
  },
  {
   "cell_type": "markdown",
   "id": "df0c6885-b304-45fe-827c-cbe4fcbce3d1",
   "metadata": {},
   "source": [
    "*Load test database:*"
   ]
  },
  {
   "cell_type": "code",
   "execution_count": 2,
   "id": "a2010c48-dfbf-4702-b661-938faf7e955e",
   "metadata": {},
   "outputs": [],
   "source": [
    "db = GpyDB(db = os.path.join(d['data'], 'AbatementData.gdx'))"
   ]
  },
  {
   "cell_type": "markdown",
   "id": "fe1edb6d-ed32-4491-b46a-a8d2d90430f6",
   "metadata": {
    "tags": []
   },
   "source": [
    "# GmsPy.Compile"
   ]
  },
  {
   "cell_type": "markdown",
   "id": "de17cace-11d4-45aa-a409-a008cf571a72",
   "metadata": {},
   "source": [
    "The class is used to split variables into exogenous and endogenous groups of variables relying on symbols from a database (```GpyDB```). The ```Compile``` class is based on the ```Group``` - we will start by defining this."
   ]
  },
  {
   "cell_type": "markdown",
   "id": "f5d7af46-54d6-4fe3-8377-a307c102b3b3",
   "metadata": {},
   "source": [
    "### ```GmsPy.Group```"
   ]
  },
  {
   "cell_type": "code",
   "execution_count": 3,
   "id": "7c202594-b8b0-4759-9d9d-ab9b0a3aa06d",
   "metadata": {},
   "outputs": [],
   "source": [
    "os.chdir(d['py'])\n",
    "from GmsPy import Group\n",
    "os.chdir(d['curr'])"
   ]
  },
  {
   "cell_type": "markdown",
   "id": "c2af1d04-2ddb-4891-b458-310a6dc529fa",
   "metadata": {},
   "source": [
    "We can define groups of variables using four attributes:\n",
    "* ```self.v```: List of tuples. Each tuple is length 2, with first element indicating the variable, the second indicating the condition on that variable.\n",
    "* ```self.g```: Ordered set. Each element is a string referencing other groups to be included.\n",
    "* ```self.neg_v```: List of tuples akin to ```self.v```. Each element is subtracted from the group.\n",
    "* ```sef.neg_g```: Ordered set. Each element is a string referencing another group that is subtracted.\n",
    "\n",
    "When specifying variables, the conditions should conform to the form used in ```pyDatabases.gpyDB_wheels.adj``` and ```GmsWrite.writeGpy```.\n",
    "\n",
    "*NB: As groups can depend on other groups, it can be important to process groups in the right order.*"
   ]
  },
  {
   "cell_type": "code",
   "execution_count": 4,
   "id": "f21a75e2-8356-45f5-b6d6-a549823acb6b",
   "metadata": {},
   "outputs": [],
   "source": [
    "groups = {}"
   ]
  },
  {
   "cell_type": "markdown",
   "id": "b88556b0-0e2e-4e1e-b379-01b06ef5ab9b",
   "metadata": {},
   "source": [
    "#### Group examples:"
   ]
  },
  {
   "cell_type": "markdown",
   "id": "71f4fe81-53cb-48cc-9a14-6ec4b4ba4dc4",
   "metadata": {},
   "source": [
    "*1. Add a group specified as a list of tuples:*"
   ]
  },
  {
   "cell_type": "markdown",
   "id": "c9500aab-26c3-49aa-ba86-28faad58c2bc",
   "metadata": {},
   "source": [
    "Specify a group called ```g1``` by specifying a list of tuples to include:"
   ]
  },
  {
   "cell_type": "code",
   "execution_count": 5,
   "id": "152e03cf-04ad-45f5-88c8-211229126262",
   "metadata": {},
   "outputs": [],
   "source": [
    "g1 = Group('g1', \n",
    "           v = [('theta',db['V01_T']), # V01_T is a dummy, so we only use a part of the symbol 'theta'\n",
    "                ('mu', ('and', [db['V01_inp2T'], ('not', db['V01_dur'])])), # use symbols from dummy V01_inp2T, but not in V01_dur\n",
    "                ('sigma', db['V01_T2ESNorm'])])"
   ]
  },
  {
   "cell_type": "markdown",
   "id": "88ae0e38-2cf3-49b2-b70b-d6220ebfd7b0",
   "metadata": {},
   "source": [
    "When groups are *compiled*, we construct two main dicts ```self.out, self.out_neg```:"
   ]
  },
  {
   "cell_type": "code",
   "execution_count": 6,
   "id": "2d02bb10-617b-46ee-83be-a04298fbe3b5",
   "metadata": {},
   "outputs": [],
   "source": [
    "groups[g1.name] = g1.compile(groups)"
   ]
  },
  {
   "cell_type": "markdown",
   "id": "90210555-31e7-4a7d-b9b5-ef04ccf08717",
   "metadata": {},
   "source": [
    "The ```self.out``` part contains elements that are added to the group, ```self.out_neg``` are elements to extract from a group definition. We can use this to fix/unfix variables (see below)."
   ]
  },
  {
   "cell_type": "markdown",
   "id": "ad6a8f7b-deb6-409d-a7c4-2bc74fc02a54",
   "metadata": {},
   "source": [
    "*2. Add a group specified by referencing a group and variables:*"
   ]
  },
  {
   "cell_type": "markdown",
   "id": "06ef0711-dd45-41af-8735-9049a6321c9d",
   "metadata": {},
   "source": [
    "Specify list of variables + reference group 'g1'. This adds a variable 'mu' and the conditional of the mapping 'V01_NT_inp' that has been aliased with 'n','nn'. A preview of what will eventually be written:"
   ]
  },
  {
   "cell_type": "code",
   "execution_count": 7,
   "id": "002277e5-0881-4886-8b5f-8016acf7d0f5",
   "metadata": {},
   "outputs": [
    {
     "data": {
      "text/plain": [
       "'V01_NT_inp[s,nn]'"
      ]
     },
     "execution_count": 7,
     "metadata": {},
     "output_type": "execute_result"
    }
   ],
   "source": [
    "c = {'s': db['V01_NT_inp'], 'alias': {'n':'nn'}}\n",
    "GmsWrite.writeGpy(**c)"
   ]
  },
  {
   "cell_type": "code",
   "execution_count": 8,
   "id": "797da4f6-516e-4eb6-a5db-94f3da1a9ae1",
   "metadata": {},
   "outputs": [],
   "source": [
    "g2 = Group('g2', v = [('mu',c)], g=['g1'])"
   ]
  },
  {
   "cell_type": "markdown",
   "id": "7b64551a-5eb2-428f-957d-e817997ca5fd",
   "metadata": {},
   "source": [
    "Compile:"
   ]
  },
  {
   "cell_type": "code",
   "execution_count": 9,
   "id": "d532ed88-b519-4617-b7b6-5c1058e9ca52",
   "metadata": {},
   "outputs": [
    {
     "data": {
      "text/plain": [
       "{'mu': [{'s': <pyDatabases.gpyDB._database.gpy at 0x1cedcbba730>,\n",
       "   'alias': {'n': 'nn'}},\n",
       "  ('and',\n",
       "   [<pyDatabases.gpyDB._database.gpy at 0x1cecb23f9a0>,\n",
       "    ('not', <pyDatabases.gpyDB._database.gpy at 0x1cecb1666d0>)])],\n",
       " 'theta': [<pyDatabases.gpyDB._database.gpy at 0x1cecb23f880>],\n",
       " 'sigma': [<pyDatabases.gpyDB._database.gpy at 0x1cecb23ff40>]}"
      ]
     },
     "execution_count": 9,
     "metadata": {},
     "output_type": "execute_result"
    }
   ],
   "source": [
    "groups[g2.name] = g2.compile(groups)\n",
    "groups[g2.name].out"
   ]
  },
  {
   "cell_type": "markdown",
   "id": "177993ec-a372-4b95-bb39-244df97ad56a",
   "metadata": {},
   "source": [
    "#### Subtract a group"
   ]
  },
  {
   "cell_type": "markdown",
   "id": "c4e41454-bd66-4987-bf0a-46437671e2e8",
   "metadata": {},
   "source": [
    "Define a group as the group 'g2', but extract 'g1':"
   ]
  },
  {
   "cell_type": "code",
   "execution_count": 10,
   "id": "1a76f66f-d383-48cd-a640-a3e442c7928f",
   "metadata": {},
   "outputs": [],
   "source": [
    "g3 = Group('g3', g = ['g2'], neg_g = ['g1'])"
   ]
  },
  {
   "cell_type": "markdown",
   "id": "9b1934fb-4135-43c0-9e4b-67aec7126144",
   "metadata": {},
   "source": [
    "Compile:"
   ]
  },
  {
   "cell_type": "code",
   "execution_count": 11,
   "id": "1099894d-9caa-4167-9872-0f2120a880a1",
   "metadata": {},
   "outputs": [
    {
     "data": {
      "text/plain": [
       "{'mu': [('or',\n",
       "   [{'s': <pyDatabases.gpyDB._database.gpy at 0x1cedcbba730>,\n",
       "     'alias': {'n': 'nn'}},\n",
       "    ('and',\n",
       "     [<pyDatabases.gpyDB._database.gpy at 0x1cecb23f9a0>,\n",
       "      ('not', <pyDatabases.gpyDB._database.gpy at 0x1cecb1666d0>)])])]}"
      ]
     },
     "execution_count": 11,
     "metadata": {},
     "output_type": "execute_result"
    }
   ],
   "source": [
    "groups[g3.name] = g3.compile(groups)\n",
    "groups[g3.name].out"
   ]
  },
  {
   "cell_type": "code",
   "execution_count": 12,
   "id": "3263cd8a-974c-445a-8907-303b45058837",
   "metadata": {},
   "outputs": [
    {
     "data": {
      "text/plain": [
       "{'mu': [('and',\n",
       "   [<pyDatabases.gpyDB._database.gpy at 0x1cecb23f9a0>,\n",
       "    ('not', <pyDatabases.gpyDB._database.gpy at 0x1cecb1666d0>)])]}"
      ]
     },
     "execution_count": 12,
     "metadata": {},
     "output_type": "execute_result"
    }
   ],
   "source": [
    "groups[g3.name].out_neg"
   ]
  },
  {
   "cell_type": "markdown",
   "id": "8a73d9a6-e27b-4844-b048-2a6d00ec22d5",
   "metadata": {},
   "source": [
    "#### Subtract a group and a variable:"
   ]
  },
  {
   "cell_type": "code",
   "execution_count": 13,
   "id": "28e0ec2a-361b-46b1-a2db-7ef2b0d88eb5",
   "metadata": {},
   "outputs": [],
   "source": [
    "g4 = Group('g4', g = ['g2'], neg_g = ['g1'], neg_v = [('mu', db['V01_NT_inp'])])"
   ]
  },
  {
   "cell_type": "markdown",
   "id": "7c87f887-e846-4e52-b2cd-1cf163dcbed1",
   "metadata": {},
   "source": [
    "Compile:"
   ]
  },
  {
   "cell_type": "code",
   "execution_count": 14,
   "id": "d79a8fa6-70bc-434d-9686-38c99e69ed22",
   "metadata": {},
   "outputs": [
    {
     "data": {
      "text/plain": [
       "({'mu': [('or',\n",
       "    [{'s': <pyDatabases.gpyDB._database.gpy at 0x1cedcbba730>,\n",
       "      'alias': {'n': 'nn'}},\n",
       "     ('and',\n",
       "      [<pyDatabases.gpyDB._database.gpy at 0x1cecb23f9a0>,\n",
       "       ('not', <pyDatabases.gpyDB._database.gpy at 0x1cecb1666d0>)])])]},\n",
       " {'mu': [<pyDatabases.gpyDB._database.gpy at 0x1cedcbba730>,\n",
       "   ('and',\n",
       "    [<pyDatabases.gpyDB._database.gpy at 0x1cecb23f9a0>,\n",
       "     ('not', <pyDatabases.gpyDB._database.gpy at 0x1cecb1666d0>)])]})"
      ]
     },
     "execution_count": 14,
     "metadata": {},
     "output_type": "execute_result"
    }
   ],
   "source": [
    "groups[g4.name] = g4.compile(groups)\n",
    "groups[g4.name].out, g4.out_neg"
   ]
  },
  {
   "cell_type": "markdown",
   "id": "b43b49aa-8e6a-4d2d-9691-a008d37271c0",
   "metadata": {},
   "source": [
    "#### Collect conditions from a group:"
   ]
  },
  {
   "cell_type": "markdown",
   "id": "8f923ed7-828a-4e71-8c7f-2fc9d9c16cb0",
   "metadata": {},
   "source": [
    "The ```self.compile``` creates a dictionary of conditions to apply (```self.out```) and conditions to negate and apply (```self.out_neg```). The two are combined into one dictionary of nested conditions using the ```self.conditions``` property. These can be processed using e.g. the ```writeGpy``` method:"
   ]
  },
  {
   "cell_type": "code",
   "execution_count": 15,
   "id": "1e90fec7-f5b2-4df2-a511-6c417c22305f",
   "metadata": {},
   "outputs": [
    {
     "name": "stdout",
     "output_type": "stream",
     "text": [
      "Text for group g1:\n",
      "\ttheta[s,n]$(V01_T[s,n])\n",
      "\tmu[s,n,nn]$((V01_inp2T[s,n,nn] and ( not (V01_dur[s,n]))))\n",
      "\tsigma[s,n]$(V01_T2ESNorm[s,n,nn])\n",
      "Text for group g2:\n",
      "\tmu[s,n,nn]$((V01_NT_inp[s,nn] or (V01_inp2T[s,n,nn] and ( not (V01_dur[s,n])))))\n",
      "\ttheta[s,n]$(V01_T[s,n])\n",
      "\tsigma[s,n]$(V01_T2ESNorm[s,n,nn])\n",
      "Text for group g3:\n",
      "\tmu[s,n,nn]$(((V01_NT_inp[s,nn] or (V01_inp2T[s,n,nn] and ( not (V01_dur[s,n])))) and ( not ((V01_inp2T[s,n,nn] and ( not (V01_dur[s,n])))))))\n",
      "Text for group g4:\n",
      "\tmu[s,n,nn]$(((V01_NT_inp[s,nn] or (V01_inp2T[s,n,nn] and ( not (V01_dur[s,n])))) and ( not ((V01_NT_inp[s,n] or (V01_inp2T[s,n,nn] and ( not (V01_dur[s,n]))))))))\n"
     ]
    }
   ],
   "source": [
    "for g in groups.values():\n",
    "    print(f\"Text for group {g.name}:\")\n",
    "    for k,v in g.conditions.items():\n",
    "        print(f\"\\t{GmsWrite.writeGpy(db[k],c=v)}\")"
   ]
  },
  {
   "cell_type": "markdown",
   "id": "73e58493-2be3-4d9b-ba4c-b2569b346e9e",
   "metadata": {},
   "source": [
    "### ```GmsPy.Compile```"
   ]
  },
  {
   "cell_type": "markdown",
   "id": "57ccff46-b30e-4ba1-91a8-c6d3e33d92cc",
   "metadata": {},
   "source": [
    "The class is a small wrapper around a dictionary of ```GmsPy.Groups```. The class has a few methods that helps us write some standard codes of GAMS blocks, but also to define metablocks in a fast way. Let's use the ```groups``` dictionary from before as the collection of groups:"
   ]
  },
  {
   "cell_type": "code",
   "execution_count": 16,
   "id": "7a5be6b5-e04f-4e36-9511-e638cd2bc149",
   "metadata": {},
   "outputs": [],
   "source": [
    "c = GmsPy.Compile(groups = groups)"
   ]
  },
  {
   "cell_type": "markdown",
   "id": "e53a1f74-228a-4f88-86ad-a33bc48dbeac",
   "metadata": {},
   "source": [
    "In the previous section, we have compiled each of the groups separately. If we hadn't done that, the ```self.run``` method does this for us:"
   ]
  },
  {
   "cell_type": "code",
   "execution_count": 17,
   "id": "d562f96b-fd6e-410b-b360-1ff77b3795b1",
   "metadata": {},
   "outputs": [],
   "source": [
    "c.run()"
   ]
  },
  {
   "cell_type": "markdown",
   "id": "46c55cae-ea81-4504-8f69-99bae9a2c19e",
   "metadata": {},
   "source": [
    "We can now establish meta-groups, by specifying a list of groups names:"
   ]
  },
  {
   "cell_type": "code",
   "execution_count": 18,
   "id": "4b03d82c-670c-40b4-90fe-8b868a565ee4",
   "metadata": {},
   "outputs": [],
   "source": [
    "metagroup = c.metaGroup(db, gs = ['g1','g2'])"
   ]
  },
  {
   "cell_type": "markdown",
   "id": "c9593c10-f118-48be-8bd0-b669e1fc8d2d",
   "metadata": {},
   "source": [
    "If we do not pass any argument ```gs```, we default to ```gs='all'``` in which case all groups are collected in one:"
   ]
  },
  {
   "cell_type": "code",
   "execution_count": 19,
   "id": "ebf28550-3f89-40f1-a6ca-af17f993cd69",
   "metadata": {},
   "outputs": [],
   "source": [
    "metagroup_all = c.metaGroup(db)"
   ]
  },
  {
   "cell_type": "markdown",
   "id": "4b47a7c2-5749-4daa-b7df-3983912ed704",
   "metadata": {},
   "source": [
    "Finally, we can use this to write syntax used for fixing/unfixing variables. Say, for instance, that two of our groups are meant to be endogenous, and two of them are supposed to be exogenous. We get the relevant GAMS text needed to do this by calling:"
   ]
  },
  {
   "cell_type": "markdown",
   "id": "037f4e74-eca6-4e2e-9b58-ead1bcd3319c",
   "metadata": {},
   "source": [
    "*Fix variables at levels:*"
   ]
  },
  {
   "cell_type": "code",
   "execution_count": 20,
   "id": "91c3eeac-17a0-4828-85ba-683f6524946d",
   "metadata": {},
   "outputs": [
    {
     "name": "stdout",
     "output_type": "stream",
     "text": [
      "theta.fx[s,n]$((V01_T[s,n] or V01_T[s,n])) = theta.l[s,n];\n",
      "mu.fx[s,n,nn]$(((V01_inp2T[s,n,nn] and ( not (V01_dur[s,n]))) or (V01_NT_inp[s,nn] or (V01_inp2T[s,n,nn] and ( not (V01_dur[s,n])))))) = mu.l[s,n,nn];\n",
      "sigma.fx[s,n]$((V01_T2ESNorm[s,n,nn] or V01_T2ESNorm[s,n,nn])) = sigma.l[s,n];\n"
     ]
    }
   ],
   "source": [
    "print(c.fixGroupsText(db, ['g1','g2']))"
   ]
  },
  {
   "cell_type": "markdown",
   "id": "61d352a0-9884-46d7-9197-f15a8a7c64ee",
   "metadata": {},
   "source": [
    "*Unfix variables:*"
   ]
  },
  {
   "cell_type": "code",
   "execution_count": 21,
   "id": "7b24b92a-a8a0-43a9-b57e-f67de24885ac",
   "metadata": {},
   "outputs": [
    {
     "name": "stdout",
     "output_type": "stream",
     "text": [
      "mu.lo[s,n,nn]$((((V01_NT_inp[s,nn] or (V01_inp2T[s,n,nn] and ( not (V01_dur[s,n])))) and ( not ((V01_inp2T[s,n,nn] and ( not (V01_dur[s,n])))))) or ((V01_NT_inp[s,nn] or (V01_inp2T[s,n,nn] and ( not (V01_dur[s,n])))) and ( not ((V01_NT_inp[s,n] or (V01_inp2T[s,n,nn] and ( not (V01_dur[s,n]))))))))) = -inf;\n",
      "mu.up[s,n,nn]$((((V01_NT_inp[s,nn] or (V01_inp2T[s,n,nn] and ( not (V01_dur[s,n])))) and ( not ((V01_inp2T[s,n,nn] and ( not (V01_dur[s,n])))))) or ((V01_NT_inp[s,nn] or (V01_inp2T[s,n,nn] and ( not (V01_dur[s,n])))) and ( not ((V01_NT_inp[s,n] or (V01_inp2T[s,n,nn] and ( not (V01_dur[s,n]))))))))) = inf;\n"
     ]
    }
   ],
   "source": [
    "print(c.unfixGroupsText(db, ['g3','g4']))"
   ]
  },
  {
   "cell_type": "markdown",
   "id": "cfcca494-1532-46c8-a749-798b4d616b32",
   "metadata": {},
   "source": [
    "### EXPORT ABATEMENT EXAMPLE TO PICKLE:"
   ]
  },
  {
   "cell_type": "code",
   "execution_count": 22,
   "id": "fd107cb8-e15a-47bf-81b2-531157ad45f9",
   "metadata": {},
   "outputs": [],
   "source": [
    "g1 = GmsPy.Group('G_V01_NT_endo_always', v = [('pS', db['V01_NT_out']),\n",
    "                                        ('pD', db['V01_NT_int']),\n",
    "                                        ('qD', db['V01_NT_x'])])\n",
    "g2 = GmsPy.Group('G_V01_NT_endo_base', v = [('qD', db['V01_NT_int']),\n",
    "                                      ('qD', ('and', [db['V01_NT_inp'], ('not', db['V01_NT_x'])]))])\n",
    "g3 = GmsPy.Group('G_V01_NT_exo_always', v = [('sigma', db['V01_NT_int']),\n",
    "                                       ('sigma', db['V01_NT_out']),\n",
    "                                       ('pD', db['V01_inp']),\n",
    "                                       ('qS', db['V01_NT_out'])])\n",
    "g4 = GmsPy.Group('G_V01_NT_exo_base', v = [('mu', db['V01_NT_map'])])\n",
    "g5 = GmsPy.Group('G_V01_T_endo_always', v = [('lambda', db['V01_ES']),\n",
    "                                       ('pD', db['V01_ES'])])\n",
    "g6 = GmsPy.Group('G_V01_T_endo_base', v = [('qD', db['V01_T']),\n",
    "                                     ('pD', db['V01_T'])])\n",
    "g7 = GmsPy.Group('G_V01_T_exo_always', v = [('theta', db['V01_T']),\n",
    "                                      ('mu', ('and', [db['V01_inp2T'], ('not', db['V01_dur'])])),\n",
    "                                      ('sigma', db['V01_ES']),\n",
    "                                      ('mu', db['V01_T2ESNorm'])])\n",
    "g8 = GmsPy.Group('G_V01_T_exo_base', v = [('mu', ('and', [db['V01_T2ES'], ('not', db['V01_T2ESNorm'])])),\n",
    "                                    ('mu', ('and', [db['V01_inp2T'], db['V01_dur']]))])\n",
    "g9 = GmsPy.Group('G_V01_ACC_endo_base', v = [('qD', db['V01_inp'])])"
   ]
  },
  {
   "cell_type": "markdown",
   "id": "ddaf7c5d-2dfa-4eba-9ee5-a410b3523325",
   "metadata": {},
   "source": [
    "Initialize settings with groups:"
   ]
  },
  {
   "cell_type": "code",
   "execution_count": 23,
   "id": "30199934-d39f-453d-a27f-0b48dc42e828",
   "metadata": {},
   "outputs": [],
   "source": [
    "c = GmsPy.Compile(groups = {g.name: g for g in (g1,g2,g3,g4,g5,g6,g7,g8,g9)})\n",
    "with open(os.path.join(d['data'], 'AbatementGroups'), \"wb\") as file:\n",
    "    pickle.dump(c,file)"
   ]
  }
 ],
 "metadata": {
  "kernelspec": {
   "display_name": "Python 3 (ipykernel)",
   "language": "python",
   "name": "python3"
  },
  "language_info": {
   "codemirror_mode": {
    "name": "ipython",
    "version": 3
   },
   "file_extension": ".py",
   "mimetype": "text/x-python",
   "name": "python",
   "nbconvert_exporter": "python",
   "pygments_lexer": "ipython3",
   "version": "3.9.7"
  }
 },
 "nbformat": 4,
 "nbformat_minor": 5
}
