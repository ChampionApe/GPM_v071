{
 "cells": [
  {
   "cell_type": "code",
   "execution_count": 1,
   "id": "e100d7e7-f8dc-4596-8ec0-5b7a34ebbebf",
   "metadata": {},
   "outputs": [
    {
     "name": "stdout",
     "output_type": "stream",
     "text": [
      "No clean-up of work-folder\n"
     ]
    }
   ],
   "source": [
    "%run StdPackages.ipynb\n",
    "os.chdir(d['py'])\n",
    "from IOfunctions import *\n",
    "os.chdir(d['curr'])"
   ]
  },
  {
   "cell_type": "markdown",
   "id": "58416d02-905c-4ef8-a14b-15a432d55c96",
   "metadata": {},
   "source": [
    "*Load IO:*"
   ]
  },
  {
   "cell_type": "code",
   "execution_count": 2,
   "id": "bd240397-3c58-4631-9208-1d8365746b39",
   "metadata": {},
   "outputs": [],
   "source": [
    "name = 'GR18'\n",
    "IO_file = os.path.join(d['data'], 'IO2018_v.xlsx')\n",
    "IO_file_inv = os.path.join(d['data'],'IO2018_I.xlsx')\n",
    "wb = read.simpleLoad(IO_file)\n",
    "wb_inv = read.simpleLoad(IO_file_inv)"
   ]
  },
  {
   "cell_type": "markdown",
   "id": "5333b4ac-b5ee-4b95-abd3-061b2b19620b",
   "metadata": {},
   "source": [
    "Database:"
   ]
  },
  {
   "cell_type": "code",
   "execution_count": 3,
   "id": "03dd22c1-535e-4532-bc2a-6bf46f4a12d0",
   "metadata": {},
   "outputs": [],
   "source": [
    "db = GpyDB(**{'name': f\"IO_{name}\"})"
   ]
  },
  {
   "cell_type": "markdown",
   "id": "e67deea6-a6d9-41f7-809c-831e848e4481",
   "metadata": {},
   "source": [
    "## 1. Extract IO value blocks:"
   ]
  },
  {
   "cell_type": "code",
   "execution_count": 4,
   "id": "e9cec38b-7d50-4099-b3b4-4030e1dec503",
   "metadata": {},
   "outputs": [],
   "source": [
    "df = pd.DataFrame(wb['IO'].values)\n",
    "rowCategories, colCategories = df.iloc[:,0], df.iloc[0,:]\n",
    "rowIndex, colIndex = df.iloc[:,0], df.iloc[2,:]"
   ]
  },
  {
   "cell_type": "code",
   "execution_count": 5,
   "id": "bd3f4a0d-1710-4bfe-ae2d-988e2b4030af",
   "metadata": {},
   "outputs": [],
   "source": [
    "_stdOffset = {'row0': 1, 'rowE': -1, 'col0': 0, 'colE': -1}\n",
    "rowMarkers = {'P': {'ref': 'Dansk produktion','offset': {}},\n",
    "              'M': {'ref': 'Import', 'offset': {}},\n",
    "              'OT': {'ref': 'Andre udenlandske transaktioner', 'offset': {}},\n",
    "              'PI': {'ref': 'Primære inputs', 'offset': {}},\n",
    "              'TI': {'ref': 'Input/ endelig anvendelse i køberpriser', 'offset': {}},\n",
    "              'PV': {'ref': 'Produktionsværdi', 'offset': {}}\n",
    "             }\n",
    "colMarkers = {'In': {'ref': 'Input i produktionen (Transaktionskode 2000)', 'offset': {'colE': -2}},\n",
    "              'C' : {'ref': 'Privat forbrug (Transaktions-kode 3110)', 'offset': {'colE': -1}},\n",
    "              'G_NPISH': {'ref': 'NPISH (Transaktionskode 3130)', 'offset': {}},\n",
    "              'G_MVPC' : {'ref': 'Markedsmæssigt individuelt offentligt forbrug (Transaktionskode 3141)', 'offset': {}},\n",
    "              'G_NMVPC': {'ref': 'Ikke markedsmæssigt individuelt offentligt forbrug (Transaktionskode 3142)', 'offset': {}},\n",
    "              'G_CPC':   {'ref': 'Kollektivt offentligt forbrug (Transaktionskode 3200)', 'offset': {}},\n",
    "              'I': {'ref': 'Faste bruttoinvesteringer', 'offset': {}},\n",
    "              'Other': {'ref': 'Andre Anvendelser', 'offset':{}},\n",
    "              'T': {'ref': 'Total'}\n",
    "             }\n",
    "rKeys,rVals = list(rowMarkers),list(rowMarkers.values())\n",
    "cKeys,cVals = list(colMarkers),list(colMarkers.values())\n",
    "taxCategories = ['Produktskatter og subsidier, netto', 'Moms', 'Andre produktionsskatter', 'Andre produktionssubsidier']\n",
    "wageCategory = 'Aflønning af ansatte'\n",
    "residualIncomeCategory = 'Overskud af produktionen og blandet indkomst'\n",
    "itoryCategories = ['5300','5200']\n",
    "exportCategory = '6000'"
   ]
  },
  {
   "cell_type": "code",
   "execution_count": 6,
   "id": "6048a5b2-527c-4531-aebe-f2d640d204e9",
   "metadata": {},
   "outputs": [],
   "source": [
    "def getLoc(x, loc):\n",
    "    return x[x==loc].index[0]\n",
    "def getOffset(r, c):\n",
    "    return _stdOffset | r['offset'] | c['offset']\n",
    "def getLocs(r = None, rr = None, c = None, cc = None, rowCategories = None, colCategories = None):\n",
    "    o = getOffset(r, c)\n",
    "    return [(getLoc(rowCategories, r['ref'])+o['row0'], getLoc(rowCategories, rr['ref'])+o['rowE']+1), \n",
    "            (getLoc(colCategories, c['ref'])+o['col0'], getLoc(colCategories, cc['ref'])+o['colE']+1)]\n",
    "def extractBlock(df, locs):\n",
    "    return df.iloc[locs[0][0]:locs[0][1], locs[1][0]:locs[1][1]]"
   ]
  },
  {
   "cell_type": "markdown",
   "id": "61961bcd-1bde-4e36-a612-8f19b919b9fb",
   "metadata": {},
   "source": [
    "*Extract location of block splits and extract blocks*"
   ]
  },
  {
   "cell_type": "code",
   "execution_count": 7,
   "id": "17a33cf7-5d53-4e14-97d8-e06fa7a6d9b1",
   "metadata": {},
   "outputs": [],
   "source": [
    "locs = {f\"{rKeys[i]}/{cKeys[j]}\": getLocs(r=rVals[i], rr = rVals[i+1], c = cVals[j], cc = cVals[j+1], rowCategories = rowCategories, colCategories = colCategories)\n",
    "        for j in range(len(cKeys)-1) for i in range(len(rKeys)-1)}\n",
    "blocks = {k: extractBlock(df, locs[k]) for k in locs}"
   ]
  },
  {
   "cell_type": "markdown",
   "id": "1befe268-70be-4368-aad1-b7c00c9cd07f",
   "metadata": {},
   "source": [
    "## 2. Specify blocks:"
   ]
  },
  {
   "cell_type": "markdown",
   "id": "38a3742b-dca8-4a07-be4c-9974fb72e613",
   "metadata": {},
   "source": [
    "### 2.1. Domestic production sector's split (```A-D```)"
   ]
  },
  {
   "cell_type": "markdown",
   "id": "247cf9ca-c1fe-4a46-9efc-310b5b19e6a5",
   "metadata": {},
   "source": [
    "From the blocks we retrieve:\n",
    "* Production sector index (```s_p```), domestic goods (```n_p```), foreign goods index (```n_F```), index for different tax categories (```taxTypes```). NB: The index ```n_Fother``` includes components that should be mapped to existing ```n_F```.\n",
    "* Value of demand ```vD[s,n]``` for ```s_p``` and ```n_p```$\\cup$ ```n_F```.\n",
    "* Value of taxes ```vTax[s,taxTypes]``` for ```s_p``` + ```TotalTax[s]``` defined as the sum over ```taxTypes```.\n",
    "* Value of demand ```vD[s,n]``` for ```s_p``` for ```n``` $=\\lbrace$ L, resIncome $\\rbrace$."
   ]
  },
  {
   "cell_type": "markdown",
   "id": "cc88294e-519c-4e21-9481-94dc767eb8a1",
   "metadata": {},
   "source": [
    "*A*"
   ]
  },
  {
   "cell_type": "code",
   "execution_count": 8,
   "id": "d69ed954-7c44-4431-8966-9e302316fe95",
   "metadata": {},
   "outputs": [],
   "source": [
    "db['s_p'] = pd.Index(rowIndex.iloc[locs['P/In'][0][0]:locs['P/In'][0][1]], name = 's') # sectors from block A\n",
    "db['n_p'] = db.get('s_p').rename('n') # goods from block A\n",
    "blocks['P/In'].index = db.get('n_p') # add index to block A\n",
    "blocks['P/In'].columns = db.get('s_p') # add index to block A"
   ]
  },
  {
   "cell_type": "markdown",
   "id": "0883cfca-975a-48c3-a61a-080fa2c653e9",
   "metadata": {},
   "source": [
    "*B*"
   ]
  },
  {
   "cell_type": "code",
   "execution_count": 9,
   "id": "b6023928-8403-49f4-9ea1-1ba5f668daa0",
   "metadata": {},
   "outputs": [],
   "source": [
    "db['n_F'] = db.get('n_p')+'_F' # foreign goods index from block B\n",
    "blocks['M/In'].index = db.get('n_F') # add index to block B\n",
    "blocks['M/In'].columns = db.get('s_p') # add index to block B"
   ]
  },
  {
   "cell_type": "markdown",
   "id": "dc4a3e56-167c-4618-a468-8c5c6f356d7f",
   "metadata": {},
   "source": [
    "*C*"
   ]
  },
  {
   "cell_type": "code",
   "execution_count": 10,
   "id": "f6cc80cc-3227-46c9-bf31-d1b93dda9d6d",
   "metadata": {},
   "outputs": [],
   "source": [
    "db['n_Fother'] = pd.Index(rowIndex.iloc[locs['OT/In'][0][0]:locs['OT/In'][0][1]], name = 'n')\n",
    "blocks['OT/In'].index = db.get('n_Fother')\n",
    "blocks['OT/In'].columns = db.get('s_p')"
   ]
  },
  {
   "cell_type": "markdown",
   "id": "2bea6ec6-01dc-4fdb-8d3b-391d69eb84c4",
   "metadata": {},
   "source": [
    "*D*"
   ]
  },
  {
   "cell_type": "code",
   "execution_count": 11,
   "id": "f4319f22-84a7-41d5-947e-05399918e8c8",
   "metadata": {},
   "outputs": [],
   "source": [
    "D = pd.concat([blocks['PI/In'], blocks['TI/In']])\n",
    "db['taxTypes'] = pd.Index(taxCategories, name = 'taxTypes')\n",
    "D.index = pd.Index(rowIndex.iloc[locs['PI/In'][0][0]:locs['PI/In'][0][1]]).union(\n",
    "          pd.Index(rowIndex.iloc[locs['TI/In'][0][0]:locs['TI/In'][0][1]]), sort = False).rename('temp')\n",
    "D.columns = db.get('s_p')\n",
    "db['vTax'] = adj.rc_pd(D, db.get('taxTypes').rename('temp')).rename_axis(index={'temp':'taxTypes'}).stack()\n",
    "db['TotalTax'] = db.get('vTax').groupby('s').sum()\n",
    "wages = D.xs(wageCategory) # wages\n",
    "wages.index = pd.MultiIndex.from_product([pd.Index(['L'], name = 'n'), wages.index])\n",
    "residualIncome = D.xs(residualIncomeCategory) # residual income\n",
    "residualIncome.index = pd.MultiIndex.from_product([pd.Index(['resIncome'], name = 'n'), residualIncome.index])"
   ]
  },
  {
   "cell_type": "markdown",
   "id": "45ae9e45-92e8-4feb-9a59-5f7ec7512ac9",
   "metadata": {},
   "source": [
    "*Collect:*"
   ]
  },
  {
   "cell_type": "code",
   "execution_count": 12,
   "id": "249eae3f-c3c4-48c9-b0fd-16b64f86b952",
   "metadata": {},
   "outputs": [],
   "source": [
    "db['vD'] = pd.concat([blocks['P/In'].stack(), blocks['M/In'].stack(), blocks['OT/In'].stack(), wages,residualIncome])"
   ]
  },
  {
   "cell_type": "markdown",
   "id": "608de6b2-4fa3-49a5-94bd-6235f7b32cff",
   "metadata": {},
   "source": [
    "### 2.2. Consumption (```E-H```)"
   ]
  },
  {
   "cell_type": "markdown",
   "id": "27ccf71b-5ae4-44be-a740-a2fabe10bc58",
   "metadata": {},
   "source": [
    "From the blocks we retrieve:\n",
    "* Indices: Aggregate household/government index ```s_HH```, ```s_G```. Index for government consumption ```gc```.\n",
    "* The total value of private consumption, ```vD[n,HH]``` for ```n_p```$\\cup$ ```n_F```.\n",
    "* The value of government consumption ```vC[gc, n]``` for ```n_p```$\\cup$ ```n_F```. \n",
    "    * In the Danish data, the index used in columns for government consumption is not unique. For instance, the code '06130' (indicating glasses, hearing aids, and similar) appears twice: Once under 'market valued public consumption' (MVPC) and once under 'non-market valued public consumption' (NMVPC). For now, we sum up government consumption to the transaction code level - thus not distinguishing between e.g. NMVPC and MVPC \n",
    "* The value of taxes split onto government consumption components: ```vC_tax[taxTypes, gc]```.\n",
    "* The total value of government consumption, ```vD[n,G]``` for ```n_p```$\\cup$ ```n_F```.\n",
    "* Value of taxes ```vTax[s,taxTypes]``` for ```s_G``` + ```TotalTax[s]``` defined as the sum over ```taxTypes```."
   ]
  },
  {
   "cell_type": "markdown",
   "id": "f26c0160-2c6b-4a32-9a34-cadaa82b4dae",
   "metadata": {},
   "source": [
    "**Private consumption:**"
   ]
  },
  {
   "cell_type": "code",
   "execution_count": 13,
   "id": "3446c02e-e7ed-42dc-a824-a56f1f4dcf9e",
   "metadata": {},
   "outputs": [],
   "source": [
    "privateC = pd.concat([blocks['P/C'].iloc[:,0].set_axis(db.get('n_p')),\n",
    "                      blocks['M/C'].iloc[:,0].set_axis(db.get('n_F')),\n",
    "                      blocks['OT/C'].iloc[:,0].set_axis(db.get('n_Fother'))])\n",
    "db['s_HH'] = pd.Index(['HH'], name = 's')\n",
    "privateC.index = pd.MultiIndex.from_product([privateC.index, db.get('s_HH')])\n",
    "db['vD'] = pd.concat([db.get('vD'), privateC])"
   ]
  },
  {
   "cell_type": "markdown",
   "id": "3b0504c5-3db7-4709-8722-122395858b08",
   "metadata": {},
   "source": [
    "Specify tax part:"
   ]
  },
  {
   "cell_type": "code",
   "execution_count": 14,
   "id": "b8b97788-710f-4b0e-9a3e-9733e387ca8b",
   "metadata": {},
   "outputs": [],
   "source": [
    "blocks['PI/C'].index = pd.Index(rowIndex.iloc[locs['PI/C'][0][0]:locs['PI/C'][0][1]], name = 'taxTypes')\n",
    "HHTax = blocks['PI/C'].iloc[:,0]\n",
    "HHTax.index = pd.MultiIndex.from_product([HHTax.index, db.get('s_HH')])\n",
    "db['vTax'] = HHTax.combine_first(db.get('vTax'))\n",
    "db['TotalTax'] = HHTax.groupby('s').sum().combine_first(db.get('TotalTax'))"
   ]
  },
  {
   "cell_type": "markdown",
   "id": "22c2cf3f-4332-41ff-ac17-99ac2bfe3dd5",
   "metadata": {},
   "source": [
    "**Government consumption:**"
   ]
  },
  {
   "cell_type": "code",
   "execution_count": 23,
   "id": "4864b6a1-fce4-4380-a240-026ca37889f6",
   "metadata": {},
   "outputs": [],
   "source": [
    "db['s_G'] = pd.Index(['G'], name = 's')\n",
    "gcomp = [c for c in cKeys if c.startswith('G_')] # components that identify government consumption\n",
    "gc = pd.Index(colIndex.iloc[locs[f'P/{gcomp[0]}'][1][0]:locs[f'P/{gcomp[-1]}'][1][1]], name = 'gc') # government consumption set\n",
    "gc_value = pd.concat([pd.concat([blocks[f'P/{g}'] for g in gcomp],axis=1),\n",
    "                      pd.concat([blocks[f'M/{g}'] for g in gcomp],axis=1),\n",
    "                      pd.concat([blocks[f'OT/{g}'] for g in gcomp],axis=1)], axis = 0)\n",
    "gc_value.index = pd.Index(np.hstack([db.get(i) for i in ('n_p','n_F','n_Fother')]), name = 'n')\n",
    "gc_value.columns = gc\n",
    "db['gc'] = gc.unique()\n",
    "db['vC'] = gc_value.stack().groupby(['n','gc']).sum()\n",
    "gcTotal = gc_value.sum(axis=1)\n",
    "gcTotal.index = pd.MultiIndex.from_product([gcTotal.index, db.get('s_G')])\n",
    "db['vD'] = gcTotal.combine_first(db.get('vD'))"
   ]
  },
  {
   "cell_type": "markdown",
   "id": "9e73081d-8264-4f90-b8f0-3bba85512c4a",
   "metadata": {},
   "source": [
    "Specify tax part:"
   ]
  },
  {
   "cell_type": "code",
   "execution_count": 28,
   "id": "8faf19cc-25b3-42b4-b523-1ada693b29b5",
   "metadata": {},
   "outputs": [],
   "source": [
    "GovernmentTax = pd.concat([blocks[f'PI/{g}'] for g in gcomp],axis=1)\n",
    "GovernmentTax.columns = gc\n",
    "GovernmentTax.index = pd.Index(rowIndex.iloc[locs[f'PI/{gcomp[0]}'][0][0]:locs[f'PI/{gcomp[0]}'][0][1]], name = 'taxTypes')\n",
    "db['vC_tax'] = GovernmentTax.stack().groupby(['taxTypes','gc']).sum()\n",
    "GTax = GovernmentTax.sum(axis=1)\n",
    "GTax.index = pd.MultiIndex.from_product([GTax.index, db.get('s_G')])\n",
    "db['vTax'] = GTax.combine_first(db.get('vTax'))\n",
    "db['TotalTax'] = GTax.groupby('s').sum().combine_first(db.get('TotalTax'))"
   ]
  },
  {
   "cell_type": "markdown",
   "id": "4087f053-6c5a-4937-8a2e-0ecc5683efd8",
   "metadata": {
    "tags": []
   },
   "source": [
    "### 2.3. Investments ```I-L```"
   ]
  },
  {
   "cell_type": "markdown",
   "id": "d9f2c2fe-dff5-4c69-8437-233cc27ab1be",
   "metadata": {},
   "source": [
    "From the blocks we retrieve:\n",
    "* Indices: The subset ```s_i``` is a subset of ```s``` of sectors.   \n",
    "* The demand from investment sectors ```vD[n,s]```.\n",
    "* Value of taxes ```vTax[s,taxTypes]``` for ```s_i``` + ```TotalTax[s]``` defined as the sum over ```taxTypes```."
   ]
  },
  {
   "cell_type": "code",
   "execution_count": 18,
   "id": "6a91f19c-721c-42ea-b81e-8ffb2c961937",
   "metadata": {},
   "outputs": [],
   "source": [
    "db['s_i'] = pd.Index(colIndex.iloc[locs['P/I'][1][0]:locs['P/I'][1][1]], name = 's').astype(str) # investment sectors\n",
    "vD_inv = pd.concat([blocks[f'{x}/I'] for x in ('P','M','OT')], axis = 0)\n",
    "vD_inv.columns = db.get('s_i')\n",
    "vD_inv.index = pd.Index(np.hstack([db.get(i) for i in ('n_p','n_F','n_Fother')]), name = 'n')\n",
    "db['vD'] = vD_inv.stack().combine_first(db.get('vD'))"
   ]
  },
  {
   "cell_type": "markdown",
   "id": "d1a07d4c-2f0b-4326-92b7-4c7fff8cde43",
   "metadata": {},
   "source": [
    "Specify tax part:"
   ]
  },
  {
   "cell_type": "code",
   "execution_count": 19,
   "id": "d8897816-af09-4071-8bd2-61255ecb7e49",
   "metadata": {},
   "outputs": [],
   "source": [
    "blocks['PI/I'].index = pd.Index(rowIndex.iloc[locs['PI/I'][0][0]:locs['PI/I'][0][1]], name = 'taxTypes')\n",
    "blocks['PI/I'].columns = db.get('s_i')\n",
    "db['vTax'] = blocks['PI/I'].stack().combine_first(db.get('vTax'))\n",
    "db['TotalTax'] = blocks['PI/I'].sum(axis=0).combine_first(db.get('TotalTax'))"
   ]
  },
  {
   "cell_type": "markdown",
   "id": "d92e3557-c6e8-4bf0-b51a-0b86ddde1a0d",
   "metadata": {
    "tags": []
   },
   "source": [
    "### 2.4. Inventory invetments and exports ```M-P```"
   ]
  },
  {
   "cell_type": "markdown",
   "id": "7bac91af-ff92-41a0-9e1e-1f281354db7c",
   "metadata": {},
   "source": [
    "This part is a bit more ad-hoc."
   ]
  },
  {
   "cell_type": "code",
   "execution_count": 20,
   "id": "0665d553-88ff-4546-8dc9-2c496dda65b6",
   "metadata": {},
   "outputs": [],
   "source": [
    "db['s_f'] = pd.Index(['F'], name = 's')\n",
    "M2P = pd.concat([blocks[f'{x}/Other'] for x in ('P','M','OT')], axis = 0)\n",
    "M2P.columns = pd.Index(colIndex.iloc[locs['P/Other'][1][0]:locs['P/Other'][1][1]], name = 'temp').astype(str)\n",
    "M2P.index = pd.Index(np.hstack([db.get(i) for i in ('n_p','n_F','n_Fother')]), name = 'n')\n",
    "itory = M2P.loc[:, itoryCategories].sum(axis=1).rename('vD')\n",
    "itory.index = pd.MultiIndex.from_product([itory.index, pd.Index(['itory'], name = 's')])\n",
    "export= adj.rc_pd(M2P[exportCategory], db.get('n_p')).rename('vD')\n",
    "export.index = pd.MultiIndex.from_product([export.index, db.get('s_f')])\n",
    "db['vD'] = pd.concat([itory, export], axis = 0).combine_first(db.get('vD'))"
   ]
  },
  {
   "cell_type": "markdown",
   "id": "8ed28d7b-9574-451b-8c3c-f6a5c19dc188",
   "metadata": {},
   "source": [
    "Specify tax part:"
   ]
  },
  {
   "cell_type": "code",
   "execution_count": 21,
   "id": "1dd3b68d-74af-426b-adfb-ea5bcbc59521",
   "metadata": {},
   "outputs": [],
   "source": [
    "blocks['PI/Other'].index = pd.Index(rowIndex.iloc[locs['PI/Other'][0][0]:locs['PI/Other'][0][1]], name = 'taxTypes')\n",
    "blocks['PI/Other'].columns = M2P.columns\n",
    "itory_tax = blocks['PI/Other'].loc[:,itoryCategories].sum(axis=1)\n",
    "export_tax= blocks['PI/Other'][exportCategory]\n",
    "export_tax.index = pd.MultiIndex.from_product([export_tax.index, db.get('s_f')])\n",
    "itory_tax.index  = pd.MultiIndex.from_product([itory_tax.index, itory.index.levels[-1]])\n",
    "db['vTax'] = pd.concat([itory_tax, export_tax], axis=0).combine_first(db.get('vTax'))\n",
    "db['TotalTax'] = pd.concat([export_tax.groupby('s').sum(),itory_tax.groupby('s').sum()],axis=0).combine_first(db.get('TotalTax'))"
   ]
  },
  {
   "cell_type": "markdown",
   "id": "0c6c8106-453d-4ace-84fe-957d8be3a851",
   "metadata": {
    "tags": []
   },
   "source": [
    "## 3. Investment IO"
   ]
  },
  {
   "cell_type": "markdown",
   "id": "5766875c-ba52-456d-9d28-3b88bdd66f72",
   "metadata": {},
   "source": [
    "For now, we only rely on the sums of investments goods. The IO data on investments, however, includes a full $(s \\times s)$ input-output flows for (almost) each investment type. So, for now at least, we do the following:\n",
    "* For each sheet (representing a single investment type - or a sum of multiple ones), we only extract the total value across the column sectors. This value is identified by a row indicator + columns.\n",
    "* The investment data is only defined on a more aggregate level (69 sectors). We deal with this discrepancy later. "
   ]
  },
  {
   "cell_type": "markdown",
   "id": "ed59ec8c-04ab-438d-a016-20a577342328",
   "metadata": {},
   "source": [
    "*Only use sheets that don't start with 'told':*"
   ]
  },
  {
   "cell_type": "code",
   "execution_count": 22,
   "id": "81dee2f7-52ff-46a1-b4de-33430f0a4549",
   "metadata": {},
   "outputs": [],
   "source": [
    "r = 0\n",
    "c = 1\n",
    "rIndex = 3\n",
    "rMarker = 'Investering i alt, købepriser'\n",
    "cMarkers = ['Investerende brancher', 'Total']\n",
    "def extractRow(df, rMarker, cMarkers, r = 0, c = 1, rIndex = 3):\n",
    "    return pd.Series(df.iloc[getLoc(df.iloc[:,r], rMarker),getLoc(df.iloc[1,:], cMarkers[0]):getLoc(df.iloc[c,:], cMarkers[1])].values, index = pd.Index(df.iloc[rIndex,getLoc(df.iloc[1,:], cMarkers[0]):getLoc(df.iloc[c,:], cMarkers[1])], name = 's'))"
   ]
  },
  {
   "cell_type": "code",
   "execution_count": 23,
   "id": "5c8818a9-d2f0-4d58-b92e-c61c77d9b812",
   "metadata": {},
   "outputs": [],
   "source": [
    "sheets = {k: pd.DataFrame(wb_inv[k].values) for k in read.sheetnames_from_wb(wb_inv) if not k.startswith('told')}\n",
    "db['vD_inv'] = pd.DataFrame({k: extractRow(sheets[k], rMarker, cMarkers) for k in sheets}).stack().rename_axis(index=['s','n'])"
   ]
  },
  {
   "cell_type": "markdown",
   "id": "5a824d5c-921b-4476-9fc9-090f6def22e2",
   "metadata": {
    "tags": []
   },
   "source": [
    "## 4. Durable IO"
   ]
  },
  {
   "cell_type": "markdown",
   "id": "d987aeb4-d214-499f-83a5-3f977991f84b",
   "metadata": {},
   "source": [
    "..."
   ]
  }
 ],
 "metadata": {
  "kernelspec": {
   "display_name": "Python 3 (ipykernel)",
   "language": "python",
   "name": "python3"
  },
  "language_info": {
   "codemirror_mode": {
    "name": "ipython",
    "version": 3
   },
   "file_extension": ".py",
   "mimetype": "text/x-python",
   "name": "python",
   "nbconvert_exporter": "python",
   "pygments_lexer": "ipython3",
   "version": "3.9.7"
  }
 },
 "nbformat": 4,
 "nbformat_minor": 5
}
