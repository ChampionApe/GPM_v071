{
 "cells": [
  {
   "cell_type": "code",
   "execution_count": 2,
   "id": "a8f5a400-96fd-44ed-bff4-b7bb8e23ea11",
   "metadata": {},
   "outputs": [
    {
     "name": "stdout",
     "output_type": "stream",
     "text": [
      "No clean-up of work-folder\n"
     ]
    }
   ],
   "source": [
    "import os\n",
    "repo = 'GPM_v071'\n",
    "currProject = 'classes'\n",
    "main = f\"{os.getcwd().split(repo)[0]}{repo}\"\n",
    "os.chdir(main)\n",
    "%run StdPackages.ipynb"
   ]
  }
 ],
 "metadata": {
  "kernelspec": {
   "display_name": "Python 3 (ipykernel)",
   "language": "python",
   "name": "python3"
  },
  "language_info": {
   "codemirror_mode": {
    "name": "ipython",
    "version": 3
   },
   "file_extension": ".py",
   "mimetype": "text/x-python",
   "name": "python",
   "nbconvert_exporter": "python",
   "pygments_lexer": "ipython3",
   "version": "3.9.7"
  }
 },
 "nbformat": 4,
 "nbformat_minor": 5
}
