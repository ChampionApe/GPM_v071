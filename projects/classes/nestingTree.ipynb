{
 "cells": [
  {
   "cell_type": "code",
   "execution_count": 1,
   "id": "aebdaae3-a185-4a70-869d-c2aa9971dc92",
   "metadata": {},
   "outputs": [
    {
     "name": "stdout",
     "output_type": "stream",
     "text": [
      "No clean-up of work-folder\n"
     ]
    }
   ],
   "source": [
    "%run StdPackages.ipynb"
   ]
  },
  {
   "cell_type": "markdown",
   "id": "c7ef31d9-2a62-4aad-95c2-d16d761b461d",
   "metadata": {
    "tags": []
   },
   "source": [
    "# nestingTree.py"
   ]
  },
  {
   "cell_type": "markdown",
   "id": "5f0311e9-9d78-4532-b27a-b901d7f06955",
   "metadata": {},
   "source": [
    "Nesting tree class takes data on nesting and merge them into one aggregate nesting tree. It then produces a number of mappings/subsets that can be useful, in particular for the CGE model generator. The file includes two different classes of nesting trees (individual and aggregate trees), as well as two \"children\" classes that are basically the same, but let you initialize from a specified data file. The following goes through the individual trees first, and then the aggregate class.\n"
   ]
  },
  {
   "cell_type": "markdown",
   "id": "28b8e98e-b88c-4439-a4b8-1325e7ec89b6",
   "metadata": {
    "tags": []
   },
   "source": [
    "### Initialize"
   ]
  },
  {
   "cell_type": "markdown",
   "id": "3b89e00c-792a-4b8b-9adc-a33135a7a58a",
   "metadata": {},
   "source": [
    "Initializing the tree we specify:\n",
    "* ```name```: Only mandatory argument; name of the tree.\n",
    "* ```self.tree:``` List of tuples defining the nesting structure. The tuples should include three elements with (1) sector index, (2) knot, (3) branch.\n",
    "* ```self.io:``` Specifies whether the type of nest is an input type ('inp') or an output type ('out'). The default is input types, where the branches are \"below\" the knots in the tree. The output type reverses this; this is used e.g. for sectors that produce multiple outputs.\n",
    "* ```self.f:``` Specifies the type of function to apply in the specific nest (used for CGE generator). If ```self.io == 'inp'``` the default behavior is 'CES', if ```self.out == 'out'``` default is 'CET'.\n",
    "* ```self.scalePreserving:``` Specifies whether or not the nest is ```scale-preserving```, i.e. has the characteristic that the sum of branches equals the knot. This is automatically checked for some functions, defined by the tuple ```_scalePreserving```. This currently recognizes ```self.f``` belonging to 'CES_norm','CET_norm','MNL','MNL_out'; if other scale-preserving functions are used, the ```self.scalePreserving``` has to adjusted manually.\n",
    "* ```self.ns:``` A dictionary that serves as a namespace. This is used to write code that always refer to the same name (keys in self.ns), with symbols that have names that are adjusted to the specific tree. Adjustments to this default namespace is done using ```**kwargs``` when initializing.\n",
    "* ```self.db:``` a dictionary of ```gpy``` symbols that are stored for later use (see the section on trees' attributes)."
   ]
  },
  {
   "cell_type": "markdown",
   "id": "4530fbc7-1850-46a3-8d7b-bd9f47d13e71",
   "metadata": {},
   "source": [
    "Here we give an example of a nesting tree with two different sectors, and a mix of input/output trees:"
   ]
  },
  {
   "cell_type": "code",
   "execution_count": 2,
   "id": "42ba167d-4493-46bf-b707-6463703d0f68",
   "metadata": {},
   "outputs": [],
   "source": [
    "t1 = nestingTree.tree('t1', tree = [('s1','Y','L'),('s1','Y','KE'),('s1','KE','x1'),('s1','KE','x2')])\n",
    "t2 = nestingTree.tree('t2', tree = [('s2','Y','X'),('s2','Y','K')], **{'map': 'NewMapName'})  # this gives the attribute 'map' the name 'NewMapName'\n",
    "t3 = nestingTree.tree('t3', tree = [('s2','Y1','Y'),('s2','Y2','Y')], io = 'output')"
   ]
  },
  {
   "cell_type": "markdown",
   "id": "7f14035c-b71c-4fc4-a540-90db2108cd67",
   "metadata": {},
   "source": [
    "### Individual trees' attributes"
   ]
  },
  {
   "cell_type": "markdown",
   "id": "af3217c4-0af7-4009-a50a-e9fb83834937",
   "metadata": {},
   "source": [
    "Beyond the attributes that are created at initialization, the main attributes are defined from running the method ```self.attrs_from_tree()```. This generates a number of symbols and add them to the database in ```self.db```. These can be accessed by slicing ```self[x]``` with 'x' using the static definitions from the keys of the namespace. To get the pandas representation (slicing returns ```gpy``` symbol), use the method ```self.get``` instead."
   ]
  },
  {
   "cell_type": "code",
   "execution_count": 3,
   "id": "2d392919-2666-4b52-abb0-3a051316356e",
   "metadata": {},
   "outputs": [],
   "source": [
    "[t.attrs_from_tree() for t in (t1,t2,t3)];"
   ]
  },
  {
   "cell_type": "markdown",
   "id": "60a2f16a-52f8-4ae6-8b9c-ad63e13e842e",
   "metadata": {},
   "source": [
    "```self.map:``` The nesting structure as a pandas multiindex"
   ]
  },
  {
   "cell_type": "code",
   "execution_count": 4,
   "id": "6578a783-77b2-479b-ac52-df937b3396ec",
   "metadata": {},
   "outputs": [
    {
     "name": "stdout",
     "output_type": "stream",
     "text": [
      "Name of symbol: 'map_t1'\n",
      " Symbol: \n",
      "MultiIndex([('s1',  'Y',  'L'),\n",
      "            ('s1',  'Y', 'KE'),\n",
      "            ('s1', 'KE', 'x1'),\n",
      "            ('s1', 'KE', 'x2')],\n",
      "           names=['s', 'n', 'nn'])\n"
     ]
    }
   ],
   "source": [
    "print(f\"Name of symbol: '{t1.ns['map']}'\\n\",\n",
    "      f\"Symbol: \\n{t1.get('map')}\")"
   ]
  },
  {
   "cell_type": "markdown",
   "id": "2daec582-01d9-4215-93b6-8bd8223cb961",
   "metadata": {},
   "source": [
    "```self.knot:``` Subset of knots in the tree"
   ]
  },
  {
   "cell_type": "code",
   "execution_count": 5,
   "id": "861fdc57-a1eb-4310-8a5f-71adf9ee7531",
   "metadata": {},
   "outputs": [
    {
     "name": "stdout",
     "output_type": "stream",
     "text": [
      "Name of symbol: 'knot_t1'\n",
      " Symbol: \n",
      "MultiIndex([('s1',  'Y'),\n",
      "            ('s1', 'KE')],\n",
      "           names=['s', 'n'])\n"
     ]
    }
   ],
   "source": [
    "print(f\"Name of symbol: '{t1.ns['knot']}'\\n\",\n",
    "      f\"Symbol: \\n{t1.get('knot')}\")"
   ]
  },
  {
   "cell_type": "markdown",
   "id": "35ebaa76-e907-45fc-8b34-35c0b7566ff1",
   "metadata": {},
   "source": [
    "```self.branch:``` Subset of branches in the tree"
   ]
  },
  {
   "cell_type": "code",
   "execution_count": 6,
   "id": "3b28d5d2-7168-4575-bc04-f060a07ad0c1",
   "metadata": {},
   "outputs": [
    {
     "name": "stdout",
     "output_type": "stream",
     "text": [
      "Name of symbol: 'branch_t1'\n",
      " Symbol: \n",
      "MultiIndex([('s1',  'L'),\n",
      "            ('s1', 'KE'),\n",
      "            ('s1', 'x1'),\n",
      "            ('s1', 'x2')],\n",
      "           names=['s', 'n'])\n"
     ]
    }
   ],
   "source": [
    "print(f\"Name of symbol: '{t1.ns['branch']}'\\n\",\n",
    "      f\"Symbol: \\n{t1.get('branch')}\")"
   ]
  },
  {
   "cell_type": "markdown",
   "id": "9fe473a6-6d3e-47a1-82da-e70f40114c5a",
   "metadata": {},
   "source": [
    "```self.n:``` All goods (inputs, intermediates, final goods)"
   ]
  },
  {
   "cell_type": "code",
   "execution_count": 7,
   "id": "c9bc4f20-f6aa-4db7-a9f5-84e77139ef2f",
   "metadata": {},
   "outputs": [
    {
     "name": "stdout",
     "output_type": "stream",
     "text": [
      "Name of symbol: 'n'\n",
      " Symbol: \n",
      "Index(['KE', 'L', 'Y', 'x1', 'x2'], dtype='object', name='n')\n"
     ]
    }
   ],
   "source": [
    "print(f\"Name of symbol: 'n'\\n\",\n",
    "      f\"Symbol: \\n{t1.get('n')}\")"
   ]
  },
  {
   "cell_type": "markdown",
   "id": "69786bdb-0ec4-49bd-9f66-5871040a7c21",
   "metadata": {},
   "source": [
    "```self.s:``` Set of sectors."
   ]
  },
  {
   "cell_type": "code",
   "execution_count": 8,
   "id": "a7aadaab-916a-46dd-baa7-01e4576c056d",
   "metadata": {},
   "outputs": [
    {
     "name": "stdout",
     "output_type": "stream",
     "text": [
      "Name of symbol: 's'\n",
      " Symbol: \n",
      "Index(['s1'], dtype='object', name='s')\n"
     ]
    }
   ],
   "source": [
    "print(f\"Name of symbol: 's'\\n\",\n",
    "      f\"Symbol: \\n{t1.get('s')}\")"
   ]
  },
  {
   "cell_type": "markdown",
   "id": "6e72838e-ebf2-4e9d-af62-2b864828af91",
   "metadata": {},
   "source": [
    "```self.input:``` Inputs in the tree."
   ]
  },
  {
   "cell_type": "code",
   "execution_count": 9,
   "id": "c48cdd26-97b4-4a25-90a1-a0c2bf33444f",
   "metadata": {},
   "outputs": [
    {
     "name": "stdout",
     "output_type": "stream",
     "text": [
      "Name of symbol: 'input_t1'\n",
      " Symbol: \n",
      "MultiIndex([('s1',  'L'),\n",
      "            ('s1', 'x1'),\n",
      "            ('s1', 'x2')],\n",
      "           names=['s', 'n'])\n"
     ]
    }
   ],
   "source": [
    "print(f\"Name of symbol: '{t1.ns['input']}'\\n\",\n",
    "      f\"Symbol: \\n{t1.get('input')}\")"
   ]
  },
  {
   "cell_type": "markdown",
   "id": "c63ca820-9cbb-4310-a1e9-042d6ef8433f",
   "metadata": {},
   "source": [
    "```self.output:``` Outputs from the tree."
   ]
  },
  {
   "cell_type": "code",
   "execution_count": 10,
   "id": "c58f2137-990a-4575-a106-003220816988",
   "metadata": {},
   "outputs": [
    {
     "name": "stdout",
     "output_type": "stream",
     "text": [
      "Name of symbol: 'output_t1'\n",
      " Symbol: \n",
      "MultiIndex([('s1', 'Y')],\n",
      "           names=['s', 'n'])\n"
     ]
    }
   ],
   "source": [
    "print(f\"Name of symbol: '{t1.ns['output']}'\\n\",\n",
    "      f\"Symbol: \\n{t1.get('output')}\")"
   ]
  },
  {
   "cell_type": "markdown",
   "id": "0c23af6e-0d12-4991-8189-303c489a7373",
   "metadata": {
    "tags": []
   },
   "source": [
    "## ```aggTree``` class"
   ]
  },
  {
   "cell_type": "markdown",
   "id": "8ee89344-8251-4525-9d5a-45a2143847f7",
   "metadata": {},
   "source": [
    "The aggregate tree takes a name, a dictionary of trees, and a namespace (all optional):"
   ]
  },
  {
   "cell_type": "code",
   "execution_count": 11,
   "id": "94e5a6e5-8346-4069-a9b9-185987475e4f",
   "metadata": {},
   "outputs": [],
   "source": [
    "T = nestingTree.aggTree(name='agg', trees ={ti.name: ti for ti in (t1,t2,t3)})"
   ]
  },
  {
   "cell_type": "markdown",
   "id": "d19c1ca0-11fc-4f5b-b4fd-ef168fa41bd1",
   "metadata": {},
   "source": [
    "The aggregate tree works in somewhat the same way as the individual ones: There is a namespace implemented that allows to write code that refers to static names. Symbols are now stored in a ```GpyDB``` accessed as ```self.db```. Beyond its ows namespace, we can also access the individual trees that are added from the ```self.trees```. We navigate this using the ```self.n,self.get``` methods: ```self.n``` accesses the name of the symbol, ```self.get``` returns the pandas-like representation."
   ]
  },
  {
   "cell_type": "markdown",
   "id": "525eea53-37cc-4711-8c94-71123c33b0a6",
   "metadata": {},
   "source": [
    "The main method is the ```self__call__(self,namespace=None)```. This defines global symbols and adjusts trees. The namespace option allows for trees to use temporary names for set elements, e.g. if a nesting tree includes the same name for final inputs and outputs:"
   ]
  },
  {
   "cell_type": "code",
   "execution_count": 12,
   "id": "f8587f1f-298a-4061-9a3c-9ea668d4e367",
   "metadata": {},
   "outputs": [
    {
     "data": {
      "text/plain": [
       "<nestingTree.aggTree at 0x1aff93303d0>"
      ]
     },
     "execution_count": 12,
     "metadata": {},
     "output_type": "execute_result"
    }
   ],
   "source": [
    "T()"
   ]
  },
  {
   "cell_type": "markdown",
   "id": "84930fb0-ad0e-4e91-88f3-028905668b12",
   "metadata": {},
   "source": [
    "*Access global variable:*"
   ]
  },
  {
   "cell_type": "code",
   "execution_count": 13,
   "id": "abe23af2-787c-4f31-9502-0aea887165b5",
   "metadata": {},
   "outputs": [
    {
     "name": "stdout",
     "output_type": "stream",
     "text": [
      "Name of symbol, global scope: \n",
      "'map_agg'\n",
      " Symbols: \n",
      "MultiIndex([('s1',  'Y',  'L'),\n",
      "            ('s1',  'Y', 'KE'),\n",
      "            ('s1', 'KE', 'x1'),\n",
      "            ('s1', 'KE', 'x2'),\n",
      "            ('s2',  'Y',  'X'),\n",
      "            ('s2',  'Y',  'K'),\n",
      "            ('s2', 'Y1',  'Y'),\n",
      "            ('s2', 'Y2',  'Y')],\n",
      "           names=['s', 'n', 'nn'])\n"
     ]
    }
   ],
   "source": [
    "print(f\"Name of symbol, global scope: \\n'{T.n('map')}'\\n\",\n",
    "      f\"Symbols: \\n{T.get('map')}\")"
   ]
  },
  {
   "cell_type": "markdown",
   "id": "9178a4f4-5efd-4a22-bbea-257059740b4f",
   "metadata": {},
   "source": [
    "*Access local variable (in individual tree):*"
   ]
  },
  {
   "cell_type": "code",
   "execution_count": 14,
   "id": "a50d97c4-f990-4985-9acf-8264db598c10",
   "metadata": {},
   "outputs": [
    {
     "name": "stdout",
     "output_type": "stream",
     "text": [
      "Name of symbol, local scope: \n",
      "'map_t1'\n",
      " Symbols: \n",
      "MultiIndex([('s1',  'Y',  'L'),\n",
      "            ('s1',  'Y', 'KE'),\n",
      "            ('s1', 'KE', 'x1'),\n",
      "            ('s1', 'KE', 'x2')],\n",
      "           names=['s', 'n', 'nn'])\n"
     ]
    }
   ],
   "source": [
    "print(f\"Name of symbol, local scope: \\n'{T.n('map',local='t1')}'\\n\",\n",
    "      f\"Symbols: \\n{T.get('map',local='t1')}\")"
   ]
  },
  {
   "cell_type": "markdown",
   "id": "3133d3fa-670b-4202-a921-1899a348abda",
   "metadata": {},
   "source": [
    "The aggregate tree collects individual trees and aggregates them into a single nesting structure. The methods and standard attributes tailored to the methods in ```CGE_Generator``` classes, to help identify exogenous/endogenous subsets and efficiently write gams code."
   ]
  },
  {
   "cell_type": "markdown",
   "id": "4478a5b3-3051-419f-85b4-bb6ecb522875",
   "metadata": {},
   "source": [
    "### Relevant symbols:\n",
    "In the aggregate tree:\n",
    "* ```n```: Goods.\n",
    "* ```s```: sectors.\n",
    "* ```map```: entire nesting tree.\n",
    "* ```input```: Inputs in aggregate tree.\n",
    "* ```output```: Outputs from aggregate tree.\n",
    "* ```int```: Intermediate goods.\n",
    "* ```map_spinp```: Subset of ```map``` that are characterized by the individual tree being input-type and scale-preserving (```tree.scalePreserving = True, tree.io = 'inp'```).\n",
    "* ```map_spout```: Subset of ```map``` that are characterized by the individual tree being output-type and scale-preserving (```tree.scalePreserving = True, tree.io = 'out'```).\n",
    "* ```knout```: Knots in the nesting tree from output-type trees (```tree.io = 'out'```).\n",
    "* ```kninp```: Knots in the nesting tree from input-type trees (```tree.io = 'inp'```).\n",
    "* ```spinp```: Subset of knots in tree that are both input type + scale preserving.\n",
    "* ```spout```: Subset of knots in tree that are both output type + scale preserving."
   ]
  },
  {
   "cell_type": "markdown",
   "id": "9fb8a41c-4613-4c78-85cc-ebe50231d4b2",
   "metadata": {},
   "source": [
    "Symbols added that are specific to individual tree:\n",
    "* **For input type trees:**\n",
    "    * ```knot_o```:  The subset of knots that are outputs from the aggregate tree. \n",
    "    * ```knot_no```: The subset of knots thare are not outputs from aggregate tree.\n",
    "    * ```branch2o```: Branches for which the relevant knot is an output from aggregate tree.\n",
    "    * ```branch2no```: Branches for which the relevant knot is not an output from aggregate tree.\n",
    "* **For output type trees:**\n",
    "    * ```branch_o```: Branches that are outputs from aggregate tree.\n",
    "    * ```branch_no```: Branches that are not outputs from aggregate tree."
   ]
  },
  {
   "cell_type": "markdown",
   "id": "29ba0343-69fe-4cd1-8077-334fb9622b5b",
   "metadata": {},
   "source": [
    "#### Some examples:"
   ]
  },
  {
   "cell_type": "markdown",
   "id": "04d17823-6b33-4b41-872f-cd04a98fff95",
   "metadata": {},
   "source": [
    "*No knots in the tree ```t2``` are outputs, all are branches that are tied to non-outputs:*"
   ]
  },
  {
   "cell_type": "code",
   "execution_count": 15,
   "id": "54b14ced-c4ef-4564-9728-b8e433a24178",
   "metadata": {},
   "outputs": [
    {
     "data": {
      "text/plain": [
       "MultiIndex([], names=['s', 'n'])"
      ]
     },
     "execution_count": 15,
     "metadata": {},
     "output_type": "execute_result"
    }
   ],
   "source": [
    "T.get('knot_o',local='t2')"
   ]
  },
  {
   "cell_type": "code",
   "execution_count": 16,
   "id": "41dd4819-ebf0-47cd-aac7-8fc4301c8124",
   "metadata": {},
   "outputs": [
    {
     "data": {
      "text/plain": [
       "MultiIndex([('s2', 'X'),\n",
       "            ('s2', 'K')],\n",
       "           names=['s', 'n'])"
      ]
     },
     "execution_count": 16,
     "metadata": {},
     "output_type": "execute_result"
    }
   ],
   "source": [
    "T.get('branch2no',local='t2')"
   ]
  },
  {
   "cell_type": "markdown",
   "id": "ee7fca18-e328-488f-b452-07e2f49f1788",
   "metadata": {},
   "source": [
    "*For the tree t3 all branches are outputs:*"
   ]
  },
  {
   "cell_type": "code",
   "execution_count": 17,
   "id": "6295dafe-0891-4a34-ba3b-94864473e392",
   "metadata": {},
   "outputs": [
    {
     "data": {
      "text/plain": [
       "MultiIndex([('s2', 'Y1'),\n",
       "            ('s2', 'Y2')],\n",
       "           names=['s', 'n'])"
      ]
     },
     "execution_count": 17,
     "metadata": {},
     "output_type": "execute_result"
    }
   ],
   "source": [
    "T.get('branch_o',local='t3')"
   ]
  },
  {
   "cell_type": "code",
   "execution_count": 26,
   "id": "08043162-29e9-4fd1-b0be-89b9460b9d3f",
   "metadata": {},
   "outputs": [
    {
     "data": {
      "text/plain": [
       "MultiIndex([('s2', 'Y')],\n",
       "           names=['s', 'n'])"
      ]
     },
     "execution_count": 26,
     "metadata": {},
     "output_type": "execute_result"
    }
   ],
   "source": [
    "T.trees['t3'].get('knot')"
   ]
  },
  {
   "cell_type": "code",
   "execution_count": 25,
   "id": "a3037b35-4dae-4757-bdb9-4e89ded5ecff",
   "metadata": {},
   "outputs": [
    {
     "data": {
      "text/plain": [
       "{'map': 'map_t3',\n",
       " 'knot': 'knot_t3',\n",
       " 'branch': 'branch_t3',\n",
       " 'input': 'input_t3',\n",
       " 'output': 'output_t3',\n",
       " 'int': 'int_t3',\n",
       " 'branch_o': 'branch_o_t3',\n",
       " 'branch_no': 'branch_no_t3'}"
      ]
     },
     "execution_count": 25,
     "metadata": {},
     "output_type": "execute_result"
    }
   ],
   "source": [
    "T.trees['t3'].ns"
   ]
  },
  {
   "cell_type": "markdown",
   "id": "1f538f84-27ff-4df4-9bb0-862102bc9e42",
   "metadata": {
    "tags": []
   },
   "source": [
    "## ```aggTree_from_data```"
   ]
  },
  {
   "cell_type": "markdown",
   "id": "4847e97d-1a90-4b05-8958-8ca15ccb52df",
   "metadata": {},
   "source": [
    "The class initializes the tree from excel data. The following tests reading in and processing various nesting trees."
   ]
  },
  {
   "cell_type": "markdown",
   "id": "ad31b73a-8b88-43a3-9447-348ee4939573",
   "metadata": {},
   "source": [
    "This goes through identical steps for:\n",
    "* CES1: A simple CES sector.\n",
    "* CES2: A nested CES sector (2 nests).\n",
    "* CES1_norm: Normalized CES sector.\n",
    "* CES2_norm: Nested and normalized CES sector.\n",
    "* CET1: A simple CET sector.\n",
    "* CET2: A nested CET sector. \n",
    "* CET1_norm: A normalized CET sector.\n",
    "* CET2_norm: A nested, normalized CET sector.\n",
    "* CES_CET: A nested CES, CET sector (CES to a intermediate good, that is split into two outputs CET).\n",
    "* CES_CET_norm: A nested CES, CET normalized sector (same as CES_CET, but CET sector has normalized technology).\n",
    "* CESCET_norm: A nested, normalized CES,CET sector (same as CES_CET, but both sectors have normalized tech).\n",
    "* FunkyTree: Mixes normalized input and output trees: Z1 is an input that is split into an output Y1 and an intermediate good X1. Similarly, Z2 is split into output Y2 and intermediate good X2. Finally, X1 and X2 are combined to a single output Y3. \n",
    "* ExtremeFunk: Mixes normalized input and output trees to highlight the role of choosing the right $\\mu$s to keep exogenous when calibrating.\n",
    "* FunnyName: Is identical to the ExtremeFunk tree, but tests the ```namespace``` feature when specifying trees. This feature is used when a sector produces one good (say ```Y```), but it also consumes this good as well. Essentially, we have two nodes in the tree that is called ```Y```, but they need to be distinct nodes. We do this by temporarily giving another name to one of them (e.g. ```Y_input```), and then, when reading the nesting tree, we specify a namespace ```namespace = dict(Y_input=Y)```. The two nodes (```Y_input, Y```) are processed as two separate nodes, but, after establishing links of the tree, the node ```Y_input``` is renamed ```Y``` again. "
   ]
  },
  {
   "cell_type": "markdown",
   "id": "ebdbc4d4-3e34-47d5-a3e0-6935ca1c40d7",
   "metadata": {},
   "source": [
    "*Init nesting structures:*"
   ]
  },
  {
   "cell_type": "code",
   "execution_count": null,
   "id": "36aee460-1836-45fc-a8b3-f03655ef23e5",
   "metadata": {},
   "outputs": [],
   "source": [
    "FunnyName_NS = {n+'_input': n for n in ('Y1','Y2')}\n",
    "data_str = os.path.join(d['data'], 'Nestings.xlsx')\n",
    "read_trees = {'CES1': {'CES1': {'f': 'CES'}},\n",
    "              'CES2': {'CES2': {'f':'CES'}},\n",
    "              'CES1_norm': {'CES1': {'f':'CES_norm'}}, \n",
    "              'CES2_norm': {'CES2': {'f':'CES_norm'}},\n",
    "              'CET1': {'CET1': {'f': 'CET'}},\n",
    "              'CET2': {'CET2': {'f': 'CET'}},\n",
    "              'CET1_norm': {'CET1': {'f': 'CET_norm'}},\n",
    "              'CET2_norm': {'CET2': {'f': 'CET_norm'}},\n",
    "              'CES_CET': {'CES1': {'f': 'CES'}, 'CET1': {'f': 'CET'}},\n",
    "              'CES_CET_norm': {'CES1': {'f':'CES'}, 'CET1': {'f':'CET_norm'}},\n",
    "              'CESCET_norm': {'CES1': {'f':'CES_norm'}, 'CET1': {'f': 'CET_norm'}},\n",
    "              'CESCET3': {'CES1': {'f':'CES'}, 'CET3': {'f':'CET'}},\n",
    "              'FunkyTree': {'FunkyTree_CET': {'f':'CET_norm'}, 'FunkyTree_CES': {'f':'CES_norm'}},\n",
    "              'ExtremeFunk': {'ExtremeF1': {'f': 'CES_norm'}, 'ExtremeF2': {'f':'CET_norm'}},\n",
    "              'FunnyName': {'FunnyNameInp': {'f':'CES_norm'}, 'FunnyNameOut': {'f':'CET_norm'}}}\n",
    "Trees = {k: nestingTree.aggTree_from_data(data_str, read_trees = read_trees[k], name = k)(namespace=FunnyName_NS) for k in read_trees} # init b"
   ]
  },
  {
   "cell_type": "markdown",
   "id": "40ac6816-4cb3-461a-a341-cb586d17d628",
   "metadata": {},
   "source": [
    "*Init:*"
   ]
  },
  {
   "cell_type": "code",
   "execution_count": null,
   "id": "4f7e119f-f93e-41a1-9d75-4c2520b57b85",
   "metadata": {},
   "outputs": [],
   "source": [
    "glob = CGE_globals.SmallOpen(kwargs_vals = {'t': range(1,3)})"
   ]
  },
  {
   "cell_type": "code",
   "execution_count": null,
   "id": "4957308a-cded-4615-827e-c311f22e46f9",
   "metadata": {},
   "outputs": [],
   "source": [
    "ws = gams.GamsWorkspace(working_directory=d['work'])\n",
    "Ps = {k: CGE_Production.Production(tree = Trees[k], glob = glob, ns = {}, s_kwargs = {'ws': ws}) for k in Trees}"
   ]
  },
  {
   "cell_type": "markdown",
   "id": "5d3eee02-bce0-4477-900d-6a6d3dc44103",
   "metadata": {},
   "source": [
    "#### Calibration subsets"
   ]
  },
  {
   "cell_type": "markdown",
   "id": "9ebb2c46-4032-4da7-a742-6b37dc5b3b32",
   "metadata": {},
   "source": [
    "The default calibration method relies on endogenizing all $\\mu$ parameters and in turn exogenize all $qD$ variables in the nesting tree. This method has to be adjusted in a way that depends on (1) whether or not the model features multiple outputs per sector and (2) if there are nests with scale-preserving technologies.\n",
    "\n",
    "*NB: We ignore the time index for now.*"
   ]
  },
  {
   "cell_type": "markdown",
   "id": "f23c549f-b86f-488e-817d-88386695e7aa",
   "metadata": {},
   "source": [
    "##### Without scale-preserving technologies"
   ]
  },
  {
   "cell_type": "markdown",
   "id": "55f95f89-5283-491a-ba05-76e0302e29c1",
   "metadata": {},
   "source": [
    "In the simple case, all $\\mu$ are endogenized and all $qD$ are exogenized at some level specified by input-output data. Note that even if we know the cost price on ouptuts, $pS[s,n]$, we would leave this variable endogenous. The reason is that for a sector with constant returns to scale (CRS) technology, we have that:\n",
    "\n",
    "$$\\begin{align}\n",
    "    \\sum_{n\\in inputs} qD[s,n]pD[s,n] = \\sum_{n\\in outputs} qS[s,n] pS[s,n].\n",
    "\\end{align}$$\n",
    "\n",
    "All variables on the left-hand-side (LHS) is exogenous when calibration, and so is the supplied quantities $qS[s,n]$. Thus, for the system of equations to be square, we need to leave $pS[s,n]$ endogenous (alternatively, we could remove one of the price index equations from the system when we calibrate). If input-output data is consistent, note that the solution will automatically be the in data.\n",
    "\n",
    "Note that we still allow for multiple outputs to be produced. Usually, we would distinguish between cost-prices $pS[s,n]$ and equilibrium prices $p[n]$ and assume a price equation in the style of\n",
    "\n",
    "$$\\begin{align}\n",
    "    p[n] = (1+m[s])(pS[s,n]+\\tau[s,n])+\\Gamma[s,n]),\n",
    "\\end{align}$$\n",
    "\n",
    "where $m[s]$ is a sector-specific mark-up, $\\tau[s,n]$ is a unit tax, and $\\Gamma[s,n]$ is a function capturing e.g. adjustment costs of investments. Note that this equation holds for all (outputs, sector)-combinations. If we observe $p[n],\\tau[s,n]$ and can compute $\\Gamma[s,n]$ from the model, this identifies $m[s]$ and all but one $pS[s,n]$; the last one ($pS$) is endogenous."
   ]
  },
  {
   "cell_type": "markdown",
   "id": "5065bde2-1170-4f7f-99c6-55a605566bf6",
   "metadata": {},
   "source": [
    "##### Scale-preserving technologies"
   ]
  },
  {
   "cell_type": "markdown",
   "id": "46b77b31-6fd4-4f28-94ac-f10143ff8120",
   "metadata": {},
   "source": [
    "When we have scale-preserving technologies, we have to think more carefully about what variables are endogenized/exogenized when calibrating. Consider for instance the simple case with $Y$ being produced by $X_1,X_2$ using some scale-preserving technology. The system of equations read (ignoring taxes+markups etc).:\n",
    "\n",
    "$$\\begin{align}\n",
    "    p_Y Y &= p_1X_1+p_2X_2 \\\\ \n",
    "    X_1 &= \\dfrac{F_1(p_1,p_2,p_Y; \\mu_1)}{F_1(p_1,p_2,p_Y; \\mu_1)+F_2(p_1,p_2,p_Y; \\mu_2)}Y \\\\ \n",
    "    X_2 &= \\dfrac{F_2(p_1,p_2,p_Y; \\mu_2)}{F_1(p_1,p_2,p_Y; \\mu_1)+F_2(p_1,p_2,p_Y; \\mu_2)}Y,\n",
    "\\end{align}$$\n",
    "\n",
    "where $F_1,F_2$ are some price functions with share parameters $\\mu_1,\\mu_2$.  In baseline mode, this system is square in $p_Y,X_1,X_2$ taking $Y,p_1,p_2,\\mu_1,\\mu_2$ as given. In calibration mode we would usually exogenize $X_1,X_2$ and endogenize $\\mu_1,\\mu_2$. Given exogenous variables, we can always choose a set of $\\mu_1,\\mu_2$ to induce values $F_1,F_2$, thus, we are essentially solving for $F_1,F_2,p_Y$. Note that solving for $F_1,F_2$ in demand functions yield\n",
    "\n",
    "$$\\begin{align}\n",
    "    F_1\\left(1-\\dfrac{X_1}{Y}\\right) &= \\dfrac{X_1}{Y}F_2 \\\\ \n",
    "    F_2\\left(1-\\dfrac{X_2}{Y}\\right) &= \\dfrac{X_2}{Y}F_1\n",
    "\\end{align}$$\n",
    "\n",
    "Using that $1-X_1/Y = X_2/Y$ and $1-X_2/Y=X_1/Y$ note that the two conditions are linearly dependent, i.e. that they identify the same restriction:\n",
    "\n",
    "$$\\begin{align}\n",
    "    F_1 &= \\dfrac{X_1}{X_2} F_2 \\\\ \n",
    "    F_2 &= \\dfrac{X_2}{X_1} F_1.\n",
    "\\end{align}$$\n",
    "\n",
    "Naturally, with a scale-preserving function, a nest with $N$ share parameters only identify $N-1$ variables; the final one is residually determined by $X_N = Y-\\sum_{i=1}^{N-1}X_i$. This causality means that we need to keep one of the $\\mu$ fixed in calibration mode in scale-preserving nests, and keep the corresponding quantity endogenous."
   ]
  },
  {
   "cell_type": "markdown",
   "id": "12689bdd-24b3-4a84-b290-2a25ade55dc5",
   "metadata": {},
   "source": [
    "##### Identifying the right $\\mu$s to keep exogenous/quantities to keep endogenous"
   ]
  },
  {
   "cell_type": "markdown",
   "id": "d1be09a1-dc62-47f5-885b-7422a96a1586",
   "metadata": {},
   "source": [
    "As it turns out, simply choosing one random element in $\\mu$ for all scale-preserving nests to keep exogenous (and endogenize corresponding quantity), does not always work. In particular, this can be a problem if we have nodes in the nesting tree that are simultaneously a branch in a scale-preserving input tree and another scale-preserving output tree. The nesting tree 'FunkyTree' and 'ExtremeFunk' are examples of this. In this case, we could potentially, randomly, pick the element $qD[s,n]$ to be the endogenous element for two trees, thus exogenizing two $\\mu$ elements, but only endogenizing one quantity. Thus, we go through a couple of steps to make sure that does not happen"
   ]
  },
  {
   "cell_type": "markdown",
   "id": "fec040e2-0e17-408c-beca-e055de4bd0c3",
   "metadata": {},
   "source": [
    "##### Identifying calibration subsets, the general case:"
   ]
  },
  {
   "cell_type": "code",
   "execution_count": null,
   "id": "e973ccc8-9bd3-4116-8de9-832cf5e4d73f",
   "metadata": {
    "tags": []
   },
   "outputs": [],
   "source": [
    "n = 'ExtremeFunk'\n",
    "p = Ps[n]\n",
    "t = Trees[n]"
   ]
  },
  {
   "cell_type": "markdown",
   "id": "be4acf16-a4c4-4a01-9052-840b25962169",
   "metadata": {},
   "source": [
    "*Four elements are kept exogenous:*"
   ]
  },
  {
   "cell_type": "code",
   "execution_count": null,
   "id": "26382c3f-d7e5-4d85-a151-0c79365bb965",
   "metadata": {},
   "outputs": [],
   "source": [
    "p.get('exomu')"
   ]
  },
  {
   "cell_type": "markdown",
   "id": "26b29a69-b692-4279-bc53-9551cb77636c",
   "metadata": {},
   "source": [
    "*One supply element and three demand elements are endogenized:*"
   ]
  },
  {
   "cell_type": "code",
   "execution_count": null,
   "id": "893ad69c-0bcb-4e8c-9ed2-7826b5d12e01",
   "metadata": {},
   "outputs": [],
   "source": [
    "p.get('endo_qS')"
   ]
  },
  {
   "cell_type": "code",
   "execution_count": null,
   "id": "75469784-f728-4b78-a51b-dd7af44512da",
   "metadata": {},
   "outputs": [],
   "source": [
    "p.get('endo_qD')"
   ]
  },
  {
   "cell_type": "markdown",
   "id": "71e30991-2090-42ee-a19c-5468e6ad28b9",
   "metadata": {
    "tags": []
   },
   "source": [
    "#### Test baseline mode"
   ]
  },
  {
   "cell_type": "markdown",
   "id": "9e122cf2-04bb-49ef-96b1-ad41ede5e894",
   "metadata": {},
   "source": [
    "*Init states:*"
   ]
  },
  {
   "cell_type": "code",
   "execution_count": null,
   "id": "7fb384a8-f324-472a-9c04-59aa11c49736",
   "metadata": {},
   "outputs": [],
   "source": [
    "[P.compile(initDB=True) for P in Ps.values()];"
   ]
  },
  {
   "cell_type": "markdown",
   "id": "dae492b2-af27-4382-82e9-bfaf5cc3bf61",
   "metadata": {},
   "source": [
    "*Write text:*"
   ]
  },
  {
   "cell_type": "code",
   "execution_count": null,
   "id": "c40c7e67-c438-445e-abdb-8d41c0b4a30e",
   "metadata": {},
   "outputs": [],
   "source": [
    "[P.write() for P in Ps.values()];"
   ]
  },
  {
   "cell_type": "markdown",
   "id": "592b6973-40f7-4503-9f3a-32b4d1988fef",
   "metadata": {},
   "source": [
    "*Run models (with same workspace):*"
   ]
  },
  {
   "cell_type": "code",
   "execution_count": null,
   "id": "2b18cd1d-9520-442a-a896-f371ec5e1db4",
   "metadata": {},
   "outputs": [],
   "source": [
    "Ms = {k: Ps[k].run(exportTo=d['work'], ws=ws,**{'cns': 'CONOPT4'}) for k in Ps}"
   ]
  },
  {
   "cell_type": "markdown",
   "id": "fc3830ce-2dbb-4fa2-962f-26c85f5a2706",
   "metadata": {},
   "source": [
    "#### Test calibration mode:"
   ]
  },
  {
   "cell_type": "markdown",
   "id": "48d5b896-6be9-4b00-9971-f061db4a4feb",
   "metadata": {},
   "source": [
    "*Change state:*"
   ]
  },
  {
   "cell_type": "code",
   "execution_count": null,
   "id": "2c0e598d-43a1-41bf-b32c-14c0231c589b",
   "metadata": {},
   "outputs": [],
   "source": [
    "[setattr(p.s,'state','C') for p in Ps.values()];"
   ]
  },
  {
   "cell_type": "markdown",
   "id": "9ed26b04-45a8-4bb1-a0a4-d57a990cf633",
   "metadata": {},
   "source": [
    "*Update database to baseline solution:*"
   ]
  },
  {
   "cell_type": "code",
   "execution_count": null,
   "id": "53bf3861-541f-4025-884b-c43bd10101e9",
   "metadata": {},
   "outputs": [],
   "source": [
    "[setattr(Ps[k].s,'db',Ms[k].out_db) for k in Ps];"
   ]
  },
  {
   "cell_type": "markdown",
   "id": "bd3956b7-8b9a-450c-9386-218cce0f4ebf",
   "metadata": {},
   "source": [
    "*Write:*"
   ]
  },
  {
   "cell_type": "code",
   "execution_count": null,
   "id": "0229c900-b153-4e84-8b7c-dfd049af7fdc",
   "metadata": {},
   "outputs": [],
   "source": [
    "[P.write() for P in Ps.values()];"
   ]
  },
  {
   "cell_type": "markdown",
   "id": "837c4b7d-1f23-4beb-9fa1-4c98c0e1b1cf",
   "metadata": {},
   "source": [
    "*Re-run:*"
   ]
  },
  {
   "cell_type": "code",
   "execution_count": null,
   "id": "2de55ff4-b62a-49e0-9832-cde3cec5de00",
   "metadata": {},
   "outputs": [],
   "source": [
    "Ms = {k: Ps[k].run(exportTo=d['work'], ws=ws,**{'cns': 'CONOPT4'}) for k in Ps}"
   ]
  }
 ],
 "metadata": {
  "kernelspec": {
   "display_name": "Python 3 (ipykernel)",
   "language": "python",
   "name": "python3"
  },
  "language_info": {
   "codemirror_mode": {
    "name": "ipython",
    "version": 3
   },
   "file_extension": ".py",
   "mimetype": "text/x-python",
   "name": "python",
   "nbconvert_exporter": "python",
   "pygments_lexer": "ipython3",
   "version": "3.9.7"
  }
 },
 "nbformat": 4,
 "nbformat_minor": 5
}
