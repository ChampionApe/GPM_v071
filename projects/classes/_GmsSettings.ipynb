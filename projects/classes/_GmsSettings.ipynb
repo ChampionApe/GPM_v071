{
 "cells": [
  {
   "cell_type": "code",
   "execution_count": 1,
   "id": "c76754cd-39a9-437d-83bc-4a3602d758fc",
   "metadata": {},
   "outputs": [
    {
     "name": "stdout",
     "output_type": "stream",
     "text": [
      "No clean-up of work-folder\n"
     ]
    }
   ],
   "source": [
    "%run StdPackages.ipynb\n",
    "os.chdir(d['py'])\n",
    "from GmsPy import *\n",
    "os.chdir(d['curr'])"
   ]
  },
  {
   "cell_type": "code",
   "execution_count": 2,
   "id": "6ed53ea6-eccd-4160-bc4c-f69457438378",
   "metadata": {},
   "outputs": [],
   "source": [
    "def read(x,path = d['gams']):\n",
    "    with open(os.path.join(path,x), 'r') as f:\n",
    "        return f.read()"
   ]
  },
  {
   "cell_type": "markdown",
   "id": "a325c9e2-8af9-47ee-b430-d68053a2a9c5",
   "metadata": {},
   "source": [
    "*Load test database and groups*"
   ]
  },
  {
   "cell_type": "code",
   "execution_count": 3,
   "id": "e2687452-ac28-45bc-ae3c-56f0355abd17",
   "metadata": {},
   "outputs": [],
   "source": [
    "db = GpyDB(db = os.path.join(d['data'], 'AbatementData.gdx'))\n",
    "with open(os.path.join(d['data'], 'AbatementGroups'), \"rb\") as file:\n",
    "    c = pickle.load(file)"
   ]
  },
  {
   "cell_type": "markdown",
   "id": "ca901a7c-0d62-44ac-99b2-408826f52b09",
   "metadata": {
    "tags": []
   },
   "source": [
    "# ```GmsPy.GmsSettings```"
   ]
  },
  {
   "cell_type": "markdown",
   "id": "ab571852-a2b7-4646-83d7-241bf9e717e0",
   "metadata": {},
   "source": [
    "*A class of settings used to specify gams models.*"
   ]
  },
  {
   "cell_type": "markdown",
   "id": "3e13d34a-5259-49e2-9e3a-bd736a49383b",
   "metadata": {},
   "source": [
    "The class is initialized either with kwargs or from a pickle. If it is not initialized from a pickle, a number of default attributes are defined.\n",
    "\n",
    "```python\n",
    "    class GmsPy.GmsSettings:\n",
    "        def __init__(self, file_path = None, **kwargs):\n",
    "```\n",
    "If a file path is not supplied, the kwargs are merged with default settings. Default settings:\n",
    "* ```self.name:``` Name of the settings file (a string).\n",
    "* ```self.macros:``` Empty dictionary. A container to capture the declared macros (GAMS macros).\n",
    "* ```self.Precompiler:``` An instance of the Precompiler class from the ```dreamtools``` package (gamY).\n",
    "* ```self.Compile:``` A user-class defined to write gams code from group/model specifications. \n",
    "* ```self.db:``` A ```GpyDB``` database instance. \n",
    "* ```self.locals:``` Dictionary with local variables to be added as placeholders when running the gams model.\n",
    "* ```self.states:``` Dictionary with different model states (e.g. different selection of endogenous groups, blocks etc.).\n",
    "* ```self.state:``` The current state of the model (key in self.states)."
   ]
  },
  {
   "cell_type": "markdown",
   "id": "99156b74-c3a1-4739-898c-b0a8e71f8d3c",
   "metadata": {},
   "source": [
    "*Initialize test settings:*"
   ]
  },
  {
   "cell_type": "code",
   "execution_count": 4,
   "id": "05145a97-f43c-4eab-9c36-432177876850",
   "metadata": {},
   "outputs": [],
   "source": [
    "s = GmsSettings(**{'name': 'TestSettings', 'db': db, 'Compile': c})\n",
    "s.Precompiler.locals = dict(techtype=\"'logit'\")"
   ]
  },
  {
   "cell_type": "markdown",
   "id": "51911267-b145-4970-b9d1-6c8e1e9c5129",
   "metadata": {},
   "source": [
    "## Main attributes:"
   ]
  },
  {
   "cell_type": "markdown",
   "id": "a945ecaa-6f45-4d14-9488-37bc786da03f",
   "metadata": {},
   "source": [
    "#### ```self.name```"
   ]
  },
  {
   "cell_type": "markdown",
   "id": "7f80e571-78b2-4757-b059-a84f7292da8d",
   "metadata": {},
   "source": [
    "The name of the settings file is used a lot as the default option. \n",
    "* All ```states``` (see explanation later) that we define the model over is per construction called ```self.name_state.```. The default ```state``` is called ```B``` for baseline. This name ```self.name_state``` is also used as the default model name.\n",
    "* The name is used as a prefix to the ```self.args``` that are collected (see explanation later). This is done to make merging with other settings files easier."
   ]
  },
  {
   "cell_type": "code",
   "execution_count": 5,
   "id": "9fa8b666-67a9-4815-91d2-41252c4c67cc",
   "metadata": {
    "tags": []
   },
   "outputs": [
    {
     "data": {
      "text/plain": [
       "{'B': {'name': 'TestSettings_B',\n",
       "  'g_endo': <pyDatabases._mixedTools.OrdSet at 0x24b2c841a60>,\n",
       "  'g_exo': <pyDatabases._mixedTools.OrdSet at 0x24b2b096f40>,\n",
       "  'blocks': <pyDatabases._mixedTools.OrdSet at 0x24b2b091460>,\n",
       "  'solve': None,\n",
       "  'args': {},\n",
       "  'text': {}}}"
      ]
     },
     "execution_count": 5,
     "metadata": {},
     "output_type": "execute_result"
    }
   ],
   "source": [
    "s.states # the name includes prefix 'TestSettings'"
   ]
  },
  {
   "cell_type": "code",
   "execution_count": 6,
   "id": "6cc59163-f79b-4b2a-90c9-29c58c3b044b",
   "metadata": {},
   "outputs": [
    {
     "data": {
      "text/plain": [
       "dict_keys(['Root', 'TestSettings_Functions', 'TestSettings_Declare', 'TestSettings_B_Fix', 'TestSettings_B_Unfix', 'TestSettings_B_Model', 'TestSettings_B_Solve'])"
      ]
     },
     "execution_count": 6,
     "metadata": {},
     "output_type": "execute_result"
    }
   ],
   "source": [
    "s.stdArgs().keys() # the args includes prefix 'TestSettings'"
   ]
  },
  {
   "cell_type": "markdown",
   "id": "bfd8c015-61f2-4367-8b98-a68e47b61741",
   "metadata": {},
   "source": [
    "#### ```self.macros```"
   ]
  },
  {
   "cell_type": "markdown",
   "id": "eea8a62a-a140-477c-ab31-7e6b19db215c",
   "metadata": {},
   "source": [
    "A dictionary used to capture GAMS macros. Keys indicate name of macros (```F``` in the example below) and values indicate the text used for the macros. Macros are declared either in files or strings using the syntax:"
   ]
  },
  {
   "cell_type": "markdown",
   "id": "ec5a174c-e21d-43aa-8951-a40c16b5771b",
   "metadata": {},
   "source": [
    "```$MACRO F(x,y) (sum(n, x) * y)```"
   ]
  },
  {
   "cell_type": "markdown",
   "id": "59cdf859-0d77-417f-a421-97d8eb80633a",
   "metadata": {},
   "source": [
    "When the ```GmsSettings``` compiles the text used to run the GAMS model, we can add the argument ```functions``` (string) - and the compiler adds the macros to ```self.macros```."
   ]
  },
  {
   "cell_type": "markdown",
   "id": "e45d3d47-cddd-40e8-9595-8740630ec360",
   "metadata": {},
   "source": [
    "#### ```self.Precompiler```"
   ]
  },
  {
   "cell_type": "markdown",
   "id": "373cdc64-c0b0-4b28-8a07-ccf66e96be06",
   "metadata": {},
   "source": [
    "An instance of the ```dreamtools.gamY.Precompiler``` class. This class uses a slightly augmented version of the Precompiler that processes strings and files. Amongst other things, we use this to define model blocks and models. An auxiliary function ```GmsPy.arg2string(x,t=None)``` allows us to pass arguments using the ```Precompiler``` in various ways."
   ]
  },
  {
   "cell_type": "markdown",
   "id": "1b94c03c-eb79-4e99-841c-9dbda7c62e7a",
   "metadata": {},
   "source": [
    "#### ```self.Compile```"
   ]
  },
  {
   "cell_type": "markdown",
   "id": "e2d05409-9c5e-4781-8d48-3fbc7e66a562",
   "metadata": {},
   "source": [
    "An instance of the ```GmsPy.Compile``` class. Used to handle group definitions of variables (see relevant documentation)."
   ]
  },
  {
   "cell_type": "markdown",
   "id": "f6d7f0a6-cedf-4a75-91b9-bbc5bab06b63",
   "metadata": {},
   "source": [
    "#### ```self.db```"
   ]
  },
  {
   "cell_type": "markdown",
   "id": "36c90a39-a045-438d-829e-c030c9428e7f",
   "metadata": {},
   "source": [
    "The main database used throughout."
   ]
  },
  {
   "cell_type": "markdown",
   "id": "00ddd047-6b5a-48fe-843b-3455128ff340",
   "metadata": {},
   "source": [
    "### Test runs:"
   ]
  },
  {
   "cell_type": "code",
   "execution_count": 7,
   "id": "0531bc7f-8c12-4a94-8285-87f847b53e0c",
   "metadata": {},
   "outputs": [],
   "source": [
    "s.Compile.run()"
   ]
  },
  {
   "cell_type": "markdown",
   "id": "4355fd87-dbb5-4c15-a04e-5fc3acd2c397",
   "metadata": {},
   "source": [
    "Specify functions and blocks:"
   ]
  },
  {
   "cell_type": "code",
   "execution_count": 8,
   "id": "76b204e8-7425-4028-979a-3ff4b45d4382",
   "metadata": {},
   "outputs": [],
   "source": [
    "functions = read('AbatementFunctions.gms') # read in file that declares functions\n",
    "blocks = read('AbatementBlocks.gms') # read in equations for model."
   ]
  },
  {
   "cell_type": "markdown",
   "id": "b6c42807-61c1-4b62-8fca-31d5379be15c",
   "metadata": {},
   "source": [
    "Specify the endogenous/exogenous groups, specify blocks of equations:"
   ]
  },
  {
   "cell_type": "code",
   "execution_count": 9,
   "id": "cd6c6ef3-9011-436a-89c1-1d1c0dda43e8",
   "metadata": {},
   "outputs": [],
   "source": [
    "s['g_endo'] = ['G_V01_NT_endo_always', 'G_V01_NT_endo_base', 'G_V01_T_endo_always', 'G_V01_T_endo_base', 'G_V01_ACC_endo_base']\n",
    "s['g_exo'] = ['G_V01_NT_exo_always', 'G_V01_NT_exo_base', 'G_V01_T_exo_always', 'G_V01_T_exo_base']\n",
    "s['blocks'] = ['M_V01_NT', 'M_V01_T_always', 'M_V01_T_base', 'M_V01_ACC']"
   ]
  },
  {
   "cell_type": "markdown",
   "id": "371fbad4-3b42-4474-9259-6059721085d9",
   "metadata": {},
   "source": [
    "We can now collect a standard selection of arguments:"
   ]
  },
  {
   "cell_type": "code",
   "execution_count": 10,
   "id": "6fcd9456-a484-4f60-91f4-c9b96d74a0c0",
   "metadata": {},
   "outputs": [
    {
     "data": {
      "text/plain": [
       "dict_keys(['Root', 'TestSettings_Functions', 'TestSettings_Declare', 'TestSettings_Blocks', 'TestSettings_B_Fix', 'TestSettings_B_Unfix', 'TestSettings_B_Model', 'TestSettings_B_Solve'])"
      ]
     },
     "execution_count": 10,
     "metadata": {},
     "output_type": "execute_result"
    }
   ],
   "source": [
    "s['args'] = s.stdArgs(blocks=blocks,functions=functions)\n",
    "s['args'].keys()"
   ]
  },
  {
   "cell_type": "markdown",
   "id": "29012092-2567-4596-94e5-18c0e2f9f718",
   "metadata": {},
   "source": [
    "To solve the model, we simply use the ```self.write``` method again:"
   ]
  },
  {
   "cell_type": "code",
   "execution_count": 11,
   "id": "b0bcf1d3-ff64-40fc-a2f4-2c14f6837746",
   "metadata": {},
   "outputs": [],
   "source": [
    "%%capture\n",
    "s.write()"
   ]
  },
  {
   "cell_type": "markdown",
   "id": "04a50674-1055-4a37-b4b1-ca1eaaba1a37",
   "metadata": {},
   "source": [
    "And set up model and solve:"
   ]
  },
  {
   "cell_type": "code",
   "execution_count": 12,
   "id": "4314cdbe-e9fb-47d8-b508-2e6082b22f88",
   "metadata": {},
   "outputs": [],
   "source": [
    "m = GmsPy.GmsModel(ws=d['work'],**{'cns': 'CONOPT4'}) # use CONOPT4 to solve CNS models.\n",
    "m.addlocal(db.name, os.path.join(d['data'], 'AbatementData.gdx'))\n",
    "m.run(run = '\\n'.join(s['text'].values()))"
   ]
  }
 ],
 "metadata": {
  "kernelspec": {
   "display_name": "Python 3 (ipykernel)",
   "language": "python",
   "name": "python3"
  },
  "language_info": {
   "codemirror_mode": {
    "name": "ipython",
    "version": 3
   },
   "file_extension": ".py",
   "mimetype": "text/x-python",
   "name": "python",
   "nbconvert_exporter": "python",
   "pygments_lexer": "ipython3",
   "version": "3.9.7"
  }
 },
 "nbformat": 4,
 "nbformat_minor": 5
}
